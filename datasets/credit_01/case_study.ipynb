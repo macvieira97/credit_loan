{
 "cells": [
  {
   "cell_type": "markdown",
   "metadata": {},
   "source": [
    "# Concessão de Crédito - Estudo de Caso - Neurotech"
   ]
  },
  {
   "cell_type": "markdown",
   "metadata": {},
   "source": [
    "# Entendimento da base e análise exploratória dos dados"
   ]
  },
  {
   "cell_type": "code",
   "execution_count": 1,
   "metadata": {},
   "outputs": [],
   "source": [
    "import numpy as np\n",
    "import pandas as pd\n",
    "import seaborn as sns\n",
    "import matplotlib.pyplot as plt"
   ]
  },
  {
   "cell_type": "code",
   "execution_count": 2,
   "metadata": {},
   "outputs": [
    {
     "name": "stdout",
     "output_type": "stream",
     "text": [
      "Formato dataset:  (120750, 151)\n",
      "<class 'pandas.core.frame.DataFrame'>\n",
      "RangeIndex: 120750 entries, 0 to 120749\n",
      "Columns: 151 entries, REF_DATE to ID\n",
      "dtypes: float64(34), int64(3), object(114)\n",
      "memory usage: 139.1+ MB\n",
      "None\n"
     ]
    },
    {
     "data": {
      "text/html": [
       "<div>\n",
       "<style scoped>\n",
       "    .dataframe tbody tr th:only-of-type {\n",
       "        vertical-align: middle;\n",
       "    }\n",
       "\n",
       "    .dataframe tbody tr th {\n",
       "        vertical-align: top;\n",
       "    }\n",
       "\n",
       "    .dataframe thead th {\n",
       "        text-align: right;\n",
       "    }\n",
       "</style>\n",
       "<table border=\"1\" class=\"dataframe\">\n",
       "  <thead>\n",
       "    <tr style=\"text-align: right;\">\n",
       "      <th></th>\n",
       "      <th>REF_DATE</th>\n",
       "      <th>TARGET</th>\n",
       "      <th>VAR2</th>\n",
       "      <th>IDADE</th>\n",
       "      <th>VAR4</th>\n",
       "      <th>VAR5</th>\n",
       "      <th>VAR6</th>\n",
       "      <th>VAR7</th>\n",
       "      <th>VAR8</th>\n",
       "      <th>VAR9</th>\n",
       "      <th>...</th>\n",
       "      <th>VAR141</th>\n",
       "      <th>VAR142</th>\n",
       "      <th>VAR143</th>\n",
       "      <th>VAR144</th>\n",
       "      <th>VAR145</th>\n",
       "      <th>VAR146</th>\n",
       "      <th>VAR147</th>\n",
       "      <th>VAR148</th>\n",
       "      <th>VAR149</th>\n",
       "      <th>ID</th>\n",
       "    </tr>\n",
       "  </thead>\n",
       "  <tbody>\n",
       "    <tr>\n",
       "      <th>0</th>\n",
       "      <td>2017-06-01 00:00:00+00:00</td>\n",
       "      <td>0</td>\n",
       "      <td>M</td>\n",
       "      <td>34.137</td>\n",
       "      <td>NaN</td>\n",
       "      <td>RO</td>\n",
       "      <td>-8.808779</td>\n",
       "      <td>-63.878470</td>\n",
       "      <td>D</td>\n",
       "      <td>E</td>\n",
       "      <td>...</td>\n",
       "      <td>2680.289259</td>\n",
       "      <td>D</td>\n",
       "      <td>NaN</td>\n",
       "      <td>NaN</td>\n",
       "      <td>NaN</td>\n",
       "      <td>NaN</td>\n",
       "      <td>102</td>\n",
       "      <td>EMAIL INEXISTENTE#@#NOME INEXISTENTE#@#CEP INE...</td>\n",
       "      <td>2.6.1</td>\n",
       "      <td>181755</td>\n",
       "    </tr>\n",
       "    <tr>\n",
       "      <th>1</th>\n",
       "      <td>2017-08-18 00:00:00+00:00</td>\n",
       "      <td>0</td>\n",
       "      <td>M</td>\n",
       "      <td>40.447</td>\n",
       "      <td>NaN</td>\n",
       "      <td>PB</td>\n",
       "      <td>-7.146537</td>\n",
       "      <td>-34.926080</td>\n",
       "      <td>E</td>\n",
       "      <td>E</td>\n",
       "      <td>...</td>\n",
       "      <td>1777.725469</td>\n",
       "      <td>E</td>\n",
       "      <td>NaN</td>\n",
       "      <td>NaN</td>\n",
       "      <td>NaN</td>\n",
       "      <td>NaN</td>\n",
       "      <td>102</td>\n",
       "      <td>EMAIL INEXISTENTE#@#NOME INEXISTENTE#@#CEP INE...</td>\n",
       "      <td>2.6.1</td>\n",
       "      <td>287633</td>\n",
       "    </tr>\n",
       "    <tr>\n",
       "      <th>2</th>\n",
       "      <td>2017-06-30 00:00:00+00:00</td>\n",
       "      <td>0</td>\n",
       "      <td>F</td>\n",
       "      <td>33.515</td>\n",
       "      <td>NaN</td>\n",
       "      <td>RS</td>\n",
       "      <td>-27.900178</td>\n",
       "      <td>-53.314035</td>\n",
       "      <td>NaN</td>\n",
       "      <td>E</td>\n",
       "      <td>...</td>\n",
       "      <td>1695.494979</td>\n",
       "      <td>E</td>\n",
       "      <td>NaN</td>\n",
       "      <td>NaN</td>\n",
       "      <td>NaN</td>\n",
       "      <td>NaN</td>\n",
       "      <td>102</td>\n",
       "      <td>EMAIL INEXISTENTE#@#NOME INEXISTENTE#@#CEP INE...</td>\n",
       "      <td>2.6.1</td>\n",
       "      <td>88015</td>\n",
       "    </tr>\n",
       "    <tr>\n",
       "      <th>3</th>\n",
       "      <td>2017-08-05 00:00:00+00:00</td>\n",
       "      <td>1</td>\n",
       "      <td>F</td>\n",
       "      <td>25.797</td>\n",
       "      <td>NaN</td>\n",
       "      <td>BA</td>\n",
       "      <td>-12.948874</td>\n",
       "      <td>-38.451863</td>\n",
       "      <td>E</td>\n",
       "      <td>E</td>\n",
       "      <td>...</td>\n",
       "      <td>1399.037809</td>\n",
       "      <td>E</td>\n",
       "      <td>NaN</td>\n",
       "      <td>NaN</td>\n",
       "      <td>NaN</td>\n",
       "      <td>NaN</td>\n",
       "      <td>102</td>\n",
       "      <td>EMAIL INEXISTENTE#@#NOME INEXISTENTE#@#CEP INE...</td>\n",
       "      <td>2.6.1</td>\n",
       "      <td>122576</td>\n",
       "    </tr>\n",
       "    <tr>\n",
       "      <th>4</th>\n",
       "      <td>2017-07-29 00:00:00+00:00</td>\n",
       "      <td>0</td>\n",
       "      <td>F</td>\n",
       "      <td>54.074</td>\n",
       "      <td>NaN</td>\n",
       "      <td>RS</td>\n",
       "      <td>-30.051810</td>\n",
       "      <td>-51.213277</td>\n",
       "      <td>B</td>\n",
       "      <td>E</td>\n",
       "      <td>...</td>\n",
       "      <td>7868.793296</td>\n",
       "      <td>C</td>\n",
       "      <td>NaN</td>\n",
       "      <td>NaN</td>\n",
       "      <td>NaN</td>\n",
       "      <td>NaN</td>\n",
       "      <td>102</td>\n",
       "      <td>EMAIL INEXISTENTE</td>\n",
       "      <td>2.6.1</td>\n",
       "      <td>1272</td>\n",
       "    </tr>\n",
       "  </tbody>\n",
       "</table>\n",
       "<p>5 rows × 151 columns</p>\n",
       "</div>"
      ],
      "text/plain": [
       "                    REF_DATE  TARGET VAR2   IDADE VAR4 VAR5       VAR6  \\\n",
       "0  2017-06-01 00:00:00+00:00       0    M  34.137  NaN   RO  -8.808779   \n",
       "1  2017-08-18 00:00:00+00:00       0    M  40.447  NaN   PB  -7.146537   \n",
       "2  2017-06-30 00:00:00+00:00       0    F  33.515  NaN   RS -27.900178   \n",
       "3  2017-08-05 00:00:00+00:00       1    F  25.797  NaN   BA -12.948874   \n",
       "4  2017-07-29 00:00:00+00:00       0    F  54.074  NaN   RS -30.051810   \n",
       "\n",
       "        VAR7 VAR8 VAR9  ...       VAR141  VAR142  VAR143  VAR144  VAR145  \\\n",
       "0 -63.878470    D    E  ...  2680.289259       D     NaN     NaN     NaN   \n",
       "1 -34.926080    E    E  ...  1777.725469       E     NaN     NaN     NaN   \n",
       "2 -53.314035  NaN    E  ...  1695.494979       E     NaN     NaN     NaN   \n",
       "3 -38.451863    E    E  ...  1399.037809       E     NaN     NaN     NaN   \n",
       "4 -51.213277    B    E  ...  7868.793296       C     NaN     NaN     NaN   \n",
       "\n",
       "   VAR146  VAR147                                             VAR148  VAR149  \\\n",
       "0     NaN     102  EMAIL INEXISTENTE#@#NOME INEXISTENTE#@#CEP INE...   2.6.1   \n",
       "1     NaN     102  EMAIL INEXISTENTE#@#NOME INEXISTENTE#@#CEP INE...   2.6.1   \n",
       "2     NaN     102  EMAIL INEXISTENTE#@#NOME INEXISTENTE#@#CEP INE...   2.6.1   \n",
       "3     NaN     102  EMAIL INEXISTENTE#@#NOME INEXISTENTE#@#CEP INE...   2.6.1   \n",
       "4     NaN     102                                  EMAIL INEXISTENTE   2.6.1   \n",
       "\n",
       "       ID  \n",
       "0  181755  \n",
       "1  287633  \n",
       "2   88015  \n",
       "3  122576  \n",
       "4    1272  \n",
       "\n",
       "[5 rows x 151 columns]"
      ]
     },
     "execution_count": 2,
     "metadata": {},
     "output_type": "execute_result"
    }
   ],
   "source": [
    "train = pd.read_csv('train.gz', compression='gzip')\n",
    "test = pd.read_csv('test.gz', compression='gzip')\n",
    "print(\"Formato dataset: \", train.shape)\n",
    "print(train.info())\n",
    "train.head(5)"
   ]
  },
  {
   "cell_type": "markdown",
   "metadata": {},
   "source": [
    "Conferindo se as variáveis de treino e teste são as mesmas"
   ]
  },
  {
   "cell_type": "code",
   "execution_count": 3,
   "metadata": {},
   "outputs": [
    {
     "name": "stdout",
     "output_type": "stream",
     "text": [
      "set()\n",
      "True\n",
      "set()\n"
     ]
    }
   ],
   "source": [
    "print(set(train.columns).symmetric_difference(set(test.columns)))\n",
    "print(set(train.columns) == (set(test.columns)))\n",
    "print(set(train['ID']).intersection(set(test['ID'])))"
   ]
  },
  {
   "cell_type": "markdown",
   "metadata": {},
   "source": [
    "Vou juntar os dados de treino e teste para fazer algumas etapas do pre-processamento, enquanto guardo os IDs de cada para uso futuro."
   ]
  },
  {
   "cell_type": "code",
   "execution_count": 4,
   "metadata": {},
   "outputs": [],
   "source": [
    "test_ids = test['ID'].to_list()"
   ]
  },
  {
   "cell_type": "code",
   "execution_count": 5,
   "metadata": {},
   "outputs": [
    {
     "data": {
      "text/html": [
       "<div>\n",
       "<style scoped>\n",
       "    .dataframe tbody tr th:only-of-type {\n",
       "        vertical-align: middle;\n",
       "    }\n",
       "\n",
       "    .dataframe tbody tr th {\n",
       "        vertical-align: top;\n",
       "    }\n",
       "\n",
       "    .dataframe thead th {\n",
       "        text-align: right;\n",
       "    }\n",
       "</style>\n",
       "<table border=\"1\" class=\"dataframe\">\n",
       "  <thead>\n",
       "    <tr style=\"text-align: right;\">\n",
       "      <th></th>\n",
       "      <th>REF_DATE</th>\n",
       "      <th>TARGET</th>\n",
       "      <th>VAR2</th>\n",
       "      <th>IDADE</th>\n",
       "      <th>VAR4</th>\n",
       "      <th>VAR5</th>\n",
       "      <th>VAR6</th>\n",
       "      <th>VAR7</th>\n",
       "      <th>VAR8</th>\n",
       "      <th>VAR9</th>\n",
       "      <th>...</th>\n",
       "      <th>VAR141</th>\n",
       "      <th>VAR142</th>\n",
       "      <th>VAR143</th>\n",
       "      <th>VAR144</th>\n",
       "      <th>VAR145</th>\n",
       "      <th>VAR146</th>\n",
       "      <th>VAR147</th>\n",
       "      <th>VAR148</th>\n",
       "      <th>VAR149</th>\n",
       "      <th>ID</th>\n",
       "    </tr>\n",
       "  </thead>\n",
       "  <tbody>\n",
       "    <tr>\n",
       "      <th>0</th>\n",
       "      <td>2017-06-01 00:00:00+00:00</td>\n",
       "      <td>0</td>\n",
       "      <td>M</td>\n",
       "      <td>34.137</td>\n",
       "      <td>NaN</td>\n",
       "      <td>RO</td>\n",
       "      <td>-8.808779</td>\n",
       "      <td>-63.878470</td>\n",
       "      <td>D</td>\n",
       "      <td>E</td>\n",
       "      <td>...</td>\n",
       "      <td>2680.289259</td>\n",
       "      <td>D</td>\n",
       "      <td>NaN</td>\n",
       "      <td>NaN</td>\n",
       "      <td>NaN</td>\n",
       "      <td>NaN</td>\n",
       "      <td>102</td>\n",
       "      <td>EMAIL INEXISTENTE#@#NOME INEXISTENTE#@#CEP INE...</td>\n",
       "      <td>2.6.1</td>\n",
       "      <td>181755</td>\n",
       "    </tr>\n",
       "    <tr>\n",
       "      <th>1</th>\n",
       "      <td>2017-08-18 00:00:00+00:00</td>\n",
       "      <td>0</td>\n",
       "      <td>M</td>\n",
       "      <td>40.447</td>\n",
       "      <td>NaN</td>\n",
       "      <td>PB</td>\n",
       "      <td>-7.146537</td>\n",
       "      <td>-34.926080</td>\n",
       "      <td>E</td>\n",
       "      <td>E</td>\n",
       "      <td>...</td>\n",
       "      <td>1777.725469</td>\n",
       "      <td>E</td>\n",
       "      <td>NaN</td>\n",
       "      <td>NaN</td>\n",
       "      <td>NaN</td>\n",
       "      <td>NaN</td>\n",
       "      <td>102</td>\n",
       "      <td>EMAIL INEXISTENTE#@#NOME INEXISTENTE#@#CEP INE...</td>\n",
       "      <td>2.6.1</td>\n",
       "      <td>287633</td>\n",
       "    </tr>\n",
       "    <tr>\n",
       "      <th>2</th>\n",
       "      <td>2017-06-30 00:00:00+00:00</td>\n",
       "      <td>0</td>\n",
       "      <td>F</td>\n",
       "      <td>33.515</td>\n",
       "      <td>NaN</td>\n",
       "      <td>RS</td>\n",
       "      <td>-27.900178</td>\n",
       "      <td>-53.314035</td>\n",
       "      <td>NaN</td>\n",
       "      <td>E</td>\n",
       "      <td>...</td>\n",
       "      <td>1695.494979</td>\n",
       "      <td>E</td>\n",
       "      <td>NaN</td>\n",
       "      <td>NaN</td>\n",
       "      <td>NaN</td>\n",
       "      <td>NaN</td>\n",
       "      <td>102</td>\n",
       "      <td>EMAIL INEXISTENTE#@#NOME INEXISTENTE#@#CEP INE...</td>\n",
       "      <td>2.6.1</td>\n",
       "      <td>88015</td>\n",
       "    </tr>\n",
       "    <tr>\n",
       "      <th>3</th>\n",
       "      <td>2017-08-05 00:00:00+00:00</td>\n",
       "      <td>1</td>\n",
       "      <td>F</td>\n",
       "      <td>25.797</td>\n",
       "      <td>NaN</td>\n",
       "      <td>BA</td>\n",
       "      <td>-12.948874</td>\n",
       "      <td>-38.451863</td>\n",
       "      <td>E</td>\n",
       "      <td>E</td>\n",
       "      <td>...</td>\n",
       "      <td>1399.037809</td>\n",
       "      <td>E</td>\n",
       "      <td>NaN</td>\n",
       "      <td>NaN</td>\n",
       "      <td>NaN</td>\n",
       "      <td>NaN</td>\n",
       "      <td>102</td>\n",
       "      <td>EMAIL INEXISTENTE#@#NOME INEXISTENTE#@#CEP INE...</td>\n",
       "      <td>2.6.1</td>\n",
       "      <td>122576</td>\n",
       "    </tr>\n",
       "    <tr>\n",
       "      <th>4</th>\n",
       "      <td>2017-07-29 00:00:00+00:00</td>\n",
       "      <td>0</td>\n",
       "      <td>F</td>\n",
       "      <td>54.074</td>\n",
       "      <td>NaN</td>\n",
       "      <td>RS</td>\n",
       "      <td>-30.051810</td>\n",
       "      <td>-51.213277</td>\n",
       "      <td>B</td>\n",
       "      <td>E</td>\n",
       "      <td>...</td>\n",
       "      <td>7868.793296</td>\n",
       "      <td>C</td>\n",
       "      <td>NaN</td>\n",
       "      <td>NaN</td>\n",
       "      <td>NaN</td>\n",
       "      <td>NaN</td>\n",
       "      <td>102</td>\n",
       "      <td>EMAIL INEXISTENTE</td>\n",
       "      <td>2.6.1</td>\n",
       "      <td>1272</td>\n",
       "    </tr>\n",
       "  </tbody>\n",
       "</table>\n",
       "<p>5 rows × 151 columns</p>\n",
       "</div>"
      ],
      "text/plain": [
       "                    REF_DATE  TARGET VAR2   IDADE VAR4 VAR5       VAR6  \\\n",
       "0  2017-06-01 00:00:00+00:00       0    M  34.137  NaN   RO  -8.808779   \n",
       "1  2017-08-18 00:00:00+00:00       0    M  40.447  NaN   PB  -7.146537   \n",
       "2  2017-06-30 00:00:00+00:00       0    F  33.515  NaN   RS -27.900178   \n",
       "3  2017-08-05 00:00:00+00:00       1    F  25.797  NaN   BA -12.948874   \n",
       "4  2017-07-29 00:00:00+00:00       0    F  54.074  NaN   RS -30.051810   \n",
       "\n",
       "        VAR7 VAR8 VAR9  ...       VAR141  VAR142  VAR143  VAR144  VAR145  \\\n",
       "0 -63.878470    D    E  ...  2680.289259       D     NaN     NaN     NaN   \n",
       "1 -34.926080    E    E  ...  1777.725469       E     NaN     NaN     NaN   \n",
       "2 -53.314035  NaN    E  ...  1695.494979       E     NaN     NaN     NaN   \n",
       "3 -38.451863    E    E  ...  1399.037809       E     NaN     NaN     NaN   \n",
       "4 -51.213277    B    E  ...  7868.793296       C     NaN     NaN     NaN   \n",
       "\n",
       "   VAR146  VAR147                                             VAR148  VAR149  \\\n",
       "0     NaN     102  EMAIL INEXISTENTE#@#NOME INEXISTENTE#@#CEP INE...   2.6.1   \n",
       "1     NaN     102  EMAIL INEXISTENTE#@#NOME INEXISTENTE#@#CEP INE...   2.6.1   \n",
       "2     NaN     102  EMAIL INEXISTENTE#@#NOME INEXISTENTE#@#CEP INE...   2.6.1   \n",
       "3     NaN     102  EMAIL INEXISTENTE#@#NOME INEXISTENTE#@#CEP INE...   2.6.1   \n",
       "4     NaN     102                                  EMAIL INEXISTENTE   2.6.1   \n",
       "\n",
       "       ID  \n",
       "0  181755  \n",
       "1  287633  \n",
       "2   88015  \n",
       "3  122576  \n",
       "4    1272  \n",
       "\n",
       "[5 rows x 151 columns]"
      ]
     },
     "execution_count": 5,
     "metadata": {},
     "output_type": "execute_result"
    }
   ],
   "source": [
    "data = pd.concat([train, test], axis=0)\n",
    "data.head()"
   ]
  },
  {
   "cell_type": "markdown",
   "metadata": {},
   "source": [
    "## Handling Missing Values"
   ]
  },
  {
   "cell_type": "markdown",
   "metadata": {},
   "source": [
    "Algumas colunas parecem apresentar muitos valores NaN. Vamos analisar a porcentagem de valores NaN em cada coluna."
   ]
  },
  {
   "cell_type": "code",
   "execution_count": 6,
   "metadata": {},
   "outputs": [],
   "source": [
    "def drop_missing_data_columns(data):\n",
    "    total = data.isnull().sum().sort_values(ascending=False)\n",
    "    percent = (data.isnull().sum() / data.isnull().count()).sort_values(ascending=False)\n",
    "    missing_data = pd.concat([total, percent], axis=1, keys=['Total', 'Percent'])\n",
    "    columns_drop = missing_data.index[missing_data['Percent'] >= 0.20]\n",
    "    \n",
    "    data.drop(columns=columns_drop, inplace=True)  # Drop columns inplace\n",
    "\n",
    "    print(\"Columns with more than 20% NaN values have been removed.\")\n",
    "    print(\"Number of columns removed: \", len(columns_drop))\n",
    "    print(\"Shape of the dataset after dropping columns: \", data.shape)\n",
    "\n",
    "    return data"
   ]
  },
  {
   "cell_type": "code",
   "execution_count": 7,
   "metadata": {},
   "outputs": [
    {
     "name": "stdout",
     "output_type": "stream",
     "text": [
      "Columns with more than 20% NaN values have been removed.\n",
      "Number of columns removed:  38\n",
      "Shape of the dataset after dropping columns:  (172501, 113)\n"
     ]
    }
   ],
   "source": [
    "data = drop_missing_data_columns(data)"
   ]
  },
  {
   "cell_type": "code",
   "execution_count": 8,
   "metadata": {},
   "outputs": [],
   "source": [
    "def simple_imputation(data, imputation):\n",
    "    data_copy = data.copy()  \n",
    "    \n",
    "    if imputation:  \n",
    "        for col in data_copy.columns:\n",
    "            if data_copy[col].dtype == 'object':\n",
    "                data_copy[col].fillna(data_copy[col].mode()[0], inplace=True)\n",
    "            else:\n",
    "                data_copy[col].fillna(data_copy[col].median(), inplace=True)\n",
    "    else:\n",
    "        data_copy.dropna(inplace=True)\n",
    "        print(\"Shape of the dataset after removing rows with NaN values:\", data_copy.shape)\n",
    "    return data_copy"
   ]
  },
  {
   "cell_type": "code",
   "execution_count": 9,
   "metadata": {},
   "outputs": [
    {
     "name": "stdout",
     "output_type": "stream",
     "text": [
      "Shape of the dataset after removing rows with NaN values: (129606, 113)\n"
     ]
    }
   ],
   "source": [
    "# Dados com imputação simples\n",
    "data_imputed = simple_imputation(data, imputation=True)\n",
    "data_drop = simple_imputation(data, imputation=False)"
   ]
  },
  {
   "cell_type": "code",
   "execution_count": 10,
   "metadata": {},
   "outputs": [
    {
     "data": {
      "text/plain": [
       "(172501, 113)"
      ]
     },
     "execution_count": 10,
     "metadata": {},
     "output_type": "execute_result"
    }
   ],
   "source": [
    "data.shape"
   ]
  },
  {
   "cell_type": "markdown",
   "metadata": {},
   "source": [
    "## Checando dados duplicados, noisy data"
   ]
  },
  {
   "cell_type": "code",
   "execution_count": 11,
   "metadata": {},
   "outputs": [],
   "source": [
    "def check_noisy(data):\n",
    "    duplicadas = data.duplicated()\n",
    "    print('Dados duplicados: ', duplicadas.unique())\n",
    "    print('NaN :', data['TARGET'].isna().sum())\n",
    "    print('Target unique values: ', data['TARGET'].unique())\n",
    "    \n",
    "    data_noisy = data.drop(columns=['ID', 'REF_DATE'])\n",
    "    data['unique_target'] = data.groupby(data_noisy.columns.to_list())['TARGET'].transform('nunique')\n",
    "    print('Unique combinations of the columns in data_noisy with distinct target values: ', data['unique_target'].unique())\n",
    "    noisy_data = data[data['unique_target'] > 1].drop('unique_target', axis=1)\n",
    "    print(noisy_data.shape)\n",
    "    data.drop(columns=['unique_target'], inplace=True)"
   ]
  },
  {
   "cell_type": "code",
   "execution_count": 12,
   "metadata": {},
   "outputs": [
    {
     "name": "stdout",
     "output_type": "stream",
     "text": [
      "Dados duplicados:  [False]\n",
      "NaN : 0\n",
      "Target unique values:  [0 1]\n",
      "Unique combinations of the columns in data_noisy with distinct target values:  [1]\n",
      "(0, 113)\n"
     ]
    }
   ],
   "source": [
    "check_noisy(data_imputed)"
   ]
  },
  {
   "cell_type": "markdown",
   "metadata": {},
   "source": [
    "## Balanceamento da váriavel 'TARGET'"
   ]
  },
  {
   "cell_type": "code",
   "execution_count": 13,
   "metadata": {},
   "outputs": [],
   "source": [
    "def percentage_target(data):\n",
    "\n",
    "    bad = data['TARGET'].value_counts()[1]\n",
    "    good = data['TARGET'].value_counts()[0]\n",
    "    total = data['TARGET'].value_counts().sum() \n",
    "    percent_good = (good/total)*100\n",
    "    percent_bad = (bad/total)*100\n",
    "\n",
    "    print('% Bons Pagadores: ', round(percent_good, 2),'%')\n",
    "    print('% Maus Pagadores: ', round(percent_bad, 2),'%')\n",
    "    return percent_good, percent_bad\n",
    "\n",
    "def plot_class_imbalance(percent_bad, percent_good):\n",
    "    import plotly.graph_objects as go\n",
    "\n",
    "    fig = go.Figure(go.Bar(x=[0, 1], y=[percent_good, percent_bad],\n",
    "                showlegend=False,\n",
    "                marker=dict(color='rgba(155, 190, 250, 0.7)')\n",
    "                ))\n",
    "    fig.add_annotation(\n",
    "        text='Dados de treino',\n",
    "        xref='paper', yref='paper',\n",
    "        x=-0.23, y=1.1,  \n",
    "        showarrow=False,\n",
    "        font=dict(size=12, color='rgba(100, 159, 237, 1)'))\n",
    "\n",
    "    # Update layout\n",
    "    fig.update_layout(title_text='% DE PAGADORES',\n",
    "                    plot_bgcolor='rgba(0, 0, 0, 0)',\n",
    "                    yaxis_ticksuffix=\"%\",\n",
    "                    coloraxis_colorbar_ticksuffix=\"m\",\n",
    "                    yaxis_showticksuffix=\"all\"\n",
    "                    )\n",
    "    fig.update_yaxes(ticks=\"outside\", tickwidth=1, tickcolor='rgba(169, 169, 169, 1)', ticklen=10)\n",
    "    fig.update_yaxes(showline=True, linewidth=1, linecolor='rgba(169, 169, 169, 1)')\n",
    "    fig.update_layout(xaxis=dict(tickvals=[0, 1], ticktext=['Bons (0)', 'Maus (1)'])\n",
    "                    )\n",
    "    fig.layout.update({'width' : 400, 'height': 500})\n",
    "\n",
    "    fig.show()"
   ]
  },
  {
   "cell_type": "code",
   "execution_count": 14,
   "metadata": {},
   "outputs": [
    {
     "name": "stdout",
     "output_type": "stream",
     "text": [
      "% Bons Pagadores:  75.5 %\n",
      "% Maus Pagadores:  24.5 %\n"
     ]
    },
    {
     "data": {
      "application/vnd.plotly.v1+json": {
       "config": {
        "plotlyServerURL": "https://plotly.com"
       },
       "data": [
        {
         "marker": {
          "color": "rgba(155, 190, 250, 0.7)"
         },
         "showlegend": false,
         "type": "bar",
         "x": [
          0,
          1
         ],
         "y": [
          75.49753334763277,
          24.502466652367232
         ]
        }
       ],
       "layout": {
        "annotations": [
         {
          "font": {
           "color": "rgba(100, 159, 237, 1)",
           "size": 12
          },
          "showarrow": false,
          "text": "Dados de treino",
          "x": -0.23,
          "xref": "paper",
          "y": 1.1,
          "yref": "paper"
         }
        ],
        "coloraxis": {
         "colorbar": {
          "ticksuffix": "m"
         }
        },
        "height": 500,
        "plot_bgcolor": "rgba(0, 0, 0, 0)",
        "template": {
         "data": {
          "bar": [
           {
            "error_x": {
             "color": "#2a3f5f"
            },
            "error_y": {
             "color": "#2a3f5f"
            },
            "marker": {
             "line": {
              "color": "#E5ECF6",
              "width": 0.5
             },
             "pattern": {
              "fillmode": "overlay",
              "size": 10,
              "solidity": 0.2
             }
            },
            "type": "bar"
           }
          ],
          "barpolar": [
           {
            "marker": {
             "line": {
              "color": "#E5ECF6",
              "width": 0.5
             },
             "pattern": {
              "fillmode": "overlay",
              "size": 10,
              "solidity": 0.2
             }
            },
            "type": "barpolar"
           }
          ],
          "carpet": [
           {
            "aaxis": {
             "endlinecolor": "#2a3f5f",
             "gridcolor": "white",
             "linecolor": "white",
             "minorgridcolor": "white",
             "startlinecolor": "#2a3f5f"
            },
            "baxis": {
             "endlinecolor": "#2a3f5f",
             "gridcolor": "white",
             "linecolor": "white",
             "minorgridcolor": "white",
             "startlinecolor": "#2a3f5f"
            },
            "type": "carpet"
           }
          ],
          "choropleth": [
           {
            "colorbar": {
             "outlinewidth": 0,
             "ticks": ""
            },
            "type": "choropleth"
           }
          ],
          "contour": [
           {
            "colorbar": {
             "outlinewidth": 0,
             "ticks": ""
            },
            "colorscale": [
             [
              0,
              "#0d0887"
             ],
             [
              0.1111111111111111,
              "#46039f"
             ],
             [
              0.2222222222222222,
              "#7201a8"
             ],
             [
              0.3333333333333333,
              "#9c179e"
             ],
             [
              0.4444444444444444,
              "#bd3786"
             ],
             [
              0.5555555555555556,
              "#d8576b"
             ],
             [
              0.6666666666666666,
              "#ed7953"
             ],
             [
              0.7777777777777778,
              "#fb9f3a"
             ],
             [
              0.8888888888888888,
              "#fdca26"
             ],
             [
              1,
              "#f0f921"
             ]
            ],
            "type": "contour"
           }
          ],
          "contourcarpet": [
           {
            "colorbar": {
             "outlinewidth": 0,
             "ticks": ""
            },
            "type": "contourcarpet"
           }
          ],
          "heatmap": [
           {
            "colorbar": {
             "outlinewidth": 0,
             "ticks": ""
            },
            "colorscale": [
             [
              0,
              "#0d0887"
             ],
             [
              0.1111111111111111,
              "#46039f"
             ],
             [
              0.2222222222222222,
              "#7201a8"
             ],
             [
              0.3333333333333333,
              "#9c179e"
             ],
             [
              0.4444444444444444,
              "#bd3786"
             ],
             [
              0.5555555555555556,
              "#d8576b"
             ],
             [
              0.6666666666666666,
              "#ed7953"
             ],
             [
              0.7777777777777778,
              "#fb9f3a"
             ],
             [
              0.8888888888888888,
              "#fdca26"
             ],
             [
              1,
              "#f0f921"
             ]
            ],
            "type": "heatmap"
           }
          ],
          "heatmapgl": [
           {
            "colorbar": {
             "outlinewidth": 0,
             "ticks": ""
            },
            "colorscale": [
             [
              0,
              "#0d0887"
             ],
             [
              0.1111111111111111,
              "#46039f"
             ],
             [
              0.2222222222222222,
              "#7201a8"
             ],
             [
              0.3333333333333333,
              "#9c179e"
             ],
             [
              0.4444444444444444,
              "#bd3786"
             ],
             [
              0.5555555555555556,
              "#d8576b"
             ],
             [
              0.6666666666666666,
              "#ed7953"
             ],
             [
              0.7777777777777778,
              "#fb9f3a"
             ],
             [
              0.8888888888888888,
              "#fdca26"
             ],
             [
              1,
              "#f0f921"
             ]
            ],
            "type": "heatmapgl"
           }
          ],
          "histogram": [
           {
            "marker": {
             "pattern": {
              "fillmode": "overlay",
              "size": 10,
              "solidity": 0.2
             }
            },
            "type": "histogram"
           }
          ],
          "histogram2d": [
           {
            "colorbar": {
             "outlinewidth": 0,
             "ticks": ""
            },
            "colorscale": [
             [
              0,
              "#0d0887"
             ],
             [
              0.1111111111111111,
              "#46039f"
             ],
             [
              0.2222222222222222,
              "#7201a8"
             ],
             [
              0.3333333333333333,
              "#9c179e"
             ],
             [
              0.4444444444444444,
              "#bd3786"
             ],
             [
              0.5555555555555556,
              "#d8576b"
             ],
             [
              0.6666666666666666,
              "#ed7953"
             ],
             [
              0.7777777777777778,
              "#fb9f3a"
             ],
             [
              0.8888888888888888,
              "#fdca26"
             ],
             [
              1,
              "#f0f921"
             ]
            ],
            "type": "histogram2d"
           }
          ],
          "histogram2dcontour": [
           {
            "colorbar": {
             "outlinewidth": 0,
             "ticks": ""
            },
            "colorscale": [
             [
              0,
              "#0d0887"
             ],
             [
              0.1111111111111111,
              "#46039f"
             ],
             [
              0.2222222222222222,
              "#7201a8"
             ],
             [
              0.3333333333333333,
              "#9c179e"
             ],
             [
              0.4444444444444444,
              "#bd3786"
             ],
             [
              0.5555555555555556,
              "#d8576b"
             ],
             [
              0.6666666666666666,
              "#ed7953"
             ],
             [
              0.7777777777777778,
              "#fb9f3a"
             ],
             [
              0.8888888888888888,
              "#fdca26"
             ],
             [
              1,
              "#f0f921"
             ]
            ],
            "type": "histogram2dcontour"
           }
          ],
          "mesh3d": [
           {
            "colorbar": {
             "outlinewidth": 0,
             "ticks": ""
            },
            "type": "mesh3d"
           }
          ],
          "parcoords": [
           {
            "line": {
             "colorbar": {
              "outlinewidth": 0,
              "ticks": ""
             }
            },
            "type": "parcoords"
           }
          ],
          "pie": [
           {
            "automargin": true,
            "type": "pie"
           }
          ],
          "scatter": [
           {
            "fillpattern": {
             "fillmode": "overlay",
             "size": 10,
             "solidity": 0.2
            },
            "type": "scatter"
           }
          ],
          "scatter3d": [
           {
            "line": {
             "colorbar": {
              "outlinewidth": 0,
              "ticks": ""
             }
            },
            "marker": {
             "colorbar": {
              "outlinewidth": 0,
              "ticks": ""
             }
            },
            "type": "scatter3d"
           }
          ],
          "scattercarpet": [
           {
            "marker": {
             "colorbar": {
              "outlinewidth": 0,
              "ticks": ""
             }
            },
            "type": "scattercarpet"
           }
          ],
          "scattergeo": [
           {
            "marker": {
             "colorbar": {
              "outlinewidth": 0,
              "ticks": ""
             }
            },
            "type": "scattergeo"
           }
          ],
          "scattergl": [
           {
            "marker": {
             "colorbar": {
              "outlinewidth": 0,
              "ticks": ""
             }
            },
            "type": "scattergl"
           }
          ],
          "scattermapbox": [
           {
            "marker": {
             "colorbar": {
              "outlinewidth": 0,
              "ticks": ""
             }
            },
            "type": "scattermapbox"
           }
          ],
          "scatterpolar": [
           {
            "marker": {
             "colorbar": {
              "outlinewidth": 0,
              "ticks": ""
             }
            },
            "type": "scatterpolar"
           }
          ],
          "scatterpolargl": [
           {
            "marker": {
             "colorbar": {
              "outlinewidth": 0,
              "ticks": ""
             }
            },
            "type": "scatterpolargl"
           }
          ],
          "scatterternary": [
           {
            "marker": {
             "colorbar": {
              "outlinewidth": 0,
              "ticks": ""
             }
            },
            "type": "scatterternary"
           }
          ],
          "surface": [
           {
            "colorbar": {
             "outlinewidth": 0,
             "ticks": ""
            },
            "colorscale": [
             [
              0,
              "#0d0887"
             ],
             [
              0.1111111111111111,
              "#46039f"
             ],
             [
              0.2222222222222222,
              "#7201a8"
             ],
             [
              0.3333333333333333,
              "#9c179e"
             ],
             [
              0.4444444444444444,
              "#bd3786"
             ],
             [
              0.5555555555555556,
              "#d8576b"
             ],
             [
              0.6666666666666666,
              "#ed7953"
             ],
             [
              0.7777777777777778,
              "#fb9f3a"
             ],
             [
              0.8888888888888888,
              "#fdca26"
             ],
             [
              1,
              "#f0f921"
             ]
            ],
            "type": "surface"
           }
          ],
          "table": [
           {
            "cells": {
             "fill": {
              "color": "#EBF0F8"
             },
             "line": {
              "color": "white"
             }
            },
            "header": {
             "fill": {
              "color": "#C8D4E3"
             },
             "line": {
              "color": "white"
             }
            },
            "type": "table"
           }
          ]
         },
         "layout": {
          "annotationdefaults": {
           "arrowcolor": "#2a3f5f",
           "arrowhead": 0,
           "arrowwidth": 1
          },
          "autotypenumbers": "strict",
          "coloraxis": {
           "colorbar": {
            "outlinewidth": 0,
            "ticks": ""
           }
          },
          "colorscale": {
           "diverging": [
            [
             0,
             "#8e0152"
            ],
            [
             0.1,
             "#c51b7d"
            ],
            [
             0.2,
             "#de77ae"
            ],
            [
             0.3,
             "#f1b6da"
            ],
            [
             0.4,
             "#fde0ef"
            ],
            [
             0.5,
             "#f7f7f7"
            ],
            [
             0.6,
             "#e6f5d0"
            ],
            [
             0.7,
             "#b8e186"
            ],
            [
             0.8,
             "#7fbc41"
            ],
            [
             0.9,
             "#4d9221"
            ],
            [
             1,
             "#276419"
            ]
           ],
           "sequential": [
            [
             0,
             "#0d0887"
            ],
            [
             0.1111111111111111,
             "#46039f"
            ],
            [
             0.2222222222222222,
             "#7201a8"
            ],
            [
             0.3333333333333333,
             "#9c179e"
            ],
            [
             0.4444444444444444,
             "#bd3786"
            ],
            [
             0.5555555555555556,
             "#d8576b"
            ],
            [
             0.6666666666666666,
             "#ed7953"
            ],
            [
             0.7777777777777778,
             "#fb9f3a"
            ],
            [
             0.8888888888888888,
             "#fdca26"
            ],
            [
             1,
             "#f0f921"
            ]
           ],
           "sequentialminus": [
            [
             0,
             "#0d0887"
            ],
            [
             0.1111111111111111,
             "#46039f"
            ],
            [
             0.2222222222222222,
             "#7201a8"
            ],
            [
             0.3333333333333333,
             "#9c179e"
            ],
            [
             0.4444444444444444,
             "#bd3786"
            ],
            [
             0.5555555555555556,
             "#d8576b"
            ],
            [
             0.6666666666666666,
             "#ed7953"
            ],
            [
             0.7777777777777778,
             "#fb9f3a"
            ],
            [
             0.8888888888888888,
             "#fdca26"
            ],
            [
             1,
             "#f0f921"
            ]
           ]
          },
          "colorway": [
           "#636efa",
           "#EF553B",
           "#00cc96",
           "#ab63fa",
           "#FFA15A",
           "#19d3f3",
           "#FF6692",
           "#B6E880",
           "#FF97FF",
           "#FECB52"
          ],
          "font": {
           "color": "#2a3f5f"
          },
          "geo": {
           "bgcolor": "white",
           "lakecolor": "white",
           "landcolor": "#E5ECF6",
           "showlakes": true,
           "showland": true,
           "subunitcolor": "white"
          },
          "hoverlabel": {
           "align": "left"
          },
          "hovermode": "closest",
          "mapbox": {
           "style": "light"
          },
          "paper_bgcolor": "white",
          "plot_bgcolor": "#E5ECF6",
          "polar": {
           "angularaxis": {
            "gridcolor": "white",
            "linecolor": "white",
            "ticks": ""
           },
           "bgcolor": "#E5ECF6",
           "radialaxis": {
            "gridcolor": "white",
            "linecolor": "white",
            "ticks": ""
           }
          },
          "scene": {
           "xaxis": {
            "backgroundcolor": "#E5ECF6",
            "gridcolor": "white",
            "gridwidth": 2,
            "linecolor": "white",
            "showbackground": true,
            "ticks": "",
            "zerolinecolor": "white"
           },
           "yaxis": {
            "backgroundcolor": "#E5ECF6",
            "gridcolor": "white",
            "gridwidth": 2,
            "linecolor": "white",
            "showbackground": true,
            "ticks": "",
            "zerolinecolor": "white"
           },
           "zaxis": {
            "backgroundcolor": "#E5ECF6",
            "gridcolor": "white",
            "gridwidth": 2,
            "linecolor": "white",
            "showbackground": true,
            "ticks": "",
            "zerolinecolor": "white"
           }
          },
          "shapedefaults": {
           "line": {
            "color": "#2a3f5f"
           }
          },
          "ternary": {
           "aaxis": {
            "gridcolor": "white",
            "linecolor": "white",
            "ticks": ""
           },
           "baxis": {
            "gridcolor": "white",
            "linecolor": "white",
            "ticks": ""
           },
           "bgcolor": "#E5ECF6",
           "caxis": {
            "gridcolor": "white",
            "linecolor": "white",
            "ticks": ""
           }
          },
          "title": {
           "x": 0.05
          },
          "xaxis": {
           "automargin": true,
           "gridcolor": "white",
           "linecolor": "white",
           "ticks": "",
           "title": {
            "standoff": 15
           },
           "zerolinecolor": "white",
           "zerolinewidth": 2
          },
          "yaxis": {
           "automargin": true,
           "gridcolor": "white",
           "linecolor": "white",
           "ticks": "",
           "title": {
            "standoff": 15
           },
           "zerolinecolor": "white",
           "zerolinewidth": 2
          }
         }
        },
        "title": {
         "text": "% DE PAGADORES"
        },
        "width": 400,
        "xaxis": {
         "ticktext": [
          "Bons (0)",
          "Maus (1)"
         ],
         "tickvals": [
          0,
          1
         ]
        },
        "yaxis": {
         "linecolor": "rgba(169, 169, 169, 1)",
         "linewidth": 1,
         "showline": true,
         "showticksuffix": "all",
         "tickcolor": "rgba(169, 169, 169, 1)",
         "ticklen": 10,
         "ticks": "outside",
         "ticksuffix": "%",
         "tickwidth": 1
        }
       }
      }
     },
     "metadata": {},
     "output_type": "display_data"
    }
   ],
   "source": [
    "percent_good, percent_bad = percentage_target(data_imputed)\n",
    "plot_class_imbalance(percent_bad, percent_good)"
   ]
  },
  {
   "cell_type": "markdown",
   "metadata": {},
   "source": [
    "Parece que temos um desbalanço de classe que deverá ser tratado quando formos treinar do nosso modelo."
   ]
  },
  {
   "cell_type": "markdown",
   "metadata": {},
   "source": [
    "## Tipos de variáveis no dataset de treino"
   ]
  },
  {
   "cell_type": "code",
   "execution_count": 15,
   "metadata": {},
   "outputs": [
    {
     "data": {
      "text/plain": [
       "object     100\n",
       "float64     10\n",
       "int64        3\n",
       "Name: count, dtype: int64"
      ]
     },
     "execution_count": 15,
     "metadata": {},
     "output_type": "execute_result"
    }
   ],
   "source": [
    "data_imputed.dtypes.value_counts()"
   ]
  },
  {
   "cell_type": "markdown",
   "metadata": {},
   "source": [
    "Temos 100 variáveis com entradas do tipo object, e apenas 13 variáveis de tipo numérico. Para fins de uma primeira análise vou separar em dois dataframes as variáveis numéricas e as variáveis não numéricas."
   ]
  },
  {
   "cell_type": "code",
   "execution_count": 16,
   "metadata": {},
   "outputs": [],
   "source": [
    "def split_num_cat(data):\n",
    "    columns = data.dtypes != 'object'\n",
    "    columns_to_keep = data.columns[columns]\n",
    "    data_num = data[columns_to_keep]\n",
    "    data_cat = data.drop(columns_to_keep, axis=1)\n",
    "    return data_num, data_cat"
   ]
  },
  {
   "cell_type": "code",
   "execution_count": 17,
   "metadata": {},
   "outputs": [],
   "source": [
    "data_imputed = data_imputed[data_imputed['VAR2'] != 'I']"
   ]
  },
  {
   "cell_type": "code",
   "execution_count": 18,
   "metadata": {},
   "outputs": [],
   "source": [
    "data_num, data_cat = split_num_cat(data_imputed)"
   ]
  },
  {
   "cell_type": "markdown",
   "metadata": {},
   "source": [
    "# Pré-processamento das variáveis"
   ]
  },
  {
   "cell_type": "markdown",
   "metadata": {},
   "source": [
    "## Tratamento das variáveis categoricas"
   ]
  },
  {
   "cell_type": "code",
   "execution_count": 19,
   "metadata": {},
   "outputs": [],
   "source": [
    "data_cat['MONTH'] = pd.to_datetime(data_cat['REF_DATE']).dt.strftime('%B')"
   ]
  },
  {
   "cell_type": "markdown",
   "metadata": {},
   "source": [
    "As colunas REF_DATE, VAR48 e VAR49 não parecem adicionar informação no nosso modelo "
   ]
  },
  {
   "cell_type": "code",
   "execution_count": 20,
   "metadata": {},
   "outputs": [
    {
     "data": {
      "text/plain": [
       "VAR148\n",
       "EMAIL INEXISTENTE                                         74883\n",
       "EMAIL INEXISTENTE#@#NOME INEXISTENTE#@#CEP INEXISTENTE    72497\n",
       "OPERACAO REALIZADA COM SUCESSO                            13635\n",
       "NOME INEXISTENTE#@#EMAIL INEXISTENTE                      10183\n",
       "CEP INEXISTENTE#@#EMAIL INEXISTENTE                         674\n",
       "NOME INEXISTENTE                                            614\n",
       "CEP INEXISTENTE                                               9\n",
       "NOME INEXISTENTE#@#CEP INEXISTENTE                            5\n",
       "Name: count, dtype: int64"
      ]
     },
     "execution_count": 20,
     "metadata": {},
     "output_type": "execute_result"
    }
   ],
   "source": [
    "data_cat['VAR148'].value_counts()"
   ]
  },
  {
   "cell_type": "code",
   "execution_count": 21,
   "metadata": {},
   "outputs": [
    {
     "data": {
      "text/plain": [
       "VAR149\n",
       "2.6.1    172500\n",
       "Name: count, dtype: int64"
      ]
     },
     "execution_count": 21,
     "metadata": {},
     "output_type": "execute_result"
    }
   ],
   "source": [
    "data_cat['VAR149'].value_counts()"
   ]
  },
  {
   "cell_type": "markdown",
   "metadata": {},
   "source": [
    "Vou remover as duas"
   ]
  },
  {
   "cell_type": "code",
   "execution_count": 22,
   "metadata": {},
   "outputs": [],
   "source": [
    "data_cat.drop(columns=['REF_DATE', 'VAR148', 'VAR149'], inplace=True)"
   ]
  },
  {
   "cell_type": "markdown",
   "metadata": {},
   "source": [
    "## Enconding Categorical Features\n",
    "Nesta sessão vamos: \n",
    "1) Ver quais são as categorias existentes em todo o dataset e se são ordinais ou nominais\n",
    "2) Fazer o encoding das variáveis categóricas\n",
    "\n",
    "\n",
    "Vou usar a função OrdinalEnconder() do sklearn para codificar numericamente as categorias que apresentam uma hierarquia.\n",
    "\n",
    "Para as escalas que não apresentam ordem vamos usar binary enconding. Como temos apenas duas variáveis, podemos usar também o OrdinalEncoder do sklearn para dar valores numéricos 0 ou 1 para as variáveis categóricas binárias.\n",
    "\n",
    "Vou usar one-hot encoding nas variáveis categóricas que apresentam escala de meses, estados e classificação (A, B, C, D, E), por não saber se estas últimas são ordinais ou não, já que não tenho o contexto das variáveis."
   ]
  },
  {
   "cell_type": "code",
   "execution_count": 23,
   "metadata": {},
   "outputs": [
    {
     "data": {
      "text/plain": [
       "{('A', 'B', 'C', 'D', 'E'),\n",
       " ('AC',\n",
       "  'AL',\n",
       "  'AM',\n",
       "  'AP',\n",
       "  'BA',\n",
       "  'CE',\n",
       "  'DF',\n",
       "  'ES',\n",
       "  'GO',\n",
       "  'MA',\n",
       "  'MG',\n",
       "  'MS',\n",
       "  'MT',\n",
       "  'PA',\n",
       "  'PB',\n",
       "  'PE',\n",
       "  'PI',\n",
       "  'PR',\n",
       "  'RJ',\n",
       "  'RN',\n",
       "  'RO',\n",
       "  'RR',\n",
       "  'RS',\n",
       "  'SC',\n",
       "  'SE',\n",
       "  'SP',\n",
       "  'TO'),\n",
       " ('ALTA', 'ALTISSIMA', 'BAIXA', 'BAIXISSIMA', 'MEDIA'),\n",
       " ('ALTA', 'ALTISSIMA', 'BAIXISSIMA'),\n",
       " ('ALTA', 'ALTISSIMA', 'BAIXISSIMA', 'MEDIA'),\n",
       " ('ALTISSIMA', 'BAIXISSIMA'),\n",
       " ('April', 'August', 'February', 'January', 'July', 'June', 'March', 'May'),\n",
       " ('F', 'M'),\n",
       " ('LONGE', 'MEDIO', 'MUITO LONGE', 'MUITO PROXIMO', 'PROXIMO'),\n",
       " ('LONGE', 'MEDIO', 'MUITO LONGE', 'PROXIMO'),\n",
       " ('MUITO LONGE', 'PROXIMO'),\n",
       " ('N', 'S')}"
      ]
     },
     "execution_count": 23,
     "metadata": {},
     "output_type": "execute_result"
    }
   ],
   "source": [
    "# get the unique categories for each column\n",
    "unique_categories = {column: sorted(data_cat[column].unique()) for column in data_cat.columns}\n",
    "unique_cats = set(tuple(x) for x in unique_categories.values())\n",
    "unique_cats"
   ]
  },
  {
   "cell_type": "code",
   "execution_count": 24,
   "metadata": {},
   "outputs": [
    {
     "data": {
      "text/plain": [
       "VAR2\n",
       "F    106945\n",
       "M     65555\n",
       "Name: count, dtype: int64"
      ]
     },
     "execution_count": 24,
     "metadata": {},
     "output_type": "execute_result"
    }
   ],
   "source": [
    "data_cat['VAR2'].value_counts()"
   ]
  },
  {
   "cell_type": "markdown",
   "metadata": {},
   "source": [
    "Vou deletar a entrada que apresenta 'I' na VAR2"
   ]
  },
  {
   "cell_type": "markdown",
   "metadata": {},
   "source": [
    "Eu normalizo todas as variáveis com entradas de distância e frequência para as escalas de categorias:\n",
    "\n",
    "('LONGE', 'MEDIO', 'MUITO LONGE', 'MUITO PROXIMO', 'PROXIMO')\n",
    "\n",
    "('ALTA', 'ALTISSIMA', 'BAIXA', 'BAIXISSIMA', 'MEDIA')"
   ]
  },
  {
   "cell_type": "code",
   "execution_count": 25,
   "metadata": {},
   "outputs": [],
   "source": [
    "def preprocessing_cat(dataframe):\n",
    "    from sklearn.preprocessing import OrdinalEncoder\n",
    "    dataframe_copy = dataframe.copy()  \n",
    "\n",
    "    # categorias existentes\n",
    "    categoriais_ordinais = [('ALTA', 'ALTISSIMA', 'BAIXA', 'BAIXISSIMA', 'MEDIA'), \n",
    "                        ('LONGE', 'MEDIO', 'MUITO LONGE', 'MUITO PROXIMO', 'PROXIMO')]\n",
    "    categorias_nominais = [('N', 'S'), ('F', 'M')]\n",
    "    states = list(dataframe_copy['VAR5'].unique())\n",
    "    months = list(dataframe_copy['MONTH'].unique())\n",
    "    categoria_one_hot = [('A', 'B', 'C', 'D', 'E'), states, months]\n",
    "    # inicializando\n",
    "    ordinal_columns0 = []\n",
    "    ordinal_columns1 = []\n",
    "    nominal_columns = []\n",
    "    ohe_columns = []\n",
    "    # agrupando variáveis dos mesmos grupos de categorias\n",
    "    for col in dataframe_copy:\n",
    "        if set(tuple(unique_categories[col])).issubset(categoriais_ordinais[0]):\n",
    "            ordinal_columns0.append(col)\n",
    "        elif set(tuple(unique_categories[col])).issubset(categoriais_ordinais[1]):\n",
    "            ordinal_columns1.append(col)\n",
    "        elif any(set(tuple(unique_categories[col])).issubset(x) for x in categorias_nominais):\n",
    "            nominal_columns.append(col)\n",
    "        elif any(set(tuple(unique_categories[col])).issubset(x) for x in categoria_one_hot):\n",
    "            ohe_columns.append(col)\n",
    "    \n",
    "    encoder1 = OrdinalEncoder(categories=[['BAIXISSIMA', 'BAIXA', 'MEDIA', 'ALTA', 'ALTISSIMA']]*len(ordinal_columns0)).set_output(transform=\"pandas\")\n",
    "    encoded1 = encoder1.fit_transform(dataframe_copy[ordinal_columns0])\n",
    "    encoder2 = OrdinalEncoder(categories=[('MUITO LONGE','LONGE', 'MEDIO', 'PROXIMO', 'MUITO PROXIMO')]*len(ordinal_columns1)).set_output(transform=\"pandas\")\n",
    "    encoded2 = encoder2.fit_transform(dataframe_copy[ordinal_columns1])\n",
    "    encoder = OrdinalEncoder().set_output(transform=\"pandas\")\n",
    "    nominal_encoded = encoder.fit_transform(dataframe_copy[nominal_columns])\n",
    "    data_ohe = dataframe_copy[ohe_columns]\n",
    "    ohe_encoded = pd.get_dummies(data_ohe)\n",
    "\n",
    "    dataframe_encoded = pd.concat([encoded1, encoded2, nominal_encoded, ohe_encoded], axis=1)\n",
    "    \n",
    "    return dataframe_encoded"
   ]
  },
  {
   "cell_type": "code",
   "execution_count": 26,
   "metadata": {},
   "outputs": [],
   "source": [
    "data_cat_encoded = preprocessing_cat(data_cat)"
   ]
  },
  {
   "cell_type": "markdown",
   "metadata": {},
   "source": [
    "## Correlações"
   ]
  },
  {
   "cell_type": "markdown",
   "metadata": {},
   "source": [
    "## Correlação Variáveis Numéricas x Target"
   ]
  },
  {
   "cell_type": "code",
   "execution_count": 27,
   "metadata": {},
   "outputs": [
    {
     "data": {
      "text/html": [
       "<div>\n",
       "<style scoped>\n",
       "    .dataframe tbody tr th:only-of-type {\n",
       "        vertical-align: middle;\n",
       "    }\n",
       "\n",
       "    .dataframe tbody tr th {\n",
       "        vertical-align: top;\n",
       "    }\n",
       "\n",
       "    .dataframe thead th {\n",
       "        text-align: right;\n",
       "    }\n",
       "</style>\n",
       "<table border=\"1\" class=\"dataframe\">\n",
       "  <thead>\n",
       "    <tr style=\"text-align: right;\">\n",
       "      <th></th>\n",
       "      <th>TARGET</th>\n",
       "      <th>IDADE</th>\n",
       "      <th>VAR6</th>\n",
       "      <th>VAR7</th>\n",
       "      <th>VAR24</th>\n",
       "      <th>VAR39</th>\n",
       "      <th>VAR40</th>\n",
       "      <th>VAR41</th>\n",
       "      <th>VAR42</th>\n",
       "      <th>VAR47</th>\n",
       "      <th>VAR141</th>\n",
       "      <th>VAR147</th>\n",
       "      <th>ID</th>\n",
       "    </tr>\n",
       "  </thead>\n",
       "  <tbody>\n",
       "    <tr>\n",
       "      <th>TARGET</th>\n",
       "      <td>1.000000</td>\n",
       "      <td>-0.106138</td>\n",
       "      <td>0.029698</td>\n",
       "      <td>0.030894</td>\n",
       "      <td>-0.035071</td>\n",
       "      <td>-0.077034</td>\n",
       "      <td>-0.037316</td>\n",
       "      <td>-0.050562</td>\n",
       "      <td>-0.017345</td>\n",
       "      <td>-0.009068</td>\n",
       "      <td>-0.015161</td>\n",
       "      <td>0.025920</td>\n",
       "      <td>-0.001583</td>\n",
       "    </tr>\n",
       "    <tr>\n",
       "      <th>IDADE</th>\n",
       "      <td>-0.106138</td>\n",
       "      <td>1.000000</td>\n",
       "      <td>-0.064221</td>\n",
       "      <td>0.006996</td>\n",
       "      <td>0.052485</td>\n",
       "      <td>0.404054</td>\n",
       "      <td>0.007622</td>\n",
       "      <td>-0.009956</td>\n",
       "      <td>0.159878</td>\n",
       "      <td>0.092104</td>\n",
       "      <td>0.243246</td>\n",
       "      <td>-0.082952</td>\n",
       "      <td>-0.000827</td>\n",
       "    </tr>\n",
       "    <tr>\n",
       "      <th>VAR6</th>\n",
       "      <td>0.029698</td>\n",
       "      <td>-0.064221</td>\n",
       "      <td>1.000000</td>\n",
       "      <td>0.177161</td>\n",
       "      <td>-0.185727</td>\n",
       "      <td>0.056422</td>\n",
       "      <td>-0.137198</td>\n",
       "      <td>0.041487</td>\n",
       "      <td>-0.007383</td>\n",
       "      <td>-0.035748</td>\n",
       "      <td>-0.085721</td>\n",
       "      <td>0.086003</td>\n",
       "      <td>0.002588</td>\n",
       "    </tr>\n",
       "    <tr>\n",
       "      <th>VAR7</th>\n",
       "      <td>0.030894</td>\n",
       "      <td>0.006996</td>\n",
       "      <td>0.177161</td>\n",
       "      <td>1.000000</td>\n",
       "      <td>-0.025117</td>\n",
       "      <td>0.014193</td>\n",
       "      <td>0.080335</td>\n",
       "      <td>0.095734</td>\n",
       "      <td>0.037143</td>\n",
       "      <td>0.055708</td>\n",
       "      <td>-0.053163</td>\n",
       "      <td>0.059149</td>\n",
       "      <td>-0.001676</td>\n",
       "    </tr>\n",
       "    <tr>\n",
       "      <th>VAR24</th>\n",
       "      <td>-0.035071</td>\n",
       "      <td>0.052485</td>\n",
       "      <td>-0.185727</td>\n",
       "      <td>-0.025117</td>\n",
       "      <td>1.000000</td>\n",
       "      <td>-0.205543</td>\n",
       "      <td>0.036843</td>\n",
       "      <td>0.044916</td>\n",
       "      <td>-0.006858</td>\n",
       "      <td>0.020512</td>\n",
       "      <td>0.122262</td>\n",
       "      <td>-0.220059</td>\n",
       "      <td>0.001004</td>\n",
       "    </tr>\n",
       "    <tr>\n",
       "      <th>VAR39</th>\n",
       "      <td>-0.077034</td>\n",
       "      <td>0.404054</td>\n",
       "      <td>0.056422</td>\n",
       "      <td>0.014193</td>\n",
       "      <td>-0.205543</td>\n",
       "      <td>1.000000</td>\n",
       "      <td>0.098010</td>\n",
       "      <td>0.119399</td>\n",
       "      <td>0.130707</td>\n",
       "      <td>0.090401</td>\n",
       "      <td>0.251693</td>\n",
       "      <td>-0.021559</td>\n",
       "      <td>0.001431</td>\n",
       "    </tr>\n",
       "    <tr>\n",
       "      <th>VAR40</th>\n",
       "      <td>-0.037316</td>\n",
       "      <td>0.007622</td>\n",
       "      <td>-0.137198</td>\n",
       "      <td>0.080335</td>\n",
       "      <td>0.036843</td>\n",
       "      <td>0.098010</td>\n",
       "      <td>1.000000</td>\n",
       "      <td>0.629167</td>\n",
       "      <td>0.035844</td>\n",
       "      <td>0.010951</td>\n",
       "      <td>0.029022</td>\n",
       "      <td>0.035793</td>\n",
       "      <td>-0.001784</td>\n",
       "    </tr>\n",
       "    <tr>\n",
       "      <th>VAR41</th>\n",
       "      <td>-0.050562</td>\n",
       "      <td>-0.009956</td>\n",
       "      <td>0.041487</td>\n",
       "      <td>0.095734</td>\n",
       "      <td>0.044916</td>\n",
       "      <td>0.119399</td>\n",
       "      <td>0.629167</td>\n",
       "      <td>1.000000</td>\n",
       "      <td>0.032546</td>\n",
       "      <td>0.008785</td>\n",
       "      <td>-0.012569</td>\n",
       "      <td>0.077054</td>\n",
       "      <td>-0.000618</td>\n",
       "    </tr>\n",
       "    <tr>\n",
       "      <th>VAR42</th>\n",
       "      <td>-0.017345</td>\n",
       "      <td>0.159878</td>\n",
       "      <td>-0.007383</td>\n",
       "      <td>0.037143</td>\n",
       "      <td>-0.006858</td>\n",
       "      <td>0.130707</td>\n",
       "      <td>0.035844</td>\n",
       "      <td>0.032546</td>\n",
       "      <td>1.000000</td>\n",
       "      <td>0.350947</td>\n",
       "      <td>0.058760</td>\n",
       "      <td>0.004072</td>\n",
       "      <td>0.000927</td>\n",
       "    </tr>\n",
       "    <tr>\n",
       "      <th>VAR47</th>\n",
       "      <td>-0.009068</td>\n",
       "      <td>0.092104</td>\n",
       "      <td>-0.035748</td>\n",
       "      <td>0.055708</td>\n",
       "      <td>0.020512</td>\n",
       "      <td>0.090401</td>\n",
       "      <td>0.010951</td>\n",
       "      <td>0.008785</td>\n",
       "      <td>0.350947</td>\n",
       "      <td>1.000000</td>\n",
       "      <td>0.062424</td>\n",
       "      <td>0.002804</td>\n",
       "      <td>-0.001553</td>\n",
       "    </tr>\n",
       "    <tr>\n",
       "      <th>VAR141</th>\n",
       "      <td>-0.015161</td>\n",
       "      <td>0.243246</td>\n",
       "      <td>-0.085721</td>\n",
       "      <td>-0.053163</td>\n",
       "      <td>0.122262</td>\n",
       "      <td>0.251693</td>\n",
       "      <td>0.029022</td>\n",
       "      <td>-0.012569</td>\n",
       "      <td>0.058760</td>\n",
       "      <td>0.062424</td>\n",
       "      <td>1.000000</td>\n",
       "      <td>-0.186506</td>\n",
       "      <td>0.002308</td>\n",
       "    </tr>\n",
       "    <tr>\n",
       "      <th>VAR147</th>\n",
       "      <td>0.025920</td>\n",
       "      <td>-0.082952</td>\n",
       "      <td>0.086003</td>\n",
       "      <td>0.059149</td>\n",
       "      <td>-0.220059</td>\n",
       "      <td>-0.021559</td>\n",
       "      <td>0.035793</td>\n",
       "      <td>0.077054</td>\n",
       "      <td>0.004072</td>\n",
       "      <td>0.002804</td>\n",
       "      <td>-0.186506</td>\n",
       "      <td>1.000000</td>\n",
       "      <td>0.000255</td>\n",
       "    </tr>\n",
       "    <tr>\n",
       "      <th>ID</th>\n",
       "      <td>-0.001583</td>\n",
       "      <td>-0.000827</td>\n",
       "      <td>0.002588</td>\n",
       "      <td>-0.001676</td>\n",
       "      <td>0.001004</td>\n",
       "      <td>0.001431</td>\n",
       "      <td>-0.001784</td>\n",
       "      <td>-0.000618</td>\n",
       "      <td>0.000927</td>\n",
       "      <td>-0.001553</td>\n",
       "      <td>0.002308</td>\n",
       "      <td>0.000255</td>\n",
       "      <td>1.000000</td>\n",
       "    </tr>\n",
       "  </tbody>\n",
       "</table>\n",
       "</div>"
      ],
      "text/plain": [
       "          TARGET     IDADE      VAR6      VAR7     VAR24     VAR39     VAR40  \\\n",
       "TARGET  1.000000 -0.106138  0.029698  0.030894 -0.035071 -0.077034 -0.037316   \n",
       "IDADE  -0.106138  1.000000 -0.064221  0.006996  0.052485  0.404054  0.007622   \n",
       "VAR6    0.029698 -0.064221  1.000000  0.177161 -0.185727  0.056422 -0.137198   \n",
       "VAR7    0.030894  0.006996  0.177161  1.000000 -0.025117  0.014193  0.080335   \n",
       "VAR24  -0.035071  0.052485 -0.185727 -0.025117  1.000000 -0.205543  0.036843   \n",
       "VAR39  -0.077034  0.404054  0.056422  0.014193 -0.205543  1.000000  0.098010   \n",
       "VAR40  -0.037316  0.007622 -0.137198  0.080335  0.036843  0.098010  1.000000   \n",
       "VAR41  -0.050562 -0.009956  0.041487  0.095734  0.044916  0.119399  0.629167   \n",
       "VAR42  -0.017345  0.159878 -0.007383  0.037143 -0.006858  0.130707  0.035844   \n",
       "VAR47  -0.009068  0.092104 -0.035748  0.055708  0.020512  0.090401  0.010951   \n",
       "VAR141 -0.015161  0.243246 -0.085721 -0.053163  0.122262  0.251693  0.029022   \n",
       "VAR147  0.025920 -0.082952  0.086003  0.059149 -0.220059 -0.021559  0.035793   \n",
       "ID     -0.001583 -0.000827  0.002588 -0.001676  0.001004  0.001431 -0.001784   \n",
       "\n",
       "           VAR41     VAR42     VAR47    VAR141    VAR147        ID  \n",
       "TARGET -0.050562 -0.017345 -0.009068 -0.015161  0.025920 -0.001583  \n",
       "IDADE  -0.009956  0.159878  0.092104  0.243246 -0.082952 -0.000827  \n",
       "VAR6    0.041487 -0.007383 -0.035748 -0.085721  0.086003  0.002588  \n",
       "VAR7    0.095734  0.037143  0.055708 -0.053163  0.059149 -0.001676  \n",
       "VAR24   0.044916 -0.006858  0.020512  0.122262 -0.220059  0.001004  \n",
       "VAR39   0.119399  0.130707  0.090401  0.251693 -0.021559  0.001431  \n",
       "VAR40   0.629167  0.035844  0.010951  0.029022  0.035793 -0.001784  \n",
       "VAR41   1.000000  0.032546  0.008785 -0.012569  0.077054 -0.000618  \n",
       "VAR42   0.032546  1.000000  0.350947  0.058760  0.004072  0.000927  \n",
       "VAR47   0.008785  0.350947  1.000000  0.062424  0.002804 -0.001553  \n",
       "VAR141 -0.012569  0.058760  0.062424  1.000000 -0.186506  0.002308  \n",
       "VAR147  0.077054  0.004072  0.002804 -0.186506  1.000000  0.000255  \n",
       "ID     -0.000618  0.000927 -0.001553  0.002308  0.000255  1.000000  "
      ]
     },
     "execution_count": 27,
     "metadata": {},
     "output_type": "execute_result"
    }
   ],
   "source": [
    "data_num.corr()"
   ]
  },
  {
   "cell_type": "code",
   "execution_count": 28,
   "metadata": {},
   "outputs": [
    {
     "name": "stdout",
     "output_type": "stream",
     "text": [
      "Correlações mais positivas:\n",
      " ID       -0.001583\n",
      "VAR147    0.025920\n",
      "VAR6      0.029698\n",
      "VAR7      0.030894\n",
      "TARGET    1.000000\n",
      "Name: TARGET, dtype: float64\n",
      "\n",
      "Correlações mais negativas:\n",
      " IDADE   -0.106138\n",
      "VAR39   -0.077034\n",
      "VAR41   -0.050562\n",
      "VAR40   -0.037316\n",
      "VAR24   -0.035071\n",
      "Name: TARGET, dtype: float64\n"
     ]
    }
   ],
   "source": [
    "correlations = data_num.corr()['TARGET'].sort_values()\n",
    "\n",
    "print('Correlações mais positivas:\\n', correlations.tail(5))\n",
    "print('\\nCorrelações mais negativas:\\n', correlations.head(5))"
   ]
  },
  {
   "cell_type": "code",
   "execution_count": 29,
   "metadata": {},
   "outputs": [
    {
     "data": {
      "text/html": [
       "<div>\n",
       "<style scoped>\n",
       "    .dataframe tbody tr th:only-of-type {\n",
       "        vertical-align: middle;\n",
       "    }\n",
       "\n",
       "    .dataframe tbody tr th {\n",
       "        vertical-align: top;\n",
       "    }\n",
       "\n",
       "    .dataframe thead th {\n",
       "        text-align: right;\n",
       "    }\n",
       "</style>\n",
       "<table border=\"1\" class=\"dataframe\">\n",
       "  <thead>\n",
       "    <tr style=\"text-align: right;\">\n",
       "      <th></th>\n",
       "      <th>TARGET</th>\n",
       "      <th>IDADE</th>\n",
       "      <th>VAR6</th>\n",
       "      <th>VAR7</th>\n",
       "      <th>VAR24</th>\n",
       "      <th>VAR39</th>\n",
       "      <th>VAR40</th>\n",
       "      <th>VAR41</th>\n",
       "      <th>VAR42</th>\n",
       "      <th>VAR47</th>\n",
       "      <th>VAR141</th>\n",
       "      <th>VAR147</th>\n",
       "      <th>ID</th>\n",
       "    </tr>\n",
       "  </thead>\n",
       "  <tbody>\n",
       "    <tr>\n",
       "      <th>count</th>\n",
       "      <td>172500.00000</td>\n",
       "      <td>172500.000000</td>\n",
       "      <td>172500.000000</td>\n",
       "      <td>172500.000000</td>\n",
       "      <td>172500.000000</td>\n",
       "      <td>172500.000000</td>\n",
       "      <td>172500.000000</td>\n",
       "      <td>172500.000000</td>\n",
       "      <td>172500.000000</td>\n",
       "      <td>172500.000000</td>\n",
       "      <td>172500.000000</td>\n",
       "      <td>172500.000000</td>\n",
       "      <td>172500.000000</td>\n",
       "    </tr>\n",
       "    <tr>\n",
       "      <th>mean</th>\n",
       "      <td>0.24502</td>\n",
       "      <td>41.854059</td>\n",
       "      <td>-14.371637</td>\n",
       "      <td>-45.914288</td>\n",
       "      <td>0.071194</td>\n",
       "      <td>0.460960</td>\n",
       "      <td>0.531064</td>\n",
       "      <td>0.629206</td>\n",
       "      <td>0.503850</td>\n",
       "      <td>0.257033</td>\n",
       "      <td>1851.234592</td>\n",
       "      <td>101.841913</td>\n",
       "      <td>165340.832742</td>\n",
       "    </tr>\n",
       "    <tr>\n",
       "      <th>std</th>\n",
       "      <td>0.43010</td>\n",
       "      <td>14.327145</td>\n",
       "      <td>8.880359</td>\n",
       "      <td>7.425464</td>\n",
       "      <td>0.126196</td>\n",
       "      <td>0.144059</td>\n",
       "      <td>0.114756</td>\n",
       "      <td>0.220372</td>\n",
       "      <td>0.065590</td>\n",
       "      <td>0.407066</td>\n",
       "      <td>878.355771</td>\n",
       "      <td>0.539615</td>\n",
       "      <td>95542.882383</td>\n",
       "    </tr>\n",
       "    <tr>\n",
       "      <th>min</th>\n",
       "      <td>0.00000</td>\n",
       "      <td>18.014000</td>\n",
       "      <td>-33.521563</td>\n",
       "      <td>-72.900276</td>\n",
       "      <td>0.000000</td>\n",
       "      <td>0.049309</td>\n",
       "      <td>0.208688</td>\n",
       "      <td>0.000000</td>\n",
       "      <td>0.006658</td>\n",
       "      <td>0.000000</td>\n",
       "      <td>0.000000</td>\n",
       "      <td>100.000000</td>\n",
       "      <td>2.000000</td>\n",
       "    </tr>\n",
       "    <tr>\n",
       "      <th>25%</th>\n",
       "      <td>0.00000</td>\n",
       "      <td>31.268000</td>\n",
       "      <td>-22.788501</td>\n",
       "      <td>-49.638536</td>\n",
       "      <td>0.000000</td>\n",
       "      <td>0.363543</td>\n",
       "      <td>0.449550</td>\n",
       "      <td>0.442538</td>\n",
       "      <td>0.469239</td>\n",
       "      <td>0.000000</td>\n",
       "      <td>1513.227400</td>\n",
       "      <td>102.000000</td>\n",
       "      <td>82681.000000</td>\n",
       "    </tr>\n",
       "    <tr>\n",
       "      <th>50%</th>\n",
       "      <td>0.00000</td>\n",
       "      <td>39.855000</td>\n",
       "      <td>-13.009675</td>\n",
       "      <td>-46.564254</td>\n",
       "      <td>0.034000</td>\n",
       "      <td>0.462267</td>\n",
       "      <td>0.510118</td>\n",
       "      <td>0.542357</td>\n",
       "      <td>0.496036</td>\n",
       "      <td>0.003000</td>\n",
       "      <td>1627.157652</td>\n",
       "      <td>102.000000</td>\n",
       "      <td>165256.000000</td>\n",
       "    </tr>\n",
       "    <tr>\n",
       "      <th>75%</th>\n",
       "      <td>0.00000</td>\n",
       "      <td>51.066500</td>\n",
       "      <td>-6.515630</td>\n",
       "      <td>-39.072056</td>\n",
       "      <td>0.069000</td>\n",
       "      <td>0.557800</td>\n",
       "      <td>0.579877</td>\n",
       "      <td>0.892648</td>\n",
       "      <td>0.515328</td>\n",
       "      <td>0.426000</td>\n",
       "      <td>1815.143850</td>\n",
       "      <td>102.000000</td>\n",
       "      <td>248307.250000</td>\n",
       "    </tr>\n",
       "    <tr>\n",
       "      <th>max</th>\n",
       "      <td>1.00000</td>\n",
       "      <td>105.477000</td>\n",
       "      <td>4.602823</td>\n",
       "      <td>-32.429516</td>\n",
       "      <td>1.000000</td>\n",
       "      <td>0.976928</td>\n",
       "      <td>0.920685</td>\n",
       "      <td>1.000000</td>\n",
       "      <td>0.910865</td>\n",
       "      <td>1.000000</td>\n",
       "      <td>33954.140000</td>\n",
       "      <td>102.000000</td>\n",
       "      <td>330581.000000</td>\n",
       "    </tr>\n",
       "  </tbody>\n",
       "</table>\n",
       "</div>"
      ],
      "text/plain": [
       "             TARGET          IDADE           VAR6           VAR7  \\\n",
       "count  172500.00000  172500.000000  172500.000000  172500.000000   \n",
       "mean        0.24502      41.854059     -14.371637     -45.914288   \n",
       "std         0.43010      14.327145       8.880359       7.425464   \n",
       "min         0.00000      18.014000     -33.521563     -72.900276   \n",
       "25%         0.00000      31.268000     -22.788501     -49.638536   \n",
       "50%         0.00000      39.855000     -13.009675     -46.564254   \n",
       "75%         0.00000      51.066500      -6.515630     -39.072056   \n",
       "max         1.00000     105.477000       4.602823     -32.429516   \n",
       "\n",
       "               VAR24          VAR39          VAR40          VAR41  \\\n",
       "count  172500.000000  172500.000000  172500.000000  172500.000000   \n",
       "mean        0.071194       0.460960       0.531064       0.629206   \n",
       "std         0.126196       0.144059       0.114756       0.220372   \n",
       "min         0.000000       0.049309       0.208688       0.000000   \n",
       "25%         0.000000       0.363543       0.449550       0.442538   \n",
       "50%         0.034000       0.462267       0.510118       0.542357   \n",
       "75%         0.069000       0.557800       0.579877       0.892648   \n",
       "max         1.000000       0.976928       0.920685       1.000000   \n",
       "\n",
       "               VAR42          VAR47         VAR141         VAR147  \\\n",
       "count  172500.000000  172500.000000  172500.000000  172500.000000   \n",
       "mean        0.503850       0.257033    1851.234592     101.841913   \n",
       "std         0.065590       0.407066     878.355771       0.539615   \n",
       "min         0.006658       0.000000       0.000000     100.000000   \n",
       "25%         0.469239       0.000000    1513.227400     102.000000   \n",
       "50%         0.496036       0.003000    1627.157652     102.000000   \n",
       "75%         0.515328       0.426000    1815.143850     102.000000   \n",
       "max         0.910865       1.000000   33954.140000     102.000000   \n",
       "\n",
       "                  ID  \n",
       "count  172500.000000  \n",
       "mean   165340.832742  \n",
       "std     95542.882383  \n",
       "min         2.000000  \n",
       "25%     82681.000000  \n",
       "50%    165256.000000  \n",
       "75%    248307.250000  \n",
       "max    330581.000000  "
      ]
     },
     "execution_count": 29,
     "metadata": {},
     "output_type": "execute_result"
    }
   ],
   "source": [
    "data_num.describe()"
   ]
  },
  {
   "cell_type": "code",
   "execution_count": 30,
   "metadata": {},
   "outputs": [
    {
     "data": {
      "text/plain": [
       "<Axes: >"
      ]
     },
     "execution_count": 30,
     "metadata": {},
     "output_type": "execute_result"
    },
    {
     "data": {
      "image/png": "[encoded data removed]",
      "text/plain": [
       "<Figure size 900x600 with 2 Axes>"
      ]
     },
     "metadata": {},
     "output_type": "display_data"
    }
   ],
   "source": [
    "sns.set_theme(style=\"white\")\n",
    "cmap = 'seismic'\n",
    "f, ax = plt.subplots(figsize=(9, 6))\n",
    "mask = np.triu(np.ones_like(data_num.drop(columns=['ID']).corr(), dtype=bool))\n",
    "vmin = -1\n",
    "vmax = 1\n",
    "sns.heatmap(data_num.drop(columns=['ID']).corr(), mask=mask, cmap=cmap, annot=True, vmin=vmin, vmax=vmax)"
   ]
  },
  {
   "cell_type": "markdown",
   "metadata": {},
   "source": [
    "#### KDE"
   ]
  },
  {
   "cell_type": "code",
   "execution_count": 31,
   "metadata": {},
   "outputs": [
    {
     "data": {
      "image/png": "[encoded data removed]",
      "text/plain": [
       "<Figure size 1800x1800 with 12 Axes>"
      ]
     },
     "metadata": {},
     "output_type": "display_data"
    }
   ],
   "source": [
    "plt.figure(figsize = (18, 18))\n",
    "data_num_0 = data_num[data_num['TARGET'] == 0].drop(columns=['TARGET'])\n",
    "data_num_1 = data_num[data_num['TARGET'] == 1].drop(columns=['TARGET'])\n",
    "num_columns = data_num.columns\n",
    "for i in range(1, len(num_columns)):\n",
    "    plt.subplot(5, 4, i)\n",
    "    sns.kdeplot(data_num_0[num_columns[i]], label = 'TARGET == 0')\n",
    "    sns.kdeplot(data_num_1[num_columns[i]], label = 'TARGET == 1')\n",
    "    plt.legend()"
   ]
  },
  {
   "cell_type": "markdown",
   "metadata": {},
   "source": [
    "### Efeito da idade no pagamento"
   ]
  },
  {
   "cell_type": "code",
   "execution_count": 32,
   "metadata": {},
   "outputs": [],
   "source": [
    "def efeito_idade():\n",
    "    idade_data = data_num[['TARGET', 'IDADE']].assign(IDADE_BINNED=pd.cut(data_num['IDADE'], bins=np.linspace(17, 105, num=11)))\n",
    "    idade_groups  = idade_data.groupby('IDADE_BINNED').mean()\n",
    "\n",
    "    import plotly.graph_objects as go\n",
    "\n",
    "    fig = go.Figure(go.Bar(x=idade_groups.index.astype(str), y=100 * idade_groups['TARGET'],\n",
    "                showlegend=False,\n",
    "                marker=dict(color='rgba(155, 190, 250, 0.7)')\n",
    "                ))\n",
    "    fig.add_annotation(\n",
    "        text='Pagamento por grupo de idade',\n",
    "        xref='paper', yref='paper',\n",
    "        x=-0.15, y=1.1,  \n",
    "        showarrow=False,\n",
    "        font=dict(size=12, color='rgba(100, 159, 237, 1)'))\n",
    "\n",
    "    # Update layout\n",
    "    fig.update_layout(title_text='% de Maus Pagamento',\n",
    "                    plot_bgcolor='rgba(0, 0, 0, 0)',\n",
    "                    yaxis_ticksuffix=\"%\",\n",
    "                    coloraxis_colorbar_ticksuffix=\"m\",\n",
    "                    yaxis_showticksuffix=\"all\"\n",
    "                    )\n",
    "    fig.update_yaxes(ticks=\"outside\", tickwidth=1, tickcolor='rgba(169, 169, 169, 1)', ticklen=10)\n",
    "    fig.update_yaxes(showline=True, linewidth=1, linecolor='rgba(169, 169, 169, 1)')\n",
    "    fig.update_layout(xaxis=dict(tickvals=idade_groups.index.astype(str))\n",
    "                    )\n",
    "    fig.layout.update({'width' : 500, 'height': 600})\n",
    "\n",
    "    fig.show()\n"
   ]
  },
  {
   "cell_type": "code",
   "execution_count": 33,
   "metadata": {},
   "outputs": [
    {
     "data": {
      "application/vnd.plotly.v1+json": {
       "config": {
        "plotlyServerURL": "https://plotly.com"
       },
       "data": [
        {
         "marker": {
          "color": "rgba(155, 190, 250, 0.7)"
         },
         "showlegend": false,
         "type": "bar",
         "x": [
          "(17.0, 25.8]",
          "(25.8, 34.6]",
          "(34.6, 43.4]",
          "(43.4, 52.2]",
          "(52.2, 61.0]",
          "(61.0, 69.8]",
          "(69.8, 78.6]",
          "(78.6, 87.4]",
          "(87.4, 96.2]",
          "(96.2, 105.0]"
         ],
         "y": [
          30.963115633990295,
          27.210019967326193,
          26.756262641979152,
          21.925242797682202,
          18.51625705999084,
          15.410984425068932,
          16.066229985443957,
          19.557705597788527,
          25.742574257425744,
          35.294117647058826
         ]
        }
       ],
       "layout": {
        "annotations": [
         {
          "font": {
           "color": "rgba(100, 159, 237, 1)",
           "size": 12
          },
          "showarrow": false,
          "text": "Pagamento por grupo de idade",
          "x": -0.15,
          "xref": "paper",
          "y": 1.1,
          "yref": "paper"
         }
        ],
        "coloraxis": {
         "colorbar": {
          "ticksuffix": "m"
         }
        },
        "height": 600,
        "plot_bgcolor": "rgba(0, 0, 0, 0)",
        "template": {
         "data": {
          "bar": [
           {
            "error_x": {
             "color": "#2a3f5f"
            },
            "error_y": {
             "color": "#2a3f5f"
            },
            "marker": {
             "line": {
              "color": "#E5ECF6",
              "width": 0.5
             },
             "pattern": {
              "fillmode": "overlay",
              "size": 10,
              "solidity": 0.2
             }
            },
            "type": "bar"
           }
          ],
          "barpolar": [
           {
            "marker": {
             "line": {
              "color": "#E5ECF6",
              "width": 0.5
             },
             "pattern": {
              "fillmode": "overlay",
              "size": 10,
              "solidity": 0.2
             }
            },
            "type": "barpolar"
           }
          ],
          "carpet": [
           {
            "aaxis": {
             "endlinecolor": "#2a3f5f",
             "gridcolor": "white",
             "linecolor": "white",
             "minorgridcolor": "white",
             "startlinecolor": "#2a3f5f"
            },
            "baxis": {
             "endlinecolor": "#2a3f5f",
             "gridcolor": "white",
             "linecolor": "white",
             "minorgridcolor": "white",
             "startlinecolor": "#2a3f5f"
            },
            "type": "carpet"
           }
          ],
          "choropleth": [
           {
            "colorbar": {
             "outlinewidth": 0,
             "ticks": ""
            },
            "type": "choropleth"
           }
          ],
          "contour": [
           {
            "colorbar": {
             "outlinewidth": 0,
             "ticks": ""
            },
            "colorscale": [
             [
              0,
              "#0d0887"
             ],
             [
              0.1111111111111111,
              "#46039f"
             ],
             [
              0.2222222222222222,
              "#7201a8"
             ],
             [
              0.3333333333333333,
              "#9c179e"
             ],
             [
              0.4444444444444444,
              "#bd3786"
             ],
             [
              0.5555555555555556,
              "#d8576b"
             ],
             [
              0.6666666666666666,
              "#ed7953"
             ],
             [
              0.7777777777777778,
              "#fb9f3a"
             ],
             [
              0.8888888888888888,
              "#fdca26"
             ],
             [
              1,
              "#f0f921"
             ]
            ],
            "type": "contour"
           }
          ],
          "contourcarpet": [
           {
            "colorbar": {
             "outlinewidth": 0,
             "ticks": ""
            },
            "type": "contourcarpet"
           }
          ],
          "heatmap": [
           {
            "colorbar": {
             "outlinewidth": 0,
             "ticks": ""
            },
            "colorscale": [
             [
              0,
              "#0d0887"
             ],
             [
              0.1111111111111111,
              "#46039f"
             ],
             [
              0.2222222222222222,
              "#7201a8"
             ],
             [
              0.3333333333333333,
              "#9c179e"
             ],
             [
              0.4444444444444444,
              "#bd3786"
             ],
             [
              0.5555555555555556,
              "#d8576b"
             ],
             [
              0.6666666666666666,
              "#ed7953"
             ],
             [
              0.7777777777777778,
              "#fb9f3a"
             ],
             [
              0.8888888888888888,
              "#fdca26"
             ],
             [
              1,
              "#f0f921"
             ]
            ],
            "type": "heatmap"
           }
          ],
          "heatmapgl": [
           {
            "colorbar": {
             "outlinewidth": 0,
             "ticks": ""
            },
            "colorscale": [
             [
              0,
              "#0d0887"
             ],
             [
              0.1111111111111111,
              "#46039f"
             ],
             [
              0.2222222222222222,
              "#7201a8"
             ],
             [
              0.3333333333333333,
              "#9c179e"
             ],
             [
              0.4444444444444444,
              "#bd3786"
             ],
             [
              0.5555555555555556,
              "#d8576b"
             ],
             [
              0.6666666666666666,
              "#ed7953"
             ],
             [
              0.7777777777777778,
              "#fb9f3a"
             ],
             [
              0.8888888888888888,
              "#fdca26"
             ],
             [
              1,
              "#f0f921"
             ]
            ],
            "type": "heatmapgl"
           }
          ],
          "histogram": [
           {
            "marker": {
             "pattern": {
              "fillmode": "overlay",
              "size": 10,
              "solidity": 0.2
             }
            },
            "type": "histogram"
           }
          ],
          "histogram2d": [
           {
            "colorbar": {
             "outlinewidth": 0,
             "ticks": ""
            },
            "colorscale": [
             [
              0,
              "#0d0887"
             ],
             [
              0.1111111111111111,
              "#46039f"
             ],
             [
              0.2222222222222222,
              "#7201a8"
             ],
             [
              0.3333333333333333,
              "#9c179e"
             ],
             [
              0.4444444444444444,
              "#bd3786"
             ],
             [
              0.5555555555555556,
              "#d8576b"
             ],
             [
              0.6666666666666666,
              "#ed7953"
             ],
             [
              0.7777777777777778,
              "#fb9f3a"
             ],
             [
              0.8888888888888888,
              "#fdca26"
             ],
             [
              1,
              "#f0f921"
             ]
            ],
            "type": "histogram2d"
           }
          ],
          "histogram2dcontour": [
           {
            "colorbar": {
             "outlinewidth": 0,
             "ticks": ""
            },
            "colorscale": [
             [
              0,
              "#0d0887"
             ],
             [
              0.1111111111111111,
              "#46039f"
             ],
             [
              0.2222222222222222,
              "#7201a8"
             ],
             [
              0.3333333333333333,
              "#9c179e"
             ],
             [
              0.4444444444444444,
              "#bd3786"
             ],
             [
              0.5555555555555556,
              "#d8576b"
             ],
             [
              0.6666666666666666,
              "#ed7953"
             ],
             [
              0.7777777777777778,
              "#fb9f3a"
             ],
             [
              0.8888888888888888,
              "#fdca26"
             ],
             [
              1,
              "#f0f921"
             ]
            ],
            "type": "histogram2dcontour"
           }
          ],
          "mesh3d": [
           {
            "colorbar": {
             "outlinewidth": 0,
             "ticks": ""
            },
            "type": "mesh3d"
           }
          ],
          "parcoords": [
           {
            "line": {
             "colorbar": {
              "outlinewidth": 0,
              "ticks": ""
             }
            },
            "type": "parcoords"
           }
          ],
          "pie": [
           {
            "automargin": true,
            "type": "pie"
           }
          ],
          "scatter": [
           {
            "fillpattern": {
             "fillmode": "overlay",
             "size": 10,
             "solidity": 0.2
            },
            "type": "scatter"
           }
          ],
          "scatter3d": [
           {
            "line": {
             "colorbar": {
              "outlinewidth": 0,
              "ticks": ""
             }
            },
            "marker": {
             "colorbar": {
              "outlinewidth": 0,
              "ticks": ""
             }
            },
            "type": "scatter3d"
           }
          ],
          "scattercarpet": [
           {
            "marker": {
             "colorbar": {
              "outlinewidth": 0,
              "ticks": ""
             }
            },
            "type": "scattercarpet"
           }
          ],
          "scattergeo": [
           {
            "marker": {
             "colorbar": {
              "outlinewidth": 0,
              "ticks": ""
             }
            },
            "type": "scattergeo"
           }
          ],
          "scattergl": [
           {
            "marker": {
             "colorbar": {
              "outlinewidth": 0,
              "ticks": ""
             }
            },
            "type": "scattergl"
           }
          ],
          "scattermapbox": [
           {
            "marker": {
             "colorbar": {
              "outlinewidth": 0,
              "ticks": ""
             }
            },
            "type": "scattermapbox"
           }
          ],
          "scatterpolar": [
           {
            "marker": {
             "colorbar": {
              "outlinewidth": 0,
              "ticks": ""
             }
            },
            "type": "scatterpolar"
           }
          ],
          "scatterpolargl": [
           {
            "marker": {
             "colorbar": {
              "outlinewidth": 0,
              "ticks": ""
             }
            },
            "type": "scatterpolargl"
           }
          ],
          "scatterternary": [
           {
            "marker": {
             "colorbar": {
              "outlinewidth": 0,
              "ticks": ""
             }
            },
            "type": "scatterternary"
           }
          ],
          "surface": [
           {
            "colorbar": {
             "outlinewidth": 0,
             "ticks": ""
            },
            "colorscale": [
             [
              0,
              "#0d0887"
             ],
             [
              0.1111111111111111,
              "#46039f"
             ],
             [
              0.2222222222222222,
              "#7201a8"
             ],
             [
              0.3333333333333333,
              "#9c179e"
             ],
             [
              0.4444444444444444,
              "#bd3786"
             ],
             [
              0.5555555555555556,
              "#d8576b"
             ],
             [
              0.6666666666666666,
              "#ed7953"
             ],
             [
              0.7777777777777778,
              "#fb9f3a"
             ],
             [
              0.8888888888888888,
              "#fdca26"
             ],
             [
              1,
              "#f0f921"
             ]
            ],
            "type": "surface"
           }
          ],
          "table": [
           {
            "cells": {
             "fill": {
              "color": "#EBF0F8"
             },
             "line": {
              "color": "white"
             }
            },
            "header": {
             "fill": {
              "color": "#C8D4E3"
             },
             "line": {
              "color": "white"
             }
            },
            "type": "table"
           }
          ]
         },
         "layout": {
          "annotationdefaults": {
           "arrowcolor": "#2a3f5f",
           "arrowhead": 0,
           "arrowwidth": 1
          },
          "autotypenumbers": "strict",
          "coloraxis": {
           "colorbar": {
            "outlinewidth": 0,
            "ticks": ""
           }
          },
          "colorscale": {
           "diverging": [
            [
             0,
             "#8e0152"
            ],
            [
             0.1,
             "#c51b7d"
            ],
            [
             0.2,
             "#de77ae"
            ],
            [
             0.3,
             "#f1b6da"
            ],
            [
             0.4,
             "#fde0ef"
            ],
            [
             0.5,
             "#f7f7f7"
            ],
            [
             0.6,
             "#e6f5d0"
            ],
            [
             0.7,
             "#b8e186"
            ],
            [
             0.8,
             "#7fbc41"
            ],
            [
             0.9,
             "#4d9221"
            ],
            [
             1,
             "#276419"
            ]
           ],
           "sequential": [
            [
             0,
             "#0d0887"
            ],
            [
             0.1111111111111111,
             "#46039f"
            ],
            [
             0.2222222222222222,
             "#7201a8"
            ],
            [
             0.3333333333333333,
             "#9c179e"
            ],
            [
             0.4444444444444444,
             "#bd3786"
            ],
            [
             0.5555555555555556,
             "#d8576b"
            ],
            [
             0.6666666666666666,
             "#ed7953"
            ],
            [
             0.7777777777777778,
             "#fb9f3a"
            ],
            [
             0.8888888888888888,
             "#fdca26"
            ],
            [
             1,
             "#f0f921"
            ]
           ],
           "sequentialminus": [
            [
             0,
             "#0d0887"
            ],
            [
             0.1111111111111111,
             "#46039f"
            ],
            [
             0.2222222222222222,
             "#7201a8"
            ],
            [
             0.3333333333333333,
             "#9c179e"
            ],
            [
             0.4444444444444444,
             "#bd3786"
            ],
            [
             0.5555555555555556,
             "#d8576b"
            ],
            [
             0.6666666666666666,
             "#ed7953"
            ],
            [
             0.7777777777777778,
             "#fb9f3a"
            ],
            [
             0.8888888888888888,
             "#fdca26"
            ],
            [
             1,
             "#f0f921"
            ]
           ]
          },
          "colorway": [
           "#636efa",
           "#EF553B",
           "#00cc96",
           "#ab63fa",
           "#FFA15A",
           "#19d3f3",
           "#FF6692",
           "#B6E880",
           "#FF97FF",
           "#FECB52"
          ],
          "font": {
           "color": "#2a3f5f"
          },
          "geo": {
           "bgcolor": "white",
           "lakecolor": "white",
           "landcolor": "#E5ECF6",
           "showlakes": true,
           "showland": true,
           "subunitcolor": "white"
          },
          "hoverlabel": {
           "align": "left"
          },
          "hovermode": "closest",
          "mapbox": {
           "style": "light"
          },
          "paper_bgcolor": "white",
          "plot_bgcolor": "#E5ECF6",
          "polar": {
           "angularaxis": {
            "gridcolor": "white",
            "linecolor": "white",
            "ticks": ""
           },
           "bgcolor": "#E5ECF6",
           "radialaxis": {
            "gridcolor": "white",
            "linecolor": "white",
            "ticks": ""
           }
          },
          "scene": {
           "xaxis": {
            "backgroundcolor": "#E5ECF6",
            "gridcolor": "white",
            "gridwidth": 2,
            "linecolor": "white",
            "showbackground": true,
            "ticks": "",
            "zerolinecolor": "white"
           },
           "yaxis": {
            "backgroundcolor": "#E5ECF6",
            "gridcolor": "white",
            "gridwidth": 2,
            "linecolor": "white",
            "showbackground": true,
            "ticks": "",
            "zerolinecolor": "white"
           },
           "zaxis": {
            "backgroundcolor": "#E5ECF6",
            "gridcolor": "white",
            "gridwidth": 2,
            "linecolor": "white",
            "showbackground": true,
            "ticks": "",
            "zerolinecolor": "white"
           }
          },
          "shapedefaults": {
           "line": {
            "color": "#2a3f5f"
           }
          },
          "ternary": {
           "aaxis": {
            "gridcolor": "white",
            "linecolor": "white",
            "ticks": ""
           },
           "baxis": {
            "gridcolor": "white",
            "linecolor": "white",
            "ticks": ""
           },
           "bgcolor": "#E5ECF6",
           "caxis": {
            "gridcolor": "white",
            "linecolor": "white",
            "ticks": ""
           }
          },
          "title": {
           "x": 0.05
          },
          "xaxis": {
           "automargin": true,
           "gridcolor": "white",
           "linecolor": "white",
           "ticks": "",
           "title": {
            "standoff": 15
           },
           "zerolinecolor": "white",
           "zerolinewidth": 2
          },
          "yaxis": {
           "automargin": true,
           "gridcolor": "white",
           "linecolor": "white",
           "ticks": "",
           "title": {
            "standoff": 15
           },
           "zerolinecolor": "white",
           "zerolinewidth": 2
          }
         }
        },
        "title": {
         "text": "% de Maus Pagamento"
        },
        "width": 500,
        "xaxis": {
         "tickvals": [
          "(17.0, 25.8]",
          "(25.8, 34.6]",
          "(34.6, 43.4]",
          "(43.4, 52.2]",
          "(52.2, 61.0]",
          "(61.0, 69.8]",
          "(69.8, 78.6]",
          "(78.6, 87.4]",
          "(87.4, 96.2]",
          "(96.2, 105.0]"
         ]
        },
        "yaxis": {
         "linecolor": "rgba(169, 169, 169, 1)",
         "linewidth": 1,
         "showline": true,
         "showticksuffix": "all",
         "tickcolor": "rgba(169, 169, 169, 1)",
         "ticklen": 10,
         "ticks": "outside",
         "ticksuffix": "%",
         "tickwidth": 1
        }
       }
      }
     },
     "metadata": {},
     "output_type": "display_data"
    }
   ],
   "source": [
    "efeito_idade()"
   ]
  },
  {
   "cell_type": "markdown",
   "metadata": {},
   "source": [
    "### Os jovens e os idosos devem ter acompanhamento especial! (Mas especialmente os muito idosos)"
   ]
  },
  {
   "cell_type": "markdown",
   "metadata": {},
   "source": [
    "## Correlação Variáveis Categóricas x Target"
   ]
  },
  {
   "cell_type": "code",
   "execution_count": 34,
   "metadata": {},
   "outputs": [
    {
     "data": {
      "text/html": [
       "<div>\n",
       "<style scoped>\n",
       "    .dataframe tbody tr th:only-of-type {\n",
       "        vertical-align: middle;\n",
       "    }\n",
       "\n",
       "    .dataframe tbody tr th {\n",
       "        vertical-align: top;\n",
       "    }\n",
       "\n",
       "    .dataframe thead th {\n",
       "        text-align: right;\n",
       "    }\n",
       "</style>\n",
       "<table border=\"1\" class=\"dataframe\">\n",
       "  <thead>\n",
       "    <tr style=\"text-align: right;\">\n",
       "      <th></th>\n",
       "      <th>VAR10</th>\n",
       "      <th>VAR66</th>\n",
       "      <th>VAR67</th>\n",
       "      <th>VAR68</th>\n",
       "      <th>VAR69</th>\n",
       "      <th>VAR70</th>\n",
       "      <th>VAR71</th>\n",
       "      <th>VAR72</th>\n",
       "      <th>VAR73</th>\n",
       "      <th>VAR74</th>\n",
       "      <th>...</th>\n",
       "      <th>VAR142_D</th>\n",
       "      <th>VAR142_E</th>\n",
       "      <th>MONTH_April</th>\n",
       "      <th>MONTH_August</th>\n",
       "      <th>MONTH_February</th>\n",
       "      <th>MONTH_January</th>\n",
       "      <th>MONTH_July</th>\n",
       "      <th>MONTH_June</th>\n",
       "      <th>MONTH_March</th>\n",
       "      <th>MONTH_May</th>\n",
       "    </tr>\n",
       "  </thead>\n",
       "  <tbody>\n",
       "    <tr>\n",
       "      <th>0</th>\n",
       "      <td>1.0</td>\n",
       "      <td>2.0</td>\n",
       "      <td>0.0</td>\n",
       "      <td>3.0</td>\n",
       "      <td>0.0</td>\n",
       "      <td>3.0</td>\n",
       "      <td>4.0</td>\n",
       "      <td>0.0</td>\n",
       "      <td>0.0</td>\n",
       "      <td>3.0</td>\n",
       "      <td>...</td>\n",
       "      <td>True</td>\n",
       "      <td>False</td>\n",
       "      <td>False</td>\n",
       "      <td>False</td>\n",
       "      <td>False</td>\n",
       "      <td>False</td>\n",
       "      <td>False</td>\n",
       "      <td>True</td>\n",
       "      <td>False</td>\n",
       "      <td>False</td>\n",
       "    </tr>\n",
       "    <tr>\n",
       "      <th>1</th>\n",
       "      <td>2.0</td>\n",
       "      <td>3.0</td>\n",
       "      <td>4.0</td>\n",
       "      <td>3.0</td>\n",
       "      <td>0.0</td>\n",
       "      <td>3.0</td>\n",
       "      <td>4.0</td>\n",
       "      <td>3.0</td>\n",
       "      <td>2.0</td>\n",
       "      <td>3.0</td>\n",
       "      <td>...</td>\n",
       "      <td>False</td>\n",
       "      <td>True</td>\n",
       "      <td>False</td>\n",
       "      <td>True</td>\n",
       "      <td>False</td>\n",
       "      <td>False</td>\n",
       "      <td>False</td>\n",
       "      <td>False</td>\n",
       "      <td>False</td>\n",
       "      <td>False</td>\n",
       "    </tr>\n",
       "    <tr>\n",
       "      <th>2</th>\n",
       "      <td>4.0</td>\n",
       "      <td>0.0</td>\n",
       "      <td>0.0</td>\n",
       "      <td>0.0</td>\n",
       "      <td>3.0</td>\n",
       "      <td>0.0</td>\n",
       "      <td>0.0</td>\n",
       "      <td>0.0</td>\n",
       "      <td>0.0</td>\n",
       "      <td>0.0</td>\n",
       "      <td>...</td>\n",
       "      <td>False</td>\n",
       "      <td>True</td>\n",
       "      <td>False</td>\n",
       "      <td>False</td>\n",
       "      <td>False</td>\n",
       "      <td>False</td>\n",
       "      <td>False</td>\n",
       "      <td>True</td>\n",
       "      <td>False</td>\n",
       "      <td>False</td>\n",
       "    </tr>\n",
       "    <tr>\n",
       "      <th>3</th>\n",
       "      <td>2.0</td>\n",
       "      <td>4.0</td>\n",
       "      <td>3.0</td>\n",
       "      <td>4.0</td>\n",
       "      <td>3.0</td>\n",
       "      <td>4.0</td>\n",
       "      <td>3.0</td>\n",
       "      <td>4.0</td>\n",
       "      <td>4.0</td>\n",
       "      <td>4.0</td>\n",
       "      <td>...</td>\n",
       "      <td>False</td>\n",
       "      <td>True</td>\n",
       "      <td>False</td>\n",
       "      <td>True</td>\n",
       "      <td>False</td>\n",
       "      <td>False</td>\n",
       "      <td>False</td>\n",
       "      <td>False</td>\n",
       "      <td>False</td>\n",
       "      <td>False</td>\n",
       "    </tr>\n",
       "    <tr>\n",
       "      <th>4</th>\n",
       "      <td>2.0</td>\n",
       "      <td>4.0</td>\n",
       "      <td>0.0</td>\n",
       "      <td>4.0</td>\n",
       "      <td>4.0</td>\n",
       "      <td>4.0</td>\n",
       "      <td>4.0</td>\n",
       "      <td>4.0</td>\n",
       "      <td>4.0</td>\n",
       "      <td>4.0</td>\n",
       "      <td>...</td>\n",
       "      <td>False</td>\n",
       "      <td>False</td>\n",
       "      <td>False</td>\n",
       "      <td>False</td>\n",
       "      <td>False</td>\n",
       "      <td>False</td>\n",
       "      <td>True</td>\n",
       "      <td>False</td>\n",
       "      <td>False</td>\n",
       "      <td>False</td>\n",
       "    </tr>\n",
       "    <tr>\n",
       "      <th>...</th>\n",
       "      <td>...</td>\n",
       "      <td>...</td>\n",
       "      <td>...</td>\n",
       "      <td>...</td>\n",
       "      <td>...</td>\n",
       "      <td>...</td>\n",
       "      <td>...</td>\n",
       "      <td>...</td>\n",
       "      <td>...</td>\n",
       "      <td>...</td>\n",
       "      <td>...</td>\n",
       "      <td>...</td>\n",
       "      <td>...</td>\n",
       "      <td>...</td>\n",
       "      <td>...</td>\n",
       "      <td>...</td>\n",
       "      <td>...</td>\n",
       "      <td>...</td>\n",
       "      <td>...</td>\n",
       "      <td>...</td>\n",
       "      <td>...</td>\n",
       "    </tr>\n",
       "    <tr>\n",
       "      <th>51746</th>\n",
       "      <td>3.0</td>\n",
       "      <td>4.0</td>\n",
       "      <td>3.0</td>\n",
       "      <td>4.0</td>\n",
       "      <td>0.0</td>\n",
       "      <td>4.0</td>\n",
       "      <td>4.0</td>\n",
       "      <td>3.0</td>\n",
       "      <td>3.0</td>\n",
       "      <td>4.0</td>\n",
       "      <td>...</td>\n",
       "      <td>False</td>\n",
       "      <td>True</td>\n",
       "      <td>False</td>\n",
       "      <td>False</td>\n",
       "      <td>False</td>\n",
       "      <td>True</td>\n",
       "      <td>False</td>\n",
       "      <td>False</td>\n",
       "      <td>False</td>\n",
       "      <td>False</td>\n",
       "    </tr>\n",
       "    <tr>\n",
       "      <th>51747</th>\n",
       "      <td>4.0</td>\n",
       "      <td>0.0</td>\n",
       "      <td>0.0</td>\n",
       "      <td>0.0</td>\n",
       "      <td>4.0</td>\n",
       "      <td>0.0</td>\n",
       "      <td>1.0</td>\n",
       "      <td>0.0</td>\n",
       "      <td>0.0</td>\n",
       "      <td>0.0</td>\n",
       "      <td>...</td>\n",
       "      <td>False</td>\n",
       "      <td>True</td>\n",
       "      <td>False</td>\n",
       "      <td>False</td>\n",
       "      <td>False</td>\n",
       "      <td>False</td>\n",
       "      <td>False</td>\n",
       "      <td>True</td>\n",
       "      <td>False</td>\n",
       "      <td>False</td>\n",
       "    </tr>\n",
       "    <tr>\n",
       "      <th>51748</th>\n",
       "      <td>1.0</td>\n",
       "      <td>3.0</td>\n",
       "      <td>3.0</td>\n",
       "      <td>3.0</td>\n",
       "      <td>2.0</td>\n",
       "      <td>3.0</td>\n",
       "      <td>4.0</td>\n",
       "      <td>0.0</td>\n",
       "      <td>3.0</td>\n",
       "      <td>2.0</td>\n",
       "      <td>...</td>\n",
       "      <td>True</td>\n",
       "      <td>False</td>\n",
       "      <td>False</td>\n",
       "      <td>True</td>\n",
       "      <td>False</td>\n",
       "      <td>False</td>\n",
       "      <td>False</td>\n",
       "      <td>False</td>\n",
       "      <td>False</td>\n",
       "      <td>False</td>\n",
       "    </tr>\n",
       "    <tr>\n",
       "      <th>51749</th>\n",
       "      <td>2.0</td>\n",
       "      <td>2.0</td>\n",
       "      <td>0.0</td>\n",
       "      <td>0.0</td>\n",
       "      <td>0.0</td>\n",
       "      <td>2.0</td>\n",
       "      <td>2.0</td>\n",
       "      <td>0.0</td>\n",
       "      <td>0.0</td>\n",
       "      <td>2.0</td>\n",
       "      <td>...</td>\n",
       "      <td>False</td>\n",
       "      <td>True</td>\n",
       "      <td>False</td>\n",
       "      <td>False</td>\n",
       "      <td>False</td>\n",
       "      <td>False</td>\n",
       "      <td>False</td>\n",
       "      <td>True</td>\n",
       "      <td>False</td>\n",
       "      <td>False</td>\n",
       "    </tr>\n",
       "    <tr>\n",
       "      <th>51750</th>\n",
       "      <td>4.0</td>\n",
       "      <td>0.0</td>\n",
       "      <td>0.0</td>\n",
       "      <td>0.0</td>\n",
       "      <td>0.0</td>\n",
       "      <td>2.0</td>\n",
       "      <td>2.0</td>\n",
       "      <td>0.0</td>\n",
       "      <td>0.0</td>\n",
       "      <td>2.0</td>\n",
       "      <td>...</td>\n",
       "      <td>True</td>\n",
       "      <td>False</td>\n",
       "      <td>False</td>\n",
       "      <td>False</td>\n",
       "      <td>False</td>\n",
       "      <td>False</td>\n",
       "      <td>False</td>\n",
       "      <td>False</td>\n",
       "      <td>False</td>\n",
       "      <td>True</td>\n",
       "    </tr>\n",
       "  </tbody>\n",
       "</table>\n",
       "<p>172500 rows × 139 columns</p>\n",
       "</div>"
      ],
      "text/plain": [
       "       VAR10  VAR66  VAR67  VAR68  VAR69  VAR70  VAR71  VAR72  VAR73  VAR74  \\\n",
       "0        1.0    2.0    0.0    3.0    0.0    3.0    4.0    0.0    0.0    3.0   \n",
       "1        2.0    3.0    4.0    3.0    0.0    3.0    4.0    3.0    2.0    3.0   \n",
       "2        4.0    0.0    0.0    0.0    3.0    0.0    0.0    0.0    0.0    0.0   \n",
       "3        2.0    4.0    3.0    4.0    3.0    4.0    3.0    4.0    4.0    4.0   \n",
       "4        2.0    4.0    0.0    4.0    4.0    4.0    4.0    4.0    4.0    4.0   \n",
       "...      ...    ...    ...    ...    ...    ...    ...    ...    ...    ...   \n",
       "51746    3.0    4.0    3.0    4.0    0.0    4.0    4.0    3.0    3.0    4.0   \n",
       "51747    4.0    0.0    0.0    0.0    4.0    0.0    1.0    0.0    0.0    0.0   \n",
       "51748    1.0    3.0    3.0    3.0    2.0    3.0    4.0    0.0    3.0    2.0   \n",
       "51749    2.0    2.0    0.0    0.0    0.0    2.0    2.0    0.0    0.0    2.0   \n",
       "51750    4.0    0.0    0.0    0.0    0.0    2.0    2.0    0.0    0.0    2.0   \n",
       "\n",
       "       ...  VAR142_D  VAR142_E  MONTH_April  MONTH_August  MONTH_February  \\\n",
       "0      ...      True     False        False         False           False   \n",
       "1      ...     False      True        False          True           False   \n",
       "2      ...     False      True        False         False           False   \n",
       "3      ...     False      True        False          True           False   \n",
       "4      ...     False     False        False         False           False   \n",
       "...    ...       ...       ...          ...           ...             ...   \n",
       "51746  ...     False      True        False         False           False   \n",
       "51747  ...     False      True        False         False           False   \n",
       "51748  ...      True     False        False          True           False   \n",
       "51749  ...     False      True        False         False           False   \n",
       "51750  ...      True     False        False         False           False   \n",
       "\n",
       "       MONTH_January  MONTH_July  MONTH_June  MONTH_March  MONTH_May  \n",
       "0              False       False        True        False      False  \n",
       "1              False       False       False        False      False  \n",
       "2              False       False        True        False      False  \n",
       "3              False       False       False        False      False  \n",
       "4              False        True       False        False      False  \n",
       "...              ...         ...         ...          ...        ...  \n",
       "51746           True       False       False        False      False  \n",
       "51747          False       False        True        False      False  \n",
       "51748          False       False       False        False      False  \n",
       "51749          False       False        True        False      False  \n",
       "51750          False       False       False        False       True  \n",
       "\n",
       "[172500 rows x 139 columns]"
      ]
     },
     "execution_count": 34,
     "metadata": {},
     "output_type": "execute_result"
    }
   ],
   "source": [
    "data_cat_encoded"
   ]
  },
  {
   "cell_type": "code",
   "execution_count": 35,
   "metadata": {},
   "outputs": [
    {
     "data": {
      "text/html": [
       "<div>\n",
       "<style scoped>\n",
       "    .dataframe tbody tr th:only-of-type {\n",
       "        vertical-align: middle;\n",
       "    }\n",
       "\n",
       "    .dataframe tbody tr th {\n",
       "        vertical-align: top;\n",
       "    }\n",
       "\n",
       "    .dataframe thead th {\n",
       "        text-align: right;\n",
       "    }\n",
       "</style>\n",
       "<table border=\"1\" class=\"dataframe\">\n",
       "  <thead>\n",
       "    <tr style=\"text-align: right;\">\n",
       "      <th></th>\n",
       "      <th>TARGET</th>\n",
       "      <th>IDADE</th>\n",
       "      <th>VAR6</th>\n",
       "      <th>VAR7</th>\n",
       "      <th>VAR24</th>\n",
       "      <th>VAR39</th>\n",
       "      <th>VAR40</th>\n",
       "      <th>VAR41</th>\n",
       "      <th>VAR42</th>\n",
       "      <th>VAR47</th>\n",
       "      <th>VAR141</th>\n",
       "      <th>VAR147</th>\n",
       "      <th>ID</th>\n",
       "    </tr>\n",
       "  </thead>\n",
       "  <tbody>\n",
       "    <tr>\n",
       "      <th>0</th>\n",
       "      <td>0</td>\n",
       "      <td>34.137</td>\n",
       "      <td>-8.808779</td>\n",
       "      <td>-63.878470</td>\n",
       "      <td>0.034</td>\n",
       "      <td>0.512334</td>\n",
       "      <td>0.486768</td>\n",
       "      <td>0.357526</td>\n",
       "      <td>0.538737</td>\n",
       "      <td>0.046</td>\n",
       "      <td>2680.289259</td>\n",
       "      <td>102</td>\n",
       "      <td>181755</td>\n",
       "    </tr>\n",
       "    <tr>\n",
       "      <th>1</th>\n",
       "      <td>0</td>\n",
       "      <td>40.447</td>\n",
       "      <td>-7.146537</td>\n",
       "      <td>-34.926080</td>\n",
       "      <td>0.017</td>\n",
       "      <td>0.328021</td>\n",
       "      <td>0.447454</td>\n",
       "      <td>0.414335</td>\n",
       "      <td>0.485512</td>\n",
       "      <td>0.099</td>\n",
       "      <td>1777.725469</td>\n",
       "      <td>102</td>\n",
       "      <td>287633</td>\n",
       "    </tr>\n",
       "    <tr>\n",
       "      <th>2</th>\n",
       "      <td>0</td>\n",
       "      <td>33.515</td>\n",
       "      <td>-27.900178</td>\n",
       "      <td>-53.314035</td>\n",
       "      <td>0.000</td>\n",
       "      <td>0.627262</td>\n",
       "      <td>0.730539</td>\n",
       "      <td>0.916771</td>\n",
       "      <td>0.519726</td>\n",
       "      <td>1.000</td>\n",
       "      <td>1695.494979</td>\n",
       "      <td>102</td>\n",
       "      <td>88015</td>\n",
       "    </tr>\n",
       "    <tr>\n",
       "      <th>3</th>\n",
       "      <td>1</td>\n",
       "      <td>25.797</td>\n",
       "      <td>-12.948874</td>\n",
       "      <td>-38.451863</td>\n",
       "      <td>0.000</td>\n",
       "      <td>0.338643</td>\n",
       "      <td>0.405233</td>\n",
       "      <td>0.408007</td>\n",
       "      <td>0.567710</td>\n",
       "      <td>0.000</td>\n",
       "      <td>1399.037809</td>\n",
       "      <td>102</td>\n",
       "      <td>122576</td>\n",
       "    </tr>\n",
       "    <tr>\n",
       "      <th>4</th>\n",
       "      <td>0</td>\n",
       "      <td>54.074</td>\n",
       "      <td>-30.051810</td>\n",
       "      <td>-51.213277</td>\n",
       "      <td>0.000</td>\n",
       "      <td>0.626047</td>\n",
       "      <td>0.770664</td>\n",
       "      <td>0.907036</td>\n",
       "      <td>0.538496</td>\n",
       "      <td>0.017</td>\n",
       "      <td>7868.793296</td>\n",
       "      <td>102</td>\n",
       "      <td>1272</td>\n",
       "    </tr>\n",
       "    <tr>\n",
       "      <th>...</th>\n",
       "      <td>...</td>\n",
       "      <td>...</td>\n",
       "      <td>...</td>\n",
       "      <td>...</td>\n",
       "      <td>...</td>\n",
       "      <td>...</td>\n",
       "      <td>...</td>\n",
       "      <td>...</td>\n",
       "      <td>...</td>\n",
       "      <td>...</td>\n",
       "      <td>...</td>\n",
       "      <td>...</td>\n",
       "      <td>...</td>\n",
       "    </tr>\n",
       "    <tr>\n",
       "      <th>51746</th>\n",
       "      <td>1</td>\n",
       "      <td>39.855</td>\n",
       "      <td>-3.106358</td>\n",
       "      <td>-60.054396</td>\n",
       "      <td>0.069</td>\n",
       "      <td>0.496033</td>\n",
       "      <td>0.466042</td>\n",
       "      <td>0.374620</td>\n",
       "      <td>0.496036</td>\n",
       "      <td>0.000</td>\n",
       "      <td>1344.866459</td>\n",
       "      <td>102</td>\n",
       "      <td>92929</td>\n",
       "    </tr>\n",
       "    <tr>\n",
       "      <th>51747</th>\n",
       "      <td>0</td>\n",
       "      <td>22.099</td>\n",
       "      <td>-24.312468</td>\n",
       "      <td>-47.001652</td>\n",
       "      <td>0.000</td>\n",
       "      <td>0.466101</td>\n",
       "      <td>0.451845</td>\n",
       "      <td>0.828596</td>\n",
       "      <td>0.508360</td>\n",
       "      <td>0.000</td>\n",
       "      <td>1407.978124</td>\n",
       "      <td>102</td>\n",
       "      <td>6490</td>\n",
       "    </tr>\n",
       "    <tr>\n",
       "      <th>51748</th>\n",
       "      <td>0</td>\n",
       "      <td>59.753</td>\n",
       "      <td>-21.560366</td>\n",
       "      <td>-45.444131</td>\n",
       "      <td>0.138</td>\n",
       "      <td>0.433821</td>\n",
       "      <td>0.605530</td>\n",
       "      <td>0.596395</td>\n",
       "      <td>0.430747</td>\n",
       "      <td>0.001</td>\n",
       "      <td>2459.049077</td>\n",
       "      <td>102</td>\n",
       "      <td>41927</td>\n",
       "    </tr>\n",
       "    <tr>\n",
       "      <th>51749</th>\n",
       "      <td>1</td>\n",
       "      <td>20.340</td>\n",
       "      <td>-13.009675</td>\n",
       "      <td>-46.564254</td>\n",
       "      <td>0.034</td>\n",
       "      <td>0.503074</td>\n",
       "      <td>0.510118</td>\n",
       "      <td>0.542357</td>\n",
       "      <td>0.508360</td>\n",
       "      <td>0.000</td>\n",
       "      <td>1500.239438</td>\n",
       "      <td>102</td>\n",
       "      <td>101573</td>\n",
       "    </tr>\n",
       "    <tr>\n",
       "      <th>51750</th>\n",
       "      <td>0</td>\n",
       "      <td>31.827</td>\n",
       "      <td>-3.653990</td>\n",
       "      <td>-45.430977</td>\n",
       "      <td>0.810</td>\n",
       "      <td>0.654792</td>\n",
       "      <td>0.549964</td>\n",
       "      <td>0.729928</td>\n",
       "      <td>0.565179</td>\n",
       "      <td>0.063</td>\n",
       "      <td>3073.216463</td>\n",
       "      <td>102</td>\n",
       "      <td>228601</td>\n",
       "    </tr>\n",
       "  </tbody>\n",
       "</table>\n",
       "<p>172500 rows × 13 columns</p>\n",
       "</div>"
      ],
      "text/plain": [
       "       TARGET   IDADE       VAR6       VAR7  VAR24     VAR39     VAR40  \\\n",
       "0           0  34.137  -8.808779 -63.878470  0.034  0.512334  0.486768   \n",
       "1           0  40.447  -7.146537 -34.926080  0.017  0.328021  0.447454   \n",
       "2           0  33.515 -27.900178 -53.314035  0.000  0.627262  0.730539   \n",
       "3           1  25.797 -12.948874 -38.451863  0.000  0.338643  0.405233   \n",
       "4           0  54.074 -30.051810 -51.213277  0.000  0.626047  0.770664   \n",
       "...       ...     ...        ...        ...    ...       ...       ...   \n",
       "51746       1  39.855  -3.106358 -60.054396  0.069  0.496033  0.466042   \n",
       "51747       0  22.099 -24.312468 -47.001652  0.000  0.466101  0.451845   \n",
       "51748       0  59.753 -21.560366 -45.444131  0.138  0.433821  0.605530   \n",
       "51749       1  20.340 -13.009675 -46.564254  0.034  0.503074  0.510118   \n",
       "51750       0  31.827  -3.653990 -45.430977  0.810  0.654792  0.549964   \n",
       "\n",
       "          VAR41     VAR42  VAR47       VAR141  VAR147      ID  \n",
       "0      0.357526  0.538737  0.046  2680.289259     102  181755  \n",
       "1      0.414335  0.485512  0.099  1777.725469     102  287633  \n",
       "2      0.916771  0.519726  1.000  1695.494979     102   88015  \n",
       "3      0.408007  0.567710  0.000  1399.037809     102  122576  \n",
       "4      0.907036  0.538496  0.017  7868.793296     102    1272  \n",
       "...         ...       ...    ...          ...     ...     ...  \n",
       "51746  0.374620  0.496036  0.000  1344.866459     102   92929  \n",
       "51747  0.828596  0.508360  0.000  1407.978124     102    6490  \n",
       "51748  0.596395  0.430747  0.001  2459.049077     102   41927  \n",
       "51749  0.542357  0.508360  0.000  1500.239438     102  101573  \n",
       "51750  0.729928  0.565179  0.063  3073.216463     102  228601  \n",
       "\n",
       "[172500 rows x 13 columns]"
      ]
     },
     "execution_count": 35,
     "metadata": {},
     "output_type": "execute_result"
    }
   ],
   "source": [
    "data_num"
   ]
  },
  {
   "cell_type": "code",
   "execution_count": 36,
   "metadata": {},
   "outputs": [
    {
     "data": {
      "text/html": [
       "<div>\n",
       "<style scoped>\n",
       "    .dataframe tbody tr th:only-of-type {\n",
       "        vertical-align: middle;\n",
       "    }\n",
       "\n",
       "    .dataframe tbody tr th {\n",
       "        vertical-align: top;\n",
       "    }\n",
       "\n",
       "    .dataframe thead th {\n",
       "        text-align: right;\n",
       "    }\n",
       "</style>\n",
       "<table border=\"1\" class=\"dataframe\">\n",
       "  <thead>\n",
       "    <tr style=\"text-align: right;\">\n",
       "      <th></th>\n",
       "      <th>VAR10</th>\n",
       "      <th>VAR66</th>\n",
       "      <th>VAR67</th>\n",
       "      <th>VAR68</th>\n",
       "      <th>VAR69</th>\n",
       "      <th>VAR70</th>\n",
       "      <th>VAR71</th>\n",
       "      <th>VAR72</th>\n",
       "      <th>VAR73</th>\n",
       "      <th>VAR74</th>\n",
       "      <th>...</th>\n",
       "      <th>VAR142_E</th>\n",
       "      <th>MONTH_April</th>\n",
       "      <th>MONTH_August</th>\n",
       "      <th>MONTH_February</th>\n",
       "      <th>MONTH_January</th>\n",
       "      <th>MONTH_July</th>\n",
       "      <th>MONTH_June</th>\n",
       "      <th>MONTH_March</th>\n",
       "      <th>MONTH_May</th>\n",
       "      <th>TARGET</th>\n",
       "    </tr>\n",
       "  </thead>\n",
       "  <tbody>\n",
       "    <tr>\n",
       "      <th>VAR10</th>\n",
       "      <td>1.000000</td>\n",
       "      <td>-0.607116</td>\n",
       "      <td>-0.332361</td>\n",
       "      <td>-0.585947</td>\n",
       "      <td>-0.084745</td>\n",
       "      <td>-0.580663</td>\n",
       "      <td>-0.595669</td>\n",
       "      <td>-0.544044</td>\n",
       "      <td>-0.537954</td>\n",
       "      <td>-0.607405</td>\n",
       "      <td>...</td>\n",
       "      <td>-0.011059</td>\n",
       "      <td>0.000352</td>\n",
       "      <td>0.017130</td>\n",
       "      <td>-0.014099</td>\n",
       "      <td>-0.015062</td>\n",
       "      <td>0.019127</td>\n",
       "      <td>0.010773</td>\n",
       "      <td>-0.025941</td>\n",
       "      <td>0.006098</td>\n",
       "      <td>-0.035877</td>\n",
       "    </tr>\n",
       "    <tr>\n",
       "      <th>VAR66</th>\n",
       "      <td>-0.607116</td>\n",
       "      <td>1.000000</td>\n",
       "      <td>0.497818</td>\n",
       "      <td>0.816054</td>\n",
       "      <td>0.297884</td>\n",
       "      <td>0.892090</td>\n",
       "      <td>0.879414</td>\n",
       "      <td>0.772991</td>\n",
       "      <td>0.770593</td>\n",
       "      <td>0.904025</td>\n",
       "      <td>...</td>\n",
       "      <td>-0.015548</td>\n",
       "      <td>0.003845</td>\n",
       "      <td>-0.028492</td>\n",
       "      <td>0.011827</td>\n",
       "      <td>0.021091</td>\n",
       "      <td>-0.019144</td>\n",
       "      <td>-0.007753</td>\n",
       "      <td>0.025526</td>\n",
       "      <td>-0.004366</td>\n",
       "      <td>0.046639</td>\n",
       "    </tr>\n",
       "    <tr>\n",
       "      <th>VAR67</th>\n",
       "      <td>-0.332361</td>\n",
       "      <td>0.497818</td>\n",
       "      <td>1.000000</td>\n",
       "      <td>0.600657</td>\n",
       "      <td>0.293951</td>\n",
       "      <td>0.495689</td>\n",
       "      <td>0.475412</td>\n",
       "      <td>0.527687</td>\n",
       "      <td>0.529856</td>\n",
       "      <td>0.494446</td>\n",
       "      <td>...</td>\n",
       "      <td>-0.038461</td>\n",
       "      <td>0.000075</td>\n",
       "      <td>-0.007632</td>\n",
       "      <td>0.003462</td>\n",
       "      <td>0.005352</td>\n",
       "      <td>-0.011239</td>\n",
       "      <td>0.002389</td>\n",
       "      <td>0.011563</td>\n",
       "      <td>-0.003280</td>\n",
       "      <td>0.023508</td>\n",
       "    </tr>\n",
       "    <tr>\n",
       "      <th>VAR68</th>\n",
       "      <td>-0.585947</td>\n",
       "      <td>0.816054</td>\n",
       "      <td>0.600657</td>\n",
       "      <td>1.000000</td>\n",
       "      <td>0.421227</td>\n",
       "      <td>0.808384</td>\n",
       "      <td>0.753268</td>\n",
       "      <td>0.827446</td>\n",
       "      <td>0.821738</td>\n",
       "      <td>0.819993</td>\n",
       "      <td>...</td>\n",
       "      <td>-0.043656</td>\n",
       "      <td>0.002803</td>\n",
       "      <td>-0.028590</td>\n",
       "      <td>0.013571</td>\n",
       "      <td>0.023837</td>\n",
       "      <td>-0.025817</td>\n",
       "      <td>-0.003866</td>\n",
       "      <td>0.024888</td>\n",
       "      <td>-0.003952</td>\n",
       "      <td>0.039713</td>\n",
       "    </tr>\n",
       "    <tr>\n",
       "      <th>VAR69</th>\n",
       "      <td>-0.084745</td>\n",
       "      <td>0.297884</td>\n",
       "      <td>0.293951</td>\n",
       "      <td>0.421227</td>\n",
       "      <td>1.000000</td>\n",
       "      <td>0.298172</td>\n",
       "      <td>0.190722</td>\n",
       "      <td>0.501152</td>\n",
       "      <td>0.380604</td>\n",
       "      <td>0.315388</td>\n",
       "      <td>...</td>\n",
       "      <td>-0.056065</td>\n",
       "      <td>0.003664</td>\n",
       "      <td>-0.012564</td>\n",
       "      <td>0.000434</td>\n",
       "      <td>0.001764</td>\n",
       "      <td>-0.005818</td>\n",
       "      <td>0.001171</td>\n",
       "      <td>0.002876</td>\n",
       "      <td>0.009797</td>\n",
       "      <td>0.011351</td>\n",
       "    </tr>\n",
       "    <tr>\n",
       "      <th>...</th>\n",
       "      <td>...</td>\n",
       "      <td>...</td>\n",
       "      <td>...</td>\n",
       "      <td>...</td>\n",
       "      <td>...</td>\n",
       "      <td>...</td>\n",
       "      <td>...</td>\n",
       "      <td>...</td>\n",
       "      <td>...</td>\n",
       "      <td>...</td>\n",
       "      <td>...</td>\n",
       "      <td>...</td>\n",
       "      <td>...</td>\n",
       "      <td>...</td>\n",
       "      <td>...</td>\n",
       "      <td>...</td>\n",
       "      <td>...</td>\n",
       "      <td>...</td>\n",
       "      <td>...</td>\n",
       "      <td>...</td>\n",
       "      <td>...</td>\n",
       "    </tr>\n",
       "    <tr>\n",
       "      <th>MONTH_July</th>\n",
       "      <td>0.019127</td>\n",
       "      <td>-0.019144</td>\n",
       "      <td>-0.011239</td>\n",
       "      <td>-0.025817</td>\n",
       "      <td>-0.005818</td>\n",
       "      <td>-0.017951</td>\n",
       "      <td>-0.020850</td>\n",
       "      <td>-0.021397</td>\n",
       "      <td>-0.024762</td>\n",
       "      <td>-0.016481</td>\n",
       "      <td>...</td>\n",
       "      <td>-0.007919</td>\n",
       "      <td>-0.140610</td>\n",
       "      <td>-0.161774</td>\n",
       "      <td>-0.142587</td>\n",
       "      <td>-0.146887</td>\n",
       "      <td>1.000000</td>\n",
       "      <td>-0.150115</td>\n",
       "      <td>-0.155321</td>\n",
       "      <td>-0.145088</td>\n",
       "      <td>-0.050935</td>\n",
       "    </tr>\n",
       "    <tr>\n",
       "      <th>MONTH_June</th>\n",
       "      <td>0.010773</td>\n",
       "      <td>-0.007753</td>\n",
       "      <td>0.002389</td>\n",
       "      <td>-0.003866</td>\n",
       "      <td>0.001171</td>\n",
       "      <td>-0.008356</td>\n",
       "      <td>-0.005201</td>\n",
       "      <td>-0.007095</td>\n",
       "      <td>-0.006765</td>\n",
       "      <td>-0.008566</td>\n",
       "      <td>...</td>\n",
       "      <td>-0.003413</td>\n",
       "      <td>-0.133851</td>\n",
       "      <td>-0.153997</td>\n",
       "      <td>-0.135733</td>\n",
       "      <td>-0.139827</td>\n",
       "      <td>-0.150115</td>\n",
       "      <td>1.000000</td>\n",
       "      <td>-0.147855</td>\n",
       "      <td>-0.138114</td>\n",
       "      <td>-0.042690</td>\n",
       "    </tr>\n",
       "    <tr>\n",
       "      <th>MONTH_March</th>\n",
       "      <td>-0.025941</td>\n",
       "      <td>0.025526</td>\n",
       "      <td>0.011563</td>\n",
       "      <td>0.024888</td>\n",
       "      <td>0.002876</td>\n",
       "      <td>0.023258</td>\n",
       "      <td>0.019880</td>\n",
       "      <td>0.026553</td>\n",
       "      <td>0.027326</td>\n",
       "      <td>0.023247</td>\n",
       "      <td>...</td>\n",
       "      <td>-0.007117</td>\n",
       "      <td>-0.138493</td>\n",
       "      <td>-0.159338</td>\n",
       "      <td>-0.140440</td>\n",
       "      <td>-0.144676</td>\n",
       "      <td>-0.155321</td>\n",
       "      <td>-0.147855</td>\n",
       "      <td>1.000000</td>\n",
       "      <td>-0.142904</td>\n",
       "      <td>0.229493</td>\n",
       "    </tr>\n",
       "    <tr>\n",
       "      <th>MONTH_May</th>\n",
       "      <td>0.006098</td>\n",
       "      <td>-0.004366</td>\n",
       "      <td>-0.003280</td>\n",
       "      <td>-0.003952</td>\n",
       "      <td>0.009797</td>\n",
       "      <td>-0.007133</td>\n",
       "      <td>-0.000706</td>\n",
       "      <td>-0.003418</td>\n",
       "      <td>-0.011457</td>\n",
       "      <td>-0.005533</td>\n",
       "      <td>...</td>\n",
       "      <td>-0.009049</td>\n",
       "      <td>-0.129369</td>\n",
       "      <td>-0.148841</td>\n",
       "      <td>-0.131188</td>\n",
       "      <td>-0.135144</td>\n",
       "      <td>-0.145088</td>\n",
       "      <td>-0.138114</td>\n",
       "      <td>-0.142904</td>\n",
       "      <td>1.000000</td>\n",
       "      <td>-0.031637</td>\n",
       "    </tr>\n",
       "    <tr>\n",
       "      <th>TARGET</th>\n",
       "      <td>-0.035877</td>\n",
       "      <td>0.046639</td>\n",
       "      <td>0.023508</td>\n",
       "      <td>0.039713</td>\n",
       "      <td>0.011351</td>\n",
       "      <td>0.042974</td>\n",
       "      <td>0.042232</td>\n",
       "      <td>0.043032</td>\n",
       "      <td>0.036210</td>\n",
       "      <td>0.045924</td>\n",
       "      <td>...</td>\n",
       "      <td>0.045201</td>\n",
       "      <td>-0.030963</td>\n",
       "      <td>-0.052772</td>\n",
       "      <td>-0.017413</td>\n",
       "      <td>-0.007202</td>\n",
       "      <td>-0.050935</td>\n",
       "      <td>-0.042690</td>\n",
       "      <td>0.229493</td>\n",
       "      <td>-0.031637</td>\n",
       "      <td>1.000000</td>\n",
       "    </tr>\n",
       "  </tbody>\n",
       "</table>\n",
       "<p>140 rows × 140 columns</p>\n",
       "</div>"
      ],
      "text/plain": [
       "                VAR10     VAR66     VAR67     VAR68     VAR69     VAR70  \\\n",
       "VAR10        1.000000 -0.607116 -0.332361 -0.585947 -0.084745 -0.580663   \n",
       "VAR66       -0.607116  1.000000  0.497818  0.816054  0.297884  0.892090   \n",
       "VAR67       -0.332361  0.497818  1.000000  0.600657  0.293951  0.495689   \n",
       "VAR68       -0.585947  0.816054  0.600657  1.000000  0.421227  0.808384   \n",
       "VAR69       -0.084745  0.297884  0.293951  0.421227  1.000000  0.298172   \n",
       "...               ...       ...       ...       ...       ...       ...   \n",
       "MONTH_July   0.019127 -0.019144 -0.011239 -0.025817 -0.005818 -0.017951   \n",
       "MONTH_June   0.010773 -0.007753  0.002389 -0.003866  0.001171 -0.008356   \n",
       "MONTH_March -0.025941  0.025526  0.011563  0.024888  0.002876  0.023258   \n",
       "MONTH_May    0.006098 -0.004366 -0.003280 -0.003952  0.009797 -0.007133   \n",
       "TARGET      -0.035877  0.046639  0.023508  0.039713  0.011351  0.042974   \n",
       "\n",
       "                VAR71     VAR72     VAR73     VAR74  ...  VAR142_E  \\\n",
       "VAR10       -0.595669 -0.544044 -0.537954 -0.607405  ... -0.011059   \n",
       "VAR66        0.879414  0.772991  0.770593  0.904025  ... -0.015548   \n",
       "VAR67        0.475412  0.527687  0.529856  0.494446  ... -0.038461   \n",
       "VAR68        0.753268  0.827446  0.821738  0.819993  ... -0.043656   \n",
       "VAR69        0.190722  0.501152  0.380604  0.315388  ... -0.056065   \n",
       "...               ...       ...       ...       ...  ...       ...   \n",
       "MONTH_July  -0.020850 -0.021397 -0.024762 -0.016481  ... -0.007919   \n",
       "MONTH_June  -0.005201 -0.007095 -0.006765 -0.008566  ... -0.003413   \n",
       "MONTH_March  0.019880  0.026553  0.027326  0.023247  ... -0.007117   \n",
       "MONTH_May   -0.000706 -0.003418 -0.011457 -0.005533  ... -0.009049   \n",
       "TARGET       0.042232  0.043032  0.036210  0.045924  ...  0.045201   \n",
       "\n",
       "             MONTH_April  MONTH_August  MONTH_February  MONTH_January  \\\n",
       "VAR10           0.000352      0.017130       -0.014099      -0.015062   \n",
       "VAR66           0.003845     -0.028492        0.011827       0.021091   \n",
       "VAR67           0.000075     -0.007632        0.003462       0.005352   \n",
       "VAR68           0.002803     -0.028590        0.013571       0.023837   \n",
       "VAR69           0.003664     -0.012564        0.000434       0.001764   \n",
       "...                  ...           ...             ...            ...   \n",
       "MONTH_July     -0.140610     -0.161774       -0.142587      -0.146887   \n",
       "MONTH_June     -0.133851     -0.153997       -0.135733      -0.139827   \n",
       "MONTH_March    -0.138493     -0.159338       -0.140440      -0.144676   \n",
       "MONTH_May      -0.129369     -0.148841       -0.131188      -0.135144   \n",
       "TARGET         -0.030963     -0.052772       -0.017413      -0.007202   \n",
       "\n",
       "             MONTH_July  MONTH_June  MONTH_March  MONTH_May    TARGET  \n",
       "VAR10          0.019127    0.010773    -0.025941   0.006098 -0.035877  \n",
       "VAR66         -0.019144   -0.007753     0.025526  -0.004366  0.046639  \n",
       "VAR67         -0.011239    0.002389     0.011563  -0.003280  0.023508  \n",
       "VAR68         -0.025817   -0.003866     0.024888  -0.003952  0.039713  \n",
       "VAR69         -0.005818    0.001171     0.002876   0.009797  0.011351  \n",
       "...                 ...         ...          ...        ...       ...  \n",
       "MONTH_July     1.000000   -0.150115    -0.155321  -0.145088 -0.050935  \n",
       "MONTH_June    -0.150115    1.000000    -0.147855  -0.138114 -0.042690  \n",
       "MONTH_March   -0.155321   -0.147855     1.000000  -0.142904  0.229493  \n",
       "MONTH_May     -0.145088   -0.138114    -0.142904   1.000000 -0.031637  \n",
       "TARGET        -0.050935   -0.042690     0.229493  -0.031637  1.000000  \n",
       "\n",
       "[140 rows x 140 columns]"
      ]
     },
     "execution_count": 36,
     "metadata": {},
     "output_type": "execute_result"
    }
   ],
   "source": [
    "data_cat_encoded['TARGET'] = data_num['TARGET']\n",
    "data_cat_encoded.corr()"
   ]
  },
  {
   "cell_type": "code",
   "execution_count": 37,
   "metadata": {},
   "outputs": [
    {
     "name": "stdout",
     "output_type": "stream",
     "text": [
      "Correlações mais positivas:\n",
      " VAR98          0.043564\n",
      "VAR92          0.044158\n",
      "VAR142_E       0.045201\n",
      "VAR89          0.045384\n",
      "VAR74          0.045924\n",
      "VAR66          0.046639\n",
      "VAR84          0.047586\n",
      "VAR118         0.051290\n",
      "MONTH_March    0.229493\n",
      "TARGET         1.000000\n",
      "Name: TARGET, dtype: float64\n",
      "\n",
      "Correlações mais negativas:\n",
      " MONTH_August     -0.052772\n",
      "MONTH_July       -0.050935\n",
      "VAR142_D         -0.047374\n",
      "MONTH_June       -0.042690\n",
      "VAR10            -0.035877\n",
      "MONTH_May        -0.031637\n",
      "MONTH_April      -0.030963\n",
      "VAR120           -0.028498\n",
      "VAR5_MG          -0.018025\n",
      "MONTH_February   -0.017413\n",
      "Name: TARGET, dtype: float64\n"
     ]
    }
   ],
   "source": [
    "correlations = data_cat_encoded.corr()['TARGET'].sort_values()\n",
    "print('Correlações mais positivas:\\n', correlations.tail(10))\n",
    "print('\\nCorrelações mais negativas:\\n', correlations.head(10))"
   ]
  },
  {
   "cell_type": "markdown",
   "metadata": {},
   "source": [
    "### Excluindo variáveis que apresentam baixa correlação com o target"
   ]
  },
  {
   "cell_type": "code",
   "execution_count": 38,
   "metadata": {},
   "outputs": [
    {
     "data": {
      "application/vnd.plotly.v1+json": {
       "config": {
        "plotlyServerURL": "https://plotly.com"
       },
       "data": [
        {
         "marker": {
          "color": "rgba(155, 190, 250, 0.7)"
         },
         "nbinsx": 100,
         "type": "histogram",
         "x": [
          -0.052772385743213114,
          -0.05093468516825928,
          -0.0473735552406265,
          -0.04269040097137714,
          -0.03587656110708567,
          -0.03163704997351247,
          -0.03096347987821474,
          -0.02849817082281448,
          -0.018025426549112832,
          -0.017412951080709452,
          -0.017208807996762904,
          -0.016993946045350462,
          -0.01536209336569428,
          -0.01459899751627276,
          -0.014586223215389668,
          -0.013636301841954699,
          -0.013567066349652632,
          -0.013551420957648596,
          -0.013220789973816434,
          -0.011864616512087141,
          -0.009712613785737692,
          -0.009701559131015456,
          -0.009396405456055041,
          -0.008419397244568496,
          -0.008229183861922883,
          -0.007202343805122825,
          -0.006387564411711665,
          -0.005894253073199469,
          -0.005032330313051795,
          -0.0049052520018411025,
          -0.00472000507760672,
          -0.0044107612234301746,
          -0.004328510757485797,
          -0.003956500819126582,
          -0.0034889543622725503,
          -0.0029720531532307355,
          -0.0014417329998553967,
          -0.001401946486259464,
          -0.0004140524262561636,
          0.0001178926044580478,
          0.00014698985457500363,
          0.00026310907732480057,
          0.001483181233653693,
          0.002501761246732094,
          0.002551119549471204,
          0.0026989105387101547,
          0.0034286882628343893,
          0.003624907917737496,
          0.004532393860942579,
          0.004920788276043781,
          0.007118638605412615,
          0.007240373397679827,
          0.007345617066612439,
          0.007815523539354517,
          0.008522508830392454,
          0.008701485001669597,
          0.008836741264999108,
          0.009578023030158714,
          0.010993547267125002,
          0.011350671510679923,
          0.01387566306262288,
          0.015603541983315457,
          0.018637578336202353,
          0.018767371051744166,
          0.018879803216104548,
          0.019954621841832023,
          0.021679089805441323,
          0.022729853333505294,
          0.023507884484925183,
          0.025177647930250832,
          0.02558543111024794,
          0.02649804842252146,
          0.027663164951483358,
          0.029058226689360953,
          0.02922749454246301,
          0.029388062066127808,
          0.029881518420000044,
          0.031133210827930198,
          0.031166975548810583,
          0.03170607214142908,
          0.031986218480288965,
          0.03203835064754597,
          0.0320840397018728,
          0.03210811099529895,
          0.03266889421749173,
          0.032767162744071994,
          0.03317661082313094,
          0.03342753481743858,
          0.033573601140241,
          0.03357925064289574,
          0.03359550828748218,
          0.03382167885356371,
          0.03393210837114438,
          0.03411583270005987,
          0.03413096339354143,
          0.03430073994659621,
          0.034727439457421086,
          0.03515417611358167,
          0.035293497130874436,
          0.03533868357817486,
          0.03544840550474642,
          0.03561583390157797,
          0.03564864533473286,
          0.03620950994963838,
          0.036264208420687775,
          0.036310540622484025,
          0.03640384355527294,
          0.037091199642380196,
          0.03851767929893741,
          0.03867697035777632,
          0.038750767297995314,
          0.03886428699796097,
          0.039361137975330335,
          0.039674357527119807,
          0.03971265357874169,
          0.0400545537200642,
          0.04015717436474937,
          0.04040080174568244,
          0.04053903967197617,
          0.0406558074998525,
          0.04084630002067733,
          0.040848392252292635,
          0.04162953888176829,
          0.04164769845892709,
          0.04178271249186193,
          0.04215408230502411,
          0.04223242170266756,
          0.04297387377165361,
          0.043031856117672226,
          0.043325907944123755,
          0.04356393375918635,
          0.044158340527596006,
          0.045201234561539995,
          0.04538401768035682,
          0.04592359991417546,
          0.04663872499851411,
          0.04758559908501457,
          0.05129017662626585
         ]
        }
       ],
       "layout": {
        "annotations": [
         {
          "font": {
           "color": "rgba(100, 159, 237, 1)",
           "size": 12
          },
          "showarrow": false,
          "text": "Categóricas x Target",
          "x": -0.23,
          "xref": "paper",
          "y": 1.1,
          "yref": "paper"
         }
        ],
        "coloraxis": {
         "colorbar": {
          "ticksuffix": "m"
         }
        },
        "height": 500,
        "plot_bgcolor": "rgba(0, 0, 0, 0)",
        "template": {
         "data": {
          "bar": [
           {
            "error_x": {
             "color": "#2a3f5f"
            },
            "error_y": {
             "color": "#2a3f5f"
            },
            "marker": {
             "line": {
              "color": "#E5ECF6",
              "width": 0.5
             },
             "pattern": {
              "fillmode": "overlay",
              "size": 10,
              "solidity": 0.2
             }
            },
            "type": "bar"
           }
          ],
          "barpolar": [
           {
            "marker": {
             "line": {
              "color": "#E5ECF6",
              "width": 0.5
             },
             "pattern": {
              "fillmode": "overlay",
              "size": 10,
              "solidity": 0.2
             }
            },
            "type": "barpolar"
           }
          ],
          "carpet": [
           {
            "aaxis": {
             "endlinecolor": "#2a3f5f",
             "gridcolor": "white",
             "linecolor": "white",
             "minorgridcolor": "white",
             "startlinecolor": "#2a3f5f"
            },
            "baxis": {
             "endlinecolor": "#2a3f5f",
             "gridcolor": "white",
             "linecolor": "white",
             "minorgridcolor": "white",
             "startlinecolor": "#2a3f5f"
            },
            "type": "carpet"
           }
          ],
          "choropleth": [
           {
            "colorbar": {
             "outlinewidth": 0,
             "ticks": ""
            },
            "type": "choropleth"
           }
          ],
          "contour": [
           {
            "colorbar": {
             "outlinewidth": 0,
             "ticks": ""
            },
            "colorscale": [
             [
              0,
              "#0d0887"
             ],
             [
              0.1111111111111111,
              "#46039f"
             ],
             [
              0.2222222222222222,
              "#7201a8"
             ],
             [
              0.3333333333333333,
              "#9c179e"
             ],
             [
              0.4444444444444444,
              "#bd3786"
             ],
             [
              0.5555555555555556,
              "#d8576b"
             ],
             [
              0.6666666666666666,
              "#ed7953"
             ],
             [
              0.7777777777777778,
              "#fb9f3a"
             ],
             [
              0.8888888888888888,
              "#fdca26"
             ],
             [
              1,
              "#f0f921"
             ]
            ],
            "type": "contour"
           }
          ],
          "contourcarpet": [
           {
            "colorbar": {
             "outlinewidth": 0,
             "ticks": ""
            },
            "type": "contourcarpet"
           }
          ],
          "heatmap": [
           {
            "colorbar": {
             "outlinewidth": 0,
             "ticks": ""
            },
            "colorscale": [
             [
              0,
              "#0d0887"
             ],
             [
              0.1111111111111111,
              "#46039f"
             ],
             [
              0.2222222222222222,
              "#7201a8"
             ],
             [
              0.3333333333333333,
              "#9c179e"
             ],
             [
              0.4444444444444444,
              "#bd3786"
             ],
             [
              0.5555555555555556,
              "#d8576b"
             ],
             [
              0.6666666666666666,
              "#ed7953"
             ],
             [
              0.7777777777777778,
              "#fb9f3a"
             ],
             [
              0.8888888888888888,
              "#fdca26"
             ],
             [
              1,
              "#f0f921"
             ]
            ],
            "type": "heatmap"
           }
          ],
          "heatmapgl": [
           {
            "colorbar": {
             "outlinewidth": 0,
             "ticks": ""
            },
            "colorscale": [
             [
              0,
              "#0d0887"
             ],
             [
              0.1111111111111111,
              "#46039f"
             ],
             [
              0.2222222222222222,
              "#7201a8"
             ],
             [
              0.3333333333333333,
              "#9c179e"
             ],
             [
              0.4444444444444444,
              "#bd3786"
             ],
             [
              0.5555555555555556,
              "#d8576b"
             ],
             [
              0.6666666666666666,
              "#ed7953"
             ],
             [
              0.7777777777777778,
              "#fb9f3a"
             ],
             [
              0.8888888888888888,
              "#fdca26"
             ],
             [
              1,
              "#f0f921"
             ]
            ],
            "type": "heatmapgl"
           }
          ],
          "histogram": [
           {
            "marker": {
             "pattern": {
              "fillmode": "overlay",
              "size": 10,
              "solidity": 0.2
             }
            },
            "type": "histogram"
           }
          ],
          "histogram2d": [
           {
            "colorbar": {
             "outlinewidth": 0,
             "ticks": ""
            },
            "colorscale": [
             [
              0,
              "#0d0887"
             ],
             [
              0.1111111111111111,
              "#46039f"
             ],
             [
              0.2222222222222222,
              "#7201a8"
             ],
             [
              0.3333333333333333,
              "#9c179e"
             ],
             [
              0.4444444444444444,
              "#bd3786"
             ],
             [
              0.5555555555555556,
              "#d8576b"
             ],
             [
              0.6666666666666666,
              "#ed7953"
             ],
             [
              0.7777777777777778,
              "#fb9f3a"
             ],
             [
              0.8888888888888888,
              "#fdca26"
             ],
             [
              1,
              "#f0f921"
             ]
            ],
            "type": "histogram2d"
           }
          ],
          "histogram2dcontour": [
           {
            "colorbar": {
             "outlinewidth": 0,
             "ticks": ""
            },
            "colorscale": [
             [
              0,
              "#0d0887"
             ],
             [
              0.1111111111111111,
              "#46039f"
             ],
             [
              0.2222222222222222,
              "#7201a8"
             ],
             [
              0.3333333333333333,
              "#9c179e"
             ],
             [
              0.4444444444444444,
              "#bd3786"
             ],
             [
              0.5555555555555556,
              "#d8576b"
             ],
             [
              0.6666666666666666,
              "#ed7953"
             ],
             [
              0.7777777777777778,
              "#fb9f3a"
             ],
             [
              0.8888888888888888,
              "#fdca26"
             ],
             [
              1,
              "#f0f921"
             ]
            ],
            "type": "histogram2dcontour"
           }
          ],
          "mesh3d": [
           {
            "colorbar": {
             "outlinewidth": 0,
             "ticks": ""
            },
            "type": "mesh3d"
           }
          ],
          "parcoords": [
           {
            "line": {
             "colorbar": {
              "outlinewidth": 0,
              "ticks": ""
             }
            },
            "type": "parcoords"
           }
          ],
          "pie": [
           {
            "automargin": true,
            "type": "pie"
           }
          ],
          "scatter": [
           {
            "fillpattern": {
             "fillmode": "overlay",
             "size": 10,
             "solidity": 0.2
            },
            "type": "scatter"
           }
          ],
          "scatter3d": [
           {
            "line": {
             "colorbar": {
              "outlinewidth": 0,
              "ticks": ""
             }
            },
            "marker": {
             "colorbar": {
              "outlinewidth": 0,
              "ticks": ""
             }
            },
            "type": "scatter3d"
           }
          ],
          "scattercarpet": [
           {
            "marker": {
             "colorbar": {
              "outlinewidth": 0,
              "ticks": ""
             }
            },
            "type": "scattercarpet"
           }
          ],
          "scattergeo": [
           {
            "marker": {
             "colorbar": {
              "outlinewidth": 0,
              "ticks": ""
             }
            },
            "type": "scattergeo"
           }
          ],
          "scattergl": [
           {
            "marker": {
             "colorbar": {
              "outlinewidth": 0,
              "ticks": ""
             }
            },
            "type": "scattergl"
           }
          ],
          "scattermapbox": [
           {
            "marker": {
             "colorbar": {
              "outlinewidth": 0,
              "ticks": ""
             }
            },
            "type": "scattermapbox"
           }
          ],
          "scatterpolar": [
           {
            "marker": {
             "colorbar": {
              "outlinewidth": 0,
              "ticks": ""
             }
            },
            "type": "scatterpolar"
           }
          ],
          "scatterpolargl": [
           {
            "marker": {
             "colorbar": {
              "outlinewidth": 0,
              "ticks": ""
             }
            },
            "type": "scatterpolargl"
           }
          ],
          "scatterternary": [
           {
            "marker": {
             "colorbar": {
              "outlinewidth": 0,
              "ticks": ""
             }
            },
            "type": "scatterternary"
           }
          ],
          "surface": [
           {
            "colorbar": {
             "outlinewidth": 0,
             "ticks": ""
            },
            "colorscale": [
             [
              0,
              "#0d0887"
             ],
             [
              0.1111111111111111,
              "#46039f"
             ],
             [
              0.2222222222222222,
              "#7201a8"
             ],
             [
              0.3333333333333333,
              "#9c179e"
             ],
             [
              0.4444444444444444,
              "#bd3786"
             ],
             [
              0.5555555555555556,
              "#d8576b"
             ],
             [
              0.6666666666666666,
              "#ed7953"
             ],
             [
              0.7777777777777778,
              "#fb9f3a"
             ],
             [
              0.8888888888888888,
              "#fdca26"
             ],
             [
              1,
              "#f0f921"
             ]
            ],
            "type": "surface"
           }
          ],
          "table": [
           {
            "cells": {
             "fill": {
              "color": "#EBF0F8"
             },
             "line": {
              "color": "white"
             }
            },
            "header": {
             "fill": {
              "color": "#C8D4E3"
             },
             "line": {
              "color": "white"
             }
            },
            "type": "table"
           }
          ]
         },
         "layout": {
          "annotationdefaults": {
           "arrowcolor": "#2a3f5f",
           "arrowhead": 0,
           "arrowwidth": 1
          },
          "autotypenumbers": "strict",
          "coloraxis": {
           "colorbar": {
            "outlinewidth": 0,
            "ticks": ""
           }
          },
          "colorscale": {
           "diverging": [
            [
             0,
             "#8e0152"
            ],
            [
             0.1,
             "#c51b7d"
            ],
            [
             0.2,
             "#de77ae"
            ],
            [
             0.3,
             "#f1b6da"
            ],
            [
             0.4,
             "#fde0ef"
            ],
            [
             0.5,
             "#f7f7f7"
            ],
            [
             0.6,
             "#e6f5d0"
            ],
            [
             0.7,
             "#b8e186"
            ],
            [
             0.8,
             "#7fbc41"
            ],
            [
             0.9,
             "#4d9221"
            ],
            [
             1,
             "#276419"
            ]
           ],
           "sequential": [
            [
             0,
             "#0d0887"
            ],
            [
             0.1111111111111111,
             "#46039f"
            ],
            [
             0.2222222222222222,
             "#7201a8"
            ],
            [
             0.3333333333333333,
             "#9c179e"
            ],
            [
             0.4444444444444444,
             "#bd3786"
            ],
            [
             0.5555555555555556,
             "#d8576b"
            ],
            [
             0.6666666666666666,
             "#ed7953"
            ],
            [
             0.7777777777777778,
             "#fb9f3a"
            ],
            [
             0.8888888888888888,
             "#fdca26"
            ],
            [
             1,
             "#f0f921"
            ]
           ],
           "sequentialminus": [
            [
             0,
             "#0d0887"
            ],
            [
             0.1111111111111111,
             "#46039f"
            ],
            [
             0.2222222222222222,
             "#7201a8"
            ],
            [
             0.3333333333333333,
             "#9c179e"
            ],
            [
             0.4444444444444444,
             "#bd3786"
            ],
            [
             0.5555555555555556,
             "#d8576b"
            ],
            [
             0.6666666666666666,
             "#ed7953"
            ],
            [
             0.7777777777777778,
             "#fb9f3a"
            ],
            [
             0.8888888888888888,
             "#fdca26"
            ],
            [
             1,
             "#f0f921"
            ]
           ]
          },
          "colorway": [
           "#636efa",
           "#EF553B",
           "#00cc96",
           "#ab63fa",
           "#FFA15A",
           "#19d3f3",
           "#FF6692",
           "#B6E880",
           "#FF97FF",
           "#FECB52"
          ],
          "font": {
           "color": "#2a3f5f"
          },
          "geo": {
           "bgcolor": "white",
           "lakecolor": "white",
           "landcolor": "#E5ECF6",
           "showlakes": true,
           "showland": true,
           "subunitcolor": "white"
          },
          "hoverlabel": {
           "align": "left"
          },
          "hovermode": "closest",
          "mapbox": {
           "style": "light"
          },
          "paper_bgcolor": "white",
          "plot_bgcolor": "#E5ECF6",
          "polar": {
           "angularaxis": {
            "gridcolor": "white",
            "linecolor": "white",
            "ticks": ""
           },
           "bgcolor": "#E5ECF6",
           "radialaxis": {
            "gridcolor": "white",
            "linecolor": "white",
            "ticks": ""
           }
          },
          "scene": {
           "xaxis": {
            "backgroundcolor": "#E5ECF6",
            "gridcolor": "white",
            "gridwidth": 2,
            "linecolor": "white",
            "showbackground": true,
            "ticks": "",
            "zerolinecolor": "white"
           },
           "yaxis": {
            "backgroundcolor": "#E5ECF6",
            "gridcolor": "white",
            "gridwidth": 2,
            "linecolor": "white",
            "showbackground": true,
            "ticks": "",
            "zerolinecolor": "white"
           },
           "zaxis": {
            "backgroundcolor": "#E5ECF6",
            "gridcolor": "white",
            "gridwidth": 2,
            "linecolor": "white",
            "showbackground": true,
            "ticks": "",
            "zerolinecolor": "white"
           }
          },
          "shapedefaults": {
           "line": {
            "color": "#2a3f5f"
           }
          },
          "ternary": {
           "aaxis": {
            "gridcolor": "white",
            "linecolor": "white",
            "ticks": ""
           },
           "baxis": {
            "gridcolor": "white",
            "linecolor": "white",
            "ticks": ""
           },
           "bgcolor": "#E5ECF6",
           "caxis": {
            "gridcolor": "white",
            "linecolor": "white",
            "ticks": ""
           }
          },
          "title": {
           "x": 0.05
          },
          "xaxis": {
           "automargin": true,
           "gridcolor": "white",
           "linecolor": "white",
           "ticks": "",
           "title": {
            "standoff": 15
           },
           "zerolinecolor": "white",
           "zerolinewidth": 2
          },
          "yaxis": {
           "automargin": true,
           "gridcolor": "white",
           "linecolor": "white",
           "ticks": "",
           "title": {
            "standoff": 15
           },
           "zerolinecolor": "white",
           "zerolinewidth": 2
          }
         }
        },
        "title": {
         "text": "Histogram"
        },
        "width": 400,
        "xaxis": {
         "title": {
          "text": "Value"
         }
        },
        "yaxis": {
         "linecolor": "rgba(169, 169, 169, 1)",
         "linewidth": 1,
         "showline": true,
         "showticksuffix": "all",
         "tickcolor": "rgba(169, 169, 169, 1)",
         "ticklen": 10,
         "ticks": "outside",
         "ticksuffix": "%",
         "tickwidth": 1,
         "title": {
          "text": "Frequency"
         }
        }
       }
      }
     },
     "metadata": {},
     "output_type": "display_data"
    }
   ],
   "source": [
    "import plotly.graph_objects as go\n",
    "\n",
    "fig = go.Figure(go.Histogram(x=correlations[:-2], nbinsx=100, marker=dict(color='rgba(155, 190, 250, 0.7)')))\n",
    "\n",
    "fig.add_annotation(\n",
    "    text='Categóricas x Target',\n",
    "    xref='paper', yref='paper',\n",
    "    x=-0.23, y=1.1,  \n",
    "    showarrow=False,\n",
    "    font=dict(size=12, color='rgba(100, 159, 237, 1)'))\n",
    "\n",
    "# Update layout\n",
    "fig.update_layout(title_text='CORRELAÇÕES',\n",
    "                plot_bgcolor='rgba(0, 0, 0, 0)',\n",
    "                yaxis_ticksuffix=\"%\",\n",
    "                coloraxis_colorbar_ticksuffix=\"m\",\n",
    "                yaxis_showticksuffix=\"all\"\n",
    "                )\n",
    "fig.update_layout(\n",
    "    title=\"Histogram\",\n",
    "    xaxis_title=\"Value\",\n",
    "    yaxis_title=\"Frequency\"\n",
    ")\n",
    "fig.update_yaxes(ticks=\"outside\", tickwidth=1, tickcolor='rgba(169, 169, 169, 1)', ticklen=10)\n",
    "fig.update_yaxes(showline=True, linewidth=1, linecolor='rgba(169, 169, 169, 1)')\n",
    "\n",
    "fig.layout.update({'width' : 400, 'height': 500})\n",
    "\n",
    "fig.show()\n"
   ]
  },
  {
   "cell_type": "code",
   "execution_count": 39,
   "metadata": {},
   "outputs": [],
   "source": [
    "# collect feature names of correlations between -0.002 and 0.002\n",
    "# drop from dataset\n",
    "\n",
    "def drop_low_target_corr(data_frame, low, high):\n",
    "    correlations = data_frame.corr()['TARGET'].sort_values()\n",
    "    corr_frame = correlations.to_frame()\n",
    "    rows_to_drop = corr_frame[(corr_frame['TARGET'] > low) & (corr_frame['TARGET'] < high)]\n",
    "    rows_to_drop.index.to_list()\n",
    "\n",
    "    return data_frame.drop(columns=rows_to_drop)\n",
    "\n",
    "data_cat_corr = drop_low_target_corr(data_cat_encoded, -0.002, 0.002)\n"
   ]
  },
  {
   "cell_type": "markdown",
   "metadata": {},
   "source": [
    "## Correlação Variáveis x Variáveis"
   ]
  },
  {
   "cell_type": "code",
   "execution_count": 40,
   "metadata": {},
   "outputs": [
    {
     "data": {
      "text/html": [
       "<div>\n",
       "<style scoped>\n",
       "    .dataframe tbody tr th:only-of-type {\n",
       "        vertical-align: middle;\n",
       "    }\n",
       "\n",
       "    .dataframe tbody tr th {\n",
       "        vertical-align: top;\n",
       "    }\n",
       "\n",
       "    .dataframe thead th {\n",
       "        text-align: right;\n",
       "    }\n",
       "</style>\n",
       "<table border=\"1\" class=\"dataframe\">\n",
       "  <thead>\n",
       "    <tr style=\"text-align: right;\">\n",
       "      <th></th>\n",
       "      <th>IDADE</th>\n",
       "      <th>VAR6</th>\n",
       "      <th>VAR7</th>\n",
       "      <th>VAR24</th>\n",
       "      <th>VAR39</th>\n",
       "      <th>VAR40</th>\n",
       "      <th>VAR41</th>\n",
       "      <th>VAR42</th>\n",
       "      <th>VAR47</th>\n",
       "      <th>VAR141</th>\n",
       "      <th>...</th>\n",
       "      <th>VAR142_D</th>\n",
       "      <th>VAR142_E</th>\n",
       "      <th>MONTH_April</th>\n",
       "      <th>MONTH_August</th>\n",
       "      <th>MONTH_February</th>\n",
       "      <th>MONTH_January</th>\n",
       "      <th>MONTH_July</th>\n",
       "      <th>MONTH_June</th>\n",
       "      <th>MONTH_March</th>\n",
       "      <th>MONTH_May</th>\n",
       "    </tr>\n",
       "  </thead>\n",
       "  <tbody>\n",
       "    <tr>\n",
       "      <th>IDADE</th>\n",
       "      <td>1.000000</td>\n",
       "      <td>-0.064221</td>\n",
       "      <td>0.006996</td>\n",
       "      <td>0.052485</td>\n",
       "      <td>0.404054</td>\n",
       "      <td>0.007622</td>\n",
       "      <td>-0.009956</td>\n",
       "      <td>0.159878</td>\n",
       "      <td>0.092104</td>\n",
       "      <td>0.243246</td>\n",
       "      <td>...</td>\n",
       "      <td>0.373314</td>\n",
       "      <td>-0.390058</td>\n",
       "      <td>0.011774</td>\n",
       "      <td>0.009972</td>\n",
       "      <td>-0.016267</td>\n",
       "      <td>-0.031730</td>\n",
       "      <td>0.008954</td>\n",
       "      <td>0.000257</td>\n",
       "      <td>0.000518</td>\n",
       "      <td>0.015441</td>\n",
       "    </tr>\n",
       "    <tr>\n",
       "      <th>VAR6</th>\n",
       "      <td>-0.064221</td>\n",
       "      <td>1.000000</td>\n",
       "      <td>0.177161</td>\n",
       "      <td>-0.185727</td>\n",
       "      <td>0.056422</td>\n",
       "      <td>-0.137198</td>\n",
       "      <td>0.041487</td>\n",
       "      <td>-0.007383</td>\n",
       "      <td>-0.035748</td>\n",
       "      <td>-0.085721</td>\n",
       "      <td>...</td>\n",
       "      <td>-0.033909</td>\n",
       "      <td>0.057279</td>\n",
       "      <td>0.001174</td>\n",
       "      <td>-0.007055</td>\n",
       "      <td>0.001849</td>\n",
       "      <td>0.012281</td>\n",
       "      <td>-0.007914</td>\n",
       "      <td>0.005510</td>\n",
       "      <td>-0.002602</td>\n",
       "      <td>-0.002213</td>\n",
       "    </tr>\n",
       "    <tr>\n",
       "      <th>VAR7</th>\n",
       "      <td>0.006996</td>\n",
       "      <td>0.177161</td>\n",
       "      <td>1.000000</td>\n",
       "      <td>-0.025117</td>\n",
       "      <td>0.014193</td>\n",
       "      <td>0.080335</td>\n",
       "      <td>0.095734</td>\n",
       "      <td>0.037143</td>\n",
       "      <td>0.055708</td>\n",
       "      <td>-0.053163</td>\n",
       "      <td>...</td>\n",
       "      <td>-0.034072</td>\n",
       "      <td>0.051871</td>\n",
       "      <td>-0.003557</td>\n",
       "      <td>0.002762</td>\n",
       "      <td>-0.003775</td>\n",
       "      <td>0.001951</td>\n",
       "      <td>0.009397</td>\n",
       "      <td>-0.006386</td>\n",
       "      <td>-0.009640</td>\n",
       "      <td>0.008932</td>\n",
       "    </tr>\n",
       "    <tr>\n",
       "      <th>VAR24</th>\n",
       "      <td>0.052485</td>\n",
       "      <td>-0.185727</td>\n",
       "      <td>-0.025117</td>\n",
       "      <td>1.000000</td>\n",
       "      <td>-0.205543</td>\n",
       "      <td>0.036843</td>\n",
       "      <td>0.044916</td>\n",
       "      <td>-0.006858</td>\n",
       "      <td>0.020512</td>\n",
       "      <td>0.122262</td>\n",
       "      <td>...</td>\n",
       "      <td>-0.017231</td>\n",
       "      <td>-0.023972</td>\n",
       "      <td>-0.004269</td>\n",
       "      <td>0.003877</td>\n",
       "      <td>-0.001763</td>\n",
       "      <td>-0.002874</td>\n",
       "      <td>0.005007</td>\n",
       "      <td>0.001915</td>\n",
       "      <td>-0.005484</td>\n",
       "      <td>0.003084</td>\n",
       "    </tr>\n",
       "    <tr>\n",
       "      <th>VAR39</th>\n",
       "      <td>0.404054</td>\n",
       "      <td>0.056422</td>\n",
       "      <td>0.014193</td>\n",
       "      <td>-0.205543</td>\n",
       "      <td>1.000000</td>\n",
       "      <td>0.098010</td>\n",
       "      <td>0.119399</td>\n",
       "      <td>0.130707</td>\n",
       "      <td>0.090401</td>\n",
       "      <td>0.251693</td>\n",
       "      <td>...</td>\n",
       "      <td>0.431561</td>\n",
       "      <td>-0.449929</td>\n",
       "      <td>0.009352</td>\n",
       "      <td>0.001216</td>\n",
       "      <td>-0.011436</td>\n",
       "      <td>-0.013216</td>\n",
       "      <td>0.004807</td>\n",
       "      <td>0.004548</td>\n",
       "      <td>-0.005934</td>\n",
       "      <td>0.010642</td>\n",
       "    </tr>\n",
       "    <tr>\n",
       "      <th>...</th>\n",
       "      <td>...</td>\n",
       "      <td>...</td>\n",
       "      <td>...</td>\n",
       "      <td>...</td>\n",
       "      <td>...</td>\n",
       "      <td>...</td>\n",
       "      <td>...</td>\n",
       "      <td>...</td>\n",
       "      <td>...</td>\n",
       "      <td>...</td>\n",
       "      <td>...</td>\n",
       "      <td>...</td>\n",
       "      <td>...</td>\n",
       "      <td>...</td>\n",
       "      <td>...</td>\n",
       "      <td>...</td>\n",
       "      <td>...</td>\n",
       "      <td>...</td>\n",
       "      <td>...</td>\n",
       "      <td>...</td>\n",
       "      <td>...</td>\n",
       "    </tr>\n",
       "    <tr>\n",
       "      <th>MONTH_January</th>\n",
       "      <td>-0.031730</td>\n",
       "      <td>0.012281</td>\n",
       "      <td>0.001951</td>\n",
       "      <td>-0.002874</td>\n",
       "      <td>-0.013216</td>\n",
       "      <td>-0.020750</td>\n",
       "      <td>-0.018779</td>\n",
       "      <td>-0.014948</td>\n",
       "      <td>-0.054520</td>\n",
       "      <td>-0.031511</td>\n",
       "      <td>...</td>\n",
       "      <td>-0.025461</td>\n",
       "      <td>0.027763</td>\n",
       "      <td>-0.130974</td>\n",
       "      <td>-0.150687</td>\n",
       "      <td>-0.132815</td>\n",
       "      <td>1.000000</td>\n",
       "      <td>-0.146887</td>\n",
       "      <td>-0.139827</td>\n",
       "      <td>-0.144676</td>\n",
       "      <td>-0.135144</td>\n",
       "    </tr>\n",
       "    <tr>\n",
       "      <th>MONTH_July</th>\n",
       "      <td>0.008954</td>\n",
       "      <td>-0.007914</td>\n",
       "      <td>0.009397</td>\n",
       "      <td>0.005007</td>\n",
       "      <td>0.004807</td>\n",
       "      <td>0.022464</td>\n",
       "      <td>0.022785</td>\n",
       "      <td>0.007302</td>\n",
       "      <td>0.016936</td>\n",
       "      <td>0.006094</td>\n",
       "      <td>...</td>\n",
       "      <td>0.008882</td>\n",
       "      <td>-0.007919</td>\n",
       "      <td>-0.140610</td>\n",
       "      <td>-0.161774</td>\n",
       "      <td>-0.142587</td>\n",
       "      <td>-0.146887</td>\n",
       "      <td>1.000000</td>\n",
       "      <td>-0.150115</td>\n",
       "      <td>-0.155321</td>\n",
       "      <td>-0.145088</td>\n",
       "    </tr>\n",
       "    <tr>\n",
       "      <th>MONTH_June</th>\n",
       "      <td>0.000257</td>\n",
       "      <td>0.005510</td>\n",
       "      <td>-0.006386</td>\n",
       "      <td>0.001915</td>\n",
       "      <td>0.004548</td>\n",
       "      <td>0.001613</td>\n",
       "      <td>0.004998</td>\n",
       "      <td>0.003643</td>\n",
       "      <td>0.008871</td>\n",
       "      <td>0.002627</td>\n",
       "      <td>...</td>\n",
       "      <td>0.003303</td>\n",
       "      <td>-0.003413</td>\n",
       "      <td>-0.133851</td>\n",
       "      <td>-0.153997</td>\n",
       "      <td>-0.135733</td>\n",
       "      <td>-0.139827</td>\n",
       "      <td>-0.150115</td>\n",
       "      <td>1.000000</td>\n",
       "      <td>-0.147855</td>\n",
       "      <td>-0.138114</td>\n",
       "    </tr>\n",
       "    <tr>\n",
       "      <th>MONTH_March</th>\n",
       "      <td>0.000518</td>\n",
       "      <td>-0.002602</td>\n",
       "      <td>-0.009640</td>\n",
       "      <td>-0.005484</td>\n",
       "      <td>-0.005934</td>\n",
       "      <td>-0.022714</td>\n",
       "      <td>-0.023154</td>\n",
       "      <td>-0.001969</td>\n",
       "      <td>0.005652</td>\n",
       "      <td>0.011981</td>\n",
       "      <td>...</td>\n",
       "      <td>0.004909</td>\n",
       "      <td>-0.007117</td>\n",
       "      <td>-0.138493</td>\n",
       "      <td>-0.159338</td>\n",
       "      <td>-0.140440</td>\n",
       "      <td>-0.144676</td>\n",
       "      <td>-0.155321</td>\n",
       "      <td>-0.147855</td>\n",
       "      <td>1.000000</td>\n",
       "      <td>-0.142904</td>\n",
       "    </tr>\n",
       "    <tr>\n",
       "      <th>MONTH_May</th>\n",
       "      <td>0.015441</td>\n",
       "      <td>-0.002213</td>\n",
       "      <td>0.008932</td>\n",
       "      <td>0.003084</td>\n",
       "      <td>0.010642</td>\n",
       "      <td>0.011305</td>\n",
       "      <td>0.005797</td>\n",
       "      <td>0.007890</td>\n",
       "      <td>0.015524</td>\n",
       "      <td>0.009716</td>\n",
       "      <td>...</td>\n",
       "      <td>0.007888</td>\n",
       "      <td>-0.009049</td>\n",
       "      <td>-0.129369</td>\n",
       "      <td>-0.148841</td>\n",
       "      <td>-0.131188</td>\n",
       "      <td>-0.135144</td>\n",
       "      <td>-0.145088</td>\n",
       "      <td>-0.138114</td>\n",
       "      <td>-0.142904</td>\n",
       "      <td>1.000000</td>\n",
       "    </tr>\n",
       "  </tbody>\n",
       "</table>\n",
       "<p>151 rows × 151 columns</p>\n",
       "</div>"
      ],
      "text/plain": [
       "                  IDADE      VAR6      VAR7     VAR24     VAR39     VAR40  \\\n",
       "IDADE          1.000000 -0.064221  0.006996  0.052485  0.404054  0.007622   \n",
       "VAR6          -0.064221  1.000000  0.177161 -0.185727  0.056422 -0.137198   \n",
       "VAR7           0.006996  0.177161  1.000000 -0.025117  0.014193  0.080335   \n",
       "VAR24          0.052485 -0.185727 -0.025117  1.000000 -0.205543  0.036843   \n",
       "VAR39          0.404054  0.056422  0.014193 -0.205543  1.000000  0.098010   \n",
       "...                 ...       ...       ...       ...       ...       ...   \n",
       "MONTH_January -0.031730  0.012281  0.001951 -0.002874 -0.013216 -0.020750   \n",
       "MONTH_July     0.008954 -0.007914  0.009397  0.005007  0.004807  0.022464   \n",
       "MONTH_June     0.000257  0.005510 -0.006386  0.001915  0.004548  0.001613   \n",
       "MONTH_March    0.000518 -0.002602 -0.009640 -0.005484 -0.005934 -0.022714   \n",
       "MONTH_May      0.015441 -0.002213  0.008932  0.003084  0.010642  0.011305   \n",
       "\n",
       "                  VAR41     VAR42     VAR47    VAR141  ...  VAR142_D  \\\n",
       "IDADE         -0.009956  0.159878  0.092104  0.243246  ...  0.373314   \n",
       "VAR6           0.041487 -0.007383 -0.035748 -0.085721  ... -0.033909   \n",
       "VAR7           0.095734  0.037143  0.055708 -0.053163  ... -0.034072   \n",
       "VAR24          0.044916 -0.006858  0.020512  0.122262  ... -0.017231   \n",
       "VAR39          0.119399  0.130707  0.090401  0.251693  ...  0.431561   \n",
       "...                 ...       ...       ...       ...  ...       ...   \n",
       "MONTH_January -0.018779 -0.014948 -0.054520 -0.031511  ... -0.025461   \n",
       "MONTH_July     0.022785  0.007302  0.016936  0.006094  ...  0.008882   \n",
       "MONTH_June     0.004998  0.003643  0.008871  0.002627  ...  0.003303   \n",
       "MONTH_March   -0.023154 -0.001969  0.005652  0.011981  ...  0.004909   \n",
       "MONTH_May      0.005797  0.007890  0.015524  0.009716  ...  0.007888   \n",
       "\n",
       "               VAR142_E  MONTH_April  MONTH_August  MONTH_February  \\\n",
       "IDADE         -0.390058     0.011774      0.009972       -0.016267   \n",
       "VAR6           0.057279     0.001174     -0.007055        0.001849   \n",
       "VAR7           0.051871    -0.003557      0.002762       -0.003775   \n",
       "VAR24         -0.023972    -0.004269      0.003877       -0.001763   \n",
       "VAR39         -0.449929     0.009352      0.001216       -0.011436   \n",
       "...                 ...          ...           ...             ...   \n",
       "MONTH_January  0.027763    -0.130974     -0.150687       -0.132815   \n",
       "MONTH_July    -0.007919    -0.140610     -0.161774       -0.142587   \n",
       "MONTH_June    -0.003413    -0.133851     -0.153997       -0.135733   \n",
       "MONTH_March   -0.007117    -0.138493     -0.159338       -0.140440   \n",
       "MONTH_May     -0.009049    -0.129369     -0.148841       -0.131188   \n",
       "\n",
       "               MONTH_January  MONTH_July  MONTH_June  MONTH_March  MONTH_May  \n",
       "IDADE              -0.031730    0.008954    0.000257     0.000518   0.015441  \n",
       "VAR6                0.012281   -0.007914    0.005510    -0.002602  -0.002213  \n",
       "VAR7                0.001951    0.009397   -0.006386    -0.009640   0.008932  \n",
       "VAR24              -0.002874    0.005007    0.001915    -0.005484   0.003084  \n",
       "VAR39              -0.013216    0.004807    0.004548    -0.005934   0.010642  \n",
       "...                      ...         ...         ...          ...        ...  \n",
       "MONTH_January       1.000000   -0.146887   -0.139827    -0.144676  -0.135144  \n",
       "MONTH_July         -0.146887    1.000000   -0.150115    -0.155321  -0.145088  \n",
       "MONTH_June         -0.139827   -0.150115    1.000000    -0.147855  -0.138114  \n",
       "MONTH_March        -0.144676   -0.155321   -0.147855     1.000000  -0.142904  \n",
       "MONTH_May          -0.135144   -0.145088   -0.138114    -0.142904   1.000000  \n",
       "\n",
       "[151 rows x 151 columns]"
      ]
     },
     "execution_count": 40,
     "metadata": {},
     "output_type": "execute_result"
    }
   ],
   "source": [
    "all_data = pd.concat([data_num, data_cat_encoded], axis=1).drop(columns=['TARGET'])\n",
    "all_data.corr()"
   ]
  },
  {
   "cell_type": "code",
   "execution_count": 41,
   "metadata": {},
   "outputs": [],
   "source": [
    "# função para remover variáveis com correlação mais que um threshold\n",
    "def remove_corr_var(all_data):\n",
    "    corrs = all_data.corr()\n",
    "    threshold = 0.8\n",
    "    above_threshold_vars = {}\n",
    "    corrs = all_data.corr()\n",
    "    for col in corrs:\n",
    "        above_threshold_vars[col] = list(corrs.index[corrs[col] > threshold])\n",
    "\n",
    "    cols_to_remove = []\n",
    "    cols_seen = []\n",
    "    cols_to_remove_pair = []\n",
    "\n",
    "    for key, value in above_threshold_vars.items():\n",
    "        cols_seen.append(key)\n",
    "        for x in value:\n",
    "            if x == key:\n",
    "                next\n",
    "            else:\n",
    "                # Removendo uma coluna em um par\n",
    "                if x not in cols_seen:\n",
    "                    cols_to_remove.append(x)\n",
    "                    cols_to_remove_pair.append(key)\n",
    "                \n",
    "    cols_to_remove = list(set(cols_to_remove))\n",
    "    print('Números de colunas para remover: ', len(cols_to_remove))\n",
    "    data_corrs_removed = all_data.drop(columns = cols_to_remove)\n",
    "    print('Shape do dataset depois de remover colunas: ', data_corrs_removed.shape)\n",
    "    return data_corrs_removed"
   ]
  },
  {
   "cell_type": "code",
   "execution_count": 42,
   "metadata": {},
   "outputs": [
    {
     "name": "stdout",
     "output_type": "stream",
     "text": [
      "Number of columns to remove:  39\n",
      "Training Corrs Removed Shape:  (172500, 112)\n"
     ]
    }
   ],
   "source": [
    "treated_data = remove_corr_var(all_data)"
   ]
  },
  {
   "cell_type": "markdown",
   "metadata": {},
   "source": [
    "OBS.: Tendo o contexto do que cada variável representa, eu poderia usar a relação entre as variáveis para extrair colunas de maior influência no modelo, como por exemplo, criando novas variáveis que seriam o produto da interação entre duas outras variáveis."
   ]
  },
  {
   "cell_type": "markdown",
   "metadata": {},
   "source": [
    "#### Repetindo os mesmos passos para um dataset sem imputação"
   ]
  },
  {
   "cell_type": "code",
   "execution_count": 43,
   "metadata": {},
   "outputs": [
    {
     "name": "stdout",
     "output_type": "stream",
     "text": [
      "Columns with more than 20% NaN values have been removed.\n",
      "Number of columns removed:  38\n",
      "Shape of the dataset after dropping columns:  (172501, 113)\n",
      "Shape of the dataset after removing rows with NaN values: (129606, 113)\n",
      "Dados duplicados:  [False]\n",
      "NaN : 0\n",
      "Target unique values:  [0 1]\n",
      "Unique combinations of the columns in data_noisy with distinct target values:  [1]\n",
      "(0, 113)\n"
     ]
    }
   ],
   "source": [
    "# Repetindo os steps do preprocessamento para obter um dataframe sem imputação para comparar os resultados de treino\n",
    "reduced_data = drop_missing_data_columns(pd.concat([train, test], axis=0))\n",
    "reduced_data = simple_imputation(reduced_data, imputation=False)\n",
    "\n",
    "check_noisy(reduced_data)\n",
    "\n",
    "reduced_data = reduced_data[reduced_data['VAR2'] != 'I']\n",
    "reduced_data_num, reduced_data_cat = split_num_cat(reduced_data)\n",
    "\n",
    "reduced_data_cat['MONTH'] = pd.to_datetime(reduced_data_cat['REF_DATE']).dt.strftime('%B')\n",
    "reduced_data_cat.drop(columns=['REF_DATE', 'VAR148', 'VAR149'], inplace=True)\n",
    "\n",
    "reduced_data_cat_encoded = preprocessing_cat(reduced_data_cat)"
   ]
  },
  {
   "cell_type": "code",
   "execution_count": 44,
   "metadata": {},
   "outputs": [
    {
     "name": "stdout",
     "output_type": "stream",
     "text": [
      "Number of columns to remove:  43\n",
      "Training Corrs Removed Shape:  (129606, 108)\n"
     ]
    }
   ],
   "source": [
    "reduced_data_cat_encoded['TARGET'] = reduced_data_num['TARGET']\n",
    "reduced_data_cat_encoded = drop_low_target_corr(reduced_data_cat_encoded, -0.002, 0.002)\n",
    "\n",
    "all_reduced_data = pd.concat([reduced_data_num, reduced_data_cat_encoded], axis=1).drop(columns=['TARGET'])\n",
    "treated_reduced_data = remove_corr_var(all_reduced_data)"
   ]
  },
  {
   "cell_type": "code",
   "execution_count": 45,
   "metadata": {},
   "outputs": [
    {
     "name": "stdout",
     "output_type": "stream",
     "text": [
      "% Bons Pagadores:  77.51 %\n",
      "% Maus Pagadores:  22.49 %\n"
     ]
    },
    {
     "data": {
      "application/vnd.plotly.v1+json": {
       "config": {
        "plotlyServerURL": "https://plotly.com"
       },
       "data": [
        {
         "marker": {
          "color": "rgba(155, 190, 250, 0.7)"
         },
         "showlegend": false,
         "type": "bar",
         "x": [
          0,
          1
         ],
         "y": [
          77.5072141721834,
          22.492785827816615
         ]
        }
       ],
       "layout": {
        "annotations": [
         {
          "font": {
           "color": "rgba(100, 159, 237, 1)",
           "size": 12
          },
          "showarrow": false,
          "text": "Dados de treino",
          "x": -0.23,
          "xref": "paper",
          "y": 1.1,
          "yref": "paper"
         }
        ],
        "coloraxis": {
         "colorbar": {
          "ticksuffix": "m"
         }
        },
        "height": 500,
        "plot_bgcolor": "rgba(0, 0, 0, 0)",
        "template": {
         "data": {
          "bar": [
           {
            "error_x": {
             "color": "#2a3f5f"
            },
            "error_y": {
             "color": "#2a3f5f"
            },
            "marker": {
             "line": {
              "color": "#E5ECF6",
              "width": 0.5
             },
             "pattern": {
              "fillmode": "overlay",
              "size": 10,
              "solidity": 0.2
             }
            },
            "type": "bar"
           }
          ],
          "barpolar": [
           {
            "marker": {
             "line": {
              "color": "#E5ECF6",
              "width": 0.5
             },
             "pattern": {
              "fillmode": "overlay",
              "size": 10,
              "solidity": 0.2
             }
            },
            "type": "barpolar"
           }
          ],
          "carpet": [
           {
            "aaxis": {
             "endlinecolor": "#2a3f5f",
             "gridcolor": "white",
             "linecolor": "white",
             "minorgridcolor": "white",
             "startlinecolor": "#2a3f5f"
            },
            "baxis": {
             "endlinecolor": "#2a3f5f",
             "gridcolor": "white",
             "linecolor": "white",
             "minorgridcolor": "white",
             "startlinecolor": "#2a3f5f"
            },
            "type": "carpet"
           }
          ],
          "choropleth": [
           {
            "colorbar": {
             "outlinewidth": 0,
             "ticks": ""
            },
            "type": "choropleth"
           }
          ],
          "contour": [
           {
            "colorbar": {
             "outlinewidth": 0,
             "ticks": ""
            },
            "colorscale": [
             [
              0,
              "#0d0887"
             ],
             [
              0.1111111111111111,
              "#46039f"
             ],
             [
              0.2222222222222222,
              "#7201a8"
             ],
             [
              0.3333333333333333,
              "#9c179e"
             ],
             [
              0.4444444444444444,
              "#bd3786"
             ],
             [
              0.5555555555555556,
              "#d8576b"
             ],
             [
              0.6666666666666666,
              "#ed7953"
             ],
             [
              0.7777777777777778,
              "#fb9f3a"
             ],
             [
              0.8888888888888888,
              "#fdca26"
             ],
             [
              1,
              "#f0f921"
             ]
            ],
            "type": "contour"
           }
          ],
          "contourcarpet": [
           {
            "colorbar": {
             "outlinewidth": 0,
             "ticks": ""
            },
            "type": "contourcarpet"
           }
          ],
          "heatmap": [
           {
            "colorbar": {
             "outlinewidth": 0,
             "ticks": ""
            },
            "colorscale": [
             [
              0,
              "#0d0887"
             ],
             [
              0.1111111111111111,
              "#46039f"
             ],
             [
              0.2222222222222222,
              "#7201a8"
             ],
             [
              0.3333333333333333,
              "#9c179e"
             ],
             [
              0.4444444444444444,
              "#bd3786"
             ],
             [
              0.5555555555555556,
              "#d8576b"
             ],
             [
              0.6666666666666666,
              "#ed7953"
             ],
             [
              0.7777777777777778,
              "#fb9f3a"
             ],
             [
              0.8888888888888888,
              "#fdca26"
             ],
             [
              1,
              "#f0f921"
             ]
            ],
            "type": "heatmap"
           }
          ],
          "heatmapgl": [
           {
            "colorbar": {
             "outlinewidth": 0,
             "ticks": ""
            },
            "colorscale": [
             [
              0,
              "#0d0887"
             ],
             [
              0.1111111111111111,
              "#46039f"
             ],
             [
              0.2222222222222222,
              "#7201a8"
             ],
             [
              0.3333333333333333,
              "#9c179e"
             ],
             [
              0.4444444444444444,
              "#bd3786"
             ],
             [
              0.5555555555555556,
              "#d8576b"
             ],
             [
              0.6666666666666666,
              "#ed7953"
             ],
             [
              0.7777777777777778,
              "#fb9f3a"
             ],
             [
              0.8888888888888888,
              "#fdca26"
             ],
             [
              1,
              "#f0f921"
             ]
            ],
            "type": "heatmapgl"
           }
          ],
          "histogram": [
           {
            "marker": {
             "pattern": {
              "fillmode": "overlay",
              "size": 10,
              "solidity": 0.2
             }
            },
            "type": "histogram"
           }
          ],
          "histogram2d": [
           {
            "colorbar": {
             "outlinewidth": 0,
             "ticks": ""
            },
            "colorscale": [
             [
              0,
              "#0d0887"
             ],
             [
              0.1111111111111111,
              "#46039f"
             ],
             [
              0.2222222222222222,
              "#7201a8"
             ],
             [
              0.3333333333333333,
              "#9c179e"
             ],
             [
              0.4444444444444444,
              "#bd3786"
             ],
             [
              0.5555555555555556,
              "#d8576b"
             ],
             [
              0.6666666666666666,
              "#ed7953"
             ],
             [
              0.7777777777777778,
              "#fb9f3a"
             ],
             [
              0.8888888888888888,
              "#fdca26"
             ],
             [
              1,
              "#f0f921"
             ]
            ],
            "type": "histogram2d"
           }
          ],
          "histogram2dcontour": [
           {
            "colorbar": {
             "outlinewidth": 0,
             "ticks": ""
            },
            "colorscale": [
             [
              0,
              "#0d0887"
             ],
             [
              0.1111111111111111,
              "#46039f"
             ],
             [
              0.2222222222222222,
              "#7201a8"
             ],
             [
              0.3333333333333333,
              "#9c179e"
             ],
             [
              0.4444444444444444,
              "#bd3786"
             ],
             [
              0.5555555555555556,
              "#d8576b"
             ],
             [
              0.6666666666666666,
              "#ed7953"
             ],
             [
              0.7777777777777778,
              "#fb9f3a"
             ],
             [
              0.8888888888888888,
              "#fdca26"
             ],
             [
              1,
              "#f0f921"
             ]
            ],
            "type": "histogram2dcontour"
           }
          ],
          "mesh3d": [
           {
            "colorbar": {
             "outlinewidth": 0,
             "ticks": ""
            },
            "type": "mesh3d"
           }
          ],
          "parcoords": [
           {
            "line": {
             "colorbar": {
              "outlinewidth": 0,
              "ticks": ""
             }
            },
            "type": "parcoords"
           }
          ],
          "pie": [
           {
            "automargin": true,
            "type": "pie"
           }
          ],
          "scatter": [
           {
            "fillpattern": {
             "fillmode": "overlay",
             "size": 10,
             "solidity": 0.2
            },
            "type": "scatter"
           }
          ],
          "scatter3d": [
           {
            "line": {
             "colorbar": {
              "outlinewidth": 0,
              "ticks": ""
             }
            },
            "marker": {
             "colorbar": {
              "outlinewidth": 0,
              "ticks": ""
             }
            },
            "type": "scatter3d"
           }
          ],
          "scattercarpet": [
           {
            "marker": {
             "colorbar": {
              "outlinewidth": 0,
              "ticks": ""
             }
            },
            "type": "scattercarpet"
           }
          ],
          "scattergeo": [
           {
            "marker": {
             "colorbar": {
              "outlinewidth": 0,
              "ticks": ""
             }
            },
            "type": "scattergeo"
           }
          ],
          "scattergl": [
           {
            "marker": {
             "colorbar": {
              "outlinewidth": 0,
              "ticks": ""
             }
            },
            "type": "scattergl"
           }
          ],
          "scattermapbox": [
           {
            "marker": {
             "colorbar": {
              "outlinewidth": 0,
              "ticks": ""
             }
            },
            "type": "scattermapbox"
           }
          ],
          "scatterpolar": [
           {
            "marker": {
             "colorbar": {
              "outlinewidth": 0,
              "ticks": ""
             }
            },
            "type": "scatterpolar"
           }
          ],
          "scatterpolargl": [
           {
            "marker": {
             "colorbar": {
              "outlinewidth": 0,
              "ticks": ""
             }
            },
            "type": "scatterpolargl"
           }
          ],
          "scatterternary": [
           {
            "marker": {
             "colorbar": {
              "outlinewidth": 0,
              "ticks": ""
             }
            },
            "type": "scatterternary"
           }
          ],
          "surface": [
           {
            "colorbar": {
             "outlinewidth": 0,
             "ticks": ""
            },
            "colorscale": [
             [
              0,
              "#0d0887"
             ],
             [
              0.1111111111111111,
              "#46039f"
             ],
             [
              0.2222222222222222,
              "#7201a8"
             ],
             [
              0.3333333333333333,
              "#9c179e"
             ],
             [
              0.4444444444444444,
              "#bd3786"
             ],
             [
              0.5555555555555556,
              "#d8576b"
             ],
             [
              0.6666666666666666,
              "#ed7953"
             ],
             [
              0.7777777777777778,
              "#fb9f3a"
             ],
             [
              0.8888888888888888,
              "#fdca26"
             ],
             [
              1,
              "#f0f921"
             ]
            ],
            "type": "surface"
           }
          ],
          "table": [
           {
            "cells": {
             "fill": {
              "color": "#EBF0F8"
             },
             "line": {
              "color": "white"
             }
            },
            "header": {
             "fill": {
              "color": "#C8D4E3"
             },
             "line": {
              "color": "white"
             }
            },
            "type": "table"
           }
          ]
         },
         "layout": {
          "annotationdefaults": {
           "arrowcolor": "#2a3f5f",
           "arrowhead": 0,
           "arrowwidth": 1
          },
          "autotypenumbers": "strict",
          "coloraxis": {
           "colorbar": {
            "outlinewidth": 0,
            "ticks": ""
           }
          },
          "colorscale": {
           "diverging": [
            [
             0,
             "#8e0152"
            ],
            [
             0.1,
             "#c51b7d"
            ],
            [
             0.2,
             "#de77ae"
            ],
            [
             0.3,
             "#f1b6da"
            ],
            [
             0.4,
             "#fde0ef"
            ],
            [
             0.5,
             "#f7f7f7"
            ],
            [
             0.6,
             "#e6f5d0"
            ],
            [
             0.7,
             "#b8e186"
            ],
            [
             0.8,
             "#7fbc41"
            ],
            [
             0.9,
             "#4d9221"
            ],
            [
             1,
             "#276419"
            ]
           ],
           "sequential": [
            [
             0,
             "#0d0887"
            ],
            [
             0.1111111111111111,
             "#46039f"
            ],
            [
             0.2222222222222222,
             "#7201a8"
            ],
            [
             0.3333333333333333,
             "#9c179e"
            ],
            [
             0.4444444444444444,
             "#bd3786"
            ],
            [
             0.5555555555555556,
             "#d8576b"
            ],
            [
             0.6666666666666666,
             "#ed7953"
            ],
            [
             0.7777777777777778,
             "#fb9f3a"
            ],
            [
             0.8888888888888888,
             "#fdca26"
            ],
            [
             1,
             "#f0f921"
            ]
           ],
           "sequentialminus": [
            [
             0,
             "#0d0887"
            ],
            [
             0.1111111111111111,
             "#46039f"
            ],
            [
             0.2222222222222222,
             "#7201a8"
            ],
            [
             0.3333333333333333,
             "#9c179e"
            ],
            [
             0.4444444444444444,
             "#bd3786"
            ],
            [
             0.5555555555555556,
             "#d8576b"
            ],
            [
             0.6666666666666666,
             "#ed7953"
            ],
            [
             0.7777777777777778,
             "#fb9f3a"
            ],
            [
             0.8888888888888888,
             "#fdca26"
            ],
            [
             1,
             "#f0f921"
            ]
           ]
          },
          "colorway": [
           "#636efa",
           "#EF553B",
           "#00cc96",
           "#ab63fa",
           "#FFA15A",
           "#19d3f3",
           "#FF6692",
           "#B6E880",
           "#FF97FF",
           "#FECB52"
          ],
          "font": {
           "color": "#2a3f5f"
          },
          "geo": {
           "bgcolor": "white",
           "lakecolor": "white",
           "landcolor": "#E5ECF6",
           "showlakes": true,
           "showland": true,
           "subunitcolor": "white"
          },
          "hoverlabel": {
           "align": "left"
          },
          "hovermode": "closest",
          "mapbox": {
           "style": "light"
          },
          "paper_bgcolor": "white",
          "plot_bgcolor": "#E5ECF6",
          "polar": {
           "angularaxis": {
            "gridcolor": "white",
            "linecolor": "white",
            "ticks": ""
           },
           "bgcolor": "#E5ECF6",
           "radialaxis": {
            "gridcolor": "white",
            "linecolor": "white",
            "ticks": ""
           }
          },
          "scene": {
           "xaxis": {
            "backgroundcolor": "#E5ECF6",
            "gridcolor": "white",
            "gridwidth": 2,
            "linecolor": "white",
            "showbackground": true,
            "ticks": "",
            "zerolinecolor": "white"
           },
           "yaxis": {
            "backgroundcolor": "#E5ECF6",
            "gridcolor": "white",
            "gridwidth": 2,
            "linecolor": "white",
            "showbackground": true,
            "ticks": "",
            "zerolinecolor": "white"
           },
           "zaxis": {
            "backgroundcolor": "#E5ECF6",
            "gridcolor": "white",
            "gridwidth": 2,
            "linecolor": "white",
            "showbackground": true,
            "ticks": "",
            "zerolinecolor": "white"
           }
          },
          "shapedefaults": {
           "line": {
            "color": "#2a3f5f"
           }
          },
          "ternary": {
           "aaxis": {
            "gridcolor": "white",
            "linecolor": "white",
            "ticks": ""
           },
           "baxis": {
            "gridcolor": "white",
            "linecolor": "white",
            "ticks": ""
           },
           "bgcolor": "#E5ECF6",
           "caxis": {
            "gridcolor": "white",
            "linecolor": "white",
            "ticks": ""
           }
          },
          "title": {
           "x": 0.05
          },
          "xaxis": {
           "automargin": true,
           "gridcolor": "white",
           "linecolor": "white",
           "ticks": "",
           "title": {
            "standoff": 15
           },
           "zerolinecolor": "white",
           "zerolinewidth": 2
          },
          "yaxis": {
           "automargin": true,
           "gridcolor": "white",
           "linecolor": "white",
           "ticks": "",
           "title": {
            "standoff": 15
           },
           "zerolinecolor": "white",
           "zerolinewidth": 2
          }
         }
        },
        "title": {
         "text": "% DE PAGADORES"
        },
        "width": 400,
        "xaxis": {
         "ticktext": [
          "Bons (0)",
          "Maus (1)"
         ],
         "tickvals": [
          0,
          1
         ]
        },
        "yaxis": {
         "linecolor": "rgba(169, 169, 169, 1)",
         "linewidth": 1,
         "showline": true,
         "showticksuffix": "all",
         "tickcolor": "rgba(169, 169, 169, 1)",
         "ticklen": 10,
         "ticks": "outside",
         "ticksuffix": "%",
         "tickwidth": 1
        }
       }
      }
     },
     "metadata": {},
     "output_type": "display_data"
    }
   ],
   "source": [
    "percent_good, percent_bad = percentage_target(reduced_data)\n",
    "plot_class_imbalance(percent_bad, percent_good)"
   ]
  },
  {
   "cell_type": "markdown",
   "metadata": {},
   "source": [
    "#### Separando variáveis de treino e teste, separando coluna target e dando drop na coluna ID"
   ]
  },
  {
   "cell_type": "code",
   "execution_count": 46,
   "metadata": {},
   "outputs": [
    {
     "name": "stdout",
     "output_type": "stream",
     "text": [
      "Total data shape:  (172500, 111)\n",
      "Target shape:  (172500,)\n",
      "Train data shape:  (120750, 112)\n",
      "Test data shape:  (51750, 111)\n"
     ]
    }
   ],
   "source": [
    "# Imputed\n",
    "target = data_num['TARGET']\n",
    "test_data = treated_data[treated_data[\"ID\"].isin(test_ids)]\n",
    "\n",
    "total_data = treated_data.drop(columns=\"ID\")\n",
    "train_data = treated_data[~treated_data['ID'].isin(test_ids)]\n",
    "test_data = test_data.drop(columns=\"ID\")\n",
    "\n",
    "print('Total data shape: ', total_data.shape)\n",
    "print('Target shape: ', target.shape)\n",
    "print('Train data shape: ', train_data.shape)\n",
    "print('Test data shape: ', test_data.shape)"
   ]
  },
  {
   "cell_type": "code",
   "execution_count": 47,
   "metadata": {},
   "outputs": [
    {
     "name": "stdout",
     "output_type": "stream",
     "text": [
      "Total reduced_data shape:  (129606, 107)\n",
      "Target shape:  (129606,)\n",
      "Train reduced_data shape:  (90690, 108)\n",
      "Test reduced_data shape:  (38916, 107)\n"
     ]
    }
   ],
   "source": [
    "# Reduced\n",
    "reduced_target = reduced_data_num['TARGET']\n",
    "test_reduced_data = treated_reduced_data[treated_reduced_data[\"ID\"].isin(test_ids)]\n",
    "\n",
    "total_reduced_data = treated_reduced_data.drop(columns=\"ID\")\n",
    "train_reduced_data = treated_reduced_data[~treated_reduced_data['ID'].isin(test_ids)]\n",
    "test_reduced_data = test_reduced_data.drop(columns=\"ID\")\n",
    "\n",
    "print('Total reduced_data shape: ', total_reduced_data.shape)\n",
    "print('Target shape: ', target.shape)\n",
    "print('Train reduced_data shape: ', train_reduced_data.shape)\n",
    "print('Test reduced_data shape: ', test_reduced_data.shape)"
   ]
  },
  {
   "cell_type": "code",
   "execution_count": 51,
   "metadata": {},
   "outputs": [],
   "source": [
    "target = data_num['TARGET']\n",
    "reduced_target = reduced_data_num['TARGET']"
   ]
  },
  {
   "cell_type": "markdown",
   "metadata": {},
   "source": [
    "# Treinamento\n",
    "Nesta sessão vou treinar uma seleção de modelos de machine learning a fim de comparar as performances.\n",
    "\n",
    "Para cada modelo vou fazer também uma otimização de hiperparâmetros e usar k-fold cross-validation para obter uma avaliação de performance média para cada modelo.\n",
    "\n",
    "Os modelos selecionados serão: Logistic Regression, Random Forest e Gradient Boosting (ATENÇAO OVERFITTING)\n",
    "\n",
    "Outro variante vai ser o encoding das variáveis categóricas (Ordinal ou OHE) e a utilização das variáveis categóricas não encodificadas no modelo de Random Forest.\n",
    "\n",
    "Outro variante será utilizar um conjunto de dados com dimensionalidade reduzida (PCA), e outro com Feature Selection."
   ]
  },
  {
   "cell_type": "markdown",
   "metadata": {},
   "source": [
    "#### Métricas de Avaliação\n",
    "\n",
    "Como a variável de target é desbalanceada entre as classes, a acurácia não é tão indicada como métrica de avaliação. Vou usar então a métrica ROC-AUC, F1, Precision e Recall, para avaliar meus modelos."
   ]
  },
  {
   "cell_type": "code",
   "execution_count": 48,
   "metadata": {},
   "outputs": [],
   "source": [
    "# imprimindo métricas\n",
    "def print_results(results, scores):\n",
    "    for metric in results:\n",
    "        avg = results[metric].mean()\n",
    "        std = results[metric].std()\n",
    "        print(metric.upper())\n",
    "        print(\"Average: %.2f\" % (avg * 100))\n",
    "        print(\"Interval: %.2f, %.2f\" % ((avg - 2*std)*100, (avg + 2*std)*100))\n",
    "    "
   ]
  },
  {
   "cell_type": "markdown",
   "metadata": {},
   "source": [
    "## Baselines"
   ]
  },
  {
   "cell_type": "markdown",
   "metadata": {},
   "source": [
    "### Regressão Logística"
   ]
  },
  {
   "cell_type": "code",
   "execution_count": 68,
   "metadata": {},
   "outputs": [],
   "source": [
    "def log_reg(X, y, pca, pca_components, minmax):\n",
    "    from sklearn.model_selection import cross_val_score, train_test_split\n",
    "    from sklearn.model_selection import StratifiedKFold\n",
    "    from sklearn.preprocessing import StandardScaler\n",
    "    from sklearn.preprocessing import MinMaxScaler\n",
    "    from sklearn.decomposition import PCA\n",
    "    from sklearn.pipeline import Pipeline\n",
    "    from sklearn.linear_model import LogisticRegression\n",
    "    from sklearn.metrics import classification_report\n",
    "    from sklearn.metrics import roc_auc_score\n",
    "    from sklearn.model_selection import GridSearchCV\n",
    "\n",
    "    X_train, X_test, y_train, y_test = train_test_split(X, y, test_size=0.2, random_state=42, stratify=y)\n",
    "    cv = StratifiedKFold(n_splits=5, shuffle=True)\n",
    "    param_grid = {'classifier__C': [0.001, 0.01, 0.1, 1]}\n",
    "\n",
    "    if pca and not minmax:\n",
    "        pipeline = Pipeline([\n",
    "            ('scaler', StandardScaler()),\n",
    "            ('pca', PCA(n_components=pca_components)),\n",
    "            ('classifier', LogisticRegression(penalty='l1', solver='liblinear', class_weight='balanced', random_state=42))\n",
    "        ])\n",
    "    elif pca and minmax:\n",
    "        pipeline = Pipeline([\n",
    "            ('scaler', MinMaxScaler()),\n",
    "            ('pca', PCA(n_components=pca_components)),\n",
    "            ('classifier', LogisticRegression(penalty='l1', solver='liblinear', class_weight='balanced', random_state=42))\n",
    "        ])\n",
    "    else:\n",
    "        pipeline = Pipeline([\n",
    "            ('scaler', StandardScaler()),\n",
    "            ('classifier', LogisticRegression())\n",
    "        ])\n",
    "\n",
    "\n",
    "    grid_search = GridSearchCV(pipeline, param_grid, cv=cv, scoring='roc_auc')\n",
    "    grid_search.fit(X_train, y_train)\n",
    "    print(\"Best parameter (C):\", grid_search.best_params_)\n",
    "    best_model = grid_search.best_estimator_\n",
    "\n",
    "    y_pred = best_model.predict(X_test)\n",
    "    test_roc_auc = roc_auc_score(y_test, y_pred)\n",
    "\n",
    "    print(\"Test ROC-AUC score:\", test_roc_auc)\n",
    "    print(\"Classification Report:\")\n",
    "    print(classification_report(y_test, y_pred))\n",
    "    \n",
    "    '''\n",
    "    cv_scores = cross_val_score(pipeline, X_train, y_train, cv=5, scoring='roc_auc')\n",
    "    pipeline.fit(X_train, y_train)\n",
    "    y_proba = pipeline.predict_proba(X_test)\n",
    "    test_roc_auc = roc_auc_score(y_test, y_proba[:, 1], multi_class='ovr')\n",
    "    y_pred = pipeline.predict(X_test)\n",
    "    report = classification_report(y_test, y_pred)\n",
    "\n",
    "    print(\"Cross-validation ROC-AUC scores:\", cv_scores)\n",
    "    print(\"Mean CV ROC-AUC score:\", cv_scores.mean())\n",
    "    print(\"Test ROC-AUC score:\", test_roc_auc)\n",
    "    print(\"Classification Report:\\n\", report)\n",
    "    '''"
   ]
  },
  {
   "cell_type": "code",
   "execution_count": 52,
   "metadata": {},
   "outputs": [
    {
     "name": "stdout",
     "output_type": "stream",
     "text": [
      "Best parameter (C): {'classifier__C': 0.001}\n",
      "Test ROC-AUC score: 0.5430939705218785\n",
      "Classification Report:\n",
      "              precision    recall  f1-score   support\n",
      "\n",
      "           0       0.77      0.96      0.85     26047\n",
      "           1       0.49      0.13      0.21      8453\n",
      "\n",
      "    accuracy                           0.75     34500\n",
      "   macro avg       0.63      0.54      0.53     34500\n",
      "weighted avg       0.70      0.75      0.70     34500\n",
      "\n"
     ]
    }
   ],
   "source": [
    "log_reg(total_data, target, pca=False, pca_components = 70, minmax=False)"
   ]
  },
  {
   "cell_type": "code",
   "execution_count": 53,
   "metadata": {},
   "outputs": [
    {
     "name": "stdout",
     "output_type": "stream",
     "text": [
      "Best parameter (C): {'classifier__C': 0.01}\n",
      "Test ROC-AUC score: 0.6257320922537125\n",
      "Classification Report:\n",
      "              precision    recall  f1-score   support\n",
      "\n",
      "           0       0.83      0.70      0.76     26047\n",
      "           1       0.37      0.56      0.45      8453\n",
      "\n",
      "    accuracy                           0.66     34500\n",
      "   macro avg       0.60      0.63      0.60     34500\n",
      "weighted avg       0.72      0.66      0.68     34500\n",
      "\n"
     ]
    }
   ],
   "source": [
    "log_reg(total_data, target, pca=True, pca_components = 70, minmax=False)"
   ]
  },
  {
   "cell_type": "code",
   "execution_count": 54,
   "metadata": {},
   "outputs": [
    {
     "name": "stdout",
     "output_type": "stream",
     "text": [
      "Best parameter (C): {'classifier__C': 0.1}\n",
      "Test ROC-AUC score: 0.6406520286392677\n",
      "Classification Report:\n",
      "              precision    recall  f1-score   support\n",
      "\n",
      "           0       0.85      0.73      0.78     20091\n",
      "           1       0.37      0.55      0.44      5831\n",
      "\n",
      "    accuracy                           0.69     25922\n",
      "   macro avg       0.61      0.64      0.61     25922\n",
      "weighted avg       0.74      0.69      0.71     25922\n",
      "\n"
     ]
    }
   ],
   "source": [
    "log_reg(total_reduced_data, reduced_target, pca=True, pca_components = 70, minmax=False)"
   ]
  },
  {
   "cell_type": "code",
   "execution_count": 69,
   "metadata": {},
   "outputs": [
    {
     "name": "stdout",
     "output_type": "stream",
     "text": [
      "Best parameter (C): {'classifier__C': 0.1}\n",
      "Test ROC-AUC score: 0.633697272505282\n",
      "Classification Report:\n",
      "              precision    recall  f1-score   support\n",
      "\n",
      "           0       0.84      0.73      0.78     20091\n",
      "           1       0.37      0.53      0.44      5831\n",
      "\n",
      "    accuracy                           0.69     25922\n",
      "   macro avg       0.61      0.63      0.61     25922\n",
      "weighted avg       0.74      0.69      0.71     25922\n",
      "\n"
     ]
    }
   ],
   "source": [
    "log_reg(total_reduced_data, reduced_target, pca=True, pca_components = 70, minmax=True)"
   ]
  },
  {
   "cell_type": "markdown",
   "metadata": {},
   "source": [
    "## Random-forest"
   ]
  },
  {
   "cell_type": "code",
   "execution_count": 61,
   "metadata": {},
   "outputs": [],
   "source": [
    "def random_forest(X, y, pca, n_estimators, score):\n",
    "    from sklearn.model_selection import cross_val_score, train_test_split\n",
    "\n",
    "    from sklearn.preprocessing import StandardScaler\n",
    "    from sklearn.model_selection import StratifiedKFold\n",
    "    from sklearn.pipeline import Pipeline\n",
    "    from sklearn.decomposition import PCA\n",
    "    from sklearn.ensemble import RandomForestClassifier\n",
    "    from sklearn.metrics import classification_report\n",
    "    from sklearn.metrics import roc_auc_score\n",
    "    from sklearn.model_selection import GridSearchCV\n",
    "\n",
    "    X_train, X_test, y_train, y_test = train_test_split(X, y, test_size=0.2, random_state=42, stratify=y)\n",
    "    cv = StratifiedKFold(n_splits=5, shuffle=True)\n",
    "    # param_grid = {'classifier__n_estimators': [100, 200]}\n",
    "\n",
    "    if pca==True:\n",
    "        pipeline = Pipeline([\n",
    "            ('scaler', StandardScaler()),\n",
    "            ('pca', PCA(n_components=70)),\n",
    "            ('classifier', RandomForestClassifier(n_estimators=n_estimators, random_state=42, class_weight='balanced'))\n",
    "        ])\n",
    "    #\n",
    "    else:\n",
    "        pipeline = Pipeline([\n",
    "            ('classifier', RandomForestClassifier(n_estimators=n_estimators, random_state=42, class_weight='balanced'))\n",
    "        ])\n",
    "    \n",
    "    '''\n",
    "    grid_search = GridSearchCV(pipeline, cv=cv, scoring='roc_auc') # param_grid, scoring='roc_auc_ovr_weighted'\n",
    "    grid_search.fit(X_train, y_train)\n",
    "    print(\"Best parameter (C):\", grid_search.best_params_)\n",
    "    best_model = grid_search.best_estimator_\n",
    "    y_pred = best_model.predict(X_test)\n",
    "    test_roc_auc = roc_auc_score(y_test, y_pred, multi_class='ovr')\n",
    "    print(\"Test ROC-AUC score:\", test_roc_auc)\n",
    "    print(\"Classification Report:\")\n",
    "    print(classification_report(y_test, y_pred))\n",
    "    '''\n",
    "    \n",
    "    cv_scores = cross_val_score(pipeline, X_train, y_train, cv=cv, scoring=score)\n",
    "    pipeline.fit(X_train, y_train)\n",
    "\n",
    "    y_proba = pipeline.predict_proba(X_test)\n",
    "    test_roc_auc = roc_auc_score(y_test, y_proba[:, 1])\n",
    "\n",
    "    y_pred = pipeline.predict(X_test)\n",
    "    report = classification_report(y_test, y_pred)\n",
    "\n",
    "    print(\"Cross-validation ROC-AUC scores:\", cv_scores)\n",
    "    print(\"Mean CV ROC-AUC score:\", cv_scores.mean())\n",
    "    print(\"Test ROC-AUC score:\", test_roc_auc)\n",
    "    print(\"Classification Report:\\n\", report)"
   ]
  },
  {
   "cell_type": "markdown",
   "metadata": {},
   "source": [
    "Imputed data"
   ]
  },
  {
   "cell_type": "code",
   "execution_count": 56,
   "metadata": {},
   "outputs": [
    {
     "name": "stdout",
     "output_type": "stream",
     "text": [
      "Cross-validation ROC-AUC scores: [0.67483257 0.6764967  0.67217563 0.67198771 0.67762912]\n",
      "Mean CV ROC-AUC score: 0.674624345046297\n",
      "Test ROC-AUC score: 0.6733113798859474\n",
      "Classification Report:\n",
      "               precision    recall  f1-score   support\n",
      "\n",
      "           0       0.77      0.96      0.86     26047\n",
      "           1       0.49      0.11      0.18      8453\n",
      "\n",
      "    accuracy                           0.75     34500\n",
      "   macro avg       0.63      0.54      0.52     34500\n",
      "weighted avg       0.70      0.75      0.69     34500\n",
      "\n"
     ]
    }
   ],
   "source": [
    "random_forest(total_data, target, scaler=True, n_estimators=100, score='roc_auc_ovr_weighted')"
   ]
  },
  {
   "cell_type": "code",
   "execution_count": 66,
   "metadata": {},
   "outputs": [
    {
     "name": "stdout",
     "output_type": "stream",
     "text": [
      "Cross-validation ROC-AUC scores: [0.16805081 0.16660532 0.16364971 0.17311634 0.16956152]\n",
      "Mean CV ROC-AUC score: 0.1681967385733249\n",
      "Test ROC-AUC score: 0.6733113798859474\n",
      "Classification Report:\n",
      "               precision    recall  f1-score   support\n",
      "\n",
      "           0       0.77      0.96      0.86     26047\n",
      "           1       0.49      0.11      0.18      8453\n",
      "\n",
      "    accuracy                           0.75     34500\n",
      "   macro avg       0.63      0.54      0.52     34500\n",
      "weighted avg       0.70      0.75      0.69     34500\n",
      "\n"
     ]
    }
   ],
   "source": [
    "random_forest(total_data, target, scaler=True, n_estimators=100, score='f1')"
   ]
  },
  {
   "cell_type": "code",
   "execution_count": 62,
   "metadata": {},
   "outputs": [
    {
     "name": "stdout",
     "output_type": "stream",
     "text": [
      "Cross-validation ROC-AUC scores: [0.09878734 0.09863946 0.09906846 0.104983   0.09788555]\n",
      "Mean CV ROC-AUC score: 0.09987276140165031\n",
      "Test ROC-AUC score: 0.6733113798859474\n",
      "Classification Report:\n",
      "               precision    recall  f1-score   support\n",
      "\n",
      "           0       0.77      0.96      0.86     26047\n",
      "           1       0.49      0.11      0.18      8453\n",
      "\n",
      "    accuracy                           0.75     34500\n",
      "   macro avg       0.63      0.54      0.52     34500\n",
      "weighted avg       0.70      0.75      0.69     34500\n",
      "\n"
     ]
    }
   ],
   "source": [
    "random_forest(total_data, target, scaler=True, n_estimators=100, score='recall')"
   ]
  },
  {
   "cell_type": "code",
   "execution_count": 58,
   "metadata": {},
   "outputs": [
    {
     "name": "stdout",
     "output_type": "stream",
     "text": [
      "Cross-validation ROC-AUC scores: [0.67627631 0.67259925 0.67632292 0.6842597  0.67683177]\n",
      "Mean CV ROC-AUC score: 0.6772579898872207\n",
      "Test ROC-AUC score: 0.6776415842229998\n",
      "Classification Report:\n",
      "               precision    recall  f1-score   support\n",
      "\n",
      "           0       0.77      0.96      0.86     26047\n",
      "           1       0.49      0.11      0.17      8453\n",
      "\n",
      "    accuracy                           0.75     34500\n",
      "   macro avg       0.63      0.53      0.51     34500\n",
      "weighted avg       0.70      0.75      0.69     34500\n",
      "\n"
     ]
    }
   ],
   "source": [
    "random_forest(total_data, target, scaler=True, n_estimators=200, score='roc_auc_ovr_weighted')"
   ]
  },
  {
   "cell_type": "markdown",
   "metadata": {},
   "source": [
    "Reduced data"
   ]
  },
  {
   "cell_type": "code",
   "execution_count": 57,
   "metadata": {},
   "outputs": [
    {
     "name": "stdout",
     "output_type": "stream",
     "text": [
      "Cross-validation ROC-AUC scores: [0.68916786 0.68342427 0.68548555 0.68598829 0.68043775]\n",
      "Mean CV ROC-AUC score: 0.6849007442010768\n",
      "Test ROC-AUC score: 0.6930410424371546\n",
      "Classification Report:\n",
      "               precision    recall  f1-score   support\n",
      "\n",
      "           0       0.79      0.98      0.87     20091\n",
      "           1       0.55      0.10      0.17      5831\n",
      "\n",
      "    accuracy                           0.78     25922\n",
      "   macro avg       0.67      0.54      0.52     25922\n",
      "weighted avg       0.73      0.78      0.71     25922\n",
      "\n"
     ]
    }
   ],
   "source": [
    "random_forest(total_reduced_data, reduced_target, scaler=True, n_estimators=100, score='roc_auc_ovr_weighted')"
   ]
  },
  {
   "cell_type": "code",
   "execution_count": 67,
   "metadata": {},
   "outputs": [
    {
     "name": "stdout",
     "output_type": "stream",
     "text": [
      "Cross-validation ROC-AUC scores: [0.14233038 0.1517341  0.14615385 0.15985401 0.15605153]\n",
      "Mean CV ROC-AUC score: 0.15122477631529946\n",
      "Test ROC-AUC score: 0.6930410424371546\n",
      "Classification Report:\n",
      "               precision    recall  f1-score   support\n",
      "\n",
      "           0       0.79      0.98      0.87     20091\n",
      "           1       0.55      0.10      0.17      5831\n",
      "\n",
      "    accuracy                           0.78     25922\n",
      "   macro avg       0.67      0.54      0.52     25922\n",
      "weighted avg       0.73      0.78      0.71     25922\n",
      "\n"
     ]
    }
   ],
   "source": [
    "random_forest(total_reduced_data, reduced_target, scaler=True, n_estimators=100, score='f1')"
   ]
  },
  {
   "cell_type": "code",
   "execution_count": 64,
   "metadata": {},
   "outputs": [],
   "source": [
    "def custom_scorer(y_true, y_pred):\n",
    "    from sklearn.metrics import roc_auc_score, recall_score\n",
    "\n",
    "    roc_auc = roc_auc_score(y_true, y_pred)\n",
    "    recall = recall_score(y_true, y_pred)\n",
    "    # Combine the two metrics into a single score (e.g., average, weighted sum, etc.)\n",
    "    combined_score = (roc_auc + recall) / 2\n",
    "    return combined_score"
   ]
  },
  {
   "cell_type": "code",
   "execution_count": 65,
   "metadata": {},
   "outputs": [
    {
     "name": "stdout",
     "output_type": "stream",
     "text": [
      "Cross-validation ROC-AUC scores: [0.30934591 0.30368634 0.30906545 0.31442444 0.30513848]\n",
      "Mean CV ROC-AUC score: 0.30833212421446676\n",
      "Test ROC-AUC score: 0.6930410424371546\n",
      "Classification Report:\n",
      "               precision    recall  f1-score   support\n",
      "\n",
      "           0       0.79      0.98      0.87     20091\n",
      "           1       0.55      0.10      0.17      5831\n",
      "\n",
      "    accuracy                           0.78     25922\n",
      "   macro avg       0.67      0.54      0.52     25922\n",
      "weighted avg       0.73      0.78      0.71     25922\n",
      "\n"
     ]
    }
   ],
   "source": [
    "from sklearn.metrics import make_scorer\n",
    "custom_scorer = make_scorer(custom_scorer)\n",
    "random_forest(total_reduced_data, reduced_target, scaler=True, n_estimators=100, score=custom_scorer)"
   ]
  },
  {
   "cell_type": "markdown",
   "metadata": {},
   "source": [
    "## Gradient Boosting"
   ]
  },
  {
   "cell_type": "code",
   "execution_count": null,
   "metadata": {},
   "outputs": [],
   "source": [
    "def gradient_boosting(X, y):\n",
    "    from sklearn.model_selection import train_test_split, cross_val_score, StratifiedKFold\n",
    "    from sklearn.ensemble import GradientBoostingClassifier\n",
    "    from sklearn.preprocessing import StandardScaler\n",
    "    from sklearn.pipeline import Pipeline\n",
    "    from sklearn.metrics import classification_report\n",
    "    from sklearn.metrics import roc_auc_score\n",
    "    from sklearn.utils import class_weight\n",
    "\n",
    "    X_train, X_test, y_train, y_test = train_test_split(X, y, test_size=0.2, random_state=42, stratify=y)\n",
    "\n",
    "    class_weights = class_weight.compute_class_weight('balanced', classes=np.unique(y_train), y=y_train)\n",
    "\n",
    "    gb_clf = GradientBoostingClassifier()\n",
    "    \n",
    "    pipeline = Pipeline([\n",
    "        ('scaler', StandardScaler()),\n",
    "        ('gb_clf', gb_clf)\n",
    "        ])\n",
    "\n",
    "    cv = StratifiedKFold(n_splits=5, shuffle=True, random_state=42)\n",
    "    cv_roc_auc = cross_val_score(pipeline, X_train, y_train, cv=cv, scoring='roc_auc')\n",
    "\n",
    "    pipeline.fit(X_train, y_train, gb_clf__sample_weight=class_weights[y_train])\n",
    "\n",
    "    y_pred_proba = gb_clf.predict_proba(X_test)[:, 1]\n",
    "    test_roc_auc = roc_auc_score(y_test, y_pred_proba)\n",
    "\n",
    "    y_pred = gb_clf.predict(X_test)\n",
    "    classification_rep = classification_report(y_test, y_pred)\n",
    "\n",
    "    print(\"Cross-Validation ROC AUC Scores:\", cv_roc_auc)\n",
    "    print(\"Mean Cross-Validation ROC AUC:\", np.mean(cv_roc_auc))\n",
    "    print(\"Test ROC AUC:\", test_roc_auc)\n",
    "    print(\"Classification Report on Testing Set:\")\n",
    "    print(classification_rep)    "
   ]
  },
  {
   "cell_type": "code",
   "execution_count": null,
   "metadata": {},
   "outputs": [],
   "source": [
    "gradient_boosting(total_data, target)"
   ]
  },
  {
   "cell_type": "markdown",
   "metadata": {},
   "source": [
    "# Análise financeira"
   ]
  },
  {
   "cell_type": "markdown",
   "metadata": {},
   "source": []
  },
  {
   "cell_type": "markdown",
   "metadata": {},
   "source": [
    "# Escoragem da base Out-of-time"
   ]
  },
  {
   "cell_type": "code",
   "execution_count": null,
   "metadata": {},
   "outputs": [],
   "source": [
    "oot_data = pd.read_csv('oot.gz', compression='gzip')\n",
    "print(\"Formato dataset: \", oot_data.shape)\n",
    "oot_data.head(5)"
   ]
  },
  {
   "cell_type": "code",
   "execution_count": null,
   "metadata": {},
   "outputs": [],
   "source": [
    "def predict_oot(best_model, oot_data):\n",
    "\n",
    "    from sklearn.metrics import roc_auc_score, f1_score, precision_score, recall_score\n",
    "\n",
    "    features = total_data.columns\n",
    "    X_oot = oot_data[features]\n",
    "\n",
    "    # Assuming 'target' is your target variable\n",
    "    # Select the target variable from the OOT dataset\n",
    "    y_oot = oot_data['target']\n",
    "\n",
    "    # Probabilidades da classe positiva\n",
    "    y_pred_proba_oot = best_model.predict_proba(X_oot)[:, 1]\n",
    "    # ROC AUC score\n",
    "    roc_auc_oot = roc_auc_score(y_oot, y_pred_proba_oot)\n",
    "    print(\"ROC AUC on the OOT dataset:\", roc_auc_oot)\n",
    "\n",
    "    \n",
    "    y_pred_oot = best_model.predict(X_oot)\n",
    "    # F1 score\n",
    "    f1_oot = f1_score(y_oot, y_pred_oot)\n",
    "    print(\"F1 score on the OOT dataset:\", f1_oot)\n",
    "    # Precision\n",
    "    precision_oot = precision_score(y_oot, y_pred_oot)\n",
    "    print(\"Precision on the OOT dataset:\", precision_oot)\n",
    "    # Recall\n",
    "    recall_oot = recall_score(y_oot, y_pred_oot)\n",
    "    print(\"Recall on the OOT dataset:\", recall_oot)"
   ]
  }
 ],
 "metadata": {
  "kernelspec": {
   "display_name": "class",
   "language": "python",
   "name": "python3"
  },
  "language_info": {
   "codemirror_mode": {
    "name": "ipython",
    "version": 3
   },
   "file_extension": ".py",
   "mimetype": "text/x-python",
   "name": "python",
   "nbconvert_exporter": "python",
   "pygments_lexer": "ipython3",
   "version": "3.11.4"
  }
 },
 "nbformat": 4,
 "nbformat_minor": 2
}
