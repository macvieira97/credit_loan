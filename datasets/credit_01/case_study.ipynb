{
 "cells": [
  {
   "cell_type": "markdown",
   "metadata": {},
   "source": [
    "# Concessão de Crédito - Estudo de Caso - Neurotech\n",
    "Mariana Vieira, 2024"
   ]
  },
  {
   "cell_type": "markdown",
   "metadata": {},
   "source": [
    "# Entendimento da base e análise exploratória dos dados"
   ]
  },
  {
   "cell_type": "code",
   "execution_count": 231,
   "metadata": {},
   "outputs": [],
   "source": [
    "import numpy as np\n",
    "import pandas as pd\n",
    "import seaborn as sns\n",
    "import matplotlib.pyplot as plt"
   ]
  },
  {
   "cell_type": "code",
   "execution_count": 232,
   "metadata": {},
   "outputs": [
    {
     "name": "stdout",
     "output_type": "stream",
     "text": [
      "Formato dataset:  (120750, 151)\n",
      "<class 'pandas.core.frame.DataFrame'>\n",
      "RangeIndex: 120750 entries, 0 to 120749\n",
      "Columns: 151 entries, REF_DATE to ID\n",
      "dtypes: float64(34), int64(3), object(114)\n",
      "memory usage: 139.1+ MB\n",
      "None\n"
     ]
    },
    {
     "data": {
      "text/html": [
       "<div>\n",
       "<style scoped>\n",
       "    .dataframe tbody tr th:only-of-type {\n",
       "        vertical-align: middle;\n",
       "    }\n",
       "\n",
       "    .dataframe tbody tr th {\n",
       "        vertical-align: top;\n",
       "    }\n",
       "\n",
       "    .dataframe thead th {\n",
       "        text-align: right;\n",
       "    }\n",
       "</style>\n",
       "<table border=\"1\" class=\"dataframe\">\n",
       "  <thead>\n",
       "    <tr style=\"text-align: right;\">\n",
       "      <th></th>\n",
       "      <th>REF_DATE</th>\n",
       "      <th>TARGET</th>\n",
       "      <th>VAR2</th>\n",
       "      <th>IDADE</th>\n",
       "      <th>VAR4</th>\n",
       "      <th>VAR5</th>\n",
       "      <th>VAR6</th>\n",
       "      <th>VAR7</th>\n",
       "      <th>VAR8</th>\n",
       "      <th>VAR9</th>\n",
       "      <th>...</th>\n",
       "      <th>VAR141</th>\n",
       "      <th>VAR142</th>\n",
       "      <th>VAR143</th>\n",
       "      <th>VAR144</th>\n",
       "      <th>VAR145</th>\n",
       "      <th>VAR146</th>\n",
       "      <th>VAR147</th>\n",
       "      <th>VAR148</th>\n",
       "      <th>VAR149</th>\n",
       "      <th>ID</th>\n",
       "    </tr>\n",
       "  </thead>\n",
       "  <tbody>\n",
       "    <tr>\n",
       "      <th>0</th>\n",
       "      <td>2017-06-01 00:00:00+00:00</td>\n",
       "      <td>0</td>\n",
       "      <td>M</td>\n",
       "      <td>34.137</td>\n",
       "      <td>NaN</td>\n",
       "      <td>RO</td>\n",
       "      <td>-8.808779</td>\n",
       "      <td>-63.878470</td>\n",
       "      <td>D</td>\n",
       "      <td>E</td>\n",
       "      <td>...</td>\n",
       "      <td>2680.289259</td>\n",
       "      <td>D</td>\n",
       "      <td>NaN</td>\n",
       "      <td>NaN</td>\n",
       "      <td>NaN</td>\n",
       "      <td>NaN</td>\n",
       "      <td>102</td>\n",
       "      <td>EMAIL INEXISTENTE#@#NOME INEXISTENTE#@#CEP INE...</td>\n",
       "      <td>2.6.1</td>\n",
       "      <td>181755</td>\n",
       "    </tr>\n",
       "    <tr>\n",
       "      <th>1</th>\n",
       "      <td>2017-08-18 00:00:00+00:00</td>\n",
       "      <td>0</td>\n",
       "      <td>M</td>\n",
       "      <td>40.447</td>\n",
       "      <td>NaN</td>\n",
       "      <td>PB</td>\n",
       "      <td>-7.146537</td>\n",
       "      <td>-34.926080</td>\n",
       "      <td>E</td>\n",
       "      <td>E</td>\n",
       "      <td>...</td>\n",
       "      <td>1777.725469</td>\n",
       "      <td>E</td>\n",
       "      <td>NaN</td>\n",
       "      <td>NaN</td>\n",
       "      <td>NaN</td>\n",
       "      <td>NaN</td>\n",
       "      <td>102</td>\n",
       "      <td>EMAIL INEXISTENTE#@#NOME INEXISTENTE#@#CEP INE...</td>\n",
       "      <td>2.6.1</td>\n",
       "      <td>287633</td>\n",
       "    </tr>\n",
       "    <tr>\n",
       "      <th>2</th>\n",
       "      <td>2017-06-30 00:00:00+00:00</td>\n",
       "      <td>0</td>\n",
       "      <td>F</td>\n",
       "      <td>33.515</td>\n",
       "      <td>NaN</td>\n",
       "      <td>RS</td>\n",
       "      <td>-27.900178</td>\n",
       "      <td>-53.314035</td>\n",
       "      <td>NaN</td>\n",
       "      <td>E</td>\n",
       "      <td>...</td>\n",
       "      <td>1695.494979</td>\n",
       "      <td>E</td>\n",
       "      <td>NaN</td>\n",
       "      <td>NaN</td>\n",
       "      <td>NaN</td>\n",
       "      <td>NaN</td>\n",
       "      <td>102</td>\n",
       "      <td>EMAIL INEXISTENTE#@#NOME INEXISTENTE#@#CEP INE...</td>\n",
       "      <td>2.6.1</td>\n",
       "      <td>88015</td>\n",
       "    </tr>\n",
       "    <tr>\n",
       "      <th>3</th>\n",
       "      <td>2017-08-05 00:00:00+00:00</td>\n",
       "      <td>1</td>\n",
       "      <td>F</td>\n",
       "      <td>25.797</td>\n",
       "      <td>NaN</td>\n",
       "      <td>BA</td>\n",
       "      <td>-12.948874</td>\n",
       "      <td>-38.451863</td>\n",
       "      <td>E</td>\n",
       "      <td>E</td>\n",
       "      <td>...</td>\n",
       "      <td>1399.037809</td>\n",
       "      <td>E</td>\n",
       "      <td>NaN</td>\n",
       "      <td>NaN</td>\n",
       "      <td>NaN</td>\n",
       "      <td>NaN</td>\n",
       "      <td>102</td>\n",
       "      <td>EMAIL INEXISTENTE#@#NOME INEXISTENTE#@#CEP INE...</td>\n",
       "      <td>2.6.1</td>\n",
       "      <td>122576</td>\n",
       "    </tr>\n",
       "    <tr>\n",
       "      <th>4</th>\n",
       "      <td>2017-07-29 00:00:00+00:00</td>\n",
       "      <td>0</td>\n",
       "      <td>F</td>\n",
       "      <td>54.074</td>\n",
       "      <td>NaN</td>\n",
       "      <td>RS</td>\n",
       "      <td>-30.051810</td>\n",
       "      <td>-51.213277</td>\n",
       "      <td>B</td>\n",
       "      <td>E</td>\n",
       "      <td>...</td>\n",
       "      <td>7868.793296</td>\n",
       "      <td>C</td>\n",
       "      <td>NaN</td>\n",
       "      <td>NaN</td>\n",
       "      <td>NaN</td>\n",
       "      <td>NaN</td>\n",
       "      <td>102</td>\n",
       "      <td>EMAIL INEXISTENTE</td>\n",
       "      <td>2.6.1</td>\n",
       "      <td>1272</td>\n",
       "    </tr>\n",
       "  </tbody>\n",
       "</table>\n",
       "<p>5 rows × 151 columns</p>\n",
       "</div>"
      ],
      "text/plain": [
       "                    REF_DATE  TARGET VAR2   IDADE VAR4 VAR5       VAR6  \\\n",
       "0  2017-06-01 00:00:00+00:00       0    M  34.137  NaN   RO  -8.808779   \n",
       "1  2017-08-18 00:00:00+00:00       0    M  40.447  NaN   PB  -7.146537   \n",
       "2  2017-06-30 00:00:00+00:00       0    F  33.515  NaN   RS -27.900178   \n",
       "3  2017-08-05 00:00:00+00:00       1    F  25.797  NaN   BA -12.948874   \n",
       "4  2017-07-29 00:00:00+00:00       0    F  54.074  NaN   RS -30.051810   \n",
       "\n",
       "        VAR7 VAR8 VAR9  ...       VAR141  VAR142  VAR143  VAR144  VAR145  \\\n",
       "0 -63.878470    D    E  ...  2680.289259       D     NaN     NaN     NaN   \n",
       "1 -34.926080    E    E  ...  1777.725469       E     NaN     NaN     NaN   \n",
       "2 -53.314035  NaN    E  ...  1695.494979       E     NaN     NaN     NaN   \n",
       "3 -38.451863    E    E  ...  1399.037809       E     NaN     NaN     NaN   \n",
       "4 -51.213277    B    E  ...  7868.793296       C     NaN     NaN     NaN   \n",
       "\n",
       "   VAR146  VAR147                                             VAR148  VAR149  \\\n",
       "0     NaN     102  EMAIL INEXISTENTE#@#NOME INEXISTENTE#@#CEP INE...   2.6.1   \n",
       "1     NaN     102  EMAIL INEXISTENTE#@#NOME INEXISTENTE#@#CEP INE...   2.6.1   \n",
       "2     NaN     102  EMAIL INEXISTENTE#@#NOME INEXISTENTE#@#CEP INE...   2.6.1   \n",
       "3     NaN     102  EMAIL INEXISTENTE#@#NOME INEXISTENTE#@#CEP INE...   2.6.1   \n",
       "4     NaN     102                                  EMAIL INEXISTENTE   2.6.1   \n",
       "\n",
       "       ID  \n",
       "0  181755  \n",
       "1  287633  \n",
       "2   88015  \n",
       "3  122576  \n",
       "4    1272  \n",
       "\n",
       "[5 rows x 151 columns]"
      ]
     },
     "execution_count": 232,
     "metadata": {},
     "output_type": "execute_result"
    }
   ],
   "source": [
    "train = pd.read_csv('train.gz', compression='gzip')\n",
    "test = pd.read_csv('test.gz', compression='gzip')\n",
    "print(\"Formato dataset: \", train.shape)\n",
    "print(train.info())\n",
    "train.head(5)"
   ]
  },
  {
   "cell_type": "markdown",
   "metadata": {},
   "source": [
    "Conferindo se as variáveis de treino e teste são as mesmas"
   ]
  },
  {
   "cell_type": "code",
   "execution_count": 233,
   "metadata": {},
   "outputs": [
    {
     "data": {
      "text/plain": [
       "set()"
      ]
     },
     "execution_count": 233,
     "metadata": {},
     "output_type": "execute_result"
    }
   ],
   "source": [
    "set(train.columns).symmetric_difference(set(test.columns))"
   ]
  },
  {
   "cell_type": "code",
   "execution_count": 237,
   "metadata": {},
   "outputs": [
    {
     "data": {
      "text/plain": [
       "True"
      ]
     },
     "execution_count": 237,
     "metadata": {},
     "output_type": "execute_result"
    }
   ],
   "source": [
    "set(train.columns) == (set(test.columns))"
   ]
  },
  {
   "cell_type": "code",
   "execution_count": 240,
   "metadata": {},
   "outputs": [
    {
     "data": {
      "text/plain": [
       "set()"
      ]
     },
     "execution_count": 240,
     "metadata": {},
     "output_type": "execute_result"
    }
   ],
   "source": [
    "set(train['ID']).intersection(set(test['ID']))"
   ]
  },
  {
   "cell_type": "markdown",
   "metadata": {},
   "source": [
    "Vou juntar os dados de treino e teste para fazer o pre-processamento das variáveis de forma consistente, enquanto guardo os IDs de cada para uso futuro."
   ]
  },
  {
   "cell_type": "code",
   "execution_count": 241,
   "metadata": {},
   "outputs": [],
   "source": [
    "data = pd.concat([train, test], axis=1)"
   ]
  },
  {
   "cell_type": "markdown",
   "metadata": {},
   "source": [
    "Algumas colunas parecem apresentar muitos valores NaN. Vamos analisar a porcentagem de valores NaN em cada coluna."
   ]
  },
  {
   "cell_type": "code",
   "execution_count": 214,
   "metadata": {},
   "outputs": [
    {
     "data": {
      "text/html": [
       "<div>\n",
       "<style scoped>\n",
       "    .dataframe tbody tr th:only-of-type {\n",
       "        vertical-align: middle;\n",
       "    }\n",
       "\n",
       "    .dataframe tbody tr th {\n",
       "        vertical-align: top;\n",
       "    }\n",
       "\n",
       "    .dataframe thead th {\n",
       "        text-align: right;\n",
       "    }\n",
       "</style>\n",
       "<table border=\"1\" class=\"dataframe\">\n",
       "  <thead>\n",
       "    <tr style=\"text-align: right;\">\n",
       "      <th></th>\n",
       "      <th>Total</th>\n",
       "      <th>Percent</th>\n",
       "    </tr>\n",
       "  </thead>\n",
       "  <tbody>\n",
       "    <tr>\n",
       "      <th>VAR146</th>\n",
       "      <td>120582</td>\n",
       "      <td>0.998609</td>\n",
       "    </tr>\n",
       "    <tr>\n",
       "      <th>VAR4</th>\n",
       "      <td>120548</td>\n",
       "      <td>0.998327</td>\n",
       "    </tr>\n",
       "    <tr>\n",
       "      <th>VAR46</th>\n",
       "      <td>120456</td>\n",
       "      <td>0.997565</td>\n",
       "    </tr>\n",
       "    <tr>\n",
       "      <th>VAR45</th>\n",
       "      <td>120456</td>\n",
       "      <td>0.997565</td>\n",
       "    </tr>\n",
       "    <tr>\n",
       "      <th>VAR44</th>\n",
       "      <td>120349</td>\n",
       "      <td>0.996679</td>\n",
       "    </tr>\n",
       "    <tr>\n",
       "      <th>VAR43</th>\n",
       "      <td>120349</td>\n",
       "      <td>0.996679</td>\n",
       "    </tr>\n",
       "    <tr>\n",
       "      <th>VAR145</th>\n",
       "      <td>120071</td>\n",
       "      <td>0.994377</td>\n",
       "    </tr>\n",
       "    <tr>\n",
       "      <th>VAR38</th>\n",
       "      <td>119981</td>\n",
       "      <td>0.993631</td>\n",
       "    </tr>\n",
       "    <tr>\n",
       "      <th>VAR26</th>\n",
       "      <td>119742</td>\n",
       "      <td>0.991652</td>\n",
       "    </tr>\n",
       "    <tr>\n",
       "      <th>VAR27</th>\n",
       "      <td>119708</td>\n",
       "      <td>0.991371</td>\n",
       "    </tr>\n",
       "    <tr>\n",
       "      <th>VAR144</th>\n",
       "      <td>119174</td>\n",
       "      <td>0.986948</td>\n",
       "    </tr>\n",
       "    <tr>\n",
       "      <th>VAR143</th>\n",
       "      <td>119174</td>\n",
       "      <td>0.986948</td>\n",
       "    </tr>\n",
       "    <tr>\n",
       "      <th>VAR31</th>\n",
       "      <td>116833</td>\n",
       "      <td>0.967561</td>\n",
       "    </tr>\n",
       "    <tr>\n",
       "      <th>VAR48</th>\n",
       "      <td>112338</td>\n",
       "      <td>0.930335</td>\n",
       "    </tr>\n",
       "    <tr>\n",
       "      <th>VAR34</th>\n",
       "      <td>112129</td>\n",
       "      <td>0.928605</td>\n",
       "    </tr>\n",
       "    <tr>\n",
       "      <th>VAR33</th>\n",
       "      <td>112129</td>\n",
       "      <td>0.928605</td>\n",
       "    </tr>\n",
       "    <tr>\n",
       "      <th>VAR20</th>\n",
       "      <td>109397</td>\n",
       "      <td>0.905979</td>\n",
       "    </tr>\n",
       "    <tr>\n",
       "      <th>VAR30</th>\n",
       "      <td>108031</td>\n",
       "      <td>0.894667</td>\n",
       "    </tr>\n",
       "    <tr>\n",
       "      <th>VAR28</th>\n",
       "      <td>108031</td>\n",
       "      <td>0.894667</td>\n",
       "    </tr>\n",
       "    <tr>\n",
       "      <th>VAR13</th>\n",
       "      <td>105220</td>\n",
       "      <td>0.871387</td>\n",
       "    </tr>\n",
       "  </tbody>\n",
       "</table>\n",
       "</div>"
      ],
      "text/plain": [
       "         Total   Percent\n",
       "VAR146  120582  0.998609\n",
       "VAR4    120548  0.998327\n",
       "VAR46   120456  0.997565\n",
       "VAR45   120456  0.997565\n",
       "VAR44   120349  0.996679\n",
       "VAR43   120349  0.996679\n",
       "VAR145  120071  0.994377\n",
       "VAR38   119981  0.993631\n",
       "VAR26   119742  0.991652\n",
       "VAR27   119708  0.991371\n",
       "VAR144  119174  0.986948\n",
       "VAR143  119174  0.986948\n",
       "VAR31   116833  0.967561\n",
       "VAR48   112338  0.930335\n",
       "VAR34   112129  0.928605\n",
       "VAR33   112129  0.928605\n",
       "VAR20   109397  0.905979\n",
       "VAR30   108031  0.894667\n",
       "VAR28   108031  0.894667\n",
       "VAR13   105220  0.871387"
      ]
     },
     "execution_count": 214,
     "metadata": {},
     "output_type": "execute_result"
    }
   ],
   "source": [
    "total = train.isnull().sum().sort_values(ascending=False)\n",
    "percent = (train.isnull().sum()/train.isnull().count()).sort_values(ascending=False)\n",
    "missing_data = pd.concat([total, percent], axis=1, keys=['Total', 'Percent'])\n",
    "missing_data.head(20)"
   ]
  },
  {
   "cell_type": "code",
   "execution_count": 215,
   "metadata": {},
   "outputs": [
    {
     "data": {
      "text/html": [
       "<div>\n",
       "<style scoped>\n",
       "    .dataframe tbody tr th:only-of-type {\n",
       "        vertical-align: middle;\n",
       "    }\n",
       "\n",
       "    .dataframe tbody tr th {\n",
       "        vertical-align: top;\n",
       "    }\n",
       "\n",
       "    .dataframe thead th {\n",
       "        text-align: right;\n",
       "    }\n",
       "</style>\n",
       "<table border=\"1\" class=\"dataframe\">\n",
       "  <thead>\n",
       "    <tr style=\"text-align: right;\">\n",
       "      <th></th>\n",
       "      <th>Total</th>\n",
       "      <th>Percent</th>\n",
       "    </tr>\n",
       "  </thead>\n",
       "  <tbody>\n",
       "    <tr>\n",
       "      <th>VAR146</th>\n",
       "      <td>51672</td>\n",
       "      <td>0.998473</td>\n",
       "    </tr>\n",
       "    <tr>\n",
       "      <th>VAR4</th>\n",
       "      <td>51664</td>\n",
       "      <td>0.998319</td>\n",
       "    </tr>\n",
       "    <tr>\n",
       "      <th>VAR46</th>\n",
       "      <td>51628</td>\n",
       "      <td>0.997623</td>\n",
       "    </tr>\n",
       "    <tr>\n",
       "      <th>VAR45</th>\n",
       "      <td>51628</td>\n",
       "      <td>0.997623</td>\n",
       "    </tr>\n",
       "    <tr>\n",
       "      <th>VAR44</th>\n",
       "      <td>51577</td>\n",
       "      <td>0.996638</td>\n",
       "    </tr>\n",
       "    <tr>\n",
       "      <th>VAR43</th>\n",
       "      <td>51577</td>\n",
       "      <td>0.996638</td>\n",
       "    </tr>\n",
       "    <tr>\n",
       "      <th>VAR145</th>\n",
       "      <td>51488</td>\n",
       "      <td>0.994918</td>\n",
       "    </tr>\n",
       "    <tr>\n",
       "      <th>VAR38</th>\n",
       "      <td>51423</td>\n",
       "      <td>0.993662</td>\n",
       "    </tr>\n",
       "    <tr>\n",
       "      <th>VAR26</th>\n",
       "      <td>51351</td>\n",
       "      <td>0.992271</td>\n",
       "    </tr>\n",
       "    <tr>\n",
       "      <th>VAR27</th>\n",
       "      <td>51341</td>\n",
       "      <td>0.992077</td>\n",
       "    </tr>\n",
       "    <tr>\n",
       "      <th>VAR144</th>\n",
       "      <td>51113</td>\n",
       "      <td>0.987672</td>\n",
       "    </tr>\n",
       "    <tr>\n",
       "      <th>VAR143</th>\n",
       "      <td>51113</td>\n",
       "      <td>0.987672</td>\n",
       "    </tr>\n",
       "    <tr>\n",
       "      <th>VAR31</th>\n",
       "      <td>50164</td>\n",
       "      <td>0.969334</td>\n",
       "    </tr>\n",
       "    <tr>\n",
       "      <th>VAR48</th>\n",
       "      <td>48145</td>\n",
       "      <td>0.930320</td>\n",
       "    </tr>\n",
       "    <tr>\n",
       "      <th>VAR34</th>\n",
       "      <td>47959</td>\n",
       "      <td>0.926726</td>\n",
       "    </tr>\n",
       "    <tr>\n",
       "      <th>VAR33</th>\n",
       "      <td>47959</td>\n",
       "      <td>0.926726</td>\n",
       "    </tr>\n",
       "    <tr>\n",
       "      <th>VAR20</th>\n",
       "      <td>46853</td>\n",
       "      <td>0.905354</td>\n",
       "    </tr>\n",
       "    <tr>\n",
       "      <th>VAR30</th>\n",
       "      <td>46257</td>\n",
       "      <td>0.893838</td>\n",
       "    </tr>\n",
       "    <tr>\n",
       "      <th>VAR28</th>\n",
       "      <td>46257</td>\n",
       "      <td>0.893838</td>\n",
       "    </tr>\n",
       "    <tr>\n",
       "      <th>VAR13</th>\n",
       "      <td>45067</td>\n",
       "      <td>0.870843</td>\n",
       "    </tr>\n",
       "  </tbody>\n",
       "</table>\n",
       "</div>"
      ],
      "text/plain": [
       "        Total   Percent\n",
       "VAR146  51672  0.998473\n",
       "VAR4    51664  0.998319\n",
       "VAR46   51628  0.997623\n",
       "VAR45   51628  0.997623\n",
       "VAR44   51577  0.996638\n",
       "VAR43   51577  0.996638\n",
       "VAR145  51488  0.994918\n",
       "VAR38   51423  0.993662\n",
       "VAR26   51351  0.992271\n",
       "VAR27   51341  0.992077\n",
       "VAR144  51113  0.987672\n",
       "VAR143  51113  0.987672\n",
       "VAR31   50164  0.969334\n",
       "VAR48   48145  0.930320\n",
       "VAR34   47959  0.926726\n",
       "VAR33   47959  0.926726\n",
       "VAR20   46853  0.905354\n",
       "VAR30   46257  0.893838\n",
       "VAR28   46257  0.893838\n",
       "VAR13   45067  0.870843"
      ]
     },
     "execution_count": 215,
     "metadata": {},
     "output_type": "execute_result"
    }
   ],
   "source": [
    "# e pra teste\n",
    "total = test.isnull().sum().sort_values(ascending=False)\n",
    "percent = (test.isnull().sum()/test.isnull().count()).sort_values(ascending=False)\n",
    "missing_data_test = pd.concat([total, percent], axis=1, keys=['Total', 'Percent'])\n",
    "missing_data_test.head(20)"
   ]
  },
  {
   "cell_type": "markdown",
   "metadata": {},
   "source": [
    "Vamos excluir as colunas que apresentarem mais de 20% de valores NaN. "
   ]
  },
  {
   "cell_type": "code",
   "execution_count": 216,
   "metadata": {},
   "outputs": [
    {
     "name": "stdout",
     "output_type": "stream",
     "text": [
      "Formato do dataset de treino após eliminar colunas:  (120750, 113)\n",
      "Formato do dataset de treino  após eliminar entradas com NaN:  (90690, 113)\n",
      "Formato do dataset de teste após eliminar colunas:  (51751, 113)\n",
      "Formato do dataset de teste após eliminar entradas com NaN:  (38916, 113)\n"
     ]
    }
   ],
   "source": [
    "columns_drop = missing_data.index[missing_data['Percent']>=0.21]\n",
    "train.drop(columns=columns_drop, inplace=True)\n",
    "test.drop(columns=columns_drop, inplace=True)\n",
    "\n",
    "print(\"Formato do dataset de treino após eliminar colunas: \", train.shape)\n",
    "train = train.dropna()\n",
    "print(\"Formato do dataset de treino  após eliminar entradas com NaN: \", train.shape)\n",
    "print(\"Formato do dataset de teste após eliminar colunas: \", test.shape)\n",
    "test = test.dropna()\n",
    "print(\"Formato do dataset de teste após eliminar entradas com NaN: \", test.shape)"
   ]
  },
  {
   "cell_type": "markdown",
   "metadata": {},
   "source": [
    "Checando por entradas duplicadas"
   ]
  },
  {
   "cell_type": "code",
   "execution_count": 169,
   "metadata": {},
   "outputs": [
    {
     "data": {
      "text/plain": [
       "array([False])"
      ]
     },
     "execution_count": 169,
     "metadata": {},
     "output_type": "execute_result"
    }
   ],
   "source": [
    "duplicadas = train.duplicated()\n",
    "duplicadas.unique()"
   ]
  },
  {
   "cell_type": "code",
   "execution_count": 170,
   "metadata": {},
   "outputs": [
    {
     "data": {
      "text/plain": [
       "array([False])"
      ]
     },
     "execution_count": 170,
     "metadata": {},
     "output_type": "execute_result"
    }
   ],
   "source": [
    "duplicadas = test.duplicated()\n",
    "duplicadas.unique()"
   ]
  },
  {
   "cell_type": "markdown",
   "metadata": {},
   "source": [
    "E por dados ambíguos ou que não contêm a variável target definida"
   ]
  },
  {
   "cell_type": "code",
   "execution_count": 171,
   "metadata": {},
   "outputs": [
    {
     "data": {
      "text/plain": [
       "array([0, 1], dtype=int64)"
      ]
     },
     "execution_count": 171,
     "metadata": {},
     "output_type": "execute_result"
    }
   ],
   "source": [
    "train['TARGET'].unique()"
   ]
  },
  {
   "cell_type": "code",
   "execution_count": 172,
   "metadata": {},
   "outputs": [
    {
     "name": "stdout",
     "output_type": "stream",
     "text": [
      "[1]\n",
      "(90690, 114)\n"
     ]
    }
   ],
   "source": [
    "data_noisy = train.drop(columns=['ID', 'REF_DATE'])\n",
    "train['unique_target'] = train.groupby(data_noisy.columns.to_list())['TARGET'].transform('nunique')\n",
    "print(train['unique_target'].unique())\n",
    "noisy_train = train[train['unique_target'] > 1].drop('unique_target', axis=1)\n",
    "print(train.shape)\n",
    "train = train.drop(columns=['unique_target'])"
   ]
  },
  {
   "cell_type": "markdown",
   "metadata": {},
   "source": [
    "Balanceamento da váriavel 'TARGET'"
   ]
  },
  {
   "cell_type": "code",
   "execution_count": 173,
   "metadata": {},
   "outputs": [
    {
     "name": "stdout",
     "output_type": "stream",
     "text": [
      "% Bons Pagadores:  22.49 %\n",
      "% Maus Pagadores:  77.51 %\n"
     ]
    }
   ],
   "source": [
    "bad = train['TARGET'].value_counts()[0]\n",
    "good = train['TARGET'].value_counts()[1]\n",
    "total = train['TARGET'].value_counts().sum() \n",
    "percent_good = (good/total)*100\n",
    "percent_bad = (bad/total)*100\n",
    "\n",
    "print('% Bons Pagadores: ', round(percent_good, 2),'%')\n",
    "print('% Maus Pagadores: ', round(percent_bad, 2),'%')\n"
   ]
  },
  {
   "cell_type": "code",
   "execution_count": 174,
   "metadata": {},
   "outputs": [
    {
     "data": {
      "application/vnd.plotly.v1+json": {
       "config": {
        "plotlyServerURL": "https://plotly.com"
       },
       "data": [
        {
         "marker": {
          "color": "rgba(155, 190, 250, 0.7)"
         },
         "showlegend": false,
         "type": "bar",
         "x": [
          0,
          1
         ],
         "y": [
          77.51461021060756,
          22.485389789392435
         ]
        }
       ],
       "layout": {
        "annotations": [
         {
          "font": {
           "color": "rgba(100, 159, 237, 1)",
           "size": 12
          },
          "showarrow": false,
          "text": "Dados de treino",
          "x": -0.23,
          "xref": "paper",
          "y": 1.1,
          "yref": "paper"
         }
        ],
        "coloraxis": {
         "colorbar": {
          "ticksuffix": "m"
         }
        },
        "height": 500,
        "plot_bgcolor": "rgba(0, 0, 0, 0)",
        "template": {
         "data": {
          "bar": [
           {
            "error_x": {
             "color": "#2a3f5f"
            },
            "error_y": {
             "color": "#2a3f5f"
            },
            "marker": {
             "line": {
              "color": "#E5ECF6",
              "width": 0.5
             },
             "pattern": {
              "fillmode": "overlay",
              "size": 10,
              "solidity": 0.2
             }
            },
            "type": "bar"
           }
          ],
          "barpolar": [
           {
            "marker": {
             "line": {
              "color": "#E5ECF6",
              "width": 0.5
             },
             "pattern": {
              "fillmode": "overlay",
              "size": 10,
              "solidity": 0.2
             }
            },
            "type": "barpolar"
           }
          ],
          "carpet": [
           {
            "aaxis": {
             "endlinecolor": "#2a3f5f",
             "gridcolor": "white",
             "linecolor": "white",
             "minorgridcolor": "white",
             "startlinecolor": "#2a3f5f"
            },
            "baxis": {
             "endlinecolor": "#2a3f5f",
             "gridcolor": "white",
             "linecolor": "white",
             "minorgridcolor": "white",
             "startlinecolor": "#2a3f5f"
            },
            "type": "carpet"
           }
          ],
          "choropleth": [
           {
            "colorbar": {
             "outlinewidth": 0,
             "ticks": ""
            },
            "type": "choropleth"
           }
          ],
          "contour": [
           {
            "colorbar": {
             "outlinewidth": 0,
             "ticks": ""
            },
            "colorscale": [
             [
              0,
              "#0d0887"
             ],
             [
              0.1111111111111111,
              "#46039f"
             ],
             [
              0.2222222222222222,
              "#7201a8"
             ],
             [
              0.3333333333333333,
              "#9c179e"
             ],
             [
              0.4444444444444444,
              "#bd3786"
             ],
             [
              0.5555555555555556,
              "#d8576b"
             ],
             [
              0.6666666666666666,
              "#ed7953"
             ],
             [
              0.7777777777777778,
              "#fb9f3a"
             ],
             [
              0.8888888888888888,
              "#fdca26"
             ],
             [
              1,
              "#f0f921"
             ]
            ],
            "type": "contour"
           }
          ],
          "contourcarpet": [
           {
            "colorbar": {
             "outlinewidth": 0,
             "ticks": ""
            },
            "type": "contourcarpet"
           }
          ],
          "heatmap": [
           {
            "colorbar": {
             "outlinewidth": 0,
             "ticks": ""
            },
            "colorscale": [
             [
              0,
              "#0d0887"
             ],
             [
              0.1111111111111111,
              "#46039f"
             ],
             [
              0.2222222222222222,
              "#7201a8"
             ],
             [
              0.3333333333333333,
              "#9c179e"
             ],
             [
              0.4444444444444444,
              "#bd3786"
             ],
             [
              0.5555555555555556,
              "#d8576b"
             ],
             [
              0.6666666666666666,
              "#ed7953"
             ],
             [
              0.7777777777777778,
              "#fb9f3a"
             ],
             [
              0.8888888888888888,
              "#fdca26"
             ],
             [
              1,
              "#f0f921"
             ]
            ],
            "type": "heatmap"
           }
          ],
          "heatmapgl": [
           {
            "colorbar": {
             "outlinewidth": 0,
             "ticks": ""
            },
            "colorscale": [
             [
              0,
              "#0d0887"
             ],
             [
              0.1111111111111111,
              "#46039f"
             ],
             [
              0.2222222222222222,
              "#7201a8"
             ],
             [
              0.3333333333333333,
              "#9c179e"
             ],
             [
              0.4444444444444444,
              "#bd3786"
             ],
             [
              0.5555555555555556,
              "#d8576b"
             ],
             [
              0.6666666666666666,
              "#ed7953"
             ],
             [
              0.7777777777777778,
              "#fb9f3a"
             ],
             [
              0.8888888888888888,
              "#fdca26"
             ],
             [
              1,
              "#f0f921"
             ]
            ],
            "type": "heatmapgl"
           }
          ],
          "histogram": [
           {
            "marker": {
             "pattern": {
              "fillmode": "overlay",
              "size": 10,
              "solidity": 0.2
             }
            },
            "type": "histogram"
           }
          ],
          "histogram2d": [
           {
            "colorbar": {
             "outlinewidth": 0,
             "ticks": ""
            },
            "colorscale": [
             [
              0,
              "#0d0887"
             ],
             [
              0.1111111111111111,
              "#46039f"
             ],
             [
              0.2222222222222222,
              "#7201a8"
             ],
             [
              0.3333333333333333,
              "#9c179e"
             ],
             [
              0.4444444444444444,
              "#bd3786"
             ],
             [
              0.5555555555555556,
              "#d8576b"
             ],
             [
              0.6666666666666666,
              "#ed7953"
             ],
             [
              0.7777777777777778,
              "#fb9f3a"
             ],
             [
              0.8888888888888888,
              "#fdca26"
             ],
             [
              1,
              "#f0f921"
             ]
            ],
            "type": "histogram2d"
           }
          ],
          "histogram2dcontour": [
           {
            "colorbar": {
             "outlinewidth": 0,
             "ticks": ""
            },
            "colorscale": [
             [
              0,
              "#0d0887"
             ],
             [
              0.1111111111111111,
              "#46039f"
             ],
             [
              0.2222222222222222,
              "#7201a8"
             ],
             [
              0.3333333333333333,
              "#9c179e"
             ],
             [
              0.4444444444444444,
              "#bd3786"
             ],
             [
              0.5555555555555556,
              "#d8576b"
             ],
             [
              0.6666666666666666,
              "#ed7953"
             ],
             [
              0.7777777777777778,
              "#fb9f3a"
             ],
             [
              0.8888888888888888,
              "#fdca26"
             ],
             [
              1,
              "#f0f921"
             ]
            ],
            "type": "histogram2dcontour"
           }
          ],
          "mesh3d": [
           {
            "colorbar": {
             "outlinewidth": 0,
             "ticks": ""
            },
            "type": "mesh3d"
           }
          ],
          "parcoords": [
           {
            "line": {
             "colorbar": {
              "outlinewidth": 0,
              "ticks": ""
             }
            },
            "type": "parcoords"
           }
          ],
          "pie": [
           {
            "automargin": true,
            "type": "pie"
           }
          ],
          "scatter": [
           {
            "fillpattern": {
             "fillmode": "overlay",
             "size": 10,
             "solidity": 0.2
            },
            "type": "scatter"
           }
          ],
          "scatter3d": [
           {
            "line": {
             "colorbar": {
              "outlinewidth": 0,
              "ticks": ""
             }
            },
            "marker": {
             "colorbar": {
              "outlinewidth": 0,
              "ticks": ""
             }
            },
            "type": "scatter3d"
           }
          ],
          "scattercarpet": [
           {
            "marker": {
             "colorbar": {
              "outlinewidth": 0,
              "ticks": ""
             }
            },
            "type": "scattercarpet"
           }
          ],
          "scattergeo": [
           {
            "marker": {
             "colorbar": {
              "outlinewidth": 0,
              "ticks": ""
             }
            },
            "type": "scattergeo"
           }
          ],
          "scattergl": [
           {
            "marker": {
             "colorbar": {
              "outlinewidth": 0,
              "ticks": ""
             }
            },
            "type": "scattergl"
           }
          ],
          "scattermapbox": [
           {
            "marker": {
             "colorbar": {
              "outlinewidth": 0,
              "ticks": ""
             }
            },
            "type": "scattermapbox"
           }
          ],
          "scatterpolar": [
           {
            "marker": {
             "colorbar": {
              "outlinewidth": 0,
              "ticks": ""
             }
            },
            "type": "scatterpolar"
           }
          ],
          "scatterpolargl": [
           {
            "marker": {
             "colorbar": {
              "outlinewidth": 0,
              "ticks": ""
             }
            },
            "type": "scatterpolargl"
           }
          ],
          "scatterternary": [
           {
            "marker": {
             "colorbar": {
              "outlinewidth": 0,
              "ticks": ""
             }
            },
            "type": "scatterternary"
           }
          ],
          "surface": [
           {
            "colorbar": {
             "outlinewidth": 0,
             "ticks": ""
            },
            "colorscale": [
             [
              0,
              "#0d0887"
             ],
             [
              0.1111111111111111,
              "#46039f"
             ],
             [
              0.2222222222222222,
              "#7201a8"
             ],
             [
              0.3333333333333333,
              "#9c179e"
             ],
             [
              0.4444444444444444,
              "#bd3786"
             ],
             [
              0.5555555555555556,
              "#d8576b"
             ],
             [
              0.6666666666666666,
              "#ed7953"
             ],
             [
              0.7777777777777778,
              "#fb9f3a"
             ],
             [
              0.8888888888888888,
              "#fdca26"
             ],
             [
              1,
              "#f0f921"
             ]
            ],
            "type": "surface"
           }
          ],
          "table": [
           {
            "cells": {
             "fill": {
              "color": "#EBF0F8"
             },
             "line": {
              "color": "white"
             }
            },
            "header": {
             "fill": {
              "color": "#C8D4E3"
             },
             "line": {
              "color": "white"
             }
            },
            "type": "table"
           }
          ]
         },
         "layout": {
          "annotationdefaults": {
           "arrowcolor": "#2a3f5f",
           "arrowhead": 0,
           "arrowwidth": 1
          },
          "autotypenumbers": "strict",
          "coloraxis": {
           "colorbar": {
            "outlinewidth": 0,
            "ticks": ""
           }
          },
          "colorscale": {
           "diverging": [
            [
             0,
             "#8e0152"
            ],
            [
             0.1,
             "#c51b7d"
            ],
            [
             0.2,
             "#de77ae"
            ],
            [
             0.3,
             "#f1b6da"
            ],
            [
             0.4,
             "#fde0ef"
            ],
            [
             0.5,
             "#f7f7f7"
            ],
            [
             0.6,
             "#e6f5d0"
            ],
            [
             0.7,
             "#b8e186"
            ],
            [
             0.8,
             "#7fbc41"
            ],
            [
             0.9,
             "#4d9221"
            ],
            [
             1,
             "#276419"
            ]
           ],
           "sequential": [
            [
             0,
             "#0d0887"
            ],
            [
             0.1111111111111111,
             "#46039f"
            ],
            [
             0.2222222222222222,
             "#7201a8"
            ],
            [
             0.3333333333333333,
             "#9c179e"
            ],
            [
             0.4444444444444444,
             "#bd3786"
            ],
            [
             0.5555555555555556,
             "#d8576b"
            ],
            [
             0.6666666666666666,
             "#ed7953"
            ],
            [
             0.7777777777777778,
             "#fb9f3a"
            ],
            [
             0.8888888888888888,
             "#fdca26"
            ],
            [
             1,
             "#f0f921"
            ]
           ],
           "sequentialminus": [
            [
             0,
             "#0d0887"
            ],
            [
             0.1111111111111111,
             "#46039f"
            ],
            [
             0.2222222222222222,
             "#7201a8"
            ],
            [
             0.3333333333333333,
             "#9c179e"
            ],
            [
             0.4444444444444444,
             "#bd3786"
            ],
            [
             0.5555555555555556,
             "#d8576b"
            ],
            [
             0.6666666666666666,
             "#ed7953"
            ],
            [
             0.7777777777777778,
             "#fb9f3a"
            ],
            [
             0.8888888888888888,
             "#fdca26"
            ],
            [
             1,
             "#f0f921"
            ]
           ]
          },
          "colorway": [
           "#636efa",
           "#EF553B",
           "#00cc96",
           "#ab63fa",
           "#FFA15A",
           "#19d3f3",
           "#FF6692",
           "#B6E880",
           "#FF97FF",
           "#FECB52"
          ],
          "font": {
           "color": "#2a3f5f"
          },
          "geo": {
           "bgcolor": "white",
           "lakecolor": "white",
           "landcolor": "#E5ECF6",
           "showlakes": true,
           "showland": true,
           "subunitcolor": "white"
          },
          "hoverlabel": {
           "align": "left"
          },
          "hovermode": "closest",
          "mapbox": {
           "style": "light"
          },
          "paper_bgcolor": "white",
          "plot_bgcolor": "#E5ECF6",
          "polar": {
           "angularaxis": {
            "gridcolor": "white",
            "linecolor": "white",
            "ticks": ""
           },
           "bgcolor": "#E5ECF6",
           "radialaxis": {
            "gridcolor": "white",
            "linecolor": "white",
            "ticks": ""
           }
          },
          "scene": {
           "xaxis": {
            "backgroundcolor": "#E5ECF6",
            "gridcolor": "white",
            "gridwidth": 2,
            "linecolor": "white",
            "showbackground": true,
            "ticks": "",
            "zerolinecolor": "white"
           },
           "yaxis": {
            "backgroundcolor": "#E5ECF6",
            "gridcolor": "white",
            "gridwidth": 2,
            "linecolor": "white",
            "showbackground": true,
            "ticks": "",
            "zerolinecolor": "white"
           },
           "zaxis": {
            "backgroundcolor": "#E5ECF6",
            "gridcolor": "white",
            "gridwidth": 2,
            "linecolor": "white",
            "showbackground": true,
            "ticks": "",
            "zerolinecolor": "white"
           }
          },
          "shapedefaults": {
           "line": {
            "color": "#2a3f5f"
           }
          },
          "ternary": {
           "aaxis": {
            "gridcolor": "white",
            "linecolor": "white",
            "ticks": ""
           },
           "baxis": {
            "gridcolor": "white",
            "linecolor": "white",
            "ticks": ""
           },
           "bgcolor": "#E5ECF6",
           "caxis": {
            "gridcolor": "white",
            "linecolor": "white",
            "ticks": ""
           }
          },
          "title": {
           "x": 0.05
          },
          "xaxis": {
           "automargin": true,
           "gridcolor": "white",
           "linecolor": "white",
           "ticks": "",
           "title": {
            "standoff": 15
           },
           "zerolinecolor": "white",
           "zerolinewidth": 2
          },
          "yaxis": {
           "automargin": true,
           "gridcolor": "white",
           "linecolor": "white",
           "ticks": "",
           "title": {
            "standoff": 15
           },
           "zerolinecolor": "white",
           "zerolinewidth": 2
          }
         }
        },
        "title": {
         "text": "% DE PAGADORES"
        },
        "width": 400,
        "xaxis": {
         "ticktext": [
          "Maus",
          "Bons"
         ],
         "tickvals": [
          0,
          1
         ]
        },
        "yaxis": {
         "linecolor": "rgba(169, 169, 169, 1)",
         "linewidth": 1,
         "showline": true,
         "showticksuffix": "all",
         "tickcolor": "rgba(169, 169, 169, 1)",
         "ticklen": 10,
         "ticks": "outside",
         "ticksuffix": "%",
         "tickwidth": 1
        }
       }
      }
     },
     "metadata": {},
     "output_type": "display_data"
    }
   ],
   "source": [
    "import plotly.graph_objects as go\n",
    "\n",
    "fig = go.Figure(go.Bar(x=[0, 1], y=[percent_bad, percent_good],\n",
    "            showlegend=False,\n",
    "            marker=dict(color='rgba(155, 190, 250, 0.7)')\n",
    "            ))\n",
    "fig.add_annotation(\n",
    "    text='Dados de treino',\n",
    "    xref='paper', yref='paper',\n",
    "    x=-0.23, y=1.1,  \n",
    "    showarrow=False,\n",
    "    font=dict(size=12, color='rgba(100, 159, 237, 1)'))\n",
    "\n",
    "# Update layout\n",
    "fig.update_layout(title_text='% DE PAGADORES',\n",
    "                  plot_bgcolor='rgba(0, 0, 0, 0)',\n",
    "                  yaxis_ticksuffix=\"%\",\n",
    "                  coloraxis_colorbar_ticksuffix=\"m\",\n",
    "                  yaxis_showticksuffix=\"all\"\n",
    "                  )\n",
    "fig.update_yaxes(ticks=\"outside\", tickwidth=1, tickcolor='rgba(169, 169, 169, 1)', ticklen=10)\n",
    "fig.update_yaxes(showline=True, linewidth=1, linecolor='rgba(169, 169, 169, 1)')\n",
    "fig.update_layout(xaxis=dict(tickvals=[0, 1], ticktext=['Maus', 'Bons'])\n",
    "                  )\n",
    "fig.layout.update({'width' : 400, 'height': 500})\n",
    "\n",
    "fig.show()\n"
   ]
  },
  {
   "cell_type": "markdown",
   "metadata": {},
   "source": [
    "Parece que temos um desbalanço de classe que deverá ser tratado quando formos treinar do nosso modelo."
   ]
  },
  {
   "cell_type": "markdown",
   "metadata": {},
   "source": [
    "Tipos de variáveis no dataset de treino"
   ]
  },
  {
   "cell_type": "code",
   "execution_count": 175,
   "metadata": {},
   "outputs": [
    {
     "data": {
      "text/plain": [
       "object     100\n",
       "float64     10\n",
       "int64        3\n",
       "Name: count, dtype: int64"
      ]
     },
     "execution_count": 175,
     "metadata": {},
     "output_type": "execute_result"
    }
   ],
   "source": [
    "train.dtypes.value_counts()"
   ]
  },
  {
   "cell_type": "markdown",
   "metadata": {},
   "source": [
    "Temos 100 variáveis com entradas do tipo object, e apenas 12 variáveis de tipo numérico. Para fins de uma primeira análise vou separar em dois dataframes as variáveis numéricas e as variáveis não numéricas."
   ]
  },
  {
   "cell_type": "code",
   "execution_count": 176,
   "metadata": {},
   "outputs": [
    {
     "data": {
      "text/html": [
       "<div>\n",
       "<style scoped>\n",
       "    .dataframe tbody tr th:only-of-type {\n",
       "        vertical-align: middle;\n",
       "    }\n",
       "\n",
       "    .dataframe tbody tr th {\n",
       "        vertical-align: top;\n",
       "    }\n",
       "\n",
       "    .dataframe thead th {\n",
       "        text-align: right;\n",
       "    }\n",
       "</style>\n",
       "<table border=\"1\" class=\"dataframe\">\n",
       "  <thead>\n",
       "    <tr style=\"text-align: right;\">\n",
       "      <th></th>\n",
       "      <th>TARGET</th>\n",
       "      <th>IDADE</th>\n",
       "      <th>VAR6</th>\n",
       "      <th>VAR7</th>\n",
       "      <th>VAR24</th>\n",
       "      <th>VAR39</th>\n",
       "      <th>VAR40</th>\n",
       "      <th>VAR41</th>\n",
       "      <th>VAR42</th>\n",
       "      <th>VAR47</th>\n",
       "      <th>VAR141</th>\n",
       "      <th>VAR147</th>\n",
       "      <th>ID</th>\n",
       "    </tr>\n",
       "  </thead>\n",
       "  <tbody>\n",
       "    <tr>\n",
       "      <th>0</th>\n",
       "      <td>0</td>\n",
       "      <td>34.137</td>\n",
       "      <td>-8.808779</td>\n",
       "      <td>-63.878470</td>\n",
       "      <td>0.034</td>\n",
       "      <td>0.512334</td>\n",
       "      <td>0.486768</td>\n",
       "      <td>0.357526</td>\n",
       "      <td>0.538737</td>\n",
       "      <td>0.046</td>\n",
       "      <td>2680.289259</td>\n",
       "      <td>102</td>\n",
       "      <td>181755</td>\n",
       "    </tr>\n",
       "    <tr>\n",
       "      <th>1</th>\n",
       "      <td>0</td>\n",
       "      <td>40.447</td>\n",
       "      <td>-7.146537</td>\n",
       "      <td>-34.926080</td>\n",
       "      <td>0.017</td>\n",
       "      <td>0.328021</td>\n",
       "      <td>0.447454</td>\n",
       "      <td>0.414335</td>\n",
       "      <td>0.485512</td>\n",
       "      <td>0.099</td>\n",
       "      <td>1777.725469</td>\n",
       "      <td>102</td>\n",
       "      <td>287633</td>\n",
       "    </tr>\n",
       "    <tr>\n",
       "      <th>2</th>\n",
       "      <td>0</td>\n",
       "      <td>33.515</td>\n",
       "      <td>-27.900178</td>\n",
       "      <td>-53.314035</td>\n",
       "      <td>0.000</td>\n",
       "      <td>0.627262</td>\n",
       "      <td>0.730539</td>\n",
       "      <td>0.916771</td>\n",
       "      <td>0.519726</td>\n",
       "      <td>1.000</td>\n",
       "      <td>1695.494979</td>\n",
       "      <td>102</td>\n",
       "      <td>88015</td>\n",
       "    </tr>\n",
       "    <tr>\n",
       "      <th>3</th>\n",
       "      <td>1</td>\n",
       "      <td>25.797</td>\n",
       "      <td>-12.948874</td>\n",
       "      <td>-38.451863</td>\n",
       "      <td>0.000</td>\n",
       "      <td>0.338643</td>\n",
       "      <td>0.405233</td>\n",
       "      <td>0.408007</td>\n",
       "      <td>0.567710</td>\n",
       "      <td>0.000</td>\n",
       "      <td>1399.037809</td>\n",
       "      <td>102</td>\n",
       "      <td>122576</td>\n",
       "    </tr>\n",
       "    <tr>\n",
       "      <th>4</th>\n",
       "      <td>0</td>\n",
       "      <td>54.074</td>\n",
       "      <td>-30.051810</td>\n",
       "      <td>-51.213277</td>\n",
       "      <td>0.000</td>\n",
       "      <td>0.626047</td>\n",
       "      <td>0.770664</td>\n",
       "      <td>0.907036</td>\n",
       "      <td>0.538496</td>\n",
       "      <td>0.017</td>\n",
       "      <td>7868.793296</td>\n",
       "      <td>102</td>\n",
       "      <td>1272</td>\n",
       "    </tr>\n",
       "  </tbody>\n",
       "</table>\n",
       "</div>"
      ],
      "text/plain": [
       "   TARGET   IDADE       VAR6       VAR7  VAR24     VAR39     VAR40     VAR41  \\\n",
       "0       0  34.137  -8.808779 -63.878470  0.034  0.512334  0.486768  0.357526   \n",
       "1       0  40.447  -7.146537 -34.926080  0.017  0.328021  0.447454  0.414335   \n",
       "2       0  33.515 -27.900178 -53.314035  0.000  0.627262  0.730539  0.916771   \n",
       "3       1  25.797 -12.948874 -38.451863  0.000  0.338643  0.405233  0.408007   \n",
       "4       0  54.074 -30.051810 -51.213277  0.000  0.626047  0.770664  0.907036   \n",
       "\n",
       "      VAR42  VAR47       VAR141  VAR147      ID  \n",
       "0  0.538737  0.046  2680.289259     102  181755  \n",
       "1  0.485512  0.099  1777.725469     102  287633  \n",
       "2  0.519726  1.000  1695.494979     102   88015  \n",
       "3  0.567710  0.000  1399.037809     102  122576  \n",
       "4  0.538496  0.017  7868.793296     102    1272  "
      ]
     },
     "execution_count": 176,
     "metadata": {},
     "output_type": "execute_result"
    }
   ],
   "source": [
    "columns = train.dtypes != 'object'\n",
    "columns_to_keep = train.columns[columns]\n",
    "data_num = train[columns_to_keep]\n",
    "data_num.head()"
   ]
  },
  {
   "cell_type": "code",
   "execution_count": 177,
   "metadata": {},
   "outputs": [
    {
     "data": {
      "text/html": [
       "<div>\n",
       "<style scoped>\n",
       "    .dataframe tbody tr th:only-of-type {\n",
       "        vertical-align: middle;\n",
       "    }\n",
       "\n",
       "    .dataframe tbody tr th {\n",
       "        vertical-align: top;\n",
       "    }\n",
       "\n",
       "    .dataframe thead th {\n",
       "        text-align: right;\n",
       "    }\n",
       "</style>\n",
       "<table border=\"1\" class=\"dataframe\">\n",
       "  <thead>\n",
       "    <tr style=\"text-align: right;\">\n",
       "      <th></th>\n",
       "      <th>REF_DATE</th>\n",
       "      <th>VAR2</th>\n",
       "      <th>VAR5</th>\n",
       "      <th>VAR9</th>\n",
       "      <th>VAR10</th>\n",
       "      <th>VAR49</th>\n",
       "      <th>VAR50</th>\n",
       "      <th>VAR51</th>\n",
       "      <th>VAR52</th>\n",
       "      <th>VAR53</th>\n",
       "      <th>...</th>\n",
       "      <th>VAR134</th>\n",
       "      <th>VAR135</th>\n",
       "      <th>VAR136</th>\n",
       "      <th>VAR137</th>\n",
       "      <th>VAR138</th>\n",
       "      <th>VAR139</th>\n",
       "      <th>VAR140</th>\n",
       "      <th>VAR142</th>\n",
       "      <th>VAR148</th>\n",
       "      <th>VAR149</th>\n",
       "    </tr>\n",
       "  </thead>\n",
       "  <tbody>\n",
       "    <tr>\n",
       "      <th>0</th>\n",
       "      <td>2017-06-01 00:00:00+00:00</td>\n",
       "      <td>M</td>\n",
       "      <td>RO</td>\n",
       "      <td>E</td>\n",
       "      <td>BAIXA</td>\n",
       "      <td>S</td>\n",
       "      <td>N</td>\n",
       "      <td>N</td>\n",
       "      <td>N</td>\n",
       "      <td>N</td>\n",
       "      <td>...</td>\n",
       "      <td>LONGE</td>\n",
       "      <td>MEDIO</td>\n",
       "      <td>MUITO LONGE</td>\n",
       "      <td>LONGE</td>\n",
       "      <td>LONGE</td>\n",
       "      <td>MEDIO</td>\n",
       "      <td>LONGE</td>\n",
       "      <td>D</td>\n",
       "      <td>EMAIL INEXISTENTE#@#NOME INEXISTENTE#@#CEP INE...</td>\n",
       "      <td>2.6.1</td>\n",
       "    </tr>\n",
       "    <tr>\n",
       "      <th>1</th>\n",
       "      <td>2017-08-18 00:00:00+00:00</td>\n",
       "      <td>M</td>\n",
       "      <td>PB</td>\n",
       "      <td>E</td>\n",
       "      <td>MEDIA</td>\n",
       "      <td>S</td>\n",
       "      <td>N</td>\n",
       "      <td>N</td>\n",
       "      <td>N</td>\n",
       "      <td>N</td>\n",
       "      <td>...</td>\n",
       "      <td>MEDIO</td>\n",
       "      <td>PROXIMO</td>\n",
       "      <td>PROXIMO</td>\n",
       "      <td>LONGE</td>\n",
       "      <td>LONGE</td>\n",
       "      <td>LONGE</td>\n",
       "      <td>MUITO LONGE</td>\n",
       "      <td>E</td>\n",
       "      <td>EMAIL INEXISTENTE#@#NOME INEXISTENTE#@#CEP INE...</td>\n",
       "      <td>2.6.1</td>\n",
       "    </tr>\n",
       "    <tr>\n",
       "      <th>2</th>\n",
       "      <td>2017-06-30 00:00:00+00:00</td>\n",
       "      <td>F</td>\n",
       "      <td>RS</td>\n",
       "      <td>E</td>\n",
       "      <td>ALTISSIMA</td>\n",
       "      <td>S</td>\n",
       "      <td>N</td>\n",
       "      <td>N</td>\n",
       "      <td>N</td>\n",
       "      <td>N</td>\n",
       "      <td>...</td>\n",
       "      <td>LONGE</td>\n",
       "      <td>MUITO LONGE</td>\n",
       "      <td>LONGE</td>\n",
       "      <td>LONGE</td>\n",
       "      <td>MUITO LONGE</td>\n",
       "      <td>LONGE</td>\n",
       "      <td>MUITO PROXIMO</td>\n",
       "      <td>E</td>\n",
       "      <td>EMAIL INEXISTENTE#@#NOME INEXISTENTE#@#CEP INE...</td>\n",
       "      <td>2.6.1</td>\n",
       "    </tr>\n",
       "  </tbody>\n",
       "</table>\n",
       "<p>3 rows × 100 columns</p>\n",
       "</div>"
      ],
      "text/plain": [
       "                    REF_DATE VAR2 VAR5 VAR9      VAR10 VAR49 VAR50 VAR51  \\\n",
       "0  2017-06-01 00:00:00+00:00    M   RO    E      BAIXA     S     N     N   \n",
       "1  2017-08-18 00:00:00+00:00    M   PB    E      MEDIA     S     N     N   \n",
       "2  2017-06-30 00:00:00+00:00    F   RS    E  ALTISSIMA     S     N     N   \n",
       "\n",
       "  VAR52 VAR53  ... VAR134       VAR135       VAR136 VAR137       VAR138  \\\n",
       "0     N     N  ...  LONGE        MEDIO  MUITO LONGE  LONGE        LONGE   \n",
       "1     N     N  ...  MEDIO      PROXIMO      PROXIMO  LONGE        LONGE   \n",
       "2     N     N  ...  LONGE  MUITO LONGE        LONGE  LONGE  MUITO LONGE   \n",
       "\n",
       "  VAR139         VAR140 VAR142  \\\n",
       "0  MEDIO          LONGE      D   \n",
       "1  LONGE    MUITO LONGE      E   \n",
       "2  LONGE  MUITO PROXIMO      E   \n",
       "\n",
       "                                              VAR148 VAR149  \n",
       "0  EMAIL INEXISTENTE#@#NOME INEXISTENTE#@#CEP INE...  2.6.1  \n",
       "1  EMAIL INEXISTENTE#@#NOME INEXISTENTE#@#CEP INE...  2.6.1  \n",
       "2  EMAIL INEXISTENTE#@#NOME INEXISTENTE#@#CEP INE...  2.6.1  \n",
       "\n",
       "[3 rows x 100 columns]"
      ]
     },
     "execution_count": 177,
     "metadata": {},
     "output_type": "execute_result"
    }
   ],
   "source": [
    "data_cat = train.drop(columns_to_keep, axis=1)\n",
    "data_cat.head(3)"
   ]
  },
  {
   "cell_type": "markdown",
   "metadata": {},
   "source": [
    "## Tratamento das variáveis categoricas"
   ]
  },
  {
   "cell_type": "markdown",
   "metadata": {},
   "source": [
    "As colunas REF_DATE, VAR48 e VAR49 não parecem adicionar informação no nosso modelo "
   ]
  },
  {
   "cell_type": "code",
   "execution_count": 178,
   "metadata": {},
   "outputs": [
    {
     "data": {
      "text/plain": [
       "VAR148\n",
       "EMAIL INEXISTENTE                                         47215\n",
       "EMAIL INEXISTENTE#@#NOME INEXISTENTE#@#CEP INEXISTENTE    34224\n",
       "OPERACAO REALIZADA COM SUCESSO                             9251\n",
       "Name: count, dtype: int64"
      ]
     },
     "execution_count": 178,
     "metadata": {},
     "output_type": "execute_result"
    }
   ],
   "source": [
    "data_cat['VAR148'].value_counts()"
   ]
  },
  {
   "cell_type": "code",
   "execution_count": 179,
   "metadata": {},
   "outputs": [
    {
     "data": {
      "text/plain": [
       "VAR149\n",
       "2.6.1    90690\n",
       "Name: count, dtype: int64"
      ]
     },
     "execution_count": 179,
     "metadata": {},
     "output_type": "execute_result"
    }
   ],
   "source": [
    "data_cat['VAR149'].value_counts()"
   ]
  },
  {
   "cell_type": "code",
   "execution_count": 180,
   "metadata": {},
   "outputs": [],
   "source": [
    "data_cat = data_cat.drop(columns=['REF_DATE', 'VAR148', 'VAR149'])"
   ]
  },
  {
   "cell_type": "code",
   "execution_count": 181,
   "metadata": {},
   "outputs": [
    {
     "data": {
      "text/html": [
       "<div>\n",
       "<style scoped>\n",
       "    .dataframe tbody tr th:only-of-type {\n",
       "        vertical-align: middle;\n",
       "    }\n",
       "\n",
       "    .dataframe tbody tr th {\n",
       "        vertical-align: top;\n",
       "    }\n",
       "\n",
       "    .dataframe thead th {\n",
       "        text-align: right;\n",
       "    }\n",
       "</style>\n",
       "<table border=\"1\" class=\"dataframe\">\n",
       "  <thead>\n",
       "    <tr style=\"text-align: right;\">\n",
       "      <th></th>\n",
       "      <th>VAR2</th>\n",
       "      <th>VAR5</th>\n",
       "      <th>VAR9</th>\n",
       "      <th>VAR10</th>\n",
       "      <th>VAR49</th>\n",
       "      <th>VAR50</th>\n",
       "      <th>VAR51</th>\n",
       "      <th>VAR52</th>\n",
       "      <th>VAR53</th>\n",
       "      <th>VAR54</th>\n",
       "      <th>...</th>\n",
       "      <th>VAR132</th>\n",
       "      <th>VAR133</th>\n",
       "      <th>VAR134</th>\n",
       "      <th>VAR135</th>\n",
       "      <th>VAR136</th>\n",
       "      <th>VAR137</th>\n",
       "      <th>VAR138</th>\n",
       "      <th>VAR139</th>\n",
       "      <th>VAR140</th>\n",
       "      <th>VAR142</th>\n",
       "    </tr>\n",
       "  </thead>\n",
       "  <tbody>\n",
       "    <tr>\n",
       "      <th>0</th>\n",
       "      <td>M</td>\n",
       "      <td>RO</td>\n",
       "      <td>E</td>\n",
       "      <td>BAIXA</td>\n",
       "      <td>S</td>\n",
       "      <td>N</td>\n",
       "      <td>N</td>\n",
       "      <td>N</td>\n",
       "      <td>N</td>\n",
       "      <td>N</td>\n",
       "      <td>...</td>\n",
       "      <td>LONGE</td>\n",
       "      <td>MUITO LONGE</td>\n",
       "      <td>LONGE</td>\n",
       "      <td>MEDIO</td>\n",
       "      <td>MUITO LONGE</td>\n",
       "      <td>LONGE</td>\n",
       "      <td>LONGE</td>\n",
       "      <td>MEDIO</td>\n",
       "      <td>LONGE</td>\n",
       "      <td>D</td>\n",
       "    </tr>\n",
       "    <tr>\n",
       "      <th>1</th>\n",
       "      <td>M</td>\n",
       "      <td>PB</td>\n",
       "      <td>E</td>\n",
       "      <td>MEDIA</td>\n",
       "      <td>S</td>\n",
       "      <td>N</td>\n",
       "      <td>N</td>\n",
       "      <td>N</td>\n",
       "      <td>N</td>\n",
       "      <td>N</td>\n",
       "      <td>...</td>\n",
       "      <td>MEDIO</td>\n",
       "      <td>LONGE</td>\n",
       "      <td>MEDIO</td>\n",
       "      <td>PROXIMO</td>\n",
       "      <td>PROXIMO</td>\n",
       "      <td>LONGE</td>\n",
       "      <td>LONGE</td>\n",
       "      <td>LONGE</td>\n",
       "      <td>MUITO LONGE</td>\n",
       "      <td>E</td>\n",
       "    </tr>\n",
       "    <tr>\n",
       "      <th>2</th>\n",
       "      <td>F</td>\n",
       "      <td>RS</td>\n",
       "      <td>E</td>\n",
       "      <td>ALTISSIMA</td>\n",
       "      <td>S</td>\n",
       "      <td>N</td>\n",
       "      <td>N</td>\n",
       "      <td>N</td>\n",
       "      <td>N</td>\n",
       "      <td>N</td>\n",
       "      <td>...</td>\n",
       "      <td>MUITO LONGE</td>\n",
       "      <td>MUITO LONGE</td>\n",
       "      <td>LONGE</td>\n",
       "      <td>MUITO LONGE</td>\n",
       "      <td>LONGE</td>\n",
       "      <td>LONGE</td>\n",
       "      <td>MUITO LONGE</td>\n",
       "      <td>LONGE</td>\n",
       "      <td>MUITO PROXIMO</td>\n",
       "      <td>E</td>\n",
       "    </tr>\n",
       "    <tr>\n",
       "      <th>3</th>\n",
       "      <td>F</td>\n",
       "      <td>BA</td>\n",
       "      <td>E</td>\n",
       "      <td>MEDIA</td>\n",
       "      <td>S</td>\n",
       "      <td>S</td>\n",
       "      <td>N</td>\n",
       "      <td>N</td>\n",
       "      <td>N</td>\n",
       "      <td>N</td>\n",
       "      <td>...</td>\n",
       "      <td>LONGE</td>\n",
       "      <td>LONGE</td>\n",
       "      <td>MEDIO</td>\n",
       "      <td>MEDIO</td>\n",
       "      <td>PROXIMO</td>\n",
       "      <td>MEDIO</td>\n",
       "      <td>LONGE</td>\n",
       "      <td>MEDIO</td>\n",
       "      <td>MEDIO</td>\n",
       "      <td>E</td>\n",
       "    </tr>\n",
       "    <tr>\n",
       "      <th>4</th>\n",
       "      <td>F</td>\n",
       "      <td>RS</td>\n",
       "      <td>E</td>\n",
       "      <td>MEDIA</td>\n",
       "      <td>S</td>\n",
       "      <td>S</td>\n",
       "      <td>N</td>\n",
       "      <td>N</td>\n",
       "      <td>N</td>\n",
       "      <td>N</td>\n",
       "      <td>...</td>\n",
       "      <td>MEDIO</td>\n",
       "      <td>PROXIMO</td>\n",
       "      <td>PROXIMO</td>\n",
       "      <td>MUITO PROXIMO</td>\n",
       "      <td>MEDIO</td>\n",
       "      <td>PROXIMO</td>\n",
       "      <td>MUITO PROXIMO</td>\n",
       "      <td>PROXIMO</td>\n",
       "      <td>MUITO PROXIMO</td>\n",
       "      <td>C</td>\n",
       "    </tr>\n",
       "  </tbody>\n",
       "</table>\n",
       "<p>5 rows × 97 columns</p>\n",
       "</div>"
      ],
      "text/plain": [
       "  VAR2 VAR5 VAR9      VAR10 VAR49 VAR50 VAR51 VAR52 VAR53 VAR54  ...  \\\n",
       "0    M   RO    E      BAIXA     S     N     N     N     N     N  ...   \n",
       "1    M   PB    E      MEDIA     S     N     N     N     N     N  ...   \n",
       "2    F   RS    E  ALTISSIMA     S     N     N     N     N     N  ...   \n",
       "3    F   BA    E      MEDIA     S     S     N     N     N     N  ...   \n",
       "4    F   RS    E      MEDIA     S     S     N     N     N     N  ...   \n",
       "\n",
       "        VAR132       VAR133   VAR134         VAR135       VAR136   VAR137  \\\n",
       "0        LONGE  MUITO LONGE    LONGE          MEDIO  MUITO LONGE    LONGE   \n",
       "1        MEDIO        LONGE    MEDIO        PROXIMO      PROXIMO    LONGE   \n",
       "2  MUITO LONGE  MUITO LONGE    LONGE    MUITO LONGE        LONGE    LONGE   \n",
       "3        LONGE        LONGE    MEDIO          MEDIO      PROXIMO    MEDIO   \n",
       "4        MEDIO      PROXIMO  PROXIMO  MUITO PROXIMO        MEDIO  PROXIMO   \n",
       "\n",
       "          VAR138   VAR139         VAR140 VAR142  \n",
       "0          LONGE    MEDIO          LONGE      D  \n",
       "1          LONGE    LONGE    MUITO LONGE      E  \n",
       "2    MUITO LONGE    LONGE  MUITO PROXIMO      E  \n",
       "3          LONGE    MEDIO          MEDIO      E  \n",
       "4  MUITO PROXIMO  PROXIMO  MUITO PROXIMO      C  \n",
       "\n",
       "[5 rows x 97 columns]"
      ]
     },
     "execution_count": 181,
     "metadata": {},
     "output_type": "execute_result"
    }
   ],
   "source": [
    "data_cat.head(5)"
   ]
  },
  {
   "cell_type": "markdown",
   "metadata": {},
   "source": [
    "### Enconding Categorical Features\n",
    "Nesta sessão vamos: \n",
    "1) Determinar quais são as categorias existentes em todo o dataset 2) Determinar quais colunas apresentam quais categorias e se são ordinais ou nominais."
   ]
  },
  {
   "cell_type": "markdown",
   "metadata": {},
   "source": [
    "Quais são as escalas existentes?"
   ]
  },
  {
   "cell_type": "code",
   "execution_count": 182,
   "metadata": {},
   "outputs": [
    {
     "data": {
      "text/plain": [
       "{('A', 'B', 'C', 'D', 'E'),\n",
       " ('ALTA', 'ALTISSIMA', 'BAIXA', 'BAIXISSIMA', 'MEDIA'),\n",
       " ('ALTA', 'ALTISSIMA', 'BAIXISSIMA'),\n",
       " ('ALTA', 'ALTISSIMA', 'BAIXISSIMA', 'MEDIA'),\n",
       " ('ALTISSIMA', 'BAIXISSIMA'),\n",
       " ('F', 'M'),\n",
       " ('LONGE', 'MEDIO', 'MUITO LONGE', 'MUITO PROXIMO', 'PROXIMO'),\n",
       " ('LONGE', 'MEDIO', 'MUITO LONGE', 'PROXIMO'),\n",
       " ('MUITO LONGE', 'PROXIMO'),\n",
       " ('N', 'S')}"
      ]
     },
     "execution_count": 182,
     "metadata": {},
     "output_type": "execute_result"
    }
   ],
   "source": [
    "# get the unique categories for each column\n",
    "# leave out the state feature\n",
    "unique_categories = {column: sorted(data_cat[column].unique()) for column in data_cat.drop(columns=['VAR5']).columns}\n",
    "unique_cats = set(tuple(x) for x in unique_categories.values())\n",
    "unique_cats"
   ]
  },
  {
   "cell_type": "markdown",
   "metadata": {},
   "source": [
    "Normalizando respectivamente todas as variáveis com entradas de distância e frequência para:\n",
    "\n",
    "('LONGE', 'MEDIO', 'MUITO LONGE', 'MUITO PROXIMO', 'PROXIMO')\n",
    "\n",
    "('ALTA', 'ALTISSIMA', 'BAIXA', 'BAIXISSIMA', 'MEDIA')"
   ]
  },
  {
   "cell_type": "code",
   "execution_count": 183,
   "metadata": {},
   "outputs": [],
   "source": [
    "categoriais_ordinais = [('A', 'B', 'C', 'D', 'E'), ('ALTA', 'ALTISSIMA', 'BAIXA', 'BAIXISSIMA', 'MEDIA'), \n",
    "                    ('LONGE', 'MEDIO', 'MUITO LONGE', 'MUITO PROXIMO', 'PROXIMO')]\n",
    "categorias_nominais = [('N', 'S'),('F', 'M')]\n",
    "ordinal_columns = []\n",
    "ordinal_columns0 = []\n",
    "ordinal_columns1 = []\n",
    "ordinal_columns2 = []\n",
    "nominal_columns = []\n",
    "\n",
    "for col in data_cat.drop(columns=['VAR5']):\n",
    "    if  any(set(tuple(unique_categories[col])).issubset(x) for x in categoriais_ordinais):\n",
    "        ordinal_columns.append(col)\n",
    "    if set(tuple(unique_categories[col])).issubset(categoriais_ordinais[0]):\n",
    "        ordinal_columns0.append(col)\n",
    "    elif set(tuple(unique_categories[col])).issubset(categoriais_ordinais[1]):\n",
    "        ordinal_columns1.append(col)\n",
    "    elif set(tuple(unique_categories[col])).issubset(categoriais_ordinais[2]):\n",
    "        ordinal_columns2.append(col)\n",
    "    elif any(set(tuple(unique_categories[col])).issubset(x) for x in categorias_nominais):\n",
    "        nominal_columns.append(col)"
   ]
  },
  {
   "cell_type": "code",
   "execution_count": 184,
   "metadata": {},
   "outputs": [
    {
     "data": {
      "text/plain": [
       "['VAR9', 'VAR142']"
      ]
     },
     "execution_count": 184,
     "metadata": {},
     "output_type": "execute_result"
    }
   ],
   "source": [
    "ordinal_columns0"
   ]
  },
  {
   "cell_type": "markdown",
   "metadata": {},
   "source": [
    "### Encoding Ordinal Features\n",
    "\n",
    "Vou usar a função OrdinalEnconder() do sklearn para codificar numericamente as categorias que apresentam uma hierarquia."
   ]
  },
  {
   "cell_type": "code",
   "execution_count": 185,
   "metadata": {},
   "outputs": [
    {
     "data": {
      "text/html": [
       "<div>\n",
       "<style scoped>\n",
       "    .dataframe tbody tr th:only-of-type {\n",
       "        vertical-align: middle;\n",
       "    }\n",
       "\n",
       "    .dataframe tbody tr th {\n",
       "        vertical-align: top;\n",
       "    }\n",
       "\n",
       "    .dataframe thead th {\n",
       "        text-align: right;\n",
       "    }\n",
       "</style>\n",
       "<table border=\"1\" class=\"dataframe\">\n",
       "  <thead>\n",
       "    <tr style=\"text-align: right;\">\n",
       "      <th></th>\n",
       "      <th>VAR9</th>\n",
       "      <th>VAR142</th>\n",
       "    </tr>\n",
       "  </thead>\n",
       "  <tbody>\n",
       "    <tr>\n",
       "      <th>0</th>\n",
       "      <td>4.0</td>\n",
       "      <td>3.0</td>\n",
       "    </tr>\n",
       "    <tr>\n",
       "      <th>1</th>\n",
       "      <td>4.0</td>\n",
       "      <td>4.0</td>\n",
       "    </tr>\n",
       "    <tr>\n",
       "      <th>2</th>\n",
       "      <td>4.0</td>\n",
       "      <td>4.0</td>\n",
       "    </tr>\n",
       "    <tr>\n",
       "      <th>3</th>\n",
       "      <td>4.0</td>\n",
       "      <td>4.0</td>\n",
       "    </tr>\n",
       "    <tr>\n",
       "      <th>4</th>\n",
       "      <td>4.0</td>\n",
       "      <td>2.0</td>\n",
       "    </tr>\n",
       "    <tr>\n",
       "      <th>...</th>\n",
       "      <td>...</td>\n",
       "      <td>...</td>\n",
       "    </tr>\n",
       "    <tr>\n",
       "      <th>120741</th>\n",
       "      <td>4.0</td>\n",
       "      <td>4.0</td>\n",
       "    </tr>\n",
       "    <tr>\n",
       "      <th>120744</th>\n",
       "      <td>4.0</td>\n",
       "      <td>4.0</td>\n",
       "    </tr>\n",
       "    <tr>\n",
       "      <th>120745</th>\n",
       "      <td>4.0</td>\n",
       "      <td>4.0</td>\n",
       "    </tr>\n",
       "    <tr>\n",
       "      <th>120746</th>\n",
       "      <td>4.0</td>\n",
       "      <td>4.0</td>\n",
       "    </tr>\n",
       "    <tr>\n",
       "      <th>120747</th>\n",
       "      <td>4.0</td>\n",
       "      <td>4.0</td>\n",
       "    </tr>\n",
       "  </tbody>\n",
       "</table>\n",
       "<p>90690 rows × 2 columns</p>\n",
       "</div>"
      ],
      "text/plain": [
       "        VAR9  VAR142\n",
       "0        4.0     3.0\n",
       "1        4.0     4.0\n",
       "2        4.0     4.0\n",
       "3        4.0     4.0\n",
       "4        4.0     2.0\n",
       "...      ...     ...\n",
       "120741   4.0     4.0\n",
       "120744   4.0     4.0\n",
       "120745   4.0     4.0\n",
       "120746   4.0     4.0\n",
       "120747   4.0     4.0\n",
       "\n",
       "[90690 rows x 2 columns]"
      ]
     },
     "execution_count": 185,
     "metadata": {},
     "output_type": "execute_result"
    }
   ],
   "source": [
    "from sklearn.preprocessing import OrdinalEncoder\n",
    "\n",
    "encoder = OrdinalEncoder().set_output(transform=\"pandas\")\n",
    "encoded = encoder.fit_transform(data_cat[ordinal_columns0])\n",
    "encoded"
   ]
  },
  {
   "cell_type": "code",
   "execution_count": 186,
   "metadata": {},
   "outputs": [
    {
     "data": {
      "text/html": [
       "<div>\n",
       "<style scoped>\n",
       "    .dataframe tbody tr th:only-of-type {\n",
       "        vertical-align: middle;\n",
       "    }\n",
       "\n",
       "    .dataframe tbody tr th {\n",
       "        vertical-align: top;\n",
       "    }\n",
       "\n",
       "    .dataframe thead th {\n",
       "        text-align: right;\n",
       "    }\n",
       "</style>\n",
       "<table border=\"1\" class=\"dataframe\">\n",
       "  <thead>\n",
       "    <tr style=\"text-align: right;\">\n",
       "      <th></th>\n",
       "      <th>VAR10</th>\n",
       "      <th>VAR66</th>\n",
       "      <th>VAR67</th>\n",
       "      <th>VAR68</th>\n",
       "      <th>VAR69</th>\n",
       "      <th>VAR70</th>\n",
       "      <th>VAR71</th>\n",
       "      <th>VAR72</th>\n",
       "      <th>VAR73</th>\n",
       "      <th>VAR74</th>\n",
       "      <th>...</th>\n",
       "      <th>VAR92</th>\n",
       "      <th>VAR93</th>\n",
       "      <th>VAR94</th>\n",
       "      <th>VAR95</th>\n",
       "      <th>VAR96</th>\n",
       "      <th>VAR97</th>\n",
       "      <th>VAR98</th>\n",
       "      <th>VAR99</th>\n",
       "      <th>VAR100</th>\n",
       "      <th>VAR101</th>\n",
       "    </tr>\n",
       "  </thead>\n",
       "  <tbody>\n",
       "    <tr>\n",
       "      <th>0</th>\n",
       "      <td>1.0</td>\n",
       "      <td>2.0</td>\n",
       "      <td>0.0</td>\n",
       "      <td>3.0</td>\n",
       "      <td>0.0</td>\n",
       "      <td>3.0</td>\n",
       "      <td>4.0</td>\n",
       "      <td>0.0</td>\n",
       "      <td>0.0</td>\n",
       "      <td>3.0</td>\n",
       "      <td>...</td>\n",
       "      <td>2.0</td>\n",
       "      <td>0.0</td>\n",
       "      <td>3.0</td>\n",
       "      <td>0.0</td>\n",
       "      <td>3.0</td>\n",
       "      <td>2.0</td>\n",
       "      <td>2.0</td>\n",
       "      <td>3.0</td>\n",
       "      <td>0.0</td>\n",
       "      <td>3.0</td>\n",
       "    </tr>\n",
       "    <tr>\n",
       "      <th>1</th>\n",
       "      <td>2.0</td>\n",
       "      <td>3.0</td>\n",
       "      <td>4.0</td>\n",
       "      <td>3.0</td>\n",
       "      <td>0.0</td>\n",
       "      <td>3.0</td>\n",
       "      <td>4.0</td>\n",
       "      <td>3.0</td>\n",
       "      <td>2.0</td>\n",
       "      <td>3.0</td>\n",
       "      <td>...</td>\n",
       "      <td>2.0</td>\n",
       "      <td>3.0</td>\n",
       "      <td>4.0</td>\n",
       "      <td>3.0</td>\n",
       "      <td>4.0</td>\n",
       "      <td>3.0</td>\n",
       "      <td>3.0</td>\n",
       "      <td>4.0</td>\n",
       "      <td>4.0</td>\n",
       "      <td>2.0</td>\n",
       "    </tr>\n",
       "    <tr>\n",
       "      <th>2</th>\n",
       "      <td>4.0</td>\n",
       "      <td>0.0</td>\n",
       "      <td>0.0</td>\n",
       "      <td>0.0</td>\n",
       "      <td>3.0</td>\n",
       "      <td>0.0</td>\n",
       "      <td>0.0</td>\n",
       "      <td>0.0</td>\n",
       "      <td>0.0</td>\n",
       "      <td>0.0</td>\n",
       "      <td>...</td>\n",
       "      <td>0.0</td>\n",
       "      <td>0.0</td>\n",
       "      <td>0.0</td>\n",
       "      <td>0.0</td>\n",
       "      <td>0.0</td>\n",
       "      <td>0.0</td>\n",
       "      <td>0.0</td>\n",
       "      <td>0.0</td>\n",
       "      <td>0.0</td>\n",
       "      <td>2.0</td>\n",
       "    </tr>\n",
       "    <tr>\n",
       "      <th>3</th>\n",
       "      <td>2.0</td>\n",
       "      <td>4.0</td>\n",
       "      <td>3.0</td>\n",
       "      <td>4.0</td>\n",
       "      <td>3.0</td>\n",
       "      <td>4.0</td>\n",
       "      <td>3.0</td>\n",
       "      <td>4.0</td>\n",
       "      <td>4.0</td>\n",
       "      <td>4.0</td>\n",
       "      <td>...</td>\n",
       "      <td>4.0</td>\n",
       "      <td>4.0</td>\n",
       "      <td>4.0</td>\n",
       "      <td>3.0</td>\n",
       "      <td>4.0</td>\n",
       "      <td>3.0</td>\n",
       "      <td>4.0</td>\n",
       "      <td>4.0</td>\n",
       "      <td>4.0</td>\n",
       "      <td>4.0</td>\n",
       "    </tr>\n",
       "    <tr>\n",
       "      <th>4</th>\n",
       "      <td>2.0</td>\n",
       "      <td>4.0</td>\n",
       "      <td>0.0</td>\n",
       "      <td>4.0</td>\n",
       "      <td>4.0</td>\n",
       "      <td>4.0</td>\n",
       "      <td>4.0</td>\n",
       "      <td>4.0</td>\n",
       "      <td>4.0</td>\n",
       "      <td>4.0</td>\n",
       "      <td>...</td>\n",
       "      <td>4.0</td>\n",
       "      <td>4.0</td>\n",
       "      <td>4.0</td>\n",
       "      <td>4.0</td>\n",
       "      <td>4.0</td>\n",
       "      <td>4.0</td>\n",
       "      <td>4.0</td>\n",
       "      <td>4.0</td>\n",
       "      <td>0.0</td>\n",
       "      <td>4.0</td>\n",
       "    </tr>\n",
       "    <tr>\n",
       "      <th>...</th>\n",
       "      <td>...</td>\n",
       "      <td>...</td>\n",
       "      <td>...</td>\n",
       "      <td>...</td>\n",
       "      <td>...</td>\n",
       "      <td>...</td>\n",
       "      <td>...</td>\n",
       "      <td>...</td>\n",
       "      <td>...</td>\n",
       "      <td>...</td>\n",
       "      <td>...</td>\n",
       "      <td>...</td>\n",
       "      <td>...</td>\n",
       "      <td>...</td>\n",
       "      <td>...</td>\n",
       "      <td>...</td>\n",
       "      <td>...</td>\n",
       "      <td>...</td>\n",
       "      <td>...</td>\n",
       "      <td>...</td>\n",
       "      <td>...</td>\n",
       "    </tr>\n",
       "    <tr>\n",
       "      <th>120741</th>\n",
       "      <td>1.0</td>\n",
       "      <td>3.0</td>\n",
       "      <td>0.0</td>\n",
       "      <td>3.0</td>\n",
       "      <td>3.0</td>\n",
       "      <td>4.0</td>\n",
       "      <td>3.0</td>\n",
       "      <td>3.0</td>\n",
       "      <td>4.0</td>\n",
       "      <td>2.0</td>\n",
       "      <td>...</td>\n",
       "      <td>3.0</td>\n",
       "      <td>4.0</td>\n",
       "      <td>3.0</td>\n",
       "      <td>3.0</td>\n",
       "      <td>3.0</td>\n",
       "      <td>4.0</td>\n",
       "      <td>3.0</td>\n",
       "      <td>3.0</td>\n",
       "      <td>4.0</td>\n",
       "      <td>3.0</td>\n",
       "    </tr>\n",
       "    <tr>\n",
       "      <th>120744</th>\n",
       "      <td>2.0</td>\n",
       "      <td>2.0</td>\n",
       "      <td>0.0</td>\n",
       "      <td>3.0</td>\n",
       "      <td>0.0</td>\n",
       "      <td>2.0</td>\n",
       "      <td>3.0</td>\n",
       "      <td>0.0</td>\n",
       "      <td>0.0</td>\n",
       "      <td>2.0</td>\n",
       "      <td>...</td>\n",
       "      <td>2.0</td>\n",
       "      <td>0.0</td>\n",
       "      <td>0.0</td>\n",
       "      <td>3.0</td>\n",
       "      <td>3.0</td>\n",
       "      <td>2.0</td>\n",
       "      <td>2.0</td>\n",
       "      <td>3.0</td>\n",
       "      <td>0.0</td>\n",
       "      <td>2.0</td>\n",
       "    </tr>\n",
       "    <tr>\n",
       "      <th>120745</th>\n",
       "      <td>4.0</td>\n",
       "      <td>2.0</td>\n",
       "      <td>0.0</td>\n",
       "      <td>0.0</td>\n",
       "      <td>0.0</td>\n",
       "      <td>2.0</td>\n",
       "      <td>2.0</td>\n",
       "      <td>0.0</td>\n",
       "      <td>0.0</td>\n",
       "      <td>2.0</td>\n",
       "      <td>...</td>\n",
       "      <td>3.0</td>\n",
       "      <td>0.0</td>\n",
       "      <td>2.0</td>\n",
       "      <td>0.0</td>\n",
       "      <td>1.0</td>\n",
       "      <td>2.0</td>\n",
       "      <td>0.0</td>\n",
       "      <td>2.0</td>\n",
       "      <td>0.0</td>\n",
       "      <td>0.0</td>\n",
       "    </tr>\n",
       "    <tr>\n",
       "      <th>120746</th>\n",
       "      <td>2.0</td>\n",
       "      <td>2.0</td>\n",
       "      <td>0.0</td>\n",
       "      <td>2.0</td>\n",
       "      <td>0.0</td>\n",
       "      <td>2.0</td>\n",
       "      <td>3.0</td>\n",
       "      <td>3.0</td>\n",
       "      <td>2.0</td>\n",
       "      <td>2.0</td>\n",
       "      <td>...</td>\n",
       "      <td>2.0</td>\n",
       "      <td>0.0</td>\n",
       "      <td>3.0</td>\n",
       "      <td>3.0</td>\n",
       "      <td>3.0</td>\n",
       "      <td>4.0</td>\n",
       "      <td>2.0</td>\n",
       "      <td>3.0</td>\n",
       "      <td>0.0</td>\n",
       "      <td>2.0</td>\n",
       "    </tr>\n",
       "    <tr>\n",
       "      <th>120747</th>\n",
       "      <td>2.0</td>\n",
       "      <td>4.0</td>\n",
       "      <td>4.0</td>\n",
       "      <td>3.0</td>\n",
       "      <td>0.0</td>\n",
       "      <td>4.0</td>\n",
       "      <td>4.0</td>\n",
       "      <td>4.0</td>\n",
       "      <td>3.0</td>\n",
       "      <td>4.0</td>\n",
       "      <td>...</td>\n",
       "      <td>4.0</td>\n",
       "      <td>4.0</td>\n",
       "      <td>4.0</td>\n",
       "      <td>4.0</td>\n",
       "      <td>4.0</td>\n",
       "      <td>3.0</td>\n",
       "      <td>3.0</td>\n",
       "      <td>4.0</td>\n",
       "      <td>0.0</td>\n",
       "      <td>4.0</td>\n",
       "    </tr>\n",
       "  </tbody>\n",
       "</table>\n",
       "<p>90690 rows × 37 columns</p>\n",
       "</div>"
      ],
      "text/plain": [
       "        VAR10  VAR66  VAR67  VAR68  VAR69  VAR70  VAR71  VAR72  VAR73  VAR74  \\\n",
       "0         1.0    2.0    0.0    3.0    0.0    3.0    4.0    0.0    0.0    3.0   \n",
       "1         2.0    3.0    4.0    3.0    0.0    3.0    4.0    3.0    2.0    3.0   \n",
       "2         4.0    0.0    0.0    0.0    3.0    0.0    0.0    0.0    0.0    0.0   \n",
       "3         2.0    4.0    3.0    4.0    3.0    4.0    3.0    4.0    4.0    4.0   \n",
       "4         2.0    4.0    0.0    4.0    4.0    4.0    4.0    4.0    4.0    4.0   \n",
       "...       ...    ...    ...    ...    ...    ...    ...    ...    ...    ...   \n",
       "120741    1.0    3.0    0.0    3.0    3.0    4.0    3.0    3.0    4.0    2.0   \n",
       "120744    2.0    2.0    0.0    3.0    0.0    2.0    3.0    0.0    0.0    2.0   \n",
       "120745    4.0    2.0    0.0    0.0    0.0    2.0    2.0    0.0    0.0    2.0   \n",
       "120746    2.0    2.0    0.0    2.0    0.0    2.0    3.0    3.0    2.0    2.0   \n",
       "120747    2.0    4.0    4.0    3.0    0.0    4.0    4.0    4.0    3.0    4.0   \n",
       "\n",
       "        ...  VAR92  VAR93  VAR94  VAR95  VAR96  VAR97  VAR98  VAR99  VAR100  \\\n",
       "0       ...    2.0    0.0    3.0    0.0    3.0    2.0    2.0    3.0     0.0   \n",
       "1       ...    2.0    3.0    4.0    3.0    4.0    3.0    3.0    4.0     4.0   \n",
       "2       ...    0.0    0.0    0.0    0.0    0.0    0.0    0.0    0.0     0.0   \n",
       "3       ...    4.0    4.0    4.0    3.0    4.0    3.0    4.0    4.0     4.0   \n",
       "4       ...    4.0    4.0    4.0    4.0    4.0    4.0    4.0    4.0     0.0   \n",
       "...     ...    ...    ...    ...    ...    ...    ...    ...    ...     ...   \n",
       "120741  ...    3.0    4.0    3.0    3.0    3.0    4.0    3.0    3.0     4.0   \n",
       "120744  ...    2.0    0.0    0.0    3.0    3.0    2.0    2.0    3.0     0.0   \n",
       "120745  ...    3.0    0.0    2.0    0.0    1.0    2.0    0.0    2.0     0.0   \n",
       "120746  ...    2.0    0.0    3.0    3.0    3.0    4.0    2.0    3.0     0.0   \n",
       "120747  ...    4.0    4.0    4.0    4.0    4.0    3.0    3.0    4.0     0.0   \n",
       "\n",
       "        VAR101  \n",
       "0          3.0  \n",
       "1          2.0  \n",
       "2          2.0  \n",
       "3          4.0  \n",
       "4          4.0  \n",
       "...        ...  \n",
       "120741     3.0  \n",
       "120744     2.0  \n",
       "120745     0.0  \n",
       "120746     2.0  \n",
       "120747     4.0  \n",
       "\n",
       "[90690 rows x 37 columns]"
      ]
     },
     "execution_count": 186,
     "metadata": {},
     "output_type": "execute_result"
    }
   ],
   "source": [
    "encoder1 = OrdinalEncoder(categories=[['BAIXISSIMA', 'BAIXA', 'MEDIA', 'ALTA', 'ALTISSIMA']]*len(ordinal_columns1)).set_output(transform=\"pandas\")\n",
    "encoded1 = encoder1.fit_transform(data_cat[ordinal_columns1])\n",
    "encoded1"
   ]
  },
  {
   "cell_type": "code",
   "execution_count": 187,
   "metadata": {},
   "outputs": [
    {
     "data": {
      "text/html": [
       "<div>\n",
       "<style scoped>\n",
       "    .dataframe tbody tr th:only-of-type {\n",
       "        vertical-align: middle;\n",
       "    }\n",
       "\n",
       "    .dataframe tbody tr th {\n",
       "        vertical-align: top;\n",
       "    }\n",
       "\n",
       "    .dataframe thead th {\n",
       "        text-align: right;\n",
       "    }\n",
       "</style>\n",
       "<table border=\"1\" class=\"dataframe\">\n",
       "  <thead>\n",
       "    <tr style=\"text-align: right;\">\n",
       "      <th></th>\n",
       "      <th>VAR102</th>\n",
       "      <th>VAR103</th>\n",
       "      <th>VAR104</th>\n",
       "      <th>VAR105</th>\n",
       "      <th>VAR106</th>\n",
       "      <th>VAR107</th>\n",
       "      <th>VAR108</th>\n",
       "      <th>VAR109</th>\n",
       "      <th>VAR110</th>\n",
       "      <th>VAR111</th>\n",
       "      <th>...</th>\n",
       "      <th>VAR131</th>\n",
       "      <th>VAR132</th>\n",
       "      <th>VAR133</th>\n",
       "      <th>VAR134</th>\n",
       "      <th>VAR135</th>\n",
       "      <th>VAR136</th>\n",
       "      <th>VAR137</th>\n",
       "      <th>VAR138</th>\n",
       "      <th>VAR139</th>\n",
       "      <th>VAR140</th>\n",
       "    </tr>\n",
       "  </thead>\n",
       "  <tbody>\n",
       "    <tr>\n",
       "      <th>0</th>\n",
       "      <td>1.0</td>\n",
       "      <td>1.0</td>\n",
       "      <td>1.0</td>\n",
       "      <td>3.0</td>\n",
       "      <td>2.0</td>\n",
       "      <td>1.0</td>\n",
       "      <td>2.0</td>\n",
       "      <td>1.0</td>\n",
       "      <td>1.0</td>\n",
       "      <td>1.0</td>\n",
       "      <td>...</td>\n",
       "      <td>2.0</td>\n",
       "      <td>1.0</td>\n",
       "      <td>0.0</td>\n",
       "      <td>1.0</td>\n",
       "      <td>2.0</td>\n",
       "      <td>0.0</td>\n",
       "      <td>1.0</td>\n",
       "      <td>1.0</td>\n",
       "      <td>2.0</td>\n",
       "      <td>1.0</td>\n",
       "    </tr>\n",
       "    <tr>\n",
       "      <th>1</th>\n",
       "      <td>2.0</td>\n",
       "      <td>1.0</td>\n",
       "      <td>2.0</td>\n",
       "      <td>0.0</td>\n",
       "      <td>3.0</td>\n",
       "      <td>2.0</td>\n",
       "      <td>3.0</td>\n",
       "      <td>2.0</td>\n",
       "      <td>2.0</td>\n",
       "      <td>2.0</td>\n",
       "      <td>...</td>\n",
       "      <td>2.0</td>\n",
       "      <td>2.0</td>\n",
       "      <td>1.0</td>\n",
       "      <td>2.0</td>\n",
       "      <td>3.0</td>\n",
       "      <td>3.0</td>\n",
       "      <td>1.0</td>\n",
       "      <td>1.0</td>\n",
       "      <td>1.0</td>\n",
       "      <td>0.0</td>\n",
       "    </tr>\n",
       "    <tr>\n",
       "      <th>2</th>\n",
       "      <td>1.0</td>\n",
       "      <td>0.0</td>\n",
       "      <td>1.0</td>\n",
       "      <td>0.0</td>\n",
       "      <td>0.0</td>\n",
       "      <td>0.0</td>\n",
       "      <td>0.0</td>\n",
       "      <td>1.0</td>\n",
       "      <td>1.0</td>\n",
       "      <td>0.0</td>\n",
       "      <td>...</td>\n",
       "      <td>0.0</td>\n",
       "      <td>0.0</td>\n",
       "      <td>0.0</td>\n",
       "      <td>1.0</td>\n",
       "      <td>0.0</td>\n",
       "      <td>1.0</td>\n",
       "      <td>1.0</td>\n",
       "      <td>0.0</td>\n",
       "      <td>1.0</td>\n",
       "      <td>4.0</td>\n",
       "    </tr>\n",
       "    <tr>\n",
       "      <th>3</th>\n",
       "      <td>3.0</td>\n",
       "      <td>2.0</td>\n",
       "      <td>2.0</td>\n",
       "      <td>4.0</td>\n",
       "      <td>3.0</td>\n",
       "      <td>2.0</td>\n",
       "      <td>3.0</td>\n",
       "      <td>1.0</td>\n",
       "      <td>1.0</td>\n",
       "      <td>2.0</td>\n",
       "      <td>...</td>\n",
       "      <td>2.0</td>\n",
       "      <td>1.0</td>\n",
       "      <td>1.0</td>\n",
       "      <td>2.0</td>\n",
       "      <td>2.0</td>\n",
       "      <td>3.0</td>\n",
       "      <td>2.0</td>\n",
       "      <td>1.0</td>\n",
       "      <td>2.0</td>\n",
       "      <td>2.0</td>\n",
       "    </tr>\n",
       "    <tr>\n",
       "      <th>4</th>\n",
       "      <td>3.0</td>\n",
       "      <td>3.0</td>\n",
       "      <td>3.0</td>\n",
       "      <td>3.0</td>\n",
       "      <td>3.0</td>\n",
       "      <td>1.0</td>\n",
       "      <td>2.0</td>\n",
       "      <td>4.0</td>\n",
       "      <td>2.0</td>\n",
       "      <td>3.0</td>\n",
       "      <td>...</td>\n",
       "      <td>3.0</td>\n",
       "      <td>2.0</td>\n",
       "      <td>3.0</td>\n",
       "      <td>3.0</td>\n",
       "      <td>4.0</td>\n",
       "      <td>2.0</td>\n",
       "      <td>3.0</td>\n",
       "      <td>4.0</td>\n",
       "      <td>3.0</td>\n",
       "      <td>4.0</td>\n",
       "    </tr>\n",
       "    <tr>\n",
       "      <th>...</th>\n",
       "      <td>...</td>\n",
       "      <td>...</td>\n",
       "      <td>...</td>\n",
       "      <td>...</td>\n",
       "      <td>...</td>\n",
       "      <td>...</td>\n",
       "      <td>...</td>\n",
       "      <td>...</td>\n",
       "      <td>...</td>\n",
       "      <td>...</td>\n",
       "      <td>...</td>\n",
       "      <td>...</td>\n",
       "      <td>...</td>\n",
       "      <td>...</td>\n",
       "      <td>...</td>\n",
       "      <td>...</td>\n",
       "      <td>...</td>\n",
       "      <td>...</td>\n",
       "      <td>...</td>\n",
       "      <td>...</td>\n",
       "      <td>...</td>\n",
       "    </tr>\n",
       "    <tr>\n",
       "      <th>120741</th>\n",
       "      <td>2.0</td>\n",
       "      <td>1.0</td>\n",
       "      <td>1.0</td>\n",
       "      <td>1.0</td>\n",
       "      <td>1.0</td>\n",
       "      <td>1.0</td>\n",
       "      <td>2.0</td>\n",
       "      <td>2.0</td>\n",
       "      <td>2.0</td>\n",
       "      <td>1.0</td>\n",
       "      <td>...</td>\n",
       "      <td>1.0</td>\n",
       "      <td>1.0</td>\n",
       "      <td>2.0</td>\n",
       "      <td>1.0</td>\n",
       "      <td>1.0</td>\n",
       "      <td>3.0</td>\n",
       "      <td>2.0</td>\n",
       "      <td>2.0</td>\n",
       "      <td>1.0</td>\n",
       "      <td>2.0</td>\n",
       "    </tr>\n",
       "    <tr>\n",
       "      <th>120744</th>\n",
       "      <td>3.0</td>\n",
       "      <td>3.0</td>\n",
       "      <td>3.0</td>\n",
       "      <td>4.0</td>\n",
       "      <td>4.0</td>\n",
       "      <td>0.0</td>\n",
       "      <td>3.0</td>\n",
       "      <td>0.0</td>\n",
       "      <td>0.0</td>\n",
       "      <td>3.0</td>\n",
       "      <td>...</td>\n",
       "      <td>0.0</td>\n",
       "      <td>3.0</td>\n",
       "      <td>2.0</td>\n",
       "      <td>3.0</td>\n",
       "      <td>2.0</td>\n",
       "      <td>0.0</td>\n",
       "      <td>2.0</td>\n",
       "      <td>2.0</td>\n",
       "      <td>3.0</td>\n",
       "      <td>1.0</td>\n",
       "    </tr>\n",
       "    <tr>\n",
       "      <th>120745</th>\n",
       "      <td>0.0</td>\n",
       "      <td>1.0</td>\n",
       "      <td>0.0</td>\n",
       "      <td>1.0</td>\n",
       "      <td>1.0</td>\n",
       "      <td>1.0</td>\n",
       "      <td>1.0</td>\n",
       "      <td>1.0</td>\n",
       "      <td>0.0</td>\n",
       "      <td>1.0</td>\n",
       "      <td>...</td>\n",
       "      <td>1.0</td>\n",
       "      <td>1.0</td>\n",
       "      <td>1.0</td>\n",
       "      <td>0.0</td>\n",
       "      <td>1.0</td>\n",
       "      <td>2.0</td>\n",
       "      <td>1.0</td>\n",
       "      <td>1.0</td>\n",
       "      <td>0.0</td>\n",
       "      <td>0.0</td>\n",
       "    </tr>\n",
       "    <tr>\n",
       "      <th>120746</th>\n",
       "      <td>2.0</td>\n",
       "      <td>2.0</td>\n",
       "      <td>2.0</td>\n",
       "      <td>2.0</td>\n",
       "      <td>2.0</td>\n",
       "      <td>1.0</td>\n",
       "      <td>2.0</td>\n",
       "      <td>2.0</td>\n",
       "      <td>2.0</td>\n",
       "      <td>1.0</td>\n",
       "      <td>...</td>\n",
       "      <td>2.0</td>\n",
       "      <td>2.0</td>\n",
       "      <td>3.0</td>\n",
       "      <td>1.0</td>\n",
       "      <td>2.0</td>\n",
       "      <td>1.0</td>\n",
       "      <td>2.0</td>\n",
       "      <td>2.0</td>\n",
       "      <td>2.0</td>\n",
       "      <td>1.0</td>\n",
       "    </tr>\n",
       "    <tr>\n",
       "      <th>120747</th>\n",
       "      <td>2.0</td>\n",
       "      <td>3.0</td>\n",
       "      <td>3.0</td>\n",
       "      <td>2.0</td>\n",
       "      <td>2.0</td>\n",
       "      <td>3.0</td>\n",
       "      <td>3.0</td>\n",
       "      <td>4.0</td>\n",
       "      <td>2.0</td>\n",
       "      <td>1.0</td>\n",
       "      <td>...</td>\n",
       "      <td>2.0</td>\n",
       "      <td>3.0</td>\n",
       "      <td>2.0</td>\n",
       "      <td>3.0</td>\n",
       "      <td>2.0</td>\n",
       "      <td>2.0</td>\n",
       "      <td>2.0</td>\n",
       "      <td>3.0</td>\n",
       "      <td>2.0</td>\n",
       "      <td>1.0</td>\n",
       "    </tr>\n",
       "  </tbody>\n",
       "</table>\n",
       "<p>90690 rows × 39 columns</p>\n",
       "</div>"
      ],
      "text/plain": [
       "        VAR102  VAR103  VAR104  VAR105  VAR106  VAR107  VAR108  VAR109  \\\n",
       "0          1.0     1.0     1.0     3.0     2.0     1.0     2.0     1.0   \n",
       "1          2.0     1.0     2.0     0.0     3.0     2.0     3.0     2.0   \n",
       "2          1.0     0.0     1.0     0.0     0.0     0.0     0.0     1.0   \n",
       "3          3.0     2.0     2.0     4.0     3.0     2.0     3.0     1.0   \n",
       "4          3.0     3.0     3.0     3.0     3.0     1.0     2.0     4.0   \n",
       "...        ...     ...     ...     ...     ...     ...     ...     ...   \n",
       "120741     2.0     1.0     1.0     1.0     1.0     1.0     2.0     2.0   \n",
       "120744     3.0     3.0     3.0     4.0     4.0     0.0     3.0     0.0   \n",
       "120745     0.0     1.0     0.0     1.0     1.0     1.0     1.0     1.0   \n",
       "120746     2.0     2.0     2.0     2.0     2.0     1.0     2.0     2.0   \n",
       "120747     2.0     3.0     3.0     2.0     2.0     3.0     3.0     4.0   \n",
       "\n",
       "        VAR110  VAR111  ...  VAR131  VAR132  VAR133  VAR134  VAR135  VAR136  \\\n",
       "0          1.0     1.0  ...     2.0     1.0     0.0     1.0     2.0     0.0   \n",
       "1          2.0     2.0  ...     2.0     2.0     1.0     2.0     3.0     3.0   \n",
       "2          1.0     0.0  ...     0.0     0.0     0.0     1.0     0.0     1.0   \n",
       "3          1.0     2.0  ...     2.0     1.0     1.0     2.0     2.0     3.0   \n",
       "4          2.0     3.0  ...     3.0     2.0     3.0     3.0     4.0     2.0   \n",
       "...        ...     ...  ...     ...     ...     ...     ...     ...     ...   \n",
       "120741     2.0     1.0  ...     1.0     1.0     2.0     1.0     1.0     3.0   \n",
       "120744     0.0     3.0  ...     0.0     3.0     2.0     3.0     2.0     0.0   \n",
       "120745     0.0     1.0  ...     1.0     1.0     1.0     0.0     1.0     2.0   \n",
       "120746     2.0     1.0  ...     2.0     2.0     3.0     1.0     2.0     1.0   \n",
       "120747     2.0     1.0  ...     2.0     3.0     2.0     3.0     2.0     2.0   \n",
       "\n",
       "        VAR137  VAR138  VAR139  VAR140  \n",
       "0          1.0     1.0     2.0     1.0  \n",
       "1          1.0     1.0     1.0     0.0  \n",
       "2          1.0     0.0     1.0     4.0  \n",
       "3          2.0     1.0     2.0     2.0  \n",
       "4          3.0     4.0     3.0     4.0  \n",
       "...        ...     ...     ...     ...  \n",
       "120741     2.0     2.0     1.0     2.0  \n",
       "120744     2.0     2.0     3.0     1.0  \n",
       "120745     1.0     1.0     0.0     0.0  \n",
       "120746     2.0     2.0     2.0     1.0  \n",
       "120747     2.0     3.0     2.0     1.0  \n",
       "\n",
       "[90690 rows x 39 columns]"
      ]
     },
     "execution_count": 187,
     "metadata": {},
     "output_type": "execute_result"
    }
   ],
   "source": [
    "encoder2 = OrdinalEncoder(categories=[('MUITO LONGE','LONGE', 'MEDIO', 'PROXIMO', 'MUITO PROXIMO')]*len(ordinal_columns2)).set_output(transform=\"pandas\")\n",
    "encoded2 = encoder2.fit_transform(data_cat[ordinal_columns2])\n",
    "encoded2"
   ]
  },
  {
   "cell_type": "markdown",
   "metadata": {},
   "source": [
    "### Encoding Nominal Features\n",
    "\n",
    "Para as escalas que não apresentam ordem vamos usar binary enconding. Como temos apenas duas variáveis, podemos usar também o OrdinalEncoder do sklearn para dar valores numéricos 0 ou 1 para as variáveis categóricas binárias."
   ]
  },
  {
   "cell_type": "code",
   "execution_count": 188,
   "metadata": {},
   "outputs": [
    {
     "data": {
      "text/html": [
       "<div>\n",
       "<style scoped>\n",
       "    .dataframe tbody tr th:only-of-type {\n",
       "        vertical-align: middle;\n",
       "    }\n",
       "\n",
       "    .dataframe tbody tr th {\n",
       "        vertical-align: top;\n",
       "    }\n",
       "\n",
       "    .dataframe thead th {\n",
       "        text-align: right;\n",
       "    }\n",
       "</style>\n",
       "<table border=\"1\" class=\"dataframe\">\n",
       "  <thead>\n",
       "    <tr style=\"text-align: right;\">\n",
       "      <th></th>\n",
       "      <th>VAR2</th>\n",
       "      <th>VAR49</th>\n",
       "      <th>VAR50</th>\n",
       "      <th>VAR51</th>\n",
       "      <th>VAR52</th>\n",
       "      <th>VAR53</th>\n",
       "      <th>VAR54</th>\n",
       "      <th>VAR55</th>\n",
       "      <th>VAR56</th>\n",
       "      <th>VAR57</th>\n",
       "      <th>VAR58</th>\n",
       "      <th>VAR59</th>\n",
       "      <th>VAR60</th>\n",
       "      <th>VAR61</th>\n",
       "      <th>VAR62</th>\n",
       "      <th>VAR63</th>\n",
       "      <th>VAR64</th>\n",
       "      <th>VAR65</th>\n",
       "    </tr>\n",
       "  </thead>\n",
       "  <tbody>\n",
       "    <tr>\n",
       "      <th>0</th>\n",
       "      <td>1.0</td>\n",
       "      <td>1.0</td>\n",
       "      <td>0.0</td>\n",
       "      <td>0.0</td>\n",
       "      <td>0.0</td>\n",
       "      <td>0.0</td>\n",
       "      <td>0.0</td>\n",
       "      <td>0.0</td>\n",
       "      <td>0.0</td>\n",
       "      <td>0.0</td>\n",
       "      <td>0.0</td>\n",
       "      <td>0.0</td>\n",
       "      <td>0.0</td>\n",
       "      <td>1.0</td>\n",
       "      <td>0.0</td>\n",
       "      <td>0.0</td>\n",
       "      <td>0.0</td>\n",
       "      <td>0.0</td>\n",
       "    </tr>\n",
       "    <tr>\n",
       "      <th>1</th>\n",
       "      <td>1.0</td>\n",
       "      <td>1.0</td>\n",
       "      <td>0.0</td>\n",
       "      <td>0.0</td>\n",
       "      <td>0.0</td>\n",
       "      <td>0.0</td>\n",
       "      <td>0.0</td>\n",
       "      <td>0.0</td>\n",
       "      <td>0.0</td>\n",
       "      <td>0.0</td>\n",
       "      <td>0.0</td>\n",
       "      <td>0.0</td>\n",
       "      <td>0.0</td>\n",
       "      <td>0.0</td>\n",
       "      <td>0.0</td>\n",
       "      <td>0.0</td>\n",
       "      <td>0.0</td>\n",
       "      <td>0.0</td>\n",
       "    </tr>\n",
       "    <tr>\n",
       "      <th>2</th>\n",
       "      <td>0.0</td>\n",
       "      <td>1.0</td>\n",
       "      <td>0.0</td>\n",
       "      <td>0.0</td>\n",
       "      <td>0.0</td>\n",
       "      <td>0.0</td>\n",
       "      <td>0.0</td>\n",
       "      <td>0.0</td>\n",
       "      <td>1.0</td>\n",
       "      <td>0.0</td>\n",
       "      <td>0.0</td>\n",
       "      <td>0.0</td>\n",
       "      <td>0.0</td>\n",
       "      <td>0.0</td>\n",
       "      <td>0.0</td>\n",
       "      <td>1.0</td>\n",
       "      <td>0.0</td>\n",
       "      <td>0.0</td>\n",
       "    </tr>\n",
       "    <tr>\n",
       "      <th>3</th>\n",
       "      <td>0.0</td>\n",
       "      <td>1.0</td>\n",
       "      <td>1.0</td>\n",
       "      <td>0.0</td>\n",
       "      <td>0.0</td>\n",
       "      <td>0.0</td>\n",
       "      <td>0.0</td>\n",
       "      <td>1.0</td>\n",
       "      <td>1.0</td>\n",
       "      <td>0.0</td>\n",
       "      <td>0.0</td>\n",
       "      <td>0.0</td>\n",
       "      <td>0.0</td>\n",
       "      <td>0.0</td>\n",
       "      <td>0.0</td>\n",
       "      <td>0.0</td>\n",
       "      <td>0.0</td>\n",
       "      <td>0.0</td>\n",
       "    </tr>\n",
       "    <tr>\n",
       "      <th>4</th>\n",
       "      <td>0.0</td>\n",
       "      <td>1.0</td>\n",
       "      <td>1.0</td>\n",
       "      <td>0.0</td>\n",
       "      <td>0.0</td>\n",
       "      <td>0.0</td>\n",
       "      <td>0.0</td>\n",
       "      <td>0.0</td>\n",
       "      <td>0.0</td>\n",
       "      <td>0.0</td>\n",
       "      <td>0.0</td>\n",
       "      <td>0.0</td>\n",
       "      <td>0.0</td>\n",
       "      <td>0.0</td>\n",
       "      <td>0.0</td>\n",
       "      <td>0.0</td>\n",
       "      <td>0.0</td>\n",
       "      <td>1.0</td>\n",
       "    </tr>\n",
       "    <tr>\n",
       "      <th>...</th>\n",
       "      <td>...</td>\n",
       "      <td>...</td>\n",
       "      <td>...</td>\n",
       "      <td>...</td>\n",
       "      <td>...</td>\n",
       "      <td>...</td>\n",
       "      <td>...</td>\n",
       "      <td>...</td>\n",
       "      <td>...</td>\n",
       "      <td>...</td>\n",
       "      <td>...</td>\n",
       "      <td>...</td>\n",
       "      <td>...</td>\n",
       "      <td>...</td>\n",
       "      <td>...</td>\n",
       "      <td>...</td>\n",
       "      <td>...</td>\n",
       "      <td>...</td>\n",
       "    </tr>\n",
       "    <tr>\n",
       "      <th>120741</th>\n",
       "      <td>0.0</td>\n",
       "      <td>1.0</td>\n",
       "      <td>1.0</td>\n",
       "      <td>0.0</td>\n",
       "      <td>0.0</td>\n",
       "      <td>0.0</td>\n",
       "      <td>0.0</td>\n",
       "      <td>0.0</td>\n",
       "      <td>0.0</td>\n",
       "      <td>0.0</td>\n",
       "      <td>0.0</td>\n",
       "      <td>0.0</td>\n",
       "      <td>0.0</td>\n",
       "      <td>0.0</td>\n",
       "      <td>0.0</td>\n",
       "      <td>0.0</td>\n",
       "      <td>0.0</td>\n",
       "      <td>0.0</td>\n",
       "    </tr>\n",
       "    <tr>\n",
       "      <th>120744</th>\n",
       "      <td>0.0</td>\n",
       "      <td>1.0</td>\n",
       "      <td>1.0</td>\n",
       "      <td>0.0</td>\n",
       "      <td>0.0</td>\n",
       "      <td>0.0</td>\n",
       "      <td>0.0</td>\n",
       "      <td>1.0</td>\n",
       "      <td>1.0</td>\n",
       "      <td>1.0</td>\n",
       "      <td>0.0</td>\n",
       "      <td>0.0</td>\n",
       "      <td>0.0</td>\n",
       "      <td>0.0</td>\n",
       "      <td>0.0</td>\n",
       "      <td>0.0</td>\n",
       "      <td>0.0</td>\n",
       "      <td>0.0</td>\n",
       "    </tr>\n",
       "    <tr>\n",
       "      <th>120745</th>\n",
       "      <td>1.0</td>\n",
       "      <td>1.0</td>\n",
       "      <td>0.0</td>\n",
       "      <td>0.0</td>\n",
       "      <td>0.0</td>\n",
       "      <td>0.0</td>\n",
       "      <td>0.0</td>\n",
       "      <td>0.0</td>\n",
       "      <td>0.0</td>\n",
       "      <td>0.0</td>\n",
       "      <td>0.0</td>\n",
       "      <td>0.0</td>\n",
       "      <td>0.0</td>\n",
       "      <td>0.0</td>\n",
       "      <td>0.0</td>\n",
       "      <td>0.0</td>\n",
       "      <td>0.0</td>\n",
       "      <td>0.0</td>\n",
       "    </tr>\n",
       "    <tr>\n",
       "      <th>120746</th>\n",
       "      <td>0.0</td>\n",
       "      <td>1.0</td>\n",
       "      <td>0.0</td>\n",
       "      <td>0.0</td>\n",
       "      <td>0.0</td>\n",
       "      <td>0.0</td>\n",
       "      <td>0.0</td>\n",
       "      <td>0.0</td>\n",
       "      <td>0.0</td>\n",
       "      <td>0.0</td>\n",
       "      <td>0.0</td>\n",
       "      <td>0.0</td>\n",
       "      <td>0.0</td>\n",
       "      <td>0.0</td>\n",
       "      <td>0.0</td>\n",
       "      <td>0.0</td>\n",
       "      <td>0.0</td>\n",
       "      <td>0.0</td>\n",
       "    </tr>\n",
       "    <tr>\n",
       "      <th>120747</th>\n",
       "      <td>1.0</td>\n",
       "      <td>1.0</td>\n",
       "      <td>0.0</td>\n",
       "      <td>0.0</td>\n",
       "      <td>0.0</td>\n",
       "      <td>0.0</td>\n",
       "      <td>0.0</td>\n",
       "      <td>0.0</td>\n",
       "      <td>0.0</td>\n",
       "      <td>0.0</td>\n",
       "      <td>0.0</td>\n",
       "      <td>0.0</td>\n",
       "      <td>0.0</td>\n",
       "      <td>1.0</td>\n",
       "      <td>0.0</td>\n",
       "      <td>0.0</td>\n",
       "      <td>0.0</td>\n",
       "      <td>0.0</td>\n",
       "    </tr>\n",
       "  </tbody>\n",
       "</table>\n",
       "<p>90690 rows × 18 columns</p>\n",
       "</div>"
      ],
      "text/plain": [
       "        VAR2  VAR49  VAR50  VAR51  VAR52  VAR53  VAR54  VAR55  VAR56  VAR57  \\\n",
       "0        1.0    1.0    0.0    0.0    0.0    0.0    0.0    0.0    0.0    0.0   \n",
       "1        1.0    1.0    0.0    0.0    0.0    0.0    0.0    0.0    0.0    0.0   \n",
       "2        0.0    1.0    0.0    0.0    0.0    0.0    0.0    0.0    1.0    0.0   \n",
       "3        0.0    1.0    1.0    0.0    0.0    0.0    0.0    1.0    1.0    0.0   \n",
       "4        0.0    1.0    1.0    0.0    0.0    0.0    0.0    0.0    0.0    0.0   \n",
       "...      ...    ...    ...    ...    ...    ...    ...    ...    ...    ...   \n",
       "120741   0.0    1.0    1.0    0.0    0.0    0.0    0.0    0.0    0.0    0.0   \n",
       "120744   0.0    1.0    1.0    0.0    0.0    0.0    0.0    1.0    1.0    1.0   \n",
       "120745   1.0    1.0    0.0    0.0    0.0    0.0    0.0    0.0    0.0    0.0   \n",
       "120746   0.0    1.0    0.0    0.0    0.0    0.0    0.0    0.0    0.0    0.0   \n",
       "120747   1.0    1.0    0.0    0.0    0.0    0.0    0.0    0.0    0.0    0.0   \n",
       "\n",
       "        VAR58  VAR59  VAR60  VAR61  VAR62  VAR63  VAR64  VAR65  \n",
       "0         0.0    0.0    0.0    1.0    0.0    0.0    0.0    0.0  \n",
       "1         0.0    0.0    0.0    0.0    0.0    0.0    0.0    0.0  \n",
       "2         0.0    0.0    0.0    0.0    0.0    1.0    0.0    0.0  \n",
       "3         0.0    0.0    0.0    0.0    0.0    0.0    0.0    0.0  \n",
       "4         0.0    0.0    0.0    0.0    0.0    0.0    0.0    1.0  \n",
       "...       ...    ...    ...    ...    ...    ...    ...    ...  \n",
       "120741    0.0    0.0    0.0    0.0    0.0    0.0    0.0    0.0  \n",
       "120744    0.0    0.0    0.0    0.0    0.0    0.0    0.0    0.0  \n",
       "120745    0.0    0.0    0.0    0.0    0.0    0.0    0.0    0.0  \n",
       "120746    0.0    0.0    0.0    0.0    0.0    0.0    0.0    0.0  \n",
       "120747    0.0    0.0    0.0    1.0    0.0    0.0    0.0    0.0  \n",
       "\n",
       "[90690 rows x 18 columns]"
      ]
     },
     "execution_count": 188,
     "metadata": {},
     "output_type": "execute_result"
    }
   ],
   "source": [
    "encoder = OrdinalEncoder().set_output(transform=\"pandas\")\n",
    "nominal_encoded = encoder.fit_transform(data_cat[nominal_columns])\n",
    "nominal_encoded"
   ]
  },
  {
   "cell_type": "markdown",
   "metadata": {},
   "source": [
    "Juntando todos os encodings em um só dataframe"
   ]
  },
  {
   "cell_type": "code",
   "execution_count": 189,
   "metadata": {},
   "outputs": [
    {
     "data": {
      "text/html": [
       "<div>\n",
       "<style scoped>\n",
       "    .dataframe tbody tr th:only-of-type {\n",
       "        vertical-align: middle;\n",
       "    }\n",
       "\n",
       "    .dataframe tbody tr th {\n",
       "        vertical-align: top;\n",
       "    }\n",
       "\n",
       "    .dataframe thead th {\n",
       "        text-align: right;\n",
       "    }\n",
       "</style>\n",
       "<table border=\"1\" class=\"dataframe\">\n",
       "  <thead>\n",
       "    <tr style=\"text-align: right;\">\n",
       "      <th></th>\n",
       "      <th>VAR2</th>\n",
       "      <th>VAR49</th>\n",
       "      <th>VAR50</th>\n",
       "      <th>VAR51</th>\n",
       "      <th>VAR52</th>\n",
       "      <th>VAR53</th>\n",
       "      <th>VAR54</th>\n",
       "      <th>VAR55</th>\n",
       "      <th>VAR56</th>\n",
       "      <th>VAR57</th>\n",
       "      <th>...</th>\n",
       "      <th>VAR131</th>\n",
       "      <th>VAR132</th>\n",
       "      <th>VAR133</th>\n",
       "      <th>VAR134</th>\n",
       "      <th>VAR135</th>\n",
       "      <th>VAR136</th>\n",
       "      <th>VAR137</th>\n",
       "      <th>VAR138</th>\n",
       "      <th>VAR139</th>\n",
       "      <th>VAR140</th>\n",
       "    </tr>\n",
       "  </thead>\n",
       "  <tbody>\n",
       "    <tr>\n",
       "      <th>0</th>\n",
       "      <td>1.0</td>\n",
       "      <td>1.0</td>\n",
       "      <td>0.0</td>\n",
       "      <td>0.0</td>\n",
       "      <td>0.0</td>\n",
       "      <td>0.0</td>\n",
       "      <td>0.0</td>\n",
       "      <td>0.0</td>\n",
       "      <td>0.0</td>\n",
       "      <td>0.0</td>\n",
       "      <td>...</td>\n",
       "      <td>2.0</td>\n",
       "      <td>1.0</td>\n",
       "      <td>0.0</td>\n",
       "      <td>1.0</td>\n",
       "      <td>2.0</td>\n",
       "      <td>0.0</td>\n",
       "      <td>1.0</td>\n",
       "      <td>1.0</td>\n",
       "      <td>2.0</td>\n",
       "      <td>1.0</td>\n",
       "    </tr>\n",
       "    <tr>\n",
       "      <th>1</th>\n",
       "      <td>1.0</td>\n",
       "      <td>1.0</td>\n",
       "      <td>0.0</td>\n",
       "      <td>0.0</td>\n",
       "      <td>0.0</td>\n",
       "      <td>0.0</td>\n",
       "      <td>0.0</td>\n",
       "      <td>0.0</td>\n",
       "      <td>0.0</td>\n",
       "      <td>0.0</td>\n",
       "      <td>...</td>\n",
       "      <td>2.0</td>\n",
       "      <td>2.0</td>\n",
       "      <td>1.0</td>\n",
       "      <td>2.0</td>\n",
       "      <td>3.0</td>\n",
       "      <td>3.0</td>\n",
       "      <td>1.0</td>\n",
       "      <td>1.0</td>\n",
       "      <td>1.0</td>\n",
       "      <td>0.0</td>\n",
       "    </tr>\n",
       "    <tr>\n",
       "      <th>2</th>\n",
       "      <td>0.0</td>\n",
       "      <td>1.0</td>\n",
       "      <td>0.0</td>\n",
       "      <td>0.0</td>\n",
       "      <td>0.0</td>\n",
       "      <td>0.0</td>\n",
       "      <td>0.0</td>\n",
       "      <td>0.0</td>\n",
       "      <td>1.0</td>\n",
       "      <td>0.0</td>\n",
       "      <td>...</td>\n",
       "      <td>0.0</td>\n",
       "      <td>0.0</td>\n",
       "      <td>0.0</td>\n",
       "      <td>1.0</td>\n",
       "      <td>0.0</td>\n",
       "      <td>1.0</td>\n",
       "      <td>1.0</td>\n",
       "      <td>0.0</td>\n",
       "      <td>1.0</td>\n",
       "      <td>4.0</td>\n",
       "    </tr>\n",
       "    <tr>\n",
       "      <th>3</th>\n",
       "      <td>0.0</td>\n",
       "      <td>1.0</td>\n",
       "      <td>1.0</td>\n",
       "      <td>0.0</td>\n",
       "      <td>0.0</td>\n",
       "      <td>0.0</td>\n",
       "      <td>0.0</td>\n",
       "      <td>1.0</td>\n",
       "      <td>1.0</td>\n",
       "      <td>0.0</td>\n",
       "      <td>...</td>\n",
       "      <td>2.0</td>\n",
       "      <td>1.0</td>\n",
       "      <td>1.0</td>\n",
       "      <td>2.0</td>\n",
       "      <td>2.0</td>\n",
       "      <td>3.0</td>\n",
       "      <td>2.0</td>\n",
       "      <td>1.0</td>\n",
       "      <td>2.0</td>\n",
       "      <td>2.0</td>\n",
       "    </tr>\n",
       "    <tr>\n",
       "      <th>4</th>\n",
       "      <td>0.0</td>\n",
       "      <td>1.0</td>\n",
       "      <td>1.0</td>\n",
       "      <td>0.0</td>\n",
       "      <td>0.0</td>\n",
       "      <td>0.0</td>\n",
       "      <td>0.0</td>\n",
       "      <td>0.0</td>\n",
       "      <td>0.0</td>\n",
       "      <td>0.0</td>\n",
       "      <td>...</td>\n",
       "      <td>3.0</td>\n",
       "      <td>2.0</td>\n",
       "      <td>3.0</td>\n",
       "      <td>3.0</td>\n",
       "      <td>4.0</td>\n",
       "      <td>2.0</td>\n",
       "      <td>3.0</td>\n",
       "      <td>4.0</td>\n",
       "      <td>3.0</td>\n",
       "      <td>4.0</td>\n",
       "    </tr>\n",
       "    <tr>\n",
       "      <th>...</th>\n",
       "      <td>...</td>\n",
       "      <td>...</td>\n",
       "      <td>...</td>\n",
       "      <td>...</td>\n",
       "      <td>...</td>\n",
       "      <td>...</td>\n",
       "      <td>...</td>\n",
       "      <td>...</td>\n",
       "      <td>...</td>\n",
       "      <td>...</td>\n",
       "      <td>...</td>\n",
       "      <td>...</td>\n",
       "      <td>...</td>\n",
       "      <td>...</td>\n",
       "      <td>...</td>\n",
       "      <td>...</td>\n",
       "      <td>...</td>\n",
       "      <td>...</td>\n",
       "      <td>...</td>\n",
       "      <td>...</td>\n",
       "      <td>...</td>\n",
       "    </tr>\n",
       "    <tr>\n",
       "      <th>120741</th>\n",
       "      <td>0.0</td>\n",
       "      <td>1.0</td>\n",
       "      <td>1.0</td>\n",
       "      <td>0.0</td>\n",
       "      <td>0.0</td>\n",
       "      <td>0.0</td>\n",
       "      <td>0.0</td>\n",
       "      <td>0.0</td>\n",
       "      <td>0.0</td>\n",
       "      <td>0.0</td>\n",
       "      <td>...</td>\n",
       "      <td>1.0</td>\n",
       "      <td>1.0</td>\n",
       "      <td>2.0</td>\n",
       "      <td>1.0</td>\n",
       "      <td>1.0</td>\n",
       "      <td>3.0</td>\n",
       "      <td>2.0</td>\n",
       "      <td>2.0</td>\n",
       "      <td>1.0</td>\n",
       "      <td>2.0</td>\n",
       "    </tr>\n",
       "    <tr>\n",
       "      <th>120744</th>\n",
       "      <td>0.0</td>\n",
       "      <td>1.0</td>\n",
       "      <td>1.0</td>\n",
       "      <td>0.0</td>\n",
       "      <td>0.0</td>\n",
       "      <td>0.0</td>\n",
       "      <td>0.0</td>\n",
       "      <td>1.0</td>\n",
       "      <td>1.0</td>\n",
       "      <td>1.0</td>\n",
       "      <td>...</td>\n",
       "      <td>0.0</td>\n",
       "      <td>3.0</td>\n",
       "      <td>2.0</td>\n",
       "      <td>3.0</td>\n",
       "      <td>2.0</td>\n",
       "      <td>0.0</td>\n",
       "      <td>2.0</td>\n",
       "      <td>2.0</td>\n",
       "      <td>3.0</td>\n",
       "      <td>1.0</td>\n",
       "    </tr>\n",
       "    <tr>\n",
       "      <th>120745</th>\n",
       "      <td>1.0</td>\n",
       "      <td>1.0</td>\n",
       "      <td>0.0</td>\n",
       "      <td>0.0</td>\n",
       "      <td>0.0</td>\n",
       "      <td>0.0</td>\n",
       "      <td>0.0</td>\n",
       "      <td>0.0</td>\n",
       "      <td>0.0</td>\n",
       "      <td>0.0</td>\n",
       "      <td>...</td>\n",
       "      <td>1.0</td>\n",
       "      <td>1.0</td>\n",
       "      <td>1.0</td>\n",
       "      <td>0.0</td>\n",
       "      <td>1.0</td>\n",
       "      <td>2.0</td>\n",
       "      <td>1.0</td>\n",
       "      <td>1.0</td>\n",
       "      <td>0.0</td>\n",
       "      <td>0.0</td>\n",
       "    </tr>\n",
       "    <tr>\n",
       "      <th>120746</th>\n",
       "      <td>0.0</td>\n",
       "      <td>1.0</td>\n",
       "      <td>0.0</td>\n",
       "      <td>0.0</td>\n",
       "      <td>0.0</td>\n",
       "      <td>0.0</td>\n",
       "      <td>0.0</td>\n",
       "      <td>0.0</td>\n",
       "      <td>0.0</td>\n",
       "      <td>0.0</td>\n",
       "      <td>...</td>\n",
       "      <td>2.0</td>\n",
       "      <td>2.0</td>\n",
       "      <td>3.0</td>\n",
       "      <td>1.0</td>\n",
       "      <td>2.0</td>\n",
       "      <td>1.0</td>\n",
       "      <td>2.0</td>\n",
       "      <td>2.0</td>\n",
       "      <td>2.0</td>\n",
       "      <td>1.0</td>\n",
       "    </tr>\n",
       "    <tr>\n",
       "      <th>120747</th>\n",
       "      <td>1.0</td>\n",
       "      <td>1.0</td>\n",
       "      <td>0.0</td>\n",
       "      <td>0.0</td>\n",
       "      <td>0.0</td>\n",
       "      <td>0.0</td>\n",
       "      <td>0.0</td>\n",
       "      <td>0.0</td>\n",
       "      <td>0.0</td>\n",
       "      <td>0.0</td>\n",
       "      <td>...</td>\n",
       "      <td>2.0</td>\n",
       "      <td>3.0</td>\n",
       "      <td>2.0</td>\n",
       "      <td>3.0</td>\n",
       "      <td>2.0</td>\n",
       "      <td>2.0</td>\n",
       "      <td>2.0</td>\n",
       "      <td>3.0</td>\n",
       "      <td>2.0</td>\n",
       "      <td>1.0</td>\n",
       "    </tr>\n",
       "  </tbody>\n",
       "</table>\n",
       "<p>90690 rows × 96 columns</p>\n",
       "</div>"
      ],
      "text/plain": [
       "        VAR2  VAR49  VAR50  VAR51  VAR52  VAR53  VAR54  VAR55  VAR56  VAR57  \\\n",
       "0        1.0    1.0    0.0    0.0    0.0    0.0    0.0    0.0    0.0    0.0   \n",
       "1        1.0    1.0    0.0    0.0    0.0    0.0    0.0    0.0    0.0    0.0   \n",
       "2        0.0    1.0    0.0    0.0    0.0    0.0    0.0    0.0    1.0    0.0   \n",
       "3        0.0    1.0    1.0    0.0    0.0    0.0    0.0    1.0    1.0    0.0   \n",
       "4        0.0    1.0    1.0    0.0    0.0    0.0    0.0    0.0    0.0    0.0   \n",
       "...      ...    ...    ...    ...    ...    ...    ...    ...    ...    ...   \n",
       "120741   0.0    1.0    1.0    0.0    0.0    0.0    0.0    0.0    0.0    0.0   \n",
       "120744   0.0    1.0    1.0    0.0    0.0    0.0    0.0    1.0    1.0    1.0   \n",
       "120745   1.0    1.0    0.0    0.0    0.0    0.0    0.0    0.0    0.0    0.0   \n",
       "120746   0.0    1.0    0.0    0.0    0.0    0.0    0.0    0.0    0.0    0.0   \n",
       "120747   1.0    1.0    0.0    0.0    0.0    0.0    0.0    0.0    0.0    0.0   \n",
       "\n",
       "        ...  VAR131  VAR132  VAR133  VAR134  VAR135  VAR136  VAR137  VAR138  \\\n",
       "0       ...     2.0     1.0     0.0     1.0     2.0     0.0     1.0     1.0   \n",
       "1       ...     2.0     2.0     1.0     2.0     3.0     3.0     1.0     1.0   \n",
       "2       ...     0.0     0.0     0.0     1.0     0.0     1.0     1.0     0.0   \n",
       "3       ...     2.0     1.0     1.0     2.0     2.0     3.0     2.0     1.0   \n",
       "4       ...     3.0     2.0     3.0     3.0     4.0     2.0     3.0     4.0   \n",
       "...     ...     ...     ...     ...     ...     ...     ...     ...     ...   \n",
       "120741  ...     1.0     1.0     2.0     1.0     1.0     3.0     2.0     2.0   \n",
       "120744  ...     0.0     3.0     2.0     3.0     2.0     0.0     2.0     2.0   \n",
       "120745  ...     1.0     1.0     1.0     0.0     1.0     2.0     1.0     1.0   \n",
       "120746  ...     2.0     2.0     3.0     1.0     2.0     1.0     2.0     2.0   \n",
       "120747  ...     2.0     3.0     2.0     3.0     2.0     2.0     2.0     3.0   \n",
       "\n",
       "        VAR139  VAR140  \n",
       "0          2.0     1.0  \n",
       "1          1.0     0.0  \n",
       "2          1.0     4.0  \n",
       "3          2.0     2.0  \n",
       "4          3.0     4.0  \n",
       "...        ...     ...  \n",
       "120741     1.0     2.0  \n",
       "120744     3.0     1.0  \n",
       "120745     0.0     0.0  \n",
       "120746     2.0     1.0  \n",
       "120747     2.0     1.0  \n",
       "\n",
       "[90690 rows x 96 columns]"
      ]
     },
     "execution_count": 189,
     "metadata": {},
     "output_type": "execute_result"
    }
   ],
   "source": [
    "data_cat_encoded = pd.concat([nominal_encoded, encoded, encoded1, encoded2], axis=1)\n",
    "data_cat_encoded"
   ]
  },
  {
   "cell_type": "markdown",
   "metadata": {},
   "source": [
    "### One-Hot-Encoding\n",
    "\n",
    "Vou encodificar também com o OHE para ver se obtenho um resultado melhor de treinamento do modelo, em comparação com o Ordinal Encoding."
   ]
  },
  {
   "cell_type": "code",
   "execution_count": 190,
   "metadata": {},
   "outputs": [
    {
     "name": "stdout",
     "output_type": "stream",
     "text": [
      "Training Features shape:  (90690, 671)\n",
      "Testing Features shape:  (51751, 766)\n"
     ]
    }
   ],
   "source": [
    "# One-hot encoding of categorical variables\n",
    "data = pd.get_dummies(data)\n",
    "test = pd.get_dummies(test)\n",
    "\n",
    "print('Training Features shape: ', data.shape)\n",
    "print('Testing Features shape: ', test.shape)"
   ]
  },
  {
   "cell_type": "markdown",
   "metadata": {},
   "source": [
    "## Correlações"
   ]
  },
  {
   "cell_type": "markdown",
   "metadata": {},
   "source": [
    "### Variáveis Numéricas"
   ]
  },
  {
   "cell_type": "code",
   "execution_count": 191,
   "metadata": {},
   "outputs": [
    {
     "data": {
      "text/html": [
       "<div>\n",
       "<style scoped>\n",
       "    .dataframe tbody tr th:only-of-type {\n",
       "        vertical-align: middle;\n",
       "    }\n",
       "\n",
       "    .dataframe tbody tr th {\n",
       "        vertical-align: top;\n",
       "    }\n",
       "\n",
       "    .dataframe thead th {\n",
       "        text-align: right;\n",
       "    }\n",
       "</style>\n",
       "<table border=\"1\" class=\"dataframe\">\n",
       "  <thead>\n",
       "    <tr style=\"text-align: right;\">\n",
       "      <th></th>\n",
       "      <th>TARGET</th>\n",
       "      <th>IDADE</th>\n",
       "      <th>VAR6</th>\n",
       "      <th>VAR7</th>\n",
       "      <th>VAR24</th>\n",
       "      <th>VAR39</th>\n",
       "      <th>VAR40</th>\n",
       "      <th>VAR41</th>\n",
       "      <th>VAR42</th>\n",
       "      <th>VAR47</th>\n",
       "      <th>VAR141</th>\n",
       "      <th>VAR147</th>\n",
       "      <th>ID</th>\n",
       "    </tr>\n",
       "  </thead>\n",
       "  <tbody>\n",
       "    <tr>\n",
       "      <th>TARGET</th>\n",
       "      <td>1.000000</td>\n",
       "      <td>-0.099585</td>\n",
       "      <td>0.017368</td>\n",
       "      <td>0.035352</td>\n",
       "      <td>-0.025892</td>\n",
       "      <td>-0.059932</td>\n",
       "      <td>-0.037133</td>\n",
       "      <td>-0.052831</td>\n",
       "      <td>-0.012885</td>\n",
       "      <td>0.005768</td>\n",
       "      <td>0.006303</td>\n",
       "      <td>0.014322</td>\n",
       "      <td>0.000163</td>\n",
       "    </tr>\n",
       "    <tr>\n",
       "      <th>IDADE</th>\n",
       "      <td>-0.099585</td>\n",
       "      <td>1.000000</td>\n",
       "      <td>-0.013400</td>\n",
       "      <td>0.030357</td>\n",
       "      <td>0.001784</td>\n",
       "      <td>0.468882</td>\n",
       "      <td>0.015272</td>\n",
       "      <td>0.001469</td>\n",
       "      <td>0.147654</td>\n",
       "      <td>0.071148</td>\n",
       "      <td>0.182082</td>\n",
       "      <td>-0.042676</td>\n",
       "      <td>-0.002710</td>\n",
       "    </tr>\n",
       "    <tr>\n",
       "      <th>VAR6</th>\n",
       "      <td>0.017368</td>\n",
       "      <td>-0.013400</td>\n",
       "      <td>1.000000</td>\n",
       "      <td>0.190713</td>\n",
       "      <td>-0.178307</td>\n",
       "      <td>0.104777</td>\n",
       "      <td>-0.158659</td>\n",
       "      <td>0.023605</td>\n",
       "      <td>0.003788</td>\n",
       "      <td>-0.016768</td>\n",
       "      <td>-0.060547</td>\n",
       "      <td>0.068691</td>\n",
       "      <td>0.003584</td>\n",
       "    </tr>\n",
       "    <tr>\n",
       "      <th>VAR7</th>\n",
       "      <td>0.035352</td>\n",
       "      <td>0.030357</td>\n",
       "      <td>0.190713</td>\n",
       "      <td>1.000000</td>\n",
       "      <td>-0.021693</td>\n",
       "      <td>0.013116</td>\n",
       "      <td>0.053234</td>\n",
       "      <td>0.070407</td>\n",
       "      <td>0.042662</td>\n",
       "      <td>0.062353</td>\n",
       "      <td>-0.054720</td>\n",
       "      <td>0.065634</td>\n",
       "      <td>-0.003976</td>\n",
       "    </tr>\n",
       "    <tr>\n",
       "      <th>VAR24</th>\n",
       "      <td>-0.025892</td>\n",
       "      <td>0.001784</td>\n",
       "      <td>-0.178307</td>\n",
       "      <td>-0.021693</td>\n",
       "      <td>1.000000</td>\n",
       "      <td>-0.263955</td>\n",
       "      <td>0.046417</td>\n",
       "      <td>0.062157</td>\n",
       "      <td>-0.020361</td>\n",
       "      <td>-0.001223</td>\n",
       "      <td>0.096871</td>\n",
       "      <td>-0.208733</td>\n",
       "      <td>0.000456</td>\n",
       "    </tr>\n",
       "    <tr>\n",
       "      <th>VAR39</th>\n",
       "      <td>-0.059932</td>\n",
       "      <td>0.468882</td>\n",
       "      <td>0.104777</td>\n",
       "      <td>0.013116</td>\n",
       "      <td>-0.263955</td>\n",
       "      <td>1.000000</td>\n",
       "      <td>0.112170</td>\n",
       "      <td>0.144322</td>\n",
       "      <td>0.111053</td>\n",
       "      <td>0.030592</td>\n",
       "      <td>0.227411</td>\n",
       "      <td>0.006645</td>\n",
       "      <td>-0.004239</td>\n",
       "    </tr>\n",
       "    <tr>\n",
       "      <th>VAR40</th>\n",
       "      <td>-0.037133</td>\n",
       "      <td>0.015272</td>\n",
       "      <td>-0.158659</td>\n",
       "      <td>0.053234</td>\n",
       "      <td>0.046417</td>\n",
       "      <td>0.112170</td>\n",
       "      <td>1.000000</td>\n",
       "      <td>0.630679</td>\n",
       "      <td>0.038388</td>\n",
       "      <td>0.007212</td>\n",
       "      <td>0.033213</td>\n",
       "      <td>0.040833</td>\n",
       "      <td>-0.001196</td>\n",
       "    </tr>\n",
       "    <tr>\n",
       "      <th>VAR41</th>\n",
       "      <td>-0.052831</td>\n",
       "      <td>0.001469</td>\n",
       "      <td>0.023605</td>\n",
       "      <td>0.070407</td>\n",
       "      <td>0.062157</td>\n",
       "      <td>0.144322</td>\n",
       "      <td>0.630679</td>\n",
       "      <td>1.000000</td>\n",
       "      <td>0.039403</td>\n",
       "      <td>0.009875</td>\n",
       "      <td>-0.012871</td>\n",
       "      <td>0.081660</td>\n",
       "      <td>-0.001235</td>\n",
       "    </tr>\n",
       "    <tr>\n",
       "      <th>VAR42</th>\n",
       "      <td>-0.012885</td>\n",
       "      <td>0.147654</td>\n",
       "      <td>0.003788</td>\n",
       "      <td>0.042662</td>\n",
       "      <td>-0.020361</td>\n",
       "      <td>0.111053</td>\n",
       "      <td>0.038388</td>\n",
       "      <td>0.039403</td>\n",
       "      <td>1.000000</td>\n",
       "      <td>0.376633</td>\n",
       "      <td>0.047526</td>\n",
       "      <td>0.016917</td>\n",
       "      <td>0.000368</td>\n",
       "    </tr>\n",
       "    <tr>\n",
       "      <th>VAR47</th>\n",
       "      <td>0.005768</td>\n",
       "      <td>0.071148</td>\n",
       "      <td>-0.016768</td>\n",
       "      <td>0.062353</td>\n",
       "      <td>-0.001223</td>\n",
       "      <td>0.030592</td>\n",
       "      <td>0.007212</td>\n",
       "      <td>0.009875</td>\n",
       "      <td>0.376633</td>\n",
       "      <td>1.000000</td>\n",
       "      <td>0.018771</td>\n",
       "      <td>0.035417</td>\n",
       "      <td>-0.002026</td>\n",
       "    </tr>\n",
       "    <tr>\n",
       "      <th>VAR141</th>\n",
       "      <td>0.006303</td>\n",
       "      <td>0.182082</td>\n",
       "      <td>-0.060547</td>\n",
       "      <td>-0.054720</td>\n",
       "      <td>0.096871</td>\n",
       "      <td>0.227411</td>\n",
       "      <td>0.033213</td>\n",
       "      <td>-0.012871</td>\n",
       "      <td>0.047526</td>\n",
       "      <td>0.018771</td>\n",
       "      <td>1.000000</td>\n",
       "      <td>-0.159111</td>\n",
       "      <td>0.002477</td>\n",
       "    </tr>\n",
       "    <tr>\n",
       "      <th>VAR147</th>\n",
       "      <td>0.014322</td>\n",
       "      <td>-0.042676</td>\n",
       "      <td>0.068691</td>\n",
       "      <td>0.065634</td>\n",
       "      <td>-0.208733</td>\n",
       "      <td>0.006645</td>\n",
       "      <td>0.040833</td>\n",
       "      <td>0.081660</td>\n",
       "      <td>0.016917</td>\n",
       "      <td>0.035417</td>\n",
       "      <td>-0.159111</td>\n",
       "      <td>1.000000</td>\n",
       "      <td>-0.000214</td>\n",
       "    </tr>\n",
       "    <tr>\n",
       "      <th>ID</th>\n",
       "      <td>0.000163</td>\n",
       "      <td>-0.002710</td>\n",
       "      <td>0.003584</td>\n",
       "      <td>-0.003976</td>\n",
       "      <td>0.000456</td>\n",
       "      <td>-0.004239</td>\n",
       "      <td>-0.001196</td>\n",
       "      <td>-0.001235</td>\n",
       "      <td>0.000368</td>\n",
       "      <td>-0.002026</td>\n",
       "      <td>0.002477</td>\n",
       "      <td>-0.000214</td>\n",
       "      <td>1.000000</td>\n",
       "    </tr>\n",
       "  </tbody>\n",
       "</table>\n",
       "</div>"
      ],
      "text/plain": [
       "          TARGET     IDADE      VAR6      VAR7     VAR24     VAR39     VAR40  \\\n",
       "TARGET  1.000000 -0.099585  0.017368  0.035352 -0.025892 -0.059932 -0.037133   \n",
       "IDADE  -0.099585  1.000000 -0.013400  0.030357  0.001784  0.468882  0.015272   \n",
       "VAR6    0.017368 -0.013400  1.000000  0.190713 -0.178307  0.104777 -0.158659   \n",
       "VAR7    0.035352  0.030357  0.190713  1.000000 -0.021693  0.013116  0.053234   \n",
       "VAR24  -0.025892  0.001784 -0.178307 -0.021693  1.000000 -0.263955  0.046417   \n",
       "VAR39  -0.059932  0.468882  0.104777  0.013116 -0.263955  1.000000  0.112170   \n",
       "VAR40  -0.037133  0.015272 -0.158659  0.053234  0.046417  0.112170  1.000000   \n",
       "VAR41  -0.052831  0.001469  0.023605  0.070407  0.062157  0.144322  0.630679   \n",
       "VAR42  -0.012885  0.147654  0.003788  0.042662 -0.020361  0.111053  0.038388   \n",
       "VAR47   0.005768  0.071148 -0.016768  0.062353 -0.001223  0.030592  0.007212   \n",
       "VAR141  0.006303  0.182082 -0.060547 -0.054720  0.096871  0.227411  0.033213   \n",
       "VAR147  0.014322 -0.042676  0.068691  0.065634 -0.208733  0.006645  0.040833   \n",
       "ID      0.000163 -0.002710  0.003584 -0.003976  0.000456 -0.004239 -0.001196   \n",
       "\n",
       "           VAR41     VAR42     VAR47    VAR141    VAR147        ID  \n",
       "TARGET -0.052831 -0.012885  0.005768  0.006303  0.014322  0.000163  \n",
       "IDADE   0.001469  0.147654  0.071148  0.182082 -0.042676 -0.002710  \n",
       "VAR6    0.023605  0.003788 -0.016768 -0.060547  0.068691  0.003584  \n",
       "VAR7    0.070407  0.042662  0.062353 -0.054720  0.065634 -0.003976  \n",
       "VAR24   0.062157 -0.020361 -0.001223  0.096871 -0.208733  0.000456  \n",
       "VAR39   0.144322  0.111053  0.030592  0.227411  0.006645 -0.004239  \n",
       "VAR40   0.630679  0.038388  0.007212  0.033213  0.040833 -0.001196  \n",
       "VAR41   1.000000  0.039403  0.009875 -0.012871  0.081660 -0.001235  \n",
       "VAR42   0.039403  1.000000  0.376633  0.047526  0.016917  0.000368  \n",
       "VAR47   0.009875  0.376633  1.000000  0.018771  0.035417 -0.002026  \n",
       "VAR141 -0.012871  0.047526  0.018771  1.000000 -0.159111  0.002477  \n",
       "VAR147  0.081660  0.016917  0.035417 -0.159111  1.000000 -0.000214  \n",
       "ID     -0.001235  0.000368 -0.002026  0.002477 -0.000214  1.000000  "
      ]
     },
     "execution_count": 191,
     "metadata": {},
     "output_type": "execute_result"
    }
   ],
   "source": [
    "data_num.corr()"
   ]
  },
  {
   "cell_type": "code",
   "execution_count": 192,
   "metadata": {},
   "outputs": [
    {
     "name": "stdout",
     "output_type": "stream",
     "text": [
      "Correlações mais positivas:\n",
      " VAR141    0.006303\n",
      "VAR147    0.014322\n",
      "VAR6      0.017368\n",
      "VAR7      0.035352\n",
      "TARGET    1.000000\n",
      "Name: TARGET, dtype: float64\n",
      "\n",
      "Correlações mais negativas:\n",
      " IDADE   -0.099585\n",
      "VAR39   -0.059932\n",
      "VAR41   -0.052831\n",
      "VAR40   -0.037133\n",
      "VAR24   -0.025892\n",
      "Name: TARGET, dtype: float64\n"
     ]
    }
   ],
   "source": [
    "correlations = data_num.corr()['TARGET'].sort_values()\n",
    "\n",
    "print('Correlações mais positivas:\\n', correlations.tail(5))\n",
    "print('\\nCorrelações mais negativas:\\n', correlations.head(5))"
   ]
  },
  {
   "cell_type": "code",
   "execution_count": 193,
   "metadata": {},
   "outputs": [
    {
     "data": {
      "text/html": [
       "<div>\n",
       "<style scoped>\n",
       "    .dataframe tbody tr th:only-of-type {\n",
       "        vertical-align: middle;\n",
       "    }\n",
       "\n",
       "    .dataframe tbody tr th {\n",
       "        vertical-align: top;\n",
       "    }\n",
       "\n",
       "    .dataframe thead th {\n",
       "        text-align: right;\n",
       "    }\n",
       "</style>\n",
       "<table border=\"1\" class=\"dataframe\">\n",
       "  <thead>\n",
       "    <tr style=\"text-align: right;\">\n",
       "      <th></th>\n",
       "      <th>TARGET</th>\n",
       "      <th>IDADE</th>\n",
       "      <th>VAR6</th>\n",
       "      <th>VAR7</th>\n",
       "      <th>VAR24</th>\n",
       "      <th>VAR39</th>\n",
       "      <th>VAR40</th>\n",
       "      <th>VAR41</th>\n",
       "      <th>VAR42</th>\n",
       "      <th>VAR47</th>\n",
       "      <th>VAR141</th>\n",
       "      <th>VAR147</th>\n",
       "      <th>ID</th>\n",
       "    </tr>\n",
       "  </thead>\n",
       "  <tbody>\n",
       "    <tr>\n",
       "      <th>count</th>\n",
       "      <td>90690.000000</td>\n",
       "      <td>90690.000000</td>\n",
       "      <td>90690.000000</td>\n",
       "      <td>90690.000000</td>\n",
       "      <td>90690.000000</td>\n",
       "      <td>90690.000000</td>\n",
       "      <td>90690.000000</td>\n",
       "      <td>90690.000000</td>\n",
       "      <td>90690.000000</td>\n",
       "      <td>90690.000000</td>\n",
       "      <td>90690.000000</td>\n",
       "      <td>90690.000000</td>\n",
       "      <td>90690.000000</td>\n",
       "    </tr>\n",
       "    <tr>\n",
       "      <th>mean</th>\n",
       "      <td>0.224854</td>\n",
       "      <td>44.457465</td>\n",
       "      <td>-15.115264</td>\n",
       "      <td>-46.108056</td>\n",
       "      <td>0.080777</td>\n",
       "      <td>0.473655</td>\n",
       "      <td>0.529586</td>\n",
       "      <td>0.623349</td>\n",
       "      <td>0.506114</td>\n",
       "      <td>0.296473</td>\n",
       "      <td>1973.571513</td>\n",
       "      <td>101.795986</td>\n",
       "      <td>165400.926276</td>\n",
       "    </tr>\n",
       "    <tr>\n",
       "      <th>std</th>\n",
       "      <td>0.417488</td>\n",
       "      <td>14.452060</td>\n",
       "      <td>9.000852</td>\n",
       "      <td>7.361809</td>\n",
       "      <td>0.139829</td>\n",
       "      <td>0.143269</td>\n",
       "      <td>0.114216</td>\n",
       "      <td>0.218787</td>\n",
       "      <td>0.068577</td>\n",
       "      <td>0.423827</td>\n",
       "      <td>976.600465</td>\n",
       "      <td>0.605318</td>\n",
       "      <td>95479.414152</td>\n",
       "    </tr>\n",
       "    <tr>\n",
       "      <th>min</th>\n",
       "      <td>0.000000</td>\n",
       "      <td>18.014000</td>\n",
       "      <td>-33.521563</td>\n",
       "      <td>-72.900276</td>\n",
       "      <td>0.000000</td>\n",
       "      <td>0.049309</td>\n",
       "      <td>0.208688</td>\n",
       "      <td>0.000000</td>\n",
       "      <td>0.006658</td>\n",
       "      <td>0.000000</td>\n",
       "      <td>33.320000</td>\n",
       "      <td>100.000000</td>\n",
       "      <td>3.000000</td>\n",
       "    </tr>\n",
       "    <tr>\n",
       "      <th>25%</th>\n",
       "      <td>0.000000</td>\n",
       "      <td>33.145750</td>\n",
       "      <td>-23.066334</td>\n",
       "      <td>-50.090888</td>\n",
       "      <td>0.000000</td>\n",
       "      <td>0.367793</td>\n",
       "      <td>0.447266</td>\n",
       "      <td>0.439848</td>\n",
       "      <td>0.463579</td>\n",
       "      <td>0.001000</td>\n",
       "      <td>1570.658128</td>\n",
       "      <td>102.000000</td>\n",
       "      <td>82952.500000</td>\n",
       "    </tr>\n",
       "    <tr>\n",
       "      <th>50%</th>\n",
       "      <td>0.000000</td>\n",
       "      <td>42.501000</td>\n",
       "      <td>-15.835906</td>\n",
       "      <td>-46.723191</td>\n",
       "      <td>0.034000</td>\n",
       "      <td>0.468812</td>\n",
       "      <td>0.508864</td>\n",
       "      <td>0.534467</td>\n",
       "      <td>0.496036</td>\n",
       "      <td>0.010000</td>\n",
       "      <td>1715.997803</td>\n",
       "      <td>102.000000</td>\n",
       "      <td>165495.000000</td>\n",
       "    </tr>\n",
       "    <tr>\n",
       "      <th>75%</th>\n",
       "      <td>0.000000</td>\n",
       "      <td>54.751000</td>\n",
       "      <td>-7.028818</td>\n",
       "      <td>-39.306347</td>\n",
       "      <td>0.086000</td>\n",
       "      <td>0.584154</td>\n",
       "      <td>0.582299</td>\n",
       "      <td>0.878171</td>\n",
       "      <td>0.524960</td>\n",
       "      <td>0.823000</td>\n",
       "      <td>1983.503491</td>\n",
       "      <td>102.000000</td>\n",
       "      <td>248460.500000</td>\n",
       "    </tr>\n",
       "    <tr>\n",
       "      <th>max</th>\n",
       "      <td>1.000000</td>\n",
       "      <td>105.477000</td>\n",
       "      <td>4.478585</td>\n",
       "      <td>-32.429516</td>\n",
       "      <td>1.000000</td>\n",
       "      <td>0.953539</td>\n",
       "      <td>0.920685</td>\n",
       "      <td>0.982985</td>\n",
       "      <td>0.910865</td>\n",
       "      <td>1.000000</td>\n",
       "      <td>33954.140000</td>\n",
       "      <td>102.000000</td>\n",
       "      <td>330581.000000</td>\n",
       "    </tr>\n",
       "  </tbody>\n",
       "</table>\n",
       "</div>"
      ],
      "text/plain": [
       "             TARGET         IDADE          VAR6          VAR7         VAR24  \\\n",
       "count  90690.000000  90690.000000  90690.000000  90690.000000  90690.000000   \n",
       "mean       0.224854     44.457465    -15.115264    -46.108056      0.080777   \n",
       "std        0.417488     14.452060      9.000852      7.361809      0.139829   \n",
       "min        0.000000     18.014000    -33.521563    -72.900276      0.000000   \n",
       "25%        0.000000     33.145750    -23.066334    -50.090888      0.000000   \n",
       "50%        0.000000     42.501000    -15.835906    -46.723191      0.034000   \n",
       "75%        0.000000     54.751000     -7.028818    -39.306347      0.086000   \n",
       "max        1.000000    105.477000      4.478585    -32.429516      1.000000   \n",
       "\n",
       "              VAR39         VAR40         VAR41         VAR42         VAR47  \\\n",
       "count  90690.000000  90690.000000  90690.000000  90690.000000  90690.000000   \n",
       "mean       0.473655      0.529586      0.623349      0.506114      0.296473   \n",
       "std        0.143269      0.114216      0.218787      0.068577      0.423827   \n",
       "min        0.049309      0.208688      0.000000      0.006658      0.000000   \n",
       "25%        0.367793      0.447266      0.439848      0.463579      0.001000   \n",
       "50%        0.468812      0.508864      0.534467      0.496036      0.010000   \n",
       "75%        0.584154      0.582299      0.878171      0.524960      0.823000   \n",
       "max        0.953539      0.920685      0.982985      0.910865      1.000000   \n",
       "\n",
       "             VAR141        VAR147             ID  \n",
       "count  90690.000000  90690.000000   90690.000000  \n",
       "mean    1973.571513    101.795986  165400.926276  \n",
       "std      976.600465      0.605318   95479.414152  \n",
       "min       33.320000    100.000000       3.000000  \n",
       "25%     1570.658128    102.000000   82952.500000  \n",
       "50%     1715.997803    102.000000  165495.000000  \n",
       "75%     1983.503491    102.000000  248460.500000  \n",
       "max    33954.140000    102.000000  330581.000000  "
      ]
     },
     "execution_count": 193,
     "metadata": {},
     "output_type": "execute_result"
    }
   ],
   "source": [
    "data_num.describe()"
   ]
  },
  {
   "cell_type": "code",
   "execution_count": 194,
   "metadata": {},
   "outputs": [
    {
     "data": {
      "text/plain": [
       "<Axes: >"
      ]
     },
     "execution_count": 194,
     "metadata": {},
     "output_type": "execute_result"
    },
    {
     "data": {
      "image/png": "[encoded data removed]",
      "text/plain": [
       "<Figure size 900x600 with 2 Axes>"
      ]
     },
     "metadata": {},
     "output_type": "display_data"
    }
   ],
   "source": [
    "sns.set_theme(style=\"white\")\n",
    "cmap = 'seismic'\n",
    "f, ax = plt.subplots(figsize=(9, 6))\n",
    "mask = np.triu(np.ones_like(data_num.drop(columns=['ID']).corr(), dtype=bool))\n",
    "vmin = -1\n",
    "vmax = 1\n",
    "sns.heatmap(data_num.drop(columns=['ID']).corr(), mask=mask, cmap=cmap, annot=True, vmin=vmin, vmax=vmax)"
   ]
  },
  {
   "cell_type": "markdown",
   "metadata": {},
   "source": [
    "#### KDE"
   ]
  },
  {
   "cell_type": "code",
   "execution_count": 195,
   "metadata": {},
   "outputs": [
    {
     "data": {
      "image/png": "[encoded data removed]",
      "text/plain": [
       "<Figure size 1800x1800 with 12 Axes>"
      ]
     },
     "metadata": {},
     "output_type": "display_data"
    }
   ],
   "source": [
    "plt.figure(figsize = (18, 18))\n",
    "data_num_0 = data_num[data_num['TARGET'] == 0].drop(columns=['TARGET'])\n",
    "data_num_1 = data_num[data_num['TARGET'] == 1].drop(columns=['TARGET'])\n",
    "for i in range(1, len(columns_to_keep)):\n",
    "    plt.subplot(5, 4, i)\n",
    "    sns.kdeplot(data_num_0[columns_to_keep[i]], label = 'TARGET == 0')\n",
    "    sns.kdeplot(data_num_1[columns_to_keep[i]], label = 'TARGET == 1')\n",
    "    plt.legend()"
   ]
  },
  {
   "cell_type": "markdown",
   "metadata": {},
   "source": [
    "#### Gráficos de dispersão"
   ]
  },
  {
   "cell_type": "code",
   "execution_count": 196,
   "metadata": {},
   "outputs": [
    {
     "data": {
      "image/png": "[encoded data removed]",
      "text/plain": [
       "<Figure size 1800x1800 with 12 Axes>"
      ]
     },
     "metadata": {},
     "output_type": "display_data"
    }
   ],
   "source": [
    "plt.figure(figsize = (18, 18))\n",
    "data_num_0 = data_num[data_num['TARGET'] == 0].drop(columns=['TARGET'])\n",
    "data_num_1 = data_num[data_num['TARGET'] == 1].drop(columns=['TARGET'])\n",
    "for i in range(1, len(columns_to_keep)):\n",
    "    plt.subplot(5, 4, i)\n",
    "    sns.scatterplot(data=data_num, x=data_num['TARGET'], y=columns_to_keep[i], color='b')"
   ]
  },
  {
   "cell_type": "markdown",
   "metadata": {},
   "source": [
    "#### Efeito da idade no pagamento"
   ]
  },
  {
   "cell_type": "code",
   "execution_count": null,
   "metadata": {},
   "outputs": [],
   "source": []
  },
  {
   "cell_type": "markdown",
   "metadata": {},
   "source": [
    "### Variáveis Categóricas"
   ]
  },
  {
   "cell_type": "markdown",
   "metadata": {},
   "source": [
    "Correlação das variáveis categóricas"
   ]
  },
  {
   "cell_type": "code",
   "execution_count": null,
   "metadata": {},
   "outputs": [],
   "source": []
  },
  {
   "cell_type": "markdown",
   "metadata": {},
   "source": [
    "Correlação das variáveis categóricas codificadas"
   ]
  },
  {
   "cell_type": "code",
   "execution_count": 197,
   "metadata": {},
   "outputs": [],
   "source": [
    "data_cat_encoded['TARGET'] = data['TARGET']"
   ]
  },
  {
   "cell_type": "code",
   "execution_count": 198,
   "metadata": {},
   "outputs": [],
   "source": [
    "data_cat['TARGET'] = data['TARGET']"
   ]
  },
  {
   "cell_type": "code",
   "execution_count": 199,
   "metadata": {},
   "outputs": [
    {
     "data": {
      "text/html": [
       "<div>\n",
       "<style scoped>\n",
       "    .dataframe tbody tr th:only-of-type {\n",
       "        vertical-align: middle;\n",
       "    }\n",
       "\n",
       "    .dataframe tbody tr th {\n",
       "        vertical-align: top;\n",
       "    }\n",
       "\n",
       "    .dataframe thead th {\n",
       "        text-align: right;\n",
       "    }\n",
       "</style>\n",
       "<table border=\"1\" class=\"dataframe\">\n",
       "  <thead>\n",
       "    <tr style=\"text-align: right;\">\n",
       "      <th></th>\n",
       "      <th>VAR2</th>\n",
       "      <th>VAR49</th>\n",
       "      <th>VAR50</th>\n",
       "      <th>VAR51</th>\n",
       "      <th>VAR52</th>\n",
       "      <th>VAR53</th>\n",
       "      <th>VAR54</th>\n",
       "      <th>VAR55</th>\n",
       "      <th>VAR56</th>\n",
       "      <th>VAR57</th>\n",
       "      <th>...</th>\n",
       "      <th>VAR132</th>\n",
       "      <th>VAR133</th>\n",
       "      <th>VAR134</th>\n",
       "      <th>VAR135</th>\n",
       "      <th>VAR136</th>\n",
       "      <th>VAR137</th>\n",
       "      <th>VAR138</th>\n",
       "      <th>VAR139</th>\n",
       "      <th>VAR140</th>\n",
       "      <th>TARGET</th>\n",
       "    </tr>\n",
       "  </thead>\n",
       "  <tbody>\n",
       "    <tr>\n",
       "      <th>VAR2</th>\n",
       "      <td>1.000000</td>\n",
       "      <td>0.049857</td>\n",
       "      <td>0.041219</td>\n",
       "      <td>0.017383</td>\n",
       "      <td>0.050253</td>\n",
       "      <td>0.141621</td>\n",
       "      <td>0.012110</td>\n",
       "      <td>0.000669</td>\n",
       "      <td>0.041977</td>\n",
       "      <td>0.008904</td>\n",
       "      <td>...</td>\n",
       "      <td>0.015587</td>\n",
       "      <td>0.012295</td>\n",
       "      <td>0.006927</td>\n",
       "      <td>0.018873</td>\n",
       "      <td>-0.004595</td>\n",
       "      <td>0.006039</td>\n",
       "      <td>0.007221</td>\n",
       "      <td>0.005305</td>\n",
       "      <td>0.002261</td>\n",
       "      <td>0.071477</td>\n",
       "    </tr>\n",
       "    <tr>\n",
       "      <th>VAR49</th>\n",
       "      <td>0.049857</td>\n",
       "      <td>1.000000</td>\n",
       "      <td>0.161402</td>\n",
       "      <td>0.046607</td>\n",
       "      <td>0.075505</td>\n",
       "      <td>0.037747</td>\n",
       "      <td>0.046062</td>\n",
       "      <td>0.065099</td>\n",
       "      <td>0.116475</td>\n",
       "      <td>0.035712</td>\n",
       "      <td>...</td>\n",
       "      <td>-0.003393</td>\n",
       "      <td>0.014184</td>\n",
       "      <td>0.002708</td>\n",
       "      <td>0.008191</td>\n",
       "      <td>0.011889</td>\n",
       "      <td>0.012122</td>\n",
       "      <td>0.004071</td>\n",
       "      <td>0.006799</td>\n",
       "      <td>0.025160</td>\n",
       "      <td>-0.002615</td>\n",
       "    </tr>\n",
       "    <tr>\n",
       "      <th>VAR50</th>\n",
       "      <td>0.041219</td>\n",
       "      <td>0.161402</td>\n",
       "      <td>1.000000</td>\n",
       "      <td>0.201160</td>\n",
       "      <td>0.117343</td>\n",
       "      <td>0.137450</td>\n",
       "      <td>0.016137</td>\n",
       "      <td>0.403334</td>\n",
       "      <td>0.120303</td>\n",
       "      <td>-0.034217</td>\n",
       "      <td>...</td>\n",
       "      <td>-0.025367</td>\n",
       "      <td>-0.008968</td>\n",
       "      <td>-0.026371</td>\n",
       "      <td>-0.021008</td>\n",
       "      <td>0.036273</td>\n",
       "      <td>-0.017985</td>\n",
       "      <td>-0.021130</td>\n",
       "      <td>-0.025080</td>\n",
       "      <td>0.007506</td>\n",
       "      <td>0.002494</td>\n",
       "    </tr>\n",
       "    <tr>\n",
       "      <th>VAR51</th>\n",
       "      <td>0.017383</td>\n",
       "      <td>0.046607</td>\n",
       "      <td>0.201160</td>\n",
       "      <td>1.000000</td>\n",
       "      <td>0.098467</td>\n",
       "      <td>0.090510</td>\n",
       "      <td>0.039525</td>\n",
       "      <td>0.104825</td>\n",
       "      <td>0.084470</td>\n",
       "      <td>-0.015045</td>\n",
       "      <td>...</td>\n",
       "      <td>-0.003533</td>\n",
       "      <td>0.009281</td>\n",
       "      <td>-0.003963</td>\n",
       "      <td>-0.004607</td>\n",
       "      <td>0.021193</td>\n",
       "      <td>0.003940</td>\n",
       "      <td>0.001151</td>\n",
       "      <td>-0.000440</td>\n",
       "      <td>0.007685</td>\n",
       "      <td>0.007384</td>\n",
       "    </tr>\n",
       "    <tr>\n",
       "      <th>VAR52</th>\n",
       "      <td>0.050253</td>\n",
       "      <td>0.075505</td>\n",
       "      <td>0.117343</td>\n",
       "      <td>0.098467</td>\n",
       "      <td>1.000000</td>\n",
       "      <td>0.046532</td>\n",
       "      <td>0.050500</td>\n",
       "      <td>0.052270</td>\n",
       "      <td>0.099849</td>\n",
       "      <td>0.017848</td>\n",
       "      <td>...</td>\n",
       "      <td>-0.006019</td>\n",
       "      <td>0.001213</td>\n",
       "      <td>-0.008041</td>\n",
       "      <td>-0.003862</td>\n",
       "      <td>0.013833</td>\n",
       "      <td>-0.004341</td>\n",
       "      <td>-0.008497</td>\n",
       "      <td>-0.007404</td>\n",
       "      <td>0.007429</td>\n",
       "      <td>-0.002872</td>\n",
       "    </tr>\n",
       "    <tr>\n",
       "      <th>...</th>\n",
       "      <td>...</td>\n",
       "      <td>...</td>\n",
       "      <td>...</td>\n",
       "      <td>...</td>\n",
       "      <td>...</td>\n",
       "      <td>...</td>\n",
       "      <td>...</td>\n",
       "      <td>...</td>\n",
       "      <td>...</td>\n",
       "      <td>...</td>\n",
       "      <td>...</td>\n",
       "      <td>...</td>\n",
       "      <td>...</td>\n",
       "      <td>...</td>\n",
       "      <td>...</td>\n",
       "      <td>...</td>\n",
       "      <td>...</td>\n",
       "      <td>...</td>\n",
       "      <td>...</td>\n",
       "      <td>...</td>\n",
       "      <td>...</td>\n",
       "    </tr>\n",
       "    <tr>\n",
       "      <th>VAR137</th>\n",
       "      <td>0.006039</td>\n",
       "      <td>0.012122</td>\n",
       "      <td>-0.017985</td>\n",
       "      <td>0.003940</td>\n",
       "      <td>-0.004341</td>\n",
       "      <td>0.003645</td>\n",
       "      <td>0.015054</td>\n",
       "      <td>-0.016255</td>\n",
       "      <td>0.012970</td>\n",
       "      <td>0.027840</td>\n",
       "      <td>...</td>\n",
       "      <td>0.507638</td>\n",
       "      <td>0.519805</td>\n",
       "      <td>0.688234</td>\n",
       "      <td>0.508454</td>\n",
       "      <td>0.363156</td>\n",
       "      <td>1.000000</td>\n",
       "      <td>0.675477</td>\n",
       "      <td>0.696795</td>\n",
       "      <td>0.284397</td>\n",
       "      <td>0.044168</td>\n",
       "    </tr>\n",
       "    <tr>\n",
       "      <th>VAR138</th>\n",
       "      <td>0.007221</td>\n",
       "      <td>0.004071</td>\n",
       "      <td>-0.021130</td>\n",
       "      <td>0.001151</td>\n",
       "      <td>-0.008497</td>\n",
       "      <td>0.003121</td>\n",
       "      <td>0.015056</td>\n",
       "      <td>-0.017762</td>\n",
       "      <td>0.013257</td>\n",
       "      <td>0.027739</td>\n",
       "      <td>...</td>\n",
       "      <td>0.427310</td>\n",
       "      <td>0.436551</td>\n",
       "      <td>0.606687</td>\n",
       "      <td>0.443927</td>\n",
       "      <td>0.319385</td>\n",
       "      <td>0.675477</td>\n",
       "      <td>1.000000</td>\n",
       "      <td>0.599593</td>\n",
       "      <td>0.272238</td>\n",
       "      <td>0.045166</td>\n",
       "    </tr>\n",
       "    <tr>\n",
       "      <th>VAR139</th>\n",
       "      <td>0.005305</td>\n",
       "      <td>0.006799</td>\n",
       "      <td>-0.025080</td>\n",
       "      <td>-0.000440</td>\n",
       "      <td>-0.007404</td>\n",
       "      <td>-0.003481</td>\n",
       "      <td>0.012144</td>\n",
       "      <td>-0.019733</td>\n",
       "      <td>0.006069</td>\n",
       "      <td>0.027494</td>\n",
       "      <td>...</td>\n",
       "      <td>0.557930</td>\n",
       "      <td>0.515082</td>\n",
       "      <td>0.683486</td>\n",
       "      <td>0.544407</td>\n",
       "      <td>0.219755</td>\n",
       "      <td>0.696795</td>\n",
       "      <td>0.599593</td>\n",
       "      <td>1.000000</td>\n",
       "      <td>0.154943</td>\n",
       "      <td>0.039351</td>\n",
       "    </tr>\n",
       "    <tr>\n",
       "      <th>VAR140</th>\n",
       "      <td>0.002261</td>\n",
       "      <td>0.025160</td>\n",
       "      <td>0.007506</td>\n",
       "      <td>0.007685</td>\n",
       "      <td>0.007429</td>\n",
       "      <td>0.014298</td>\n",
       "      <td>0.012861</td>\n",
       "      <td>-0.006341</td>\n",
       "      <td>0.012599</td>\n",
       "      <td>0.013340</td>\n",
       "      <td>...</td>\n",
       "      <td>0.052387</td>\n",
       "      <td>0.127943</td>\n",
       "      <td>0.205180</td>\n",
       "      <td>0.044310</td>\n",
       "      <td>0.387024</td>\n",
       "      <td>0.284397</td>\n",
       "      <td>0.272238</td>\n",
       "      <td>0.154943</td>\n",
       "      <td>1.000000</td>\n",
       "      <td>0.011784</td>\n",
       "    </tr>\n",
       "    <tr>\n",
       "      <th>TARGET</th>\n",
       "      <td>0.071477</td>\n",
       "      <td>-0.002615</td>\n",
       "      <td>0.002494</td>\n",
       "      <td>0.007384</td>\n",
       "      <td>-0.002872</td>\n",
       "      <td>0.015184</td>\n",
       "      <td>-0.003243</td>\n",
       "      <td>0.010563</td>\n",
       "      <td>-0.002325</td>\n",
       "      <td>0.001924</td>\n",
       "      <td>...</td>\n",
       "      <td>0.032188</td>\n",
       "      <td>0.026508</td>\n",
       "      <td>0.041784</td>\n",
       "      <td>0.031607</td>\n",
       "      <td>0.039425</td>\n",
       "      <td>0.044168</td>\n",
       "      <td>0.045166</td>\n",
       "      <td>0.039351</td>\n",
       "      <td>0.011784</td>\n",
       "      <td>1.000000</td>\n",
       "    </tr>\n",
       "  </tbody>\n",
       "</table>\n",
       "<p>97 rows × 97 columns</p>\n",
       "</div>"
      ],
      "text/plain": [
       "            VAR2     VAR49     VAR50     VAR51     VAR52     VAR53     VAR54  \\\n",
       "VAR2    1.000000  0.049857  0.041219  0.017383  0.050253  0.141621  0.012110   \n",
       "VAR49   0.049857  1.000000  0.161402  0.046607  0.075505  0.037747  0.046062   \n",
       "VAR50   0.041219  0.161402  1.000000  0.201160  0.117343  0.137450  0.016137   \n",
       "VAR51   0.017383  0.046607  0.201160  1.000000  0.098467  0.090510  0.039525   \n",
       "VAR52   0.050253  0.075505  0.117343  0.098467  1.000000  0.046532  0.050500   \n",
       "...          ...       ...       ...       ...       ...       ...       ...   \n",
       "VAR137  0.006039  0.012122 -0.017985  0.003940 -0.004341  0.003645  0.015054   \n",
       "VAR138  0.007221  0.004071 -0.021130  0.001151 -0.008497  0.003121  0.015056   \n",
       "VAR139  0.005305  0.006799 -0.025080 -0.000440 -0.007404 -0.003481  0.012144   \n",
       "VAR140  0.002261  0.025160  0.007506  0.007685  0.007429  0.014298  0.012861   \n",
       "TARGET  0.071477 -0.002615  0.002494  0.007384 -0.002872  0.015184 -0.003243   \n",
       "\n",
       "           VAR55     VAR56     VAR57  ...    VAR132    VAR133    VAR134  \\\n",
       "VAR2    0.000669  0.041977  0.008904  ...  0.015587  0.012295  0.006927   \n",
       "VAR49   0.065099  0.116475  0.035712  ... -0.003393  0.014184  0.002708   \n",
       "VAR50   0.403334  0.120303 -0.034217  ... -0.025367 -0.008968 -0.026371   \n",
       "VAR51   0.104825  0.084470 -0.015045  ... -0.003533  0.009281 -0.003963   \n",
       "VAR52   0.052270  0.099849  0.017848  ... -0.006019  0.001213 -0.008041   \n",
       "...          ...       ...       ...  ...       ...       ...       ...   \n",
       "VAR137 -0.016255  0.012970  0.027840  ...  0.507638  0.519805  0.688234   \n",
       "VAR138 -0.017762  0.013257  0.027739  ...  0.427310  0.436551  0.606687   \n",
       "VAR139 -0.019733  0.006069  0.027494  ...  0.557930  0.515082  0.683486   \n",
       "VAR140 -0.006341  0.012599  0.013340  ...  0.052387  0.127943  0.205180   \n",
       "TARGET  0.010563 -0.002325  0.001924  ...  0.032188  0.026508  0.041784   \n",
       "\n",
       "          VAR135    VAR136    VAR137    VAR138    VAR139    VAR140    TARGET  \n",
       "VAR2    0.018873 -0.004595  0.006039  0.007221  0.005305  0.002261  0.071477  \n",
       "VAR49   0.008191  0.011889  0.012122  0.004071  0.006799  0.025160 -0.002615  \n",
       "VAR50  -0.021008  0.036273 -0.017985 -0.021130 -0.025080  0.007506  0.002494  \n",
       "VAR51  -0.004607  0.021193  0.003940  0.001151 -0.000440  0.007685  0.007384  \n",
       "VAR52  -0.003862  0.013833 -0.004341 -0.008497 -0.007404  0.007429 -0.002872  \n",
       "...          ...       ...       ...       ...       ...       ...       ...  \n",
       "VAR137  0.508454  0.363156  1.000000  0.675477  0.696795  0.284397  0.044168  \n",
       "VAR138  0.443927  0.319385  0.675477  1.000000  0.599593  0.272238  0.045166  \n",
       "VAR139  0.544407  0.219755  0.696795  0.599593  1.000000  0.154943  0.039351  \n",
       "VAR140  0.044310  0.387024  0.284397  0.272238  0.154943  1.000000  0.011784  \n",
       "TARGET  0.031607  0.039425  0.044168  0.045166  0.039351  0.011784  1.000000  \n",
       "\n",
       "[97 rows x 97 columns]"
      ]
     },
     "execution_count": 199,
     "metadata": {},
     "output_type": "execute_result"
    }
   ],
   "source": [
    "data_cat_encoded.corr()"
   ]
  },
  {
   "cell_type": "code",
   "execution_count": 200,
   "metadata": {},
   "outputs": [
    {
     "name": "stdout",
     "output_type": "stream",
     "text": [
      "Most Positive Correlations:\n",
      " VAR68     0.050745\n",
      "VAR82     0.050813\n",
      "VAR126    0.050930\n",
      "VAR94     0.050973\n",
      "VAR83     0.050996\n",
      "VAR74     0.051064\n",
      "VAR92     0.051093\n",
      "VAR98     0.052194\n",
      "VAR66     0.053771\n",
      "VAR118    0.054209\n",
      "VAR72     0.055074\n",
      "VAR84     0.055379\n",
      "VAR89     0.056241\n",
      "VAR2      0.071477\n",
      "TARGET    1.000000\n",
      "Name: TARGET, dtype: float64\n",
      "\n",
      "Most Negative Correlations:\n",
      " VAR120   -0.041247\n",
      "VAR10    -0.038620\n",
      "VAR64    -0.012372\n",
      "VAR9     -0.010645\n",
      "VAR63    -0.006501\n",
      "VAR54    -0.003243\n",
      "VAR52    -0.002872\n",
      "VAR49    -0.002615\n",
      "VAR56    -0.002325\n",
      "VAR58    -0.000816\n",
      "VAR61    -0.000245\n",
      "VAR59     0.000980\n",
      "VAR60     0.001829\n",
      "VAR57     0.001924\n",
      "VAR50     0.002494\n",
      "Name: TARGET, dtype: float64\n"
     ]
    }
   ],
   "source": [
    "correlations = data_cat_encoded.corr()['TARGET'].sort_values()\n",
    "\n",
    "# Display correlations\n",
    "print('Most Positive Correlations:\\n', correlations.tail(15))\n",
    "print('\\nMost Negative Correlations:\\n', correlations.head(15))"
   ]
  },
  {
   "cell_type": "code",
   "execution_count": 201,
   "metadata": {},
   "outputs": [
    {
     "data": {
      "text/html": [
       "<div>\n",
       "<style scoped>\n",
       "    .dataframe tbody tr th:only-of-type {\n",
       "        vertical-align: middle;\n",
       "    }\n",
       "\n",
       "    .dataframe tbody tr th {\n",
       "        vertical-align: top;\n",
       "    }\n",
       "\n",
       "    .dataframe thead th {\n",
       "        text-align: right;\n",
       "    }\n",
       "</style>\n",
       "<table border=\"1\" class=\"dataframe\">\n",
       "  <thead>\n",
       "    <tr style=\"text-align: right;\">\n",
       "      <th></th>\n",
       "      <th>VAR2</th>\n",
       "      <th>VAR49</th>\n",
       "      <th>VAR50</th>\n",
       "      <th>VAR51</th>\n",
       "      <th>VAR52</th>\n",
       "      <th>VAR53</th>\n",
       "      <th>VAR54</th>\n",
       "      <th>VAR55</th>\n",
       "      <th>VAR56</th>\n",
       "      <th>VAR57</th>\n",
       "      <th>...</th>\n",
       "      <th>VAR132</th>\n",
       "      <th>VAR133</th>\n",
       "      <th>VAR134</th>\n",
       "      <th>VAR135</th>\n",
       "      <th>VAR136</th>\n",
       "      <th>VAR137</th>\n",
       "      <th>VAR138</th>\n",
       "      <th>VAR139</th>\n",
       "      <th>VAR140</th>\n",
       "      <th>TARGET</th>\n",
       "    </tr>\n",
       "  </thead>\n",
       "  <tbody>\n",
       "    <tr>\n",
       "      <th>count</th>\n",
       "      <td>90690.000000</td>\n",
       "      <td>90690.000000</td>\n",
       "      <td>90690.000000</td>\n",
       "      <td>90690.000000</td>\n",
       "      <td>90690.000000</td>\n",
       "      <td>90690.000000</td>\n",
       "      <td>90690.000000</td>\n",
       "      <td>90690.00000</td>\n",
       "      <td>90690.000000</td>\n",
       "      <td>90690.000000</td>\n",
       "      <td>...</td>\n",
       "      <td>90690.000000</td>\n",
       "      <td>90690.000000</td>\n",
       "      <td>90690.000000</td>\n",
       "      <td>90690.000000</td>\n",
       "      <td>90690.000000</td>\n",
       "      <td>90690.000000</td>\n",
       "      <td>90690.000000</td>\n",
       "      <td>90690.000000</td>\n",
       "      <td>90690.000000</td>\n",
       "      <td>90690.000000</td>\n",
       "    </tr>\n",
       "    <tr>\n",
       "      <th>mean</th>\n",
       "      <td>0.449190</td>\n",
       "      <td>0.938009</td>\n",
       "      <td>0.282732</td>\n",
       "      <td>0.031823</td>\n",
       "      <td>0.079413</td>\n",
       "      <td>0.021105</td>\n",
       "      <td>0.031106</td>\n",
       "      <td>0.06026</td>\n",
       "      <td>0.170316</td>\n",
       "      <td>0.018933</td>\n",
       "      <td>...</td>\n",
       "      <td>1.509814</td>\n",
       "      <td>1.382016</td>\n",
       "      <td>1.430080</td>\n",
       "      <td>1.527026</td>\n",
       "      <td>1.240501</td>\n",
       "      <td>1.250469</td>\n",
       "      <td>1.303076</td>\n",
       "      <td>1.387573</td>\n",
       "      <td>1.512041</td>\n",
       "      <td>0.224854</td>\n",
       "    </tr>\n",
       "    <tr>\n",
       "      <th>std</th>\n",
       "      <td>0.497414</td>\n",
       "      <td>0.241141</td>\n",
       "      <td>0.450330</td>\n",
       "      <td>0.175529</td>\n",
       "      <td>0.270384</td>\n",
       "      <td>0.143735</td>\n",
       "      <td>0.173605</td>\n",
       "      <td>0.23797</td>\n",
       "      <td>0.375913</td>\n",
       "      <td>0.136288</td>\n",
       "      <td>...</td>\n",
       "      <td>1.197073</td>\n",
       "      <td>1.133815</td>\n",
       "      <td>1.113002</td>\n",
       "      <td>1.199881</td>\n",
       "      <td>1.096485</td>\n",
       "      <td>1.022822</td>\n",
       "      <td>1.054731</td>\n",
       "      <td>1.075665</td>\n",
       "      <td>1.587927</td>\n",
       "      <td>0.417488</td>\n",
       "    </tr>\n",
       "    <tr>\n",
       "      <th>min</th>\n",
       "      <td>0.000000</td>\n",
       "      <td>0.000000</td>\n",
       "      <td>0.000000</td>\n",
       "      <td>0.000000</td>\n",
       "      <td>0.000000</td>\n",
       "      <td>0.000000</td>\n",
       "      <td>0.000000</td>\n",
       "      <td>0.00000</td>\n",
       "      <td>0.000000</td>\n",
       "      <td>0.000000</td>\n",
       "      <td>...</td>\n",
       "      <td>0.000000</td>\n",
       "      <td>0.000000</td>\n",
       "      <td>0.000000</td>\n",
       "      <td>0.000000</td>\n",
       "      <td>0.000000</td>\n",
       "      <td>0.000000</td>\n",
       "      <td>0.000000</td>\n",
       "      <td>0.000000</td>\n",
       "      <td>0.000000</td>\n",
       "      <td>0.000000</td>\n",
       "    </tr>\n",
       "    <tr>\n",
       "      <th>25%</th>\n",
       "      <td>0.000000</td>\n",
       "      <td>1.000000</td>\n",
       "      <td>0.000000</td>\n",
       "      <td>0.000000</td>\n",
       "      <td>0.000000</td>\n",
       "      <td>0.000000</td>\n",
       "      <td>0.000000</td>\n",
       "      <td>0.00000</td>\n",
       "      <td>0.000000</td>\n",
       "      <td>0.000000</td>\n",
       "      <td>...</td>\n",
       "      <td>0.000000</td>\n",
       "      <td>0.000000</td>\n",
       "      <td>0.000000</td>\n",
       "      <td>0.000000</td>\n",
       "      <td>0.000000</td>\n",
       "      <td>0.000000</td>\n",
       "      <td>0.000000</td>\n",
       "      <td>0.000000</td>\n",
       "      <td>0.000000</td>\n",
       "      <td>0.000000</td>\n",
       "    </tr>\n",
       "    <tr>\n",
       "      <th>50%</th>\n",
       "      <td>0.000000</td>\n",
       "      <td>1.000000</td>\n",
       "      <td>0.000000</td>\n",
       "      <td>0.000000</td>\n",
       "      <td>0.000000</td>\n",
       "      <td>0.000000</td>\n",
       "      <td>0.000000</td>\n",
       "      <td>0.00000</td>\n",
       "      <td>0.000000</td>\n",
       "      <td>0.000000</td>\n",
       "      <td>...</td>\n",
       "      <td>1.000000</td>\n",
       "      <td>1.000000</td>\n",
       "      <td>1.000000</td>\n",
       "      <td>2.000000</td>\n",
       "      <td>1.000000</td>\n",
       "      <td>1.000000</td>\n",
       "      <td>1.000000</td>\n",
       "      <td>1.000000</td>\n",
       "      <td>1.000000</td>\n",
       "      <td>0.000000</td>\n",
       "    </tr>\n",
       "    <tr>\n",
       "      <th>75%</th>\n",
       "      <td>1.000000</td>\n",
       "      <td>1.000000</td>\n",
       "      <td>1.000000</td>\n",
       "      <td>0.000000</td>\n",
       "      <td>0.000000</td>\n",
       "      <td>0.000000</td>\n",
       "      <td>0.000000</td>\n",
       "      <td>0.00000</td>\n",
       "      <td>0.000000</td>\n",
       "      <td>0.000000</td>\n",
       "      <td>...</td>\n",
       "      <td>2.000000</td>\n",
       "      <td>2.000000</td>\n",
       "      <td>2.000000</td>\n",
       "      <td>2.000000</td>\n",
       "      <td>2.000000</td>\n",
       "      <td>2.000000</td>\n",
       "      <td>2.000000</td>\n",
       "      <td>2.000000</td>\n",
       "      <td>3.000000</td>\n",
       "      <td>0.000000</td>\n",
       "    </tr>\n",
       "    <tr>\n",
       "      <th>max</th>\n",
       "      <td>1.000000</td>\n",
       "      <td>1.000000</td>\n",
       "      <td>1.000000</td>\n",
       "      <td>1.000000</td>\n",
       "      <td>1.000000</td>\n",
       "      <td>1.000000</td>\n",
       "      <td>1.000000</td>\n",
       "      <td>1.00000</td>\n",
       "      <td>1.000000</td>\n",
       "      <td>1.000000</td>\n",
       "      <td>...</td>\n",
       "      <td>4.000000</td>\n",
       "      <td>4.000000</td>\n",
       "      <td>4.000000</td>\n",
       "      <td>4.000000</td>\n",
       "      <td>4.000000</td>\n",
       "      <td>4.000000</td>\n",
       "      <td>4.000000</td>\n",
       "      <td>4.000000</td>\n",
       "      <td>4.000000</td>\n",
       "      <td>1.000000</td>\n",
       "    </tr>\n",
       "  </tbody>\n",
       "</table>\n",
       "<p>8 rows × 97 columns</p>\n",
       "</div>"
      ],
      "text/plain": [
       "               VAR2         VAR49         VAR50         VAR51         VAR52  \\\n",
       "count  90690.000000  90690.000000  90690.000000  90690.000000  90690.000000   \n",
       "mean       0.449190      0.938009      0.282732      0.031823      0.079413   \n",
       "std        0.497414      0.241141      0.450330      0.175529      0.270384   \n",
       "min        0.000000      0.000000      0.000000      0.000000      0.000000   \n",
       "25%        0.000000      1.000000      0.000000      0.000000      0.000000   \n",
       "50%        0.000000      1.000000      0.000000      0.000000      0.000000   \n",
       "75%        1.000000      1.000000      1.000000      0.000000      0.000000   \n",
       "max        1.000000      1.000000      1.000000      1.000000      1.000000   \n",
       "\n",
       "              VAR53         VAR54        VAR55         VAR56         VAR57  \\\n",
       "count  90690.000000  90690.000000  90690.00000  90690.000000  90690.000000   \n",
       "mean       0.021105      0.031106      0.06026      0.170316      0.018933   \n",
       "std        0.143735      0.173605      0.23797      0.375913      0.136288   \n",
       "min        0.000000      0.000000      0.00000      0.000000      0.000000   \n",
       "25%        0.000000      0.000000      0.00000      0.000000      0.000000   \n",
       "50%        0.000000      0.000000      0.00000      0.000000      0.000000   \n",
       "75%        0.000000      0.000000      0.00000      0.000000      0.000000   \n",
       "max        1.000000      1.000000      1.00000      1.000000      1.000000   \n",
       "\n",
       "       ...        VAR132        VAR133        VAR134        VAR135  \\\n",
       "count  ...  90690.000000  90690.000000  90690.000000  90690.000000   \n",
       "mean   ...      1.509814      1.382016      1.430080      1.527026   \n",
       "std    ...      1.197073      1.133815      1.113002      1.199881   \n",
       "min    ...      0.000000      0.000000      0.000000      0.000000   \n",
       "25%    ...      0.000000      0.000000      0.000000      0.000000   \n",
       "50%    ...      1.000000      1.000000      1.000000      2.000000   \n",
       "75%    ...      2.000000      2.000000      2.000000      2.000000   \n",
       "max    ...      4.000000      4.000000      4.000000      4.000000   \n",
       "\n",
       "             VAR136        VAR137        VAR138        VAR139        VAR140  \\\n",
       "count  90690.000000  90690.000000  90690.000000  90690.000000  90690.000000   \n",
       "mean       1.240501      1.250469      1.303076      1.387573      1.512041   \n",
       "std        1.096485      1.022822      1.054731      1.075665      1.587927   \n",
       "min        0.000000      0.000000      0.000000      0.000000      0.000000   \n",
       "25%        0.000000      0.000000      0.000000      0.000000      0.000000   \n",
       "50%        1.000000      1.000000      1.000000      1.000000      1.000000   \n",
       "75%        2.000000      2.000000      2.000000      2.000000      3.000000   \n",
       "max        4.000000      4.000000      4.000000      4.000000      4.000000   \n",
       "\n",
       "             TARGET  \n",
       "count  90690.000000  \n",
       "mean       0.224854  \n",
       "std        0.417488  \n",
       "min        0.000000  \n",
       "25%        0.000000  \n",
       "50%        0.000000  \n",
       "75%        0.000000  \n",
       "max        1.000000  \n",
       "\n",
       "[8 rows x 97 columns]"
      ]
     },
     "execution_count": 201,
     "metadata": {},
     "output_type": "execute_result"
    }
   ],
   "source": [
    "data_cat_encoded.describe()"
   ]
  },
  {
   "cell_type": "markdown",
   "metadata": {},
   "source": [
    "# Pré-processamento das variáveis"
   ]
  },
  {
   "cell_type": "markdown",
   "metadata": {},
   "source": [
    "### Imputação de missing values"
   ]
  },
  {
   "cell_type": "markdown",
   "metadata": {},
   "source": [
    "### Introduzindo variáveis de interação entre variáveis bastante correlacionadas com o target"
   ]
  },
  {
   "cell_type": "code",
   "execution_count": null,
   "metadata": {},
   "outputs": [],
   "source": [
    "poly_features = data[['IDADE', 'TARGET']]\n",
    "poly_features_test = test[['IDADE']]\n",
    "\n",
    "from sklearn.preprocessing import PolynomialFeatures\n",
    "                                  \n",
    "# Create the polynomial object with specified degree\n",
    "poly_transformer = PolynomialFeatures(degree = 3)\n",
    "\n",
    "# Train the polynomial features\n",
    "poly_transformer.fit(poly_features)\n",
    "\n",
    "# Transform the features\n",
    "poly_features = poly_transformer.transform(poly_features)\n",
    "#poly_features_test = poly_transformer.transform(poly_features_test)\n",
    "print('Polynomial Features shape: ', poly_features.shape)"
   ]
  },
  {
   "cell_type": "markdown",
   "metadata": {},
   "source": [
    "### Normalização e Scalling"
   ]
  },
  {
   "cell_type": "markdown",
   "metadata": {},
   "source": [
    "Juntando todas as variáveis que serão usadas para treino em um só dataframe, e separando a variável de target"
   ]
  },
  {
   "cell_type": "code",
   "execution_count": 137,
   "metadata": {},
   "outputs": [],
   "source": [
    "train = pd.concat([data_num, data_cat_encoded], axis=1).drop(columns=['TARGET'])\n",
    "target = data['TARGET']"
   ]
  },
  {
   "cell_type": "code",
   "execution_count": 138,
   "metadata": {},
   "outputs": [
    {
     "data": {
      "text/plain": [
       "array([[-0.71412113,  0.70065799, -2.4138783 , ..., -0.28735109,\n",
       "         0.56935038, -0.32246061],\n",
       "       [-0.27750278,  0.8853351 ,  1.51892522, ..., -0.28735109,\n",
       "        -0.36031214, -0.95221605],\n",
       "       [-0.75716021, -1.4204194 , -0.97883804, ..., -1.23546544,\n",
       "        -0.36031214,  1.56680568],\n",
       "       ...,\n",
       "       [-0.9675812 ,  0.24609808,  1.00994752, ..., -0.28735109,\n",
       "        -1.28997466, -0.95221605],\n",
       "       [-1.72207986, -0.78402409, -0.17198697, ...,  0.66076325,\n",
       "         0.56935038, -0.32246061],\n",
       "       [-0.80096044, -0.80126476, -0.39741905, ...,  1.60887759,\n",
       "         0.56935038, -0.32246061]])"
      ]
     },
     "execution_count": 138,
     "metadata": {},
     "output_type": "execute_result"
    }
   ],
   "source": [
    "from sklearn.preprocessing import StandardScaler\n",
    "\n",
    "scaler = StandardScaler()\n",
    "train_scaled = scaler.fit_transform(train)\n",
    "test_scaled = scaler.fit_transform(test)\n",
    "\n"
   ]
  },
  {
   "cell_type": "markdown",
   "metadata": {},
   "source": [
    "# Treinamento\n",
    "Nesta sessão vou treinar uma seleção de modelos de machine learning a fim de comparar as performances.\n",
    "\n",
    "Para cada modelo vou fazer também uma otimização de hiperparâmetros e usar k-fold cross-validation para obter uma avaliação de performance média para cada modelo.\n",
    "\n",
    "Os modelos selecionados serão: Logistic Regression, Random Forest e Gradient Boosting.\n",
    "\n",
    "Outro variante vai ser o encoding das variáveis categóricas (Ordinal ou OHE) e a utilização das variáveis categóricas não encodificadas no modelo de Random Forest.\n",
    "\n",
    "Outro variante será utilizar um conjunto de dados com dimensionalidade reduzida (PCA), e outro com Feature Selection."
   ]
  },
  {
   "cell_type": "code",
   "execution_count": 139,
   "metadata": {},
   "outputs": [],
   "source": [
    "from sklearn.model_selection import train_test_split\n",
    "from sklearn.preprocessing import StandardScaler\n",
    "from sklearn.metrics import accuracy_score, classification_report\n",
    "from sklearn.model_selection import KFold\n",
    "from sklearn.model_selection import cross_validate\n",
    "from sklearn.tree import DecisionTreeClassifier\n",
    "from sklearn.ensemble import RandomForestClassifier\n",
    "from sklearn.linear_model import LogisticRegression\n",
    "from sklearn.metrics import accuracy_score, recall_score, precision_score, f1_score, roc_auc_score"
   ]
  },
  {
   "cell_type": "markdown",
   "metadata": {},
   "source": [
    "#### Métricas de Avaliação\n",
    "\n",
    "Como a variável de target é desbalanceada entre as classes, a acurácia não é tão indicada como métrica de avaliação. Vou usar então a métrica ROC-AUC, F1, Precision e Recall, para avaliar meus modelos."
   ]
  },
  {
   "cell_type": "code",
   "execution_count": 140,
   "metadata": {},
   "outputs": [],
   "source": [
    "# função que imprime a ROC curve, AUC, F1 score, Precision e Recall a partir dos resultados de treino. \n",
    "def print_results(train_scores, test_scores, fold_names):\n",
    "    avg = test_scores.mean()\n",
    "    std = test_scores.std()\n",
    "    print(\"Average: %.2f\" % (avg * 100))\n",
    "    print(\"Accuracy interval with k-fold cross validation: %.2f, %.2f\" % ((avg - 2*std)*100, (avg + 2*std)*100))\n",
    "    metrics = pd.DataFrame({'fold': fold_names,\n",
    "                        'train': train_scores,\n",
    "                        'valid': test_scores})\n",
    "    return metrics"
   ]
  },
  {
   "cell_type": "code",
   "execution_count": 141,
   "metadata": {},
   "outputs": [],
   "source": [
    "X_train, X_test, y_train, y_test = train_test_split(train, target, test_size=0.2, random_state=42, stratify = target)"
   ]
  },
  {
   "cell_type": "markdown",
   "metadata": {},
   "source": [
    "### Dimensionality Reduction\n",
    "\n",
    "Aplicando PCA no dataset de treino"
   ]
  },
  {
   "cell_type": "code",
   "execution_count": 142,
   "metadata": {},
   "outputs": [],
   "source": [
    "from sklearn.decomposition import PCA\n",
    "pca = PCA(n_components=20)\n",
    "pca.fit(train_scaled)\n",
    "PCA_data = pd.DataFrame(pca.transform(train_scaled))"
   ]
  },
  {
   "cell_type": "code",
   "execution_count": 143,
   "metadata": {},
   "outputs": [
    {
     "data": {
      "text/html": [
       "<div>\n",
       "<style scoped>\n",
       "    .dataframe tbody tr th:only-of-type {\n",
       "        vertical-align: middle;\n",
       "    }\n",
       "\n",
       "    .dataframe tbody tr th {\n",
       "        vertical-align: top;\n",
       "    }\n",
       "\n",
       "    .dataframe thead th {\n",
       "        text-align: right;\n",
       "    }\n",
       "</style>\n",
       "<table border=\"1\" class=\"dataframe\">\n",
       "  <thead>\n",
       "    <tr style=\"text-align: right;\">\n",
       "      <th></th>\n",
       "      <th>0</th>\n",
       "      <th>1</th>\n",
       "      <th>2</th>\n",
       "      <th>3</th>\n",
       "      <th>4</th>\n",
       "      <th>5</th>\n",
       "      <th>6</th>\n",
       "      <th>7</th>\n",
       "      <th>8</th>\n",
       "      <th>9</th>\n",
       "      <th>10</th>\n",
       "      <th>11</th>\n",
       "      <th>12</th>\n",
       "      <th>13</th>\n",
       "      <th>14</th>\n",
       "      <th>15</th>\n",
       "      <th>16</th>\n",
       "      <th>17</th>\n",
       "      <th>18</th>\n",
       "      <th>19</th>\n",
       "    </tr>\n",
       "  </thead>\n",
       "  <tbody>\n",
       "    <tr>\n",
       "      <th>0</th>\n",
       "      <td>1.960668</td>\n",
       "      <td>3.611289</td>\n",
       "      <td>0.058119</td>\n",
       "      <td>1.083354</td>\n",
       "      <td>-0.064320</td>\n",
       "      <td>-2.034732</td>\n",
       "      <td>1.419304</td>\n",
       "      <td>0.938935</td>\n",
       "      <td>-0.951188</td>\n",
       "      <td>-1.219289</td>\n",
       "      <td>-1.167977</td>\n",
       "      <td>-2.312187</td>\n",
       "      <td>1.476205</td>\n",
       "      <td>0.503379</td>\n",
       "      <td>-0.771987</td>\n",
       "      <td>0.201713</td>\n",
       "      <td>0.333146</td>\n",
       "      <td>0.159472</td>\n",
       "      <td>-0.677651</td>\n",
       "      <td>-0.191145</td>\n",
       "    </tr>\n",
       "    <tr>\n",
       "      <th>1</th>\n",
       "      <td>4.160101</td>\n",
       "      <td>0.254292</td>\n",
       "      <td>-1.118582</td>\n",
       "      <td>-3.061678</td>\n",
       "      <td>0.032737</td>\n",
       "      <td>-0.733056</td>\n",
       "      <td>0.720410</td>\n",
       "      <td>0.569761</td>\n",
       "      <td>-0.069645</td>\n",
       "      <td>-0.424178</td>\n",
       "      <td>0.308224</td>\n",
       "      <td>-0.994607</td>\n",
       "      <td>-2.347380</td>\n",
       "      <td>-1.095347</td>\n",
       "      <td>-0.545869</td>\n",
       "      <td>0.189618</td>\n",
       "      <td>0.356265</td>\n",
       "      <td>0.552975</td>\n",
       "      <td>-1.224466</td>\n",
       "      <td>-0.597937</td>\n",
       "    </tr>\n",
       "    <tr>\n",
       "      <th>2</th>\n",
       "      <td>-9.149950</td>\n",
       "      <td>-0.973383</td>\n",
       "      <td>0.926466</td>\n",
       "      <td>2.708745</td>\n",
       "      <td>-0.747362</td>\n",
       "      <td>1.032939</td>\n",
       "      <td>-2.622684</td>\n",
       "      <td>0.146298</td>\n",
       "      <td>-0.085424</td>\n",
       "      <td>1.537594</td>\n",
       "      <td>-0.949515</td>\n",
       "      <td>-0.833698</td>\n",
       "      <td>1.109656</td>\n",
       "      <td>0.286975</td>\n",
       "      <td>-0.299549</td>\n",
       "      <td>0.373024</td>\n",
       "      <td>-0.301491</td>\n",
       "      <td>-0.294218</td>\n",
       "      <td>-0.326128</td>\n",
       "      <td>-0.633484</td>\n",
       "    </tr>\n",
       "    <tr>\n",
       "      <th>3</th>\n",
       "      <td>8.049717</td>\n",
       "      <td>-3.636808</td>\n",
       "      <td>0.105437</td>\n",
       "      <td>-2.017221</td>\n",
       "      <td>-1.779603</td>\n",
       "      <td>-0.936339</td>\n",
       "      <td>1.201741</td>\n",
       "      <td>-0.553317</td>\n",
       "      <td>-1.327703</td>\n",
       "      <td>2.220007</td>\n",
       "      <td>-0.030373</td>\n",
       "      <td>-0.284768</td>\n",
       "      <td>0.385361</td>\n",
       "      <td>1.345794</td>\n",
       "      <td>-0.781249</td>\n",
       "      <td>-0.002945</td>\n",
       "      <td>1.130918</td>\n",
       "      <td>0.320059</td>\n",
       "      <td>0.322372</td>\n",
       "      <td>0.979510</td>\n",
       "    </tr>\n",
       "    <tr>\n",
       "      <th>4</th>\n",
       "      <td>10.036744</td>\n",
       "      <td>-2.777547</td>\n",
       "      <td>1.116108</td>\n",
       "      <td>2.981059</td>\n",
       "      <td>5.006663</td>\n",
       "      <td>1.131170</td>\n",
       "      <td>2.241072</td>\n",
       "      <td>-2.016920</td>\n",
       "      <td>-0.727779</td>\n",
       "      <td>0.383008</td>\n",
       "      <td>0.526955</td>\n",
       "      <td>0.225254</td>\n",
       "      <td>1.987385</td>\n",
       "      <td>1.297383</td>\n",
       "      <td>-0.564304</td>\n",
       "      <td>0.684423</td>\n",
       "      <td>-0.840425</td>\n",
       "      <td>0.100007</td>\n",
       "      <td>1.719892</td>\n",
       "      <td>-0.589217</td>\n",
       "    </tr>\n",
       "    <tr>\n",
       "      <th>...</th>\n",
       "      <td>...</td>\n",
       "      <td>...</td>\n",
       "      <td>...</td>\n",
       "      <td>...</td>\n",
       "      <td>...</td>\n",
       "      <td>...</td>\n",
       "      <td>...</td>\n",
       "      <td>...</td>\n",
       "      <td>...</td>\n",
       "      <td>...</td>\n",
       "      <td>...</td>\n",
       "      <td>...</td>\n",
       "      <td>...</td>\n",
       "      <td>...</td>\n",
       "      <td>...</td>\n",
       "      <td>...</td>\n",
       "      <td>...</td>\n",
       "      <td>...</td>\n",
       "      <td>...</td>\n",
       "      <td>...</td>\n",
       "    </tr>\n",
       "    <tr>\n",
       "      <th>90685</th>\n",
       "      <td>3.951436</td>\n",
       "      <td>-3.029106</td>\n",
       "      <td>-0.542108</td>\n",
       "      <td>-0.451794</td>\n",
       "      <td>-0.369179</td>\n",
       "      <td>-1.861516</td>\n",
       "      <td>-0.018073</td>\n",
       "      <td>-0.364142</td>\n",
       "      <td>-2.359488</td>\n",
       "      <td>0.138749</td>\n",
       "      <td>-1.838333</td>\n",
       "      <td>0.750586</td>\n",
       "      <td>0.217102</td>\n",
       "      <td>0.050119</td>\n",
       "      <td>0.740140</td>\n",
       "      <td>-0.508670</td>\n",
       "      <td>0.168930</td>\n",
       "      <td>-0.179940</td>\n",
       "      <td>-0.335191</td>\n",
       "      <td>0.234402</td>\n",
       "    </tr>\n",
       "    <tr>\n",
       "      <th>90686</th>\n",
       "      <td>2.127257</td>\n",
       "      <td>3.820602</td>\n",
       "      <td>1.144846</td>\n",
       "      <td>-1.212596</td>\n",
       "      <td>1.271005</td>\n",
       "      <td>4.080246</td>\n",
       "      <td>1.310577</td>\n",
       "      <td>2.866553</td>\n",
       "      <td>0.689685</td>\n",
       "      <td>5.244530</td>\n",
       "      <td>-0.353206</td>\n",
       "      <td>2.137814</td>\n",
       "      <td>0.641847</td>\n",
       "      <td>1.500875</td>\n",
       "      <td>-1.062218</td>\n",
       "      <td>-1.852366</td>\n",
       "      <td>1.476021</td>\n",
       "      <td>-0.427547</td>\n",
       "      <td>-0.370916</td>\n",
       "      <td>4.953522</td>\n",
       "    </tr>\n",
       "    <tr>\n",
       "      <th>90687</th>\n",
       "      <td>-5.118021</td>\n",
       "      <td>-0.838590</td>\n",
       "      <td>-1.787724</td>\n",
       "      <td>-2.760912</td>\n",
       "      <td>-0.020300</td>\n",
       "      <td>0.248165</td>\n",
       "      <td>1.021650</td>\n",
       "      <td>0.829646</td>\n",
       "      <td>-0.463088</td>\n",
       "      <td>-0.815074</td>\n",
       "      <td>0.637408</td>\n",
       "      <td>-0.041443</td>\n",
       "      <td>-0.101990</td>\n",
       "      <td>-0.476159</td>\n",
       "      <td>-0.521762</td>\n",
       "      <td>0.238020</td>\n",
       "      <td>-0.098932</td>\n",
       "      <td>0.533943</td>\n",
       "      <td>0.536676</td>\n",
       "      <td>-0.241253</td>\n",
       "    </tr>\n",
       "    <tr>\n",
       "      <th>90688</th>\n",
       "      <td>1.397449</td>\n",
       "      <td>1.103502</td>\n",
       "      <td>-1.472991</td>\n",
       "      <td>-0.437116</td>\n",
       "      <td>-0.430178</td>\n",
       "      <td>0.617799</td>\n",
       "      <td>-0.528972</td>\n",
       "      <td>-0.194552</td>\n",
       "      <td>-0.240226</td>\n",
       "      <td>-0.237633</td>\n",
       "      <td>-0.742806</td>\n",
       "      <td>0.587727</td>\n",
       "      <td>0.135281</td>\n",
       "      <td>-0.121062</td>\n",
       "      <td>0.539320</td>\n",
       "      <td>-0.516040</td>\n",
       "      <td>-0.001633</td>\n",
       "      <td>1.571116</td>\n",
       "      <td>0.026944</td>\n",
       "      <td>0.565101</td>\n",
       "    </tr>\n",
       "    <tr>\n",
       "      <th>90689</th>\n",
       "      <td>7.837503</td>\n",
       "      <td>2.088343</td>\n",
       "      <td>-0.594004</td>\n",
       "      <td>1.343502</td>\n",
       "      <td>-2.080724</td>\n",
       "      <td>0.224675</td>\n",
       "      <td>0.077194</td>\n",
       "      <td>0.437037</td>\n",
       "      <td>-0.434067</td>\n",
       "      <td>-0.872091</td>\n",
       "      <td>0.854360</td>\n",
       "      <td>-0.555155</td>\n",
       "      <td>-0.483675</td>\n",
       "      <td>-1.554848</td>\n",
       "      <td>-0.263770</td>\n",
       "      <td>-0.113831</td>\n",
       "      <td>0.114141</td>\n",
       "      <td>0.161399</td>\n",
       "      <td>0.682254</td>\n",
       "      <td>-0.165607</td>\n",
       "    </tr>\n",
       "  </tbody>\n",
       "</table>\n",
       "<p>90690 rows × 20 columns</p>\n",
       "</div>"
      ],
      "text/plain": [
       "              0         1         2         3         4         5         6   \\\n",
       "0       1.960668  3.611289  0.058119  1.083354 -0.064320 -2.034732  1.419304   \n",
       "1       4.160101  0.254292 -1.118582 -3.061678  0.032737 -0.733056  0.720410   \n",
       "2      -9.149950 -0.973383  0.926466  2.708745 -0.747362  1.032939 -2.622684   \n",
       "3       8.049717 -3.636808  0.105437 -2.017221 -1.779603 -0.936339  1.201741   \n",
       "4      10.036744 -2.777547  1.116108  2.981059  5.006663  1.131170  2.241072   \n",
       "...          ...       ...       ...       ...       ...       ...       ...   \n",
       "90685   3.951436 -3.029106 -0.542108 -0.451794 -0.369179 -1.861516 -0.018073   \n",
       "90686   2.127257  3.820602  1.144846 -1.212596  1.271005  4.080246  1.310577   \n",
       "90687  -5.118021 -0.838590 -1.787724 -2.760912 -0.020300  0.248165  1.021650   \n",
       "90688   1.397449  1.103502 -1.472991 -0.437116 -0.430178  0.617799 -0.528972   \n",
       "90689   7.837503  2.088343 -0.594004  1.343502 -2.080724  0.224675  0.077194   \n",
       "\n",
       "             7         8         9         10        11        12        13  \\\n",
       "0      0.938935 -0.951188 -1.219289 -1.167977 -2.312187  1.476205  0.503379   \n",
       "1      0.569761 -0.069645 -0.424178  0.308224 -0.994607 -2.347380 -1.095347   \n",
       "2      0.146298 -0.085424  1.537594 -0.949515 -0.833698  1.109656  0.286975   \n",
       "3     -0.553317 -1.327703  2.220007 -0.030373 -0.284768  0.385361  1.345794   \n",
       "4     -2.016920 -0.727779  0.383008  0.526955  0.225254  1.987385  1.297383   \n",
       "...         ...       ...       ...       ...       ...       ...       ...   \n",
       "90685 -0.364142 -2.359488  0.138749 -1.838333  0.750586  0.217102  0.050119   \n",
       "90686  2.866553  0.689685  5.244530 -0.353206  2.137814  0.641847  1.500875   \n",
       "90687  0.829646 -0.463088 -0.815074  0.637408 -0.041443 -0.101990 -0.476159   \n",
       "90688 -0.194552 -0.240226 -0.237633 -0.742806  0.587727  0.135281 -0.121062   \n",
       "90689  0.437037 -0.434067 -0.872091  0.854360 -0.555155 -0.483675 -1.554848   \n",
       "\n",
       "             14        15        16        17        18        19  \n",
       "0     -0.771987  0.201713  0.333146  0.159472 -0.677651 -0.191145  \n",
       "1     -0.545869  0.189618  0.356265  0.552975 -1.224466 -0.597937  \n",
       "2     -0.299549  0.373024 -0.301491 -0.294218 -0.326128 -0.633484  \n",
       "3     -0.781249 -0.002945  1.130918  0.320059  0.322372  0.979510  \n",
       "4     -0.564304  0.684423 -0.840425  0.100007  1.719892 -0.589217  \n",
       "...         ...       ...       ...       ...       ...       ...  \n",
       "90685  0.740140 -0.508670  0.168930 -0.179940 -0.335191  0.234402  \n",
       "90686 -1.062218 -1.852366  1.476021 -0.427547 -0.370916  4.953522  \n",
       "90687 -0.521762  0.238020 -0.098932  0.533943  0.536676 -0.241253  \n",
       "90688  0.539320 -0.516040 -0.001633  1.571116  0.026944  0.565101  \n",
       "90689 -0.263770 -0.113831  0.114141  0.161399  0.682254 -0.165607  \n",
       "\n",
       "[90690 rows x 20 columns]"
      ]
     },
     "execution_count": 143,
     "metadata": {},
     "output_type": "execute_result"
    }
   ],
   "source": [
    "PCA_data"
   ]
  },
  {
   "cell_type": "markdown",
   "metadata": {},
   "source": [
    "### Feature selection"
   ]
  },
  {
   "cell_type": "code",
   "execution_count": 144,
   "metadata": {},
   "outputs": [
    {
     "data": {
      "text/plain": [
       "' from sklearn.feature_selection import SelectKBest, chi2\\n\\nselector = SelectKBest(score_func=chi2, k=5)  # Select top 5 features\\nX_train_selected = selector.fit_transform(train_scaled, target)\\n'"
      ]
     },
     "execution_count": 144,
     "metadata": {},
     "output_type": "execute_result"
    }
   ],
   "source": [
    "''' from sklearn.feature_selection import SelectKBest, chi2\n",
    "\n",
    "selector = SelectKBest(score_func=chi2, k=5)  # Select top 5 features\n",
    "X_train_selected = selector.fit_transform(train_scaled, target)\n",
    "'''"
   ]
  },
  {
   "cell_type": "markdown",
   "metadata": {},
   "source": [
    "## Baselines"
   ]
  },
  {
   "cell_type": "markdown",
   "metadata": {},
   "source": [
    "### Regressão Logística"
   ]
  },
  {
   "cell_type": "markdown",
   "metadata": {},
   "source": [
    "Sem PCA"
   ]
  },
  {
   "cell_type": "code",
   "execution_count": 150,
   "metadata": {},
   "outputs": [
    {
     "data": {
      "text/plain": [
       "{'fit_time': array([1.19445443, 0.98675919, 0.83242178, 0.68457484, 0.90447187]),\n",
       " 'score_time': array([0.04265308, 0.05256128, 0.04301786, 0.05044556, 0.04581952]),\n",
       " 'test_accuracy': array([0.77643621, 0.77472709, 0.77351417, 0.77428603, 0.77704267]),\n",
       " 'test_roc_auc': array([0.60089439, 0.60073807, 0.59463807, 0.5967874 , 0.60258584]),\n",
       " 'test_f1': array([0.00196899, 0.000978  , 0.00097276, 0.        , 0.00098814]),\n",
       " 'test_precision': array([1.        , 0.66666667, 0.5       , 0.        , 0.66666667]),\n",
       " 'test_recall': array([0.00098546, 0.00048936, 0.00048685, 0.        , 0.00049444])}"
      ]
     },
     "execution_count": 150,
     "metadata": {},
     "output_type": "execute_result"
    }
   ],
   "source": [
    "SEED=301\n",
    "np.random.seed(SEED)\n",
    "cv = KFold(n_splits=5, shuffle=True)\n",
    "\n",
    "model = LogisticRegression()\n",
    "results = cross_validate(model, train_scaled, target, cv=cv, return_train_score=False, scoring = ['accuracy', 'roc_auc', 'f1', 'precision', 'recall'])\n",
    "results"
   ]
  },
  {
   "cell_type": "markdown",
   "metadata": {},
   "source": [
    "Com PCA"
   ]
  },
  {
   "cell_type": "code",
   "execution_count": 146,
   "metadata": {},
   "outputs": [
    {
     "name": "stdout",
     "output_type": "stream",
     "text": [
      "Average: 77.52\n",
      "Accuracy interval with k-fold cross validation: 77.27, 77.77\n"
     ]
    }
   ],
   "source": [
    "SEED=301\n",
    "np.random.seed(SEED)\n",
    "cv = KFold(n_splits=5, shuffle=True)\n",
    "\n",
    "model = LogisticRegression()\n",
    "results = cross_validate(model, PCA_data, target, cv=cv, return_train_score=True)\n",
    "print_results(results)"
   ]
  },
  {
   "cell_type": "markdown",
   "metadata": {},
   "source": [
    "### Random Forest"
   ]
  },
  {
   "cell_type": "markdown",
   "metadata": {},
   "source": [
    "Com variáveis categóricas encodificadas"
   ]
  },
  {
   "cell_type": "code",
   "execution_count": 151,
   "metadata": {},
   "outputs": [
    {
     "data": {
      "text/plain": [
       "{'fit_time': array([63.15381718, 61.83200264, 63.0417788 , 63.50957465, 64.27593231]),\n",
       " 'score_time': array([2.12842822, 2.0994184 , 2.11935687, 2.14903259, 2.2585547 ]),\n",
       " 'test_accuracy': array([0.77549895, 0.77345904, 0.77180505, 0.77345904, 0.77566435]),\n",
       " 'test_roc_auc': array([0.58494638, 0.57741413, 0.58957197, 0.58386937, 0.5807496 ]),\n",
       " 'test_f1': array([0.04592315, 0.04419632, 0.04256303, 0.03702836, 0.04146054]),\n",
       " 'test_precision': array([0.46889952, 0.44811321, 0.42790698, 0.45402299, 0.44      ]),\n",
       " 'test_recall': array([0.02414388, 0.02324443, 0.02239533, 0.01930125, 0.02175525])}"
      ]
     },
     "execution_count": 151,
     "metadata": {},
     "output_type": "execute_result"
    }
   ],
   "source": [
    "SEED=301\n",
    "np.random.seed(SEED)\n",
    "cv = KFold(n_splits=5, shuffle=True)\n",
    "model = RandomForestClassifier()\n",
    "results = cross_validate(model, train, target, cv=cv, return_train_score=False, scoring = ['accuracy', 'roc_auc', 'f1', 'precision', 'recall'])\n",
    "results"
   ]
  },
  {
   "cell_type": "markdown",
   "metadata": {},
   "source": [
    "Variáveis categóricas sem encodificação"
   ]
  },
  {
   "cell_type": "markdown",
   "metadata": {},
   "source": [
    "SEED=301\n",
    "np.random.seed(SEED)\n",
    "cv = KFold(n_splits=5, shuffle=True)\n",
    "modelo = RandomForestClassifier()\n",
    "results = cross_validate(model, train_scaled, target, cv=cv, return_train_score=False)\n",
    "print_results(results)"
   ]
  },
  {
   "cell_type": "markdown",
   "metadata": {},
   "source": [
    "# Análise financeira"
   ]
  },
  {
   "cell_type": "markdown",
   "metadata": {},
   "source": []
  },
  {
   "cell_type": "markdown",
   "metadata": {},
   "source": [
    "# Escoragem da base Out-of-time"
   ]
  },
  {
   "cell_type": "markdown",
   "metadata": {},
   "source": []
  }
 ],
 "metadata": {
  "kernelspec": {
   "display_name": "class",
   "language": "python",
   "name": "python3"
  },
  "language_info": {
   "codemirror_mode": {
    "name": "ipython",
    "version": 3
   },
   "file_extension": ".py",
   "mimetype": "text/x-python",
   "name": "python",
   "nbconvert_exporter": "python",
   "pygments_lexer": "ipython3",
   "version": "3.11.4"
  }
 },
 "nbformat": 4,
 "nbformat_minor": 2
}
